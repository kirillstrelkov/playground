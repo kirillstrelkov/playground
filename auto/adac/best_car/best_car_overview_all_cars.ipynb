{
 "cells": [
  {
   "source": [
    "# Most suitable car between all cars"
   ],
   "cell_type": "markdown",
   "metadata": {}
  },
  {
   "cell_type": "code",
   "execution_count": 1,
   "metadata": {
    "tags": []
   },
   "outputs": [
    {
     "output_type": "stream",
     "name": "stderr",
     "text": [
      "/home/kirill/workspace/playground/auto/adac/best_car/find_best_car.py:377: DtypeWarning: Columns (234,235,236,237) have mixed types.Specify dtype option on import or set low_memory=False.\n  df = _get_df_with_cost_to_own(\n"
     ]
    },
    {
     "output_type": "execute_result",
     "data": {
      "text/plain": [
       "                                           name Marke  \\\n",
       "5436                 VW Golf GTE DSG (ab 08/20)    VW   \n",
       "5434   VW Golf 1.4 eHybrid Style DSG (ab 08/20)    VW   \n",
       "4129   VW Golf 2.0 TDI SCR Style DSG (ab 09/20)    VW   \n",
       "4128  VW Golf 2.0 TDI SCR ACTIVE DSG (ab 01/21)    VW   \n",
       "1844       VW Golf 1.5 eTSI Life DSG (ab 12/20)    VW   \n",
       "\n",
       "                        Baureihe  Leistung maximal in kW (Systemleistung)  \\\n",
       "5436  Golf (VIII) GTE (ab 08/20)                                      180   \n",
       "5434      Golf (VIII) (ab 12/19)                                      150   \n",
       "4129      Golf (VIII) (ab 12/19)                                      110   \n",
       "4128      Golf (VIII) (ab 12/19)                                      110   \n",
       "1844      Golf (VIII) (ab 12/19)                                       96   \n",
       "\n",
       "      Total price  my monthly costs    Range  AEB pedestrian     navi   \\\n",
       "5436      37505.0             469.0   897.73             5.0  3.000000   \n",
       "5434      36770.0             439.0  1097.22             5.0  1.207792   \n",
       "4129      38555.0             446.0  1086.96             5.0  1.207792   \n",
       "4128      38035.0             434.0  1111.11             5.0  3.000000   \n",
       "1844      32735.0             441.0   818.18             5.0  1.207792   \n",
       "\n",
       "      active headrest  ...  Costs service  Costs running  Costs fixed  \\\n",
       "5436              0.0  ...           6.51           4.27         3.05   \n",
       "5434              0.0  ...           5.06           3.30         3.05   \n",
       "4129              0.0  ...           3.43           3.03         6.90   \n",
       "4128              0.0  ...           2.53           2.89         6.90   \n",
       "1844              0.0  ...           1.81           5.78         3.32   \n",
       "\n",
       "      Costs depreciation  monthly costs  price  AGR  \\\n",
       "5436                6.91          20.85  27.91  2.5   \n",
       "5434                6.93          23.39  28.84  2.5   \n",
       "4129                5.87          22.80  26.57  2.5   \n",
       "4128                6.05          23.81  27.23  2.5   \n",
       "1844                7.35          23.22  33.99  2.5   \n",
       "\n",
       "      ADAC additional equipment  Total Score  Euro per score  \n",
       "5436                      17.68   373.202891      100.494934  \n",
       "5434                      15.57   372.870683       98.613277  \n",
       "4129                      15.57   363.000683      106.211921  \n",
       "4128                      17.42   361.781224      105.132598  \n",
       "1844                      15.31   361.020683       90.673475  \n",
       "\n",
       "[5 rows x 62 columns]"
      ],
      "text/html": "<div>\n<style scoped>\n    .dataframe tbody tr th:only-of-type {\n        vertical-align: middle;\n    }\n\n    .dataframe tbody tr th {\n        vertical-align: top;\n    }\n\n    .dataframe thead th {\n        text-align: right;\n    }\n</style>\n<table border=\"1\" class=\"dataframe\">\n  <thead>\n    <tr style=\"text-align: right;\">\n      <th></th>\n      <th>name</th>\n      <th>Marke</th>\n      <th>Baureihe</th>\n      <th>Leistung maximal in kW (Systemleistung)</th>\n      <th>Total price</th>\n      <th>my monthly costs</th>\n      <th>Range</th>\n      <th>AEB pedestrian</th>\n      <th>navi</th>\n      <th>active headrest</th>\n      <th>...</th>\n      <th>Costs service</th>\n      <th>Costs running</th>\n      <th>Costs fixed</th>\n      <th>Costs depreciation</th>\n      <th>monthly costs</th>\n      <th>price</th>\n      <th>AGR</th>\n      <th>ADAC additional equipment</th>\n      <th>Total Score</th>\n      <th>Euro per score</th>\n    </tr>\n  </thead>\n  <tbody>\n    <tr>\n      <th>5436</th>\n      <td>VW Golf GTE DSG (ab 08/20)</td>\n      <td>VW</td>\n      <td>Golf (VIII) GTE (ab 08/20)</td>\n      <td>180</td>\n      <td>37505.0</td>\n      <td>469.0</td>\n      <td>897.73</td>\n      <td>5.0</td>\n      <td>3.000000</td>\n      <td>0.0</td>\n      <td>...</td>\n      <td>6.51</td>\n      <td>4.27</td>\n      <td>3.05</td>\n      <td>6.91</td>\n      <td>20.85</td>\n      <td>27.91</td>\n      <td>2.5</td>\n      <td>17.68</td>\n      <td>373.202891</td>\n      <td>100.494934</td>\n    </tr>\n    <tr>\n      <th>5434</th>\n      <td>VW Golf 1.4 eHybrid Style DSG (ab 08/20)</td>\n      <td>VW</td>\n      <td>Golf (VIII) (ab 12/19)</td>\n      <td>150</td>\n      <td>36770.0</td>\n      <td>439.0</td>\n      <td>1097.22</td>\n      <td>5.0</td>\n      <td>1.207792</td>\n      <td>0.0</td>\n      <td>...</td>\n      <td>5.06</td>\n      <td>3.30</td>\n      <td>3.05</td>\n      <td>6.93</td>\n      <td>23.39</td>\n      <td>28.84</td>\n      <td>2.5</td>\n      <td>15.57</td>\n      <td>372.870683</td>\n      <td>98.613277</td>\n    </tr>\n    <tr>\n      <th>4129</th>\n      <td>VW Golf 2.0 TDI SCR Style DSG (ab 09/20)</td>\n      <td>VW</td>\n      <td>Golf (VIII) (ab 12/19)</td>\n      <td>110</td>\n      <td>38555.0</td>\n      <td>446.0</td>\n      <td>1086.96</td>\n      <td>5.0</td>\n      <td>1.207792</td>\n      <td>0.0</td>\n      <td>...</td>\n      <td>3.43</td>\n      <td>3.03</td>\n      <td>6.90</td>\n      <td>5.87</td>\n      <td>22.80</td>\n      <td>26.57</td>\n      <td>2.5</td>\n      <td>15.57</td>\n      <td>363.000683</td>\n      <td>106.211921</td>\n    </tr>\n    <tr>\n      <th>4128</th>\n      <td>VW Golf 2.0 TDI SCR ACTIVE DSG (ab 01/21)</td>\n      <td>VW</td>\n      <td>Golf (VIII) (ab 12/19)</td>\n      <td>110</td>\n      <td>38035.0</td>\n      <td>434.0</td>\n      <td>1111.11</td>\n      <td>5.0</td>\n      <td>3.000000</td>\n      <td>0.0</td>\n      <td>...</td>\n      <td>2.53</td>\n      <td>2.89</td>\n      <td>6.90</td>\n      <td>6.05</td>\n      <td>23.81</td>\n      <td>27.23</td>\n      <td>2.5</td>\n      <td>17.42</td>\n      <td>361.781224</td>\n      <td>105.132598</td>\n    </tr>\n    <tr>\n      <th>1844</th>\n      <td>VW Golf 1.5 eTSI Life DSG (ab 12/20)</td>\n      <td>VW</td>\n      <td>Golf (VIII) (ab 12/19)</td>\n      <td>96</td>\n      <td>32735.0</td>\n      <td>441.0</td>\n      <td>818.18</td>\n      <td>5.0</td>\n      <td>1.207792</td>\n      <td>0.0</td>\n      <td>...</td>\n      <td>1.81</td>\n      <td>5.78</td>\n      <td>3.32</td>\n      <td>7.35</td>\n      <td>23.22</td>\n      <td>33.99</td>\n      <td>2.5</td>\n      <td>15.31</td>\n      <td>361.020683</td>\n      <td>90.673475</td>\n    </tr>\n  </tbody>\n</table>\n<p>5 rows × 62 columns</p>\n</div>"
     },
     "metadata": {},
     "execution_count": 1
    }
   ],
   "source": [
    "from find_best_car import (\n",
    "    _get_df_with_cost_to_own, \n",
    "    Column, \n",
    "    get_scored_df\n",
    ")\n",
    "import pandas as pd\n",
    "from numpy import nan\n",
    "\n",
    "import seaborn as sns\n",
    "\n",
    "def coloraze(df, axis=1):\n",
    "    cm = sns.light_palette(\"seagreen\", as_cmap=True)\n",
    "    return df.style.background_gradient(cmap=cm, axis=axis)\n",
    "\n",
    "df = get_scored_df(only_mentioned_cars=False, de_discount=True)\n",
    "\n",
    "df.head()"
   ]
  },
  {
   "cell_type": "code",
   "execution_count": 2,
   "metadata": {},
   "outputs": [
    {
     "output_type": "execute_result",
     "data": {
      "text/plain": [
       "{'name': 'Subaru Impreza 1.6i Exclusive Lineartronic (ab 10/20)',\n",
       " 'Marke': 'Subaru',\n",
       " 'Baureihe': 'Impreza (V) (ab 06/20)',\n",
       " 'Leistung maximal in kW (Systemleistung)': 84,\n",
       " 'Total price': 28560.0,\n",
       " 'my monthly costs': 571.0,\n",
       " 'Range': 632.91,\n",
       " 'AEB pedestrian': 5.0,\n",
       " 'navi ': 3.0,\n",
       " 'active headrest': 5.0,\n",
       " 'light autoswitch': 5.0,\n",
       " 'car2x': 0.0,\n",
       " 'Bremsassistent': 10.0,\n",
       " 'lane keep assist active': 10.0,\n",
       " 'autoparking': 0.0,\n",
       " 'LED lights': 10.0,\n",
       " 'adaptive lights': 10.0,\n",
       " 'traffic sign recognition': 0.0,\n",
       " 'AEB': 10.0,\n",
       " 'rear traffic alert': 10.0,\n",
       " 'Traffic jam': 0.0,\n",
       " 'LED matrix': 0.0,\n",
       " 'keyless': 10.0,\n",
       " 'Camera, 360, front, back': 12.857142857142856,\n",
       " 'adaptive cruise from 0 km': 10.0,\n",
       " 'safe, euroncap, iihs': 17.82,\n",
       " 'plugin hybrid': 0,\n",
       " 'automat not CVT': 3.333333333333333,\n",
       " '4x4': 5.0,\n",
       " 'plugin hybrid 2': 1.4000000000000001,\n",
       " 'Top speed': 1.82,\n",
       " 'km77 elktest': 5.33,\n",
       " 'testberichte': 0.67,\n",
       " 'Acceleration <10': 2.08,\n",
       " 'range up to 1000 km per tank': 5.75,\n",
       " 'side mirrors on door': 5.0,\n",
       " 'door till ground': 0.0,\n",
       " 'license on back bumper': 0.0,\n",
       " 'small length': 3.54,\n",
       " 'boot size,Fit 156 snowboard ': 0.49,\n",
       " 'noise': 6.92,\n",
       " 'acc with buttons': 5.0,\n",
       " 'no piano black': 1.67,\n",
       " 'easy entry(clearance or height of seats)': 2.9,\n",
       " 'digital speed': 0.0,\n",
       " 'HIFI audio': 0.0,\n",
       " 'white seats': 0.0,\n",
       " 'interior': 6.67,\n",
       " 'mobile warranty': 0.0,\n",
       " 'Garantie y': 7.5,\n",
       " 'Insurance 1': 8.06,\n",
       " 'Insurance 2': 9.85,\n",
       " 'Costs service': 3.98,\n",
       " 'Costs running': 11.28,\n",
       " 'Costs fixed': 6.77,\n",
       " 'Costs depreciation': 7.98,\n",
       " 'monthly costs': 12.2,\n",
       " 'price': 39.31,\n",
       " 'AGR': 0.0,\n",
       " 'ADAC additional equipment': 19.34,\n",
       " 'Total Score': 312.52047619047613,\n",
       " 'Euro per score': 91.38601204035395}"
      ]
     },
     "metadata": {},
     "execution_count": 2
    }
   ],
   "source": [
    "imprezas = df[df[Column.NAME].str.contains('Subaru Impreza')]\n",
    "\n",
    "top_impreza = imprezas.iloc[0]\n",
    "impreza_euro_per_score = top_impreza[Column.EURO_PER_SCORE]\n",
    "impreza_total_score = top_impreza[Column.TOTAL_SCORE]\n",
    "impreza_costs = top_impreza[Column.MY_M_COSTS]\n",
    "\n",
    "# imprezas\n",
    "top_impreza.to_dict()"
   ]
  },
  {
   "cell_type": "markdown",
   "metadata": {},
   "source": [
    "### Better in score"
   ]
  },
  {
   "cell_type": "code",
   "execution_count": 3,
   "metadata": {},
   "outputs": [
    {
     "output_type": "execute_result",
     "data": {
      "text/plain": [
       "                                                   name  Total price  \\\n",
       "5436                         VW Golf GTE DSG (ab 08/20)      37505.0   \n",
       "5434           VW Golf 1.4 eHybrid Style DSG (ab 08/20)      36770.0   \n",
       "4129           VW Golf 2.0 TDI SCR Style DSG (ab 09/20)      38555.0   \n",
       "4128          VW Golf 2.0 TDI SCR ACTIVE DSG (ab 01/21)      38035.0   \n",
       "1844               VW Golf 1.5 eTSI Life DSG (ab 12/20)      32735.0   \n",
       "4133                         VW Golf GTD DSG (ab 10/20)      41530.0   \n",
       "1839               VW Golf 1.0 eTSI Life DSG (ab 08/20)      30945.0   \n",
       "4130          VW Golf 2.0 TDI SCR R-Line DSG (ab 09/20)      38715.0   \n",
       "6321  Skoda Octavia RS Plus 2.0 TDI SCR 4x4 DSG (ab ...      47645.0   \n",
       "5435               VW Golf GTI Clubsport DSG (ab 10/20)      44400.0   \n",
       "\n",
       "      Total Score  Euro per score  \n",
       "5436   373.202891      100.494934  \n",
       "5434   372.870683       98.613277  \n",
       "4129   363.000683      106.211921  \n",
       "4128   361.781224      105.132598  \n",
       "1844   361.020683       90.673475  \n",
       "4133   360.682891      115.142695  \n",
       "1839   359.280683       86.130431  \n",
       "4130   357.760683      108.214798  \n",
       "6321   355.487756      134.027120  \n",
       "5435   354.325113      125.308645  "
      ],
      "text/html": "<div>\n<style scoped>\n    .dataframe tbody tr th:only-of-type {\n        vertical-align: middle;\n    }\n\n    .dataframe tbody tr th {\n        vertical-align: top;\n    }\n\n    .dataframe thead th {\n        text-align: right;\n    }\n</style>\n<table border=\"1\" class=\"dataframe\">\n  <thead>\n    <tr style=\"text-align: right;\">\n      <th></th>\n      <th>name</th>\n      <th>Total price</th>\n      <th>Total Score</th>\n      <th>Euro per score</th>\n    </tr>\n  </thead>\n  <tbody>\n    <tr>\n      <th>5436</th>\n      <td>VW Golf GTE DSG (ab 08/20)</td>\n      <td>37505.0</td>\n      <td>373.202891</td>\n      <td>100.494934</td>\n    </tr>\n    <tr>\n      <th>5434</th>\n      <td>VW Golf 1.4 eHybrid Style DSG (ab 08/20)</td>\n      <td>36770.0</td>\n      <td>372.870683</td>\n      <td>98.613277</td>\n    </tr>\n    <tr>\n      <th>4129</th>\n      <td>VW Golf 2.0 TDI SCR Style DSG (ab 09/20)</td>\n      <td>38555.0</td>\n      <td>363.000683</td>\n      <td>106.211921</td>\n    </tr>\n    <tr>\n      <th>4128</th>\n      <td>VW Golf 2.0 TDI SCR ACTIVE DSG (ab 01/21)</td>\n      <td>38035.0</td>\n      <td>361.781224</td>\n      <td>105.132598</td>\n    </tr>\n    <tr>\n      <th>1844</th>\n      <td>VW Golf 1.5 eTSI Life DSG (ab 12/20)</td>\n      <td>32735.0</td>\n      <td>361.020683</td>\n      <td>90.673475</td>\n    </tr>\n    <tr>\n      <th>4133</th>\n      <td>VW Golf GTD DSG (ab 10/20)</td>\n      <td>41530.0</td>\n      <td>360.682891</td>\n      <td>115.142695</td>\n    </tr>\n    <tr>\n      <th>1839</th>\n      <td>VW Golf 1.0 eTSI Life DSG (ab 08/20)</td>\n      <td>30945.0</td>\n      <td>359.280683</td>\n      <td>86.130431</td>\n    </tr>\n    <tr>\n      <th>4130</th>\n      <td>VW Golf 2.0 TDI SCR R-Line DSG (ab 09/20)</td>\n      <td>38715.0</td>\n      <td>357.760683</td>\n      <td>108.214798</td>\n    </tr>\n    <tr>\n      <th>6321</th>\n      <td>Skoda Octavia RS Plus 2.0 TDI SCR 4x4 DSG (ab ...</td>\n      <td>47645.0</td>\n      <td>355.487756</td>\n      <td>134.027120</td>\n    </tr>\n    <tr>\n      <th>5435</th>\n      <td>VW Golf GTI Clubsport DSG (ab 10/20)</td>\n      <td>44400.0</td>\n      <td>354.325113</td>\n      <td>125.308645</td>\n    </tr>\n  </tbody>\n</table>\n</div>"
     },
     "metadata": {},
     "execution_count": 3
    }
   ],
   "source": [
    "VIEW_COLUMNS = [Column.NAME, Column.TOTAL_PRICE, Column.TOTAL_SCORE, Column.EURO_PER_SCORE]\n",
    "VIEW_LIMIT = 10\n",
    "\n",
    "df[df[Column.TOTAL_SCORE] > impreza_total_score][VIEW_COLUMNS].head(VIEW_LIMIT)"
   ]
  },
  {
   "cell_type": "markdown",
   "metadata": {},
   "source": [
    "### Better in euro per score"
   ]
  },
  {
   "cell_type": "code",
   "execution_count": 4,
   "metadata": {},
   "outputs": [
    {
     "output_type": "execute_result",
     "data": {
      "text/plain": [
       "                                                   name  Total price  \\\n",
       "1844               VW Golf 1.5 eTSI Life DSG (ab 12/20)      32735.0   \n",
       "1839               VW Golf 1.0 eTSI Life DSG (ab 08/20)      30945.0   \n",
       "1283      KIA Ceed 1.5 T-GDI 48V Spirit DCT7 (ab 03/21)      30000.0   \n",
       "1279          KIA Ceed 1.5 T-GDI Spirit DCT7 (ab 03/21)      29250.0   \n",
       "1284     KIA Ceed 1.5 T-GDI 48V GT Line DCT7 (ab 03/21)      30900.0   \n",
       "1281         KIA Ceed 1.5 T-GDI GT Line DCT7 (ab 03/21)      30150.0   \n",
       "3392       Hyundai IONIQ PlugIn-Hybrid Style (ab 07/20)      30440.0   \n",
       "947       Audi A1 Sportback 35 TFSI S tronic (ab 09/20)      28485.0   \n",
       "345       Audi A1 Sportback 30 TFSI S tronic (ab 09/20)      26135.0   \n",
       "663   Opel Corsa 1.2 DI Turbo GS Line Automatik (ab ...      25470.0   \n",
       "\n",
       "      Total Score  Euro per score  \n",
       "1844   361.020683       90.673475  \n",
       "1839   359.280683       86.130431  \n",
       "1283   348.143360       86.171398  \n",
       "1279   347.863360       84.084739  \n",
       "1284   346.963360       89.058395  \n",
       "1281   346.693360       86.964458  \n",
       "3392   340.296538       89.451395  \n",
       "947    333.427536       85.430856  \n",
       "345    332.707536       78.552474  \n",
       "663    332.553191       76.589252  "
      ],
      "text/html": "<div>\n<style scoped>\n    .dataframe tbody tr th:only-of-type {\n        vertical-align: middle;\n    }\n\n    .dataframe tbody tr th {\n        vertical-align: top;\n    }\n\n    .dataframe thead th {\n        text-align: right;\n    }\n</style>\n<table border=\"1\" class=\"dataframe\">\n  <thead>\n    <tr style=\"text-align: right;\">\n      <th></th>\n      <th>name</th>\n      <th>Total price</th>\n      <th>Total Score</th>\n      <th>Euro per score</th>\n    </tr>\n  </thead>\n  <tbody>\n    <tr>\n      <th>1844</th>\n      <td>VW Golf 1.5 eTSI Life DSG (ab 12/20)</td>\n      <td>32735.0</td>\n      <td>361.020683</td>\n      <td>90.673475</td>\n    </tr>\n    <tr>\n      <th>1839</th>\n      <td>VW Golf 1.0 eTSI Life DSG (ab 08/20)</td>\n      <td>30945.0</td>\n      <td>359.280683</td>\n      <td>86.130431</td>\n    </tr>\n    <tr>\n      <th>1283</th>\n      <td>KIA Ceed 1.5 T-GDI 48V Spirit DCT7 (ab 03/21)</td>\n      <td>30000.0</td>\n      <td>348.143360</td>\n      <td>86.171398</td>\n    </tr>\n    <tr>\n      <th>1279</th>\n      <td>KIA Ceed 1.5 T-GDI Spirit DCT7 (ab 03/21)</td>\n      <td>29250.0</td>\n      <td>347.863360</td>\n      <td>84.084739</td>\n    </tr>\n    <tr>\n      <th>1284</th>\n      <td>KIA Ceed 1.5 T-GDI 48V GT Line DCT7 (ab 03/21)</td>\n      <td>30900.0</td>\n      <td>346.963360</td>\n      <td>89.058395</td>\n    </tr>\n    <tr>\n      <th>1281</th>\n      <td>KIA Ceed 1.5 T-GDI GT Line DCT7 (ab 03/21)</td>\n      <td>30150.0</td>\n      <td>346.693360</td>\n      <td>86.964458</td>\n    </tr>\n    <tr>\n      <th>3392</th>\n      <td>Hyundai IONIQ PlugIn-Hybrid Style (ab 07/20)</td>\n      <td>30440.0</td>\n      <td>340.296538</td>\n      <td>89.451395</td>\n    </tr>\n    <tr>\n      <th>947</th>\n      <td>Audi A1 Sportback 35 TFSI S tronic (ab 09/20)</td>\n      <td>28485.0</td>\n      <td>333.427536</td>\n      <td>85.430856</td>\n    </tr>\n    <tr>\n      <th>345</th>\n      <td>Audi A1 Sportback 30 TFSI S tronic (ab 09/20)</td>\n      <td>26135.0</td>\n      <td>332.707536</td>\n      <td>78.552474</td>\n    </tr>\n    <tr>\n      <th>663</th>\n      <td>Opel Corsa 1.2 DI Turbo GS Line Automatik (ab ...</td>\n      <td>25470.0</td>\n      <td>332.553191</td>\n      <td>76.589252</td>\n    </tr>\n  </tbody>\n</table>\n</div>"
     },
     "metadata": {},
     "execution_count": 4
    }
   ],
   "source": [
    "df[df[Column.EURO_PER_SCORE] < impreza_euro_per_score][VIEW_COLUMNS].head(VIEW_LIMIT)"
   ]
  },
  {
   "cell_type": "markdown",
   "metadata": {},
   "source": [
    "### Better in costs"
   ]
  },
  {
   "cell_type": "code",
   "execution_count": 5,
   "metadata": {},
   "outputs": [
    {
     "output_type": "execute_result",
     "data": {
      "text/plain": [
       "                                                   name  Total price  \\\n",
       "5436                         VW Golf GTE DSG (ab 08/20)      37505.0   \n",
       "5434           VW Golf 1.4 eHybrid Style DSG (ab 08/20)      36770.0   \n",
       "4129           VW Golf 2.0 TDI SCR Style DSG (ab 09/20)      38555.0   \n",
       "4128          VW Golf 2.0 TDI SCR ACTIVE DSG (ab 01/21)      38035.0   \n",
       "1844               VW Golf 1.5 eTSI Life DSG (ab 12/20)      32735.0   \n",
       "4133                         VW Golf GTD DSG (ab 10/20)      41530.0   \n",
       "1839               VW Golf 1.0 eTSI Life DSG (ab 08/20)      30945.0   \n",
       "4130          VW Golf 2.0 TDI SCR R-Line DSG (ab 09/20)      38715.0   \n",
       "6321  Skoda Octavia RS Plus 2.0 TDI SCR 4x4 DSG (ab ...      47645.0   \n",
       "6320   Skoda Octavia RS Plus 2.0 TDI SCR DSG (ab 12/20)      45545.0   \n",
       "\n",
       "      Total Score  Euro per score  \n",
       "5436   373.202891      100.494934  \n",
       "5434   372.870683       98.613277  \n",
       "4129   363.000683      106.211921  \n",
       "4128   361.781224      105.132598  \n",
       "1844   361.020683       90.673475  \n",
       "4133   360.682891      115.142695  \n",
       "1839   359.280683       86.130431  \n",
       "4130   357.760683      108.214798  \n",
       "6321   355.487756      134.027120  \n",
       "6320   353.727756      128.757213  "
      ],
      "text/html": "<div>\n<style scoped>\n    .dataframe tbody tr th:only-of-type {\n        vertical-align: middle;\n    }\n\n    .dataframe tbody tr th {\n        vertical-align: top;\n    }\n\n    .dataframe thead th {\n        text-align: right;\n    }\n</style>\n<table border=\"1\" class=\"dataframe\">\n  <thead>\n    <tr style=\"text-align: right;\">\n      <th></th>\n      <th>name</th>\n      <th>Total price</th>\n      <th>Total Score</th>\n      <th>Euro per score</th>\n    </tr>\n  </thead>\n  <tbody>\n    <tr>\n      <th>5436</th>\n      <td>VW Golf GTE DSG (ab 08/20)</td>\n      <td>37505.0</td>\n      <td>373.202891</td>\n      <td>100.494934</td>\n    </tr>\n    <tr>\n      <th>5434</th>\n      <td>VW Golf 1.4 eHybrid Style DSG (ab 08/20)</td>\n      <td>36770.0</td>\n      <td>372.870683</td>\n      <td>98.613277</td>\n    </tr>\n    <tr>\n      <th>4129</th>\n      <td>VW Golf 2.0 TDI SCR Style DSG (ab 09/20)</td>\n      <td>38555.0</td>\n      <td>363.000683</td>\n      <td>106.211921</td>\n    </tr>\n    <tr>\n      <th>4128</th>\n      <td>VW Golf 2.0 TDI SCR ACTIVE DSG (ab 01/21)</td>\n      <td>38035.0</td>\n      <td>361.781224</td>\n      <td>105.132598</td>\n    </tr>\n    <tr>\n      <th>1844</th>\n      <td>VW Golf 1.5 eTSI Life DSG (ab 12/20)</td>\n      <td>32735.0</td>\n      <td>361.020683</td>\n      <td>90.673475</td>\n    </tr>\n    <tr>\n      <th>4133</th>\n      <td>VW Golf GTD DSG (ab 10/20)</td>\n      <td>41530.0</td>\n      <td>360.682891</td>\n      <td>115.142695</td>\n    </tr>\n    <tr>\n      <th>1839</th>\n      <td>VW Golf 1.0 eTSI Life DSG (ab 08/20)</td>\n      <td>30945.0</td>\n      <td>359.280683</td>\n      <td>86.130431</td>\n    </tr>\n    <tr>\n      <th>4130</th>\n      <td>VW Golf 2.0 TDI SCR R-Line DSG (ab 09/20)</td>\n      <td>38715.0</td>\n      <td>357.760683</td>\n      <td>108.214798</td>\n    </tr>\n    <tr>\n      <th>6321</th>\n      <td>Skoda Octavia RS Plus 2.0 TDI SCR 4x4 DSG (ab ...</td>\n      <td>47645.0</td>\n      <td>355.487756</td>\n      <td>134.027120</td>\n    </tr>\n    <tr>\n      <th>6320</th>\n      <td>Skoda Octavia RS Plus 2.0 TDI SCR DSG (ab 12/20)</td>\n      <td>45545.0</td>\n      <td>353.727756</td>\n      <td>128.757213</td>\n    </tr>\n  </tbody>\n</table>\n</div>"
     },
     "metadata": {},
     "execution_count": 5
    }
   ],
   "source": [
    "df[df[Column.MY_M_COSTS] < impreza_costs][VIEW_COLUMNS].head(VIEW_LIMIT)"
   ]
  },
  {
   "cell_type": "markdown",
   "metadata": {},
   "source": [
    "### Better in everything"
   ]
  },
  {
   "cell_type": "code",
   "execution_count": 6,
   "metadata": {},
   "outputs": [
    {
     "output_type": "execute_result",
     "data": {
      "text/plain": [
       "                                                   name  Total price  \\\n",
       "1844               VW Golf 1.5 eTSI Life DSG (ab 12/20)      32735.0   \n",
       "1839               VW Golf 1.0 eTSI Life DSG (ab 08/20)      30945.0   \n",
       "1283      KIA Ceed 1.5 T-GDI 48V Spirit DCT7 (ab 03/21)      30000.0   \n",
       "1279          KIA Ceed 1.5 T-GDI Spirit DCT7 (ab 03/21)      29250.0   \n",
       "1284     KIA Ceed 1.5 T-GDI 48V GT Line DCT7 (ab 03/21)      30900.0   \n",
       "1281         KIA Ceed 1.5 T-GDI GT Line DCT7 (ab 03/21)      30150.0   \n",
       "3392       Hyundai IONIQ PlugIn-Hybrid Style (ab 07/20)      30440.0   \n",
       "947       Audi A1 Sportback 35 TFSI S tronic (ab 09/20)      28485.0   \n",
       "345       Audi A1 Sportback 30 TFSI S tronic (ab 09/20)      26135.0   \n",
       "663   Opel Corsa 1.2 DI Turbo GS Line Automatik (ab ...      25470.0   \n",
       "\n",
       "      Total Score  Euro per score  \n",
       "1844   361.020683       90.673475  \n",
       "1839   359.280683       86.130431  \n",
       "1283   348.143360       86.171398  \n",
       "1279   347.863360       84.084739  \n",
       "1284   346.963360       89.058395  \n",
       "1281   346.693360       86.964458  \n",
       "3392   340.296538       89.451395  \n",
       "947    333.427536       85.430856  \n",
       "345    332.707536       78.552474  \n",
       "663    332.553191       76.589252  "
      ],
      "text/html": "<div>\n<style scoped>\n    .dataframe tbody tr th:only-of-type {\n        vertical-align: middle;\n    }\n\n    .dataframe tbody tr th {\n        vertical-align: top;\n    }\n\n    .dataframe thead th {\n        text-align: right;\n    }\n</style>\n<table border=\"1\" class=\"dataframe\">\n  <thead>\n    <tr style=\"text-align: right;\">\n      <th></th>\n      <th>name</th>\n      <th>Total price</th>\n      <th>Total Score</th>\n      <th>Euro per score</th>\n    </tr>\n  </thead>\n  <tbody>\n    <tr>\n      <th>1844</th>\n      <td>VW Golf 1.5 eTSI Life DSG (ab 12/20)</td>\n      <td>32735.0</td>\n      <td>361.020683</td>\n      <td>90.673475</td>\n    </tr>\n    <tr>\n      <th>1839</th>\n      <td>VW Golf 1.0 eTSI Life DSG (ab 08/20)</td>\n      <td>30945.0</td>\n      <td>359.280683</td>\n      <td>86.130431</td>\n    </tr>\n    <tr>\n      <th>1283</th>\n      <td>KIA Ceed 1.5 T-GDI 48V Spirit DCT7 (ab 03/21)</td>\n      <td>30000.0</td>\n      <td>348.143360</td>\n      <td>86.171398</td>\n    </tr>\n    <tr>\n      <th>1279</th>\n      <td>KIA Ceed 1.5 T-GDI Spirit DCT7 (ab 03/21)</td>\n      <td>29250.0</td>\n      <td>347.863360</td>\n      <td>84.084739</td>\n    </tr>\n    <tr>\n      <th>1284</th>\n      <td>KIA Ceed 1.5 T-GDI 48V GT Line DCT7 (ab 03/21)</td>\n      <td>30900.0</td>\n      <td>346.963360</td>\n      <td>89.058395</td>\n    </tr>\n    <tr>\n      <th>1281</th>\n      <td>KIA Ceed 1.5 T-GDI GT Line DCT7 (ab 03/21)</td>\n      <td>30150.0</td>\n      <td>346.693360</td>\n      <td>86.964458</td>\n    </tr>\n    <tr>\n      <th>3392</th>\n      <td>Hyundai IONIQ PlugIn-Hybrid Style (ab 07/20)</td>\n      <td>30440.0</td>\n      <td>340.296538</td>\n      <td>89.451395</td>\n    </tr>\n    <tr>\n      <th>947</th>\n      <td>Audi A1 Sportback 35 TFSI S tronic (ab 09/20)</td>\n      <td>28485.0</td>\n      <td>333.427536</td>\n      <td>85.430856</td>\n    </tr>\n    <tr>\n      <th>345</th>\n      <td>Audi A1 Sportback 30 TFSI S tronic (ab 09/20)</td>\n      <td>26135.0</td>\n      <td>332.707536</td>\n      <td>78.552474</td>\n    </tr>\n    <tr>\n      <th>663</th>\n      <td>Opel Corsa 1.2 DI Turbo GS Line Automatik (ab ...</td>\n      <td>25470.0</td>\n      <td>332.553191</td>\n      <td>76.589252</td>\n    </tr>\n  </tbody>\n</table>\n</div>"
     },
     "metadata": {},
     "execution_count": 6
    }
   ],
   "source": [
    "d = df[(df[Column.TOTAL_SCORE] > impreza_total_score) & (df[Column.EURO_PER_SCORE] < impreza_euro_per_score) & (df[Column.MY_M_COSTS] < impreza_costs)]\n",
    "d[VIEW_COLUMNS].head(VIEW_LIMIT)"
   ]
  },
  {
   "cell_type": "code",
   "execution_count": 7,
   "metadata": {},
   "outputs": [],
   "source": [
    "coloraze(d, axis=0).to_excel('/tmp/best_car_all.xlsx')"
   ]
  }
 ],
 "metadata": {
  "language_info": {
   "codemirror_mode": {
    "name": "ipython",
    "version": 3
   },
   "file_extension": ".py",
   "mimetype": "text/x-python",
   "name": "python",
   "nbconvert_exporter": "python",
   "pygments_lexer": "ipython3",
   "version": "3.8.5-final"
  },
  "orig_nbformat": 2,
  "kernelspec": {
   "name": "python38564bitvenv02c679b741e94b6f95f18372eb4f448a",
   "display_name": "Python 3.8.5 64-bit ('.venv')"
  },
  "metadata": {
   "interpreter": {
    "hash": "cee5e51e07f067525111a4a8daee22eb902da2fc83df62795d61abd47aae3cb1"
   }
  }
 },
 "nbformat": 4,
 "nbformat_minor": 2
}