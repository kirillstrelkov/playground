{
 "cells": [
  {
   "cell_type": "markdown",
   "metadata": {},
   "source": [
    "# Finding best car\n",
    "## Show top cars with least monthly costs"
   ]
  },
  {
   "cell_type": "code",
   "execution_count": 1,
   "metadata": {
    "tags": []
   },
   "outputs": [
    {
     "output_type": "stream",
     "name": "stderr",
     "text": [
      "<ipython-input-1-d1081bcfb441>:17: DtypeWarning: Columns (234,235,236,237) have mixed types.Specify dtype option on import or set low_memory=False.\n  df = _get_df_with_cost_to_own(de_discount=True)\n"
     ]
    },
    {
     "output_type": "execute_result",
     "data": {
      "text/plain": [
       "     Marke                                Baureihe  \\\n",
       "473     VW                         ID.3 (ab 09/20)   \n",
       "472     VW                         ID.3 (ab 09/20)   \n",
       "254   MINI  MINI (F56) Electric 3-Türer (ab 03/21)   \n",
       "425  Skoda       Octavia (IV) Limousine (ab 04/20)   \n",
       "474     VW                         ID.3 (ab 09/20)   \n",
       "\n",
       "     Leistung maximal in kW (Systemleistung)  Total price  my monthly costs  \n",
       "473                                      110      28660.0             364.0  \n",
       "472                                      107      32272.0             365.0  \n",
       "254                                      135      26540.0             369.0  \n",
       "425                                       96      38027.0             371.0  \n",
       "474                                      150      36857.0             374.0  "
      ],
      "text/html": "<div>\n<style scoped>\n    .dataframe tbody tr th:only-of-type {\n        vertical-align: middle;\n    }\n\n    .dataframe tbody tr th {\n        vertical-align: top;\n    }\n\n    .dataframe thead th {\n        text-align: right;\n    }\n</style>\n<table border=\"1\" class=\"dataframe\">\n  <thead>\n    <tr style=\"text-align: right;\">\n      <th></th>\n      <th>Marke</th>\n      <th>Baureihe</th>\n      <th>Leistung maximal in kW (Systemleistung)</th>\n      <th>Total price</th>\n      <th>my monthly costs</th>\n    </tr>\n  </thead>\n  <tbody>\n    <tr>\n      <th>473</th>\n      <td>VW</td>\n      <td>ID.3 (ab 09/20)</td>\n      <td>110</td>\n      <td>28660.0</td>\n      <td>364.0</td>\n    </tr>\n    <tr>\n      <th>472</th>\n      <td>VW</td>\n      <td>ID.3 (ab 09/20)</td>\n      <td>107</td>\n      <td>32272.0</td>\n      <td>365.0</td>\n    </tr>\n    <tr>\n      <th>254</th>\n      <td>MINI</td>\n      <td>MINI (F56) Electric 3-Türer (ab 03/21)</td>\n      <td>135</td>\n      <td>26540.0</td>\n      <td>369.0</td>\n    </tr>\n    <tr>\n      <th>425</th>\n      <td>Skoda</td>\n      <td>Octavia (IV) Limousine (ab 04/20)</td>\n      <td>96</td>\n      <td>38027.0</td>\n      <td>371.0</td>\n    </tr>\n    <tr>\n      <th>474</th>\n      <td>VW</td>\n      <td>ID.3 (ab 09/20)</td>\n      <td>150</td>\n      <td>36857.0</td>\n      <td>374.0</td>\n    </tr>\n  </tbody>\n</table>\n</div>"
     },
     "metadata": {},
     "execution_count": 1
    }
   ],
   "source": [
    "from find_best_car import (\n",
    "    _get_df_with_cost_to_own, \n",
    "    Column, \n",
    "    get_scored_df\n",
    ")\n",
    "import pandas as pd\n",
    "from numpy import nan\n",
    "\n",
    "import seaborn as sns\n",
    "\n",
    "def coloraze(df, axis=1):\n",
    "    cm = sns.light_palette(\"seagreen\", as_cmap=True)\n",
    "    return df.style.background_gradient(cmap=cm, axis=axis)\n",
    "\n",
    "GROUP_COLS_MARK_SERIE_KW = [Column.MARK, Column.SERIE, Column.PERFORMANCE_KW]\n",
    "\n",
    "df = _get_df_with_cost_to_own(de_discount=True)\n",
    "\n",
    "g = df.groupby(GROUP_COLS_MARK_SERIE_KW, as_index=False)\n",
    "costs_mean = g[[Column.TOTAL_PRICE, Column.MY_M_COSTS]].mean()\n",
    "costs_mean.sort_values(Column.MY_M_COSTS).head(5).round(0)\n"
   ]
  },
  {
   "cell_type": "markdown",
   "metadata": {},
   "source": [
    "## Cars with lowest monthly costs"
   ]
  },
  {
   "cell_type": "code",
   "execution_count": 2,
   "metadata": {},
   "outputs": [
    {
     "output_type": "execute_result",
     "data": {
      "text/plain": [
       "       Marke                                Baureihe  \\\n",
       "473       VW                         ID.3 (ab 09/20)   \n",
       "472       VW                         ID.3 (ab 09/20)   \n",
       "254     MINI  MINI (F56) Electric 3-Türer (ab 03/21)   \n",
       "425    Skoda       Octavia (IV) Limousine (ab 04/20)   \n",
       "474       VW                         ID.3 (ab 09/20)   \n",
       "175  Hyundai           IONIQ (AE) Elektro (ab 09/19)   \n",
       "18      Audi     A3 (8Y) Sportback g-tron (ab 10/20)   \n",
       "460   Toyota                 Yaris (XP21) (ab 09/20)   \n",
       "410    Skoda                     Enyaq iV (ab 04/21)   \n",
       "102      BMW                     i3 (I01) (ab 11/17)   \n",
       "\n",
       "     Leistung maximal in kW (Systemleistung)  Total price  my monthly costs  \n",
       "473                                      110      28660.0             364.0  \n",
       "472                                      107      32272.0             365.0  \n",
       "254                                      135      26540.0             369.0  \n",
       "425                                       96      38027.0             371.0  \n",
       "474                                      150      36857.0             374.0  \n",
       "175                                      100      32469.0             375.0  \n",
       "18                                        96      38192.0             378.0  \n",
       "460                                       85      24380.0             381.0  \n",
       "410                                      109      30660.0             388.0  \n",
       "102                                      125      31300.0             390.0  "
      ],
      "text/html": "<div>\n<style scoped>\n    .dataframe tbody tr th:only-of-type {\n        vertical-align: middle;\n    }\n\n    .dataframe tbody tr th {\n        vertical-align: top;\n    }\n\n    .dataframe thead th {\n        text-align: right;\n    }\n</style>\n<table border=\"1\" class=\"dataframe\">\n  <thead>\n    <tr style=\"text-align: right;\">\n      <th></th>\n      <th>Marke</th>\n      <th>Baureihe</th>\n      <th>Leistung maximal in kW (Systemleistung)</th>\n      <th>Total price</th>\n      <th>my monthly costs</th>\n    </tr>\n  </thead>\n  <tbody>\n    <tr>\n      <th>473</th>\n      <td>VW</td>\n      <td>ID.3 (ab 09/20)</td>\n      <td>110</td>\n      <td>28660.0</td>\n      <td>364.0</td>\n    </tr>\n    <tr>\n      <th>472</th>\n      <td>VW</td>\n      <td>ID.3 (ab 09/20)</td>\n      <td>107</td>\n      <td>32272.0</td>\n      <td>365.0</td>\n    </tr>\n    <tr>\n      <th>254</th>\n      <td>MINI</td>\n      <td>MINI (F56) Electric 3-Türer (ab 03/21)</td>\n      <td>135</td>\n      <td>26540.0</td>\n      <td>369.0</td>\n    </tr>\n    <tr>\n      <th>425</th>\n      <td>Skoda</td>\n      <td>Octavia (IV) Limousine (ab 04/20)</td>\n      <td>96</td>\n      <td>38027.0</td>\n      <td>371.0</td>\n    </tr>\n    <tr>\n      <th>474</th>\n      <td>VW</td>\n      <td>ID.3 (ab 09/20)</td>\n      <td>150</td>\n      <td>36857.0</td>\n      <td>374.0</td>\n    </tr>\n    <tr>\n      <th>175</th>\n      <td>Hyundai</td>\n      <td>IONIQ (AE) Elektro (ab 09/19)</td>\n      <td>100</td>\n      <td>32469.0</td>\n      <td>375.0</td>\n    </tr>\n    <tr>\n      <th>18</th>\n      <td>Audi</td>\n      <td>A3 (8Y) Sportback g-tron (ab 10/20)</td>\n      <td>96</td>\n      <td>38192.0</td>\n      <td>378.0</td>\n    </tr>\n    <tr>\n      <th>460</th>\n      <td>Toyota</td>\n      <td>Yaris (XP21) (ab 09/20)</td>\n      <td>85</td>\n      <td>24380.0</td>\n      <td>381.0</td>\n    </tr>\n    <tr>\n      <th>410</th>\n      <td>Skoda</td>\n      <td>Enyaq iV (ab 04/21)</td>\n      <td>109</td>\n      <td>30660.0</td>\n      <td>388.0</td>\n    </tr>\n    <tr>\n      <th>102</th>\n      <td>BMW</td>\n      <td>i3 (I01) (ab 11/17)</td>\n      <td>125</td>\n      <td>31300.0</td>\n      <td>390.0</td>\n    </tr>\n  </tbody>\n</table>\n</div>"
     },
     "metadata": {},
     "execution_count": 2
    }
   ],
   "source": [
    "costs_mean.sort_values(Column.MY_M_COSTS).round(0).head(10)"
   ]
  },
  {
   "cell_type": "markdown",
   "metadata": {},
   "source": [
    "## Find missing data in input excel"
   ]
  },
  {
   "cell_type": "code",
   "execution_count": 3,
   "metadata": {
    "tags": []
   },
   "outputs": [
    {
     "output_type": "stream",
     "name": "stderr",
     "text": [
      "/home/kirill/workspace/playground/auto/adac/best_car/find_best_car.py:371: DtypeWarning: Columns (234,235,236,237) have mixed types.Specify dtype option on import or set low_memory=False.\n",
      "  _get_df_with_cost_to_own(\n",
      "/home/kirill/workspace/playground/auto/adac/best_car/find_best_car.py:371: DtypeWarning: Columns (234,235,236,237) have mixed types.Specify dtype option on import or set low_memory=False.\n",
      "  _get_df_with_cost_to_own(\n",
      "/home/kirill/workspace/playground/auto/adac/best_car/find_best_car.py:371: DtypeWarning: Columns (234,235,236,237) have mixed types.Specify dtype option on import or set low_memory=False.\n",
      "  _get_df_with_cost_to_own(\n",
      "/home/kirill/workspace/playground/auto/adac/best_car/find_best_car.py:371: DtypeWarning: Columns (234,235,236,237) have mixed types.Specify dtype option on import or set low_memory=False.\n",
      "  _get_df_with_cost_to_own(\n",
      "/home/kirill/workspace/playground/auto/adac/best_car/find_best_car.py:371: DtypeWarning: Columns (234,235,236,237) have mixed types.Specify dtype option on import or set low_memory=False.\n",
      "  _get_df_with_cost_to_own(\n",
      "/home/kirill/workspace/playground/auto/adac/best_car/find_best_car.py:371: DtypeWarning: Columns (234,235,236,237) have mixed types.Specify dtype option on import or set low_memory=False.\n",
      "  _get_df_with_cost_to_own(\n",
      "/home/kirill/workspace/playground/auto/adac/best_car/find_best_car.py:371: DtypeWarning: Columns (234,235,236,237) have mixed types.Specify dtype option on import or set low_memory=False.\n",
      "  _get_df_with_cost_to_own(\n",
      "/home/kirill/workspace/playground/auto/adac/best_car/find_best_car.py:371: DtypeWarning: Columns (234,235,236,237) have mixed types.Specify dtype option on import or set low_memory=False.\n",
      "  _get_df_with_cost_to_own(\n",
      "/home/kirill/workspace/playground/auto/adac/best_car/find_best_car.py:371: DtypeWarning: Columns (234,235,236,237) have mixed types.Specify dtype option on import or set low_memory=False.\n",
      "  _get_df_with_cost_to_own(\n",
      "/home/kirill/workspace/playground/auto/adac/best_car/find_best_car.py:371: DtypeWarning: Columns (234,235,236,237) have mixed types.Specify dtype option on import or set low_memory=False.\n",
      "  _get_df_with_cost_to_own(\n",
      "/home/kirill/workspace/playground/auto/adac/best_car/find_best_car.py:371: DtypeWarning: Columns (234,235,236,237) have mixed types.Specify dtype option on import or set low_memory=False.\n",
      "  _get_df_with_cost_to_own(\n",
      "/home/kirill/workspace/playground/auto/adac/best_car/find_best_car.py:371: DtypeWarning: Columns (234,235,236,237) have mixed types.Specify dtype option on import or set low_memory=False.\n",
      "  _get_df_with_cost_to_own(\n",
      "/home/kirill/workspace/playground/auto/adac/best_car/find_best_car.py:371: DtypeWarning: Columns (234,235,236,237) have mixed types.Specify dtype option on import or set low_memory=False.\n",
      "  _get_df_with_cost_to_own(\n",
      "/home/kirill/workspace/playground/auto/adac/best_car/find_best_car.py:371: DtypeWarning: Columns (234,235,236,237) have mixed types.Specify dtype option on import or set low_memory=False.\n",
      "  _get_df_with_cost_to_own(\n",
      "/home/kirill/workspace/playground/auto/adac/best_car/find_best_car.py:371: DtypeWarning: Columns (234,235,236,237) have mixed types.Specify dtype option on import or set low_memory=False.\n",
      "  _get_df_with_cost_to_own(\n",
      "/home/kirill/workspace/playground/auto/adac/best_car/find_best_car.py:371: DtypeWarning: Columns (234,235,236,237) have mixed types.Specify dtype option on import or set low_memory=False.\n",
      "  _get_df_with_cost_to_own(\n",
      "/home/kirill/workspace/playground/auto/adac/best_car/find_best_car.py:371: DtypeWarning: Columns (234,235,236,237) have mixed types.Specify dtype option on import or set low_memory=False.\n",
      "  _get_df_with_cost_to_own(\n",
      "/home/kirill/workspace/playground/auto/adac/best_car/find_best_car.py:371: DtypeWarning: Columns (234,235,236,237) have mixed types.Specify dtype option on import or set low_memory=False.\n",
      "  _get_df_with_cost_to_own(\n",
      "/home/kirill/workspace/playground/auto/adac/best_car/find_best_car.py:371: DtypeWarning: Columns (234,235,236,237) have mixed types.Specify dtype option on import or set low_memory=False.\n",
      "  _get_df_with_cost_to_own(\n",
      "/home/kirill/workspace/playground/auto/adac/best_car/find_best_car.py:371: DtypeWarning: Columns (234,235,236,237) have mixed types.Specify dtype option on import or set low_memory=False.\n",
      "  _get_df_with_cost_to_own(\n",
      "/home/kirill/workspace/playground/auto/adac/best_car/find_best_car.py:371: DtypeWarning: Columns (234,235,236,237) have mixed types.Specify dtype option on import or set low_memory=False.\n",
      "  _get_df_with_cost_to_own(\n",
      "/home/kirill/workspace/playground/auto/adac/best_car/find_best_car.py:371: DtypeWarning: Columns (234,235,236,237) have mixed types.Specify dtype option on import or set low_memory=False.\n",
      "  _get_df_with_cost_to_own(\n",
      "/home/kirill/workspace/playground/auto/adac/best_car/find_best_car.py:371: DtypeWarning: Columns (234,235,236,237) have mixed types.Specify dtype option on import or set low_memory=False.\n",
      "  _get_df_with_cost_to_own(\n",
      "/home/kirill/workspace/playground/auto/adac/best_car/find_best_car.py:371: DtypeWarning: Columns (234,235,236,237) have mixed types.Specify dtype option on import or set low_memory=False.\n",
      "  _get_df_with_cost_to_own(\n",
      "/home/kirill/workspace/playground/auto/adac/best_car/find_best_car.py:371: DtypeWarning: Columns (234,235,236,237) have mixed types.Specify dtype option on import or set low_memory=False.\n",
      "  _get_df_with_cost_to_own(\n",
      "/home/kirill/workspace/playground/auto/adac/best_car/find_best_car.py:371: DtypeWarning: Columns (234,235,236,237) have mixed types.Specify dtype option on import or set low_memory=False.\n",
      "  _get_df_with_cost_to_own(\n",
      "/home/kirill/workspace/playground/auto/adac/best_car/find_best_car.py:371: DtypeWarning: Columns (234,235,236,237) have mixed types.Specify dtype option on import or set low_memory=False.\n",
      "  _get_df_with_cost_to_own(\n",
      "/home/kirill/workspace/playground/auto/adac/best_car/find_best_car.py:371: DtypeWarning: Columns (234,235,236,237) have mixed types.Specify dtype option on import or set low_memory=False.\n",
      "  _get_df_with_cost_to_own(\n",
      "/home/kirill/workspace/playground/auto/adac/best_car/find_best_car.py:371: DtypeWarning: Columns (234,235,236,237) have mixed types.Specify dtype option on import or set low_memory=False.\n",
      "  _get_df_with_cost_to_own(\n",
      "/home/kirill/workspace/playground/auto/adac/best_car/find_best_car.py:371: DtypeWarning: Columns (234,235,236,237) have mixed types.Specify dtype option on import or set low_memory=False.\n",
      "  _get_df_with_cost_to_own(\n",
      "/home/kirill/workspace/playground/auto/adac/best_car/find_best_car.py:371: DtypeWarning: Columns (234,235,236,237) have mixed types.Specify dtype option on import or set low_memory=False.\n",
      "  _get_df_with_cost_to_own(\n",
      "/home/kirill/workspace/playground/auto/adac/best_car/find_best_car.py:371: DtypeWarning: Columns (234,235,236,237) have mixed types.Specify dtype option on import or set low_memory=False.\n",
      "  _get_df_with_cost_to_own(\n",
      "/home/kirill/workspace/playground/auto/adac/best_car/find_best_car.py:371: DtypeWarning: Columns (234,235,236,237) have mixed types.Specify dtype option on import or set low_memory=False.\n",
      "  _get_df_with_cost_to_own(\n",
      "/home/kirill/workspace/playground/auto/adac/best_car/find_best_car.py:371: DtypeWarning: Columns (234,235,236,237) have mixed types.Specify dtype option on import or set low_memory=False.\n",
      "  _get_df_with_cost_to_own(\n",
      "/home/kirill/workspace/playground/auto/adac/best_car/find_best_car.py:371: DtypeWarning: Columns (234,235,236,237) have mixed types.Specify dtype option on import or set low_memory=False.\n",
      "  _get_df_with_cost_to_own(\n",
      "/home/kirill/workspace/playground/auto/adac/best_car/find_best_car.py:371: DtypeWarning: Columns (234,235,236,237) have mixed types.Specify dtype option on import or set low_memory=False.\n",
      "  _get_df_with_cost_to_own(\n",
      "/home/kirill/workspace/playground/auto/adac/best_car/find_best_car.py:371: DtypeWarning: Columns (234,235,236,237) have mixed types.Specify dtype option on import or set low_memory=False.\n",
      "  _get_df_with_cost_to_own(\n",
      "/home/kirill/workspace/playground/auto/adac/best_car/find_best_car.py:371: DtypeWarning: Columns (234,235,236,237) have mixed types.Specify dtype option on import or set low_memory=False.\n",
      "  _get_df_with_cost_to_own(\n",
      "/home/kirill/workspace/playground/auto/adac/best_car/find_best_car.py:371: DtypeWarning: Columns (234,235,236,237) have mixed types.Specify dtype option on import or set low_memory=False.\n",
      "  _get_df_with_cost_to_own(\n",
      "Bad column: Range\n",
      "Bad column: range up to 1000 km per tank\n",
      "Bad column: boot size,Fit 156 snowboard \n",
      "Bad column: easy entry(clearance or height of seats)\n"
     ]
    }
   ],
   "source": [
    "\n",
    "df = get_scored_df(only_mentioned_cars=True, de_discount=True)\n",
    "\n",
    "for col in df.columns:\n",
    "    uniq_vals = df[col]\n",
    "    if uniq_vals.isnull().values.any():\n",
    "        print(f\"Bad column: {col}\")\n"
   ]
  },
  {
   "cell_type": "code",
   "execution_count": 4,
   "metadata": {
    "tags": []
   },
   "outputs": [
    {
     "output_type": "execute_result",
     "data": {
      "text/plain": [
       "     Marke                             Baureihe\n",
       "947   Audi         A1 (GB) Sportback (ab 11/18)\n",
       "950   Audi        A1 (GB) citycarver (ab 09/19)\n",
       "1931  Audi         A3 (8Y) Limousine (ab 06/20)\n",
       "2930  Audi         A3 (8Y) Sportback (ab 05/20)\n",
       "1928  Audi  A3 (8Y) Sportback g-tron (ab 10/20)\n",
       "...    ...                                  ...\n",
       "1869    VW                     T-Roc (ab 11/17)\n",
       "2883    VW           T-Roc Cabriolet (ab 03/20)\n",
       "6444    VW                   T-Roc R (ab 09/19)\n",
       "6434    VW               Tiguan (II) (ab 09/20)\n",
       "5477    VW      Tiguan (II) Allspace (ab 09/17)\n",
       "\n",
       "[65 rows x 2 columns]"
      ],
      "text/html": "<div>\n<style scoped>\n    .dataframe tbody tr th:only-of-type {\n        vertical-align: middle;\n    }\n\n    .dataframe tbody tr th {\n        vertical-align: top;\n    }\n\n    .dataframe thead th {\n        text-align: right;\n    }\n</style>\n<table border=\"1\" class=\"dataframe\">\n  <thead>\n    <tr style=\"text-align: right;\">\n      <th></th>\n      <th>Marke</th>\n      <th>Baureihe</th>\n    </tr>\n  </thead>\n  <tbody>\n    <tr>\n      <th>947</th>\n      <td>Audi</td>\n      <td>A1 (GB) Sportback (ab 11/18)</td>\n    </tr>\n    <tr>\n      <th>950</th>\n      <td>Audi</td>\n      <td>A1 (GB) citycarver (ab 09/19)</td>\n    </tr>\n    <tr>\n      <th>1931</th>\n      <td>Audi</td>\n      <td>A3 (8Y) Limousine (ab 06/20)</td>\n    </tr>\n    <tr>\n      <th>2930</th>\n      <td>Audi</td>\n      <td>A3 (8Y) Sportback (ab 05/20)</td>\n    </tr>\n    <tr>\n      <th>1928</th>\n      <td>Audi</td>\n      <td>A3 (8Y) Sportback g-tron (ab 10/20)</td>\n    </tr>\n    <tr>\n      <th>...</th>\n      <td>...</td>\n      <td>...</td>\n    </tr>\n    <tr>\n      <th>1869</th>\n      <td>VW</td>\n      <td>T-Roc (ab 11/17)</td>\n    </tr>\n    <tr>\n      <th>2883</th>\n      <td>VW</td>\n      <td>T-Roc Cabriolet (ab 03/20)</td>\n    </tr>\n    <tr>\n      <th>6444</th>\n      <td>VW</td>\n      <td>T-Roc R (ab 09/19)</td>\n    </tr>\n    <tr>\n      <th>6434</th>\n      <td>VW</td>\n      <td>Tiguan (II) (ab 09/20)</td>\n    </tr>\n    <tr>\n      <th>5477</th>\n      <td>VW</td>\n      <td>Tiguan (II) Allspace (ab 09/17)</td>\n    </tr>\n  </tbody>\n</table>\n<p>65 rows × 2 columns</p>\n</div>"
     },
     "metadata": {},
     "execution_count": 4
    }
   ],
   "source": [
    "cols = ['Marke', 'Baureihe']\n",
    "df[cols].drop_duplicates(subset=cols).sort_values(cols)"
   ]
  },
  {
   "cell_type": "markdown",
   "metadata": {},
   "source": [
    "# Most suitable cars"
   ]
  },
  {
   "cell_type": "code",
   "execution_count": 5,
   "metadata": {},
   "outputs": [
    {
     "output_type": "execute_result",
     "data": {
      "text/plain": [
       "                                                   name  my monthly costs  \\\n",
       "5436                         VW Golf GTE DSG (ab 08/20)             469.0   \n",
       "5434           VW Golf 1.4 eHybrid Style DSG (ab 08/20)             439.0   \n",
       "4128          VW Golf 2.0 TDI SCR ACTIVE DSG (ab 01/21)             434.0   \n",
       "4129           VW Golf 2.0 TDI SCR Style DSG (ab 09/20)             446.0   \n",
       "4133                         VW Golf GTD DSG (ab 10/20)             483.0   \n",
       "1844               VW Golf 1.5 eTSI Life DSG (ab 12/20)             441.0   \n",
       "6321  Skoda Octavia RS Plus 2.0 TDI SCR 4x4 DSG (ab ...             536.0   \n",
       "1839               VW Golf 1.0 eTSI Life DSG (ab 08/20)             427.0   \n",
       "6320   Skoda Octavia RS Plus 2.0 TDI SCR DSG (ab 12/20)             513.0   \n",
       "4130          VW Golf 2.0 TDI SCR R-Line DSG (ab 09/20)             446.0   \n",
       "\n",
       "      Total Score  \n",
       "5436   367.293033  \n",
       "5434   365.113033  \n",
       "4128   355.304245  \n",
       "4129   355.063033  \n",
       "4133   353.559699  \n",
       "1844   353.289699  \n",
       "6321   351.840558  \n",
       "1839   350.829699  \n",
       "6320   350.170558  \n",
       "4130   348.929699  "
      ],
      "text/html": "<div>\n<style scoped>\n    .dataframe tbody tr th:only-of-type {\n        vertical-align: middle;\n    }\n\n    .dataframe tbody tr th {\n        vertical-align: top;\n    }\n\n    .dataframe thead th {\n        text-align: right;\n    }\n</style>\n<table border=\"1\" class=\"dataframe\">\n  <thead>\n    <tr style=\"text-align: right;\">\n      <th></th>\n      <th>name</th>\n      <th>my monthly costs</th>\n      <th>Total Score</th>\n    </tr>\n  </thead>\n  <tbody>\n    <tr>\n      <th>5436</th>\n      <td>VW Golf GTE DSG (ab 08/20)</td>\n      <td>469.0</td>\n      <td>367.293033</td>\n    </tr>\n    <tr>\n      <th>5434</th>\n      <td>VW Golf 1.4 eHybrid Style DSG (ab 08/20)</td>\n      <td>439.0</td>\n      <td>365.113033</td>\n    </tr>\n    <tr>\n      <th>4128</th>\n      <td>VW Golf 2.0 TDI SCR ACTIVE DSG (ab 01/21)</td>\n      <td>434.0</td>\n      <td>355.304245</td>\n    </tr>\n    <tr>\n      <th>4129</th>\n      <td>VW Golf 2.0 TDI SCR Style DSG (ab 09/20)</td>\n      <td>446.0</td>\n      <td>355.063033</td>\n    </tr>\n    <tr>\n      <th>4133</th>\n      <td>VW Golf GTD DSG (ab 10/20)</td>\n      <td>483.0</td>\n      <td>353.559699</td>\n    </tr>\n    <tr>\n      <th>1844</th>\n      <td>VW Golf 1.5 eTSI Life DSG (ab 12/20)</td>\n      <td>441.0</td>\n      <td>353.289699</td>\n    </tr>\n    <tr>\n      <th>6321</th>\n      <td>Skoda Octavia RS Plus 2.0 TDI SCR 4x4 DSG (ab ...</td>\n      <td>536.0</td>\n      <td>351.840558</td>\n    </tr>\n    <tr>\n      <th>1839</th>\n      <td>VW Golf 1.0 eTSI Life DSG (ab 08/20)</td>\n      <td>427.0</td>\n      <td>350.829699</td>\n    </tr>\n    <tr>\n      <th>6320</th>\n      <td>Skoda Octavia RS Plus 2.0 TDI SCR DSG (ab 12/20)</td>\n      <td>513.0</td>\n      <td>350.170558</td>\n    </tr>\n    <tr>\n      <th>4130</th>\n      <td>VW Golf 2.0 TDI SCR R-Line DSG (ab 09/20)</td>\n      <td>446.0</td>\n      <td>348.929699</td>\n    </tr>\n  </tbody>\n</table>\n</div>"
     },
     "metadata": {},
     "execution_count": 5
    }
   ],
   "source": [
    "top = df.filter([Column.NAME, Column.MY_M_COSTS, Column.TOTAL_SCORE])\n",
    "top.head(10)"
   ]
  },
  {
   "cell_type": "markdown",
   "metadata": {},
   "source": [
    "## Most suitable car sorted by euro per 1 score point"
   ]
  },
  {
   "cell_type": "code",
   "execution_count": 6,
   "metadata": {},
   "outputs": [
    {
     "output_type": "execute_result",
     "data": {
      "text/plain": [
       "                                                   name  Total price  \\\n",
       "743      Renault Clio TCe 90 Intens X-tronic (ab 08/20)      21300.0   \n",
       "658   Opel Corsa 1.2 DI Turbo Elegance Automatik (ab...      23295.0   \n",
       "660   Opel Corsa 1.2 DI Turbo GS Line Automatik (ab ...      23770.0   \n",
       "2504                   Opel Corsa-e Elegance (ab 05/20)      24440.0   \n",
       "699   Peugeot 208 1.2 PureTech 100 Allure Pack EAT8 ...      23439.0   \n",
       "339       Audi A1 Sportback 25 TFSI S tronic (ab 09/20)      24885.0   \n",
       "2505                    Opel Corsa-e GS Line (ab 05/20)      25100.0   \n",
       "663   Opel Corsa 1.2 DI Turbo GS Line Automatik (ab ...      25470.0   \n",
       "746           Renault Clio E-TECH 140 Intens (ab 07/20)      25000.0   \n",
       "703   Peugeot 208 1.2 PureTech 130 Allure Pack EAT8 ...      24940.0   \n",
       "\n",
       "      Total Score  Euro per score  \n",
       "743    320.958807       66.363656  \n",
       "658    332.051639       70.154751  \n",
       "660    331.931639       71.611131  \n",
       "2504   328.751997       74.341754  \n",
       "699    312.311393       75.050096  \n",
       "339    325.769058       76.388470  \n",
       "2505   328.311997       76.451669  \n",
       "663    333.031639       76.479220  \n",
       "746    321.495474       77.761592  \n",
       "703    314.811393       79.222038  "
      ],
      "text/html": "<div>\n<style scoped>\n    .dataframe tbody tr th:only-of-type {\n        vertical-align: middle;\n    }\n\n    .dataframe tbody tr th {\n        vertical-align: top;\n    }\n\n    .dataframe thead th {\n        text-align: right;\n    }\n</style>\n<table border=\"1\" class=\"dataframe\">\n  <thead>\n    <tr style=\"text-align: right;\">\n      <th></th>\n      <th>name</th>\n      <th>Total price</th>\n      <th>Total Score</th>\n      <th>Euro per score</th>\n    </tr>\n  </thead>\n  <tbody>\n    <tr>\n      <th>743</th>\n      <td>Renault Clio TCe 90 Intens X-tronic (ab 08/20)</td>\n      <td>21300.0</td>\n      <td>320.958807</td>\n      <td>66.363656</td>\n    </tr>\n    <tr>\n      <th>658</th>\n      <td>Opel Corsa 1.2 DI Turbo Elegance Automatik (ab...</td>\n      <td>23295.0</td>\n      <td>332.051639</td>\n      <td>70.154751</td>\n    </tr>\n    <tr>\n      <th>660</th>\n      <td>Opel Corsa 1.2 DI Turbo GS Line Automatik (ab ...</td>\n      <td>23770.0</td>\n      <td>331.931639</td>\n      <td>71.611131</td>\n    </tr>\n    <tr>\n      <th>2504</th>\n      <td>Opel Corsa-e Elegance (ab 05/20)</td>\n      <td>24440.0</td>\n      <td>328.751997</td>\n      <td>74.341754</td>\n    </tr>\n    <tr>\n      <th>699</th>\n      <td>Peugeot 208 1.2 PureTech 100 Allure Pack EAT8 ...</td>\n      <td>23439.0</td>\n      <td>312.311393</td>\n      <td>75.050096</td>\n    </tr>\n    <tr>\n      <th>339</th>\n      <td>Audi A1 Sportback 25 TFSI S tronic (ab 09/20)</td>\n      <td>24885.0</td>\n      <td>325.769058</td>\n      <td>76.388470</td>\n    </tr>\n    <tr>\n      <th>2505</th>\n      <td>Opel Corsa-e GS Line (ab 05/20)</td>\n      <td>25100.0</td>\n      <td>328.311997</td>\n      <td>76.451669</td>\n    </tr>\n    <tr>\n      <th>663</th>\n      <td>Opel Corsa 1.2 DI Turbo GS Line Automatik (ab ...</td>\n      <td>25470.0</td>\n      <td>333.031639</td>\n      <td>76.479220</td>\n    </tr>\n    <tr>\n      <th>746</th>\n      <td>Renault Clio E-TECH 140 Intens (ab 07/20)</td>\n      <td>25000.0</td>\n      <td>321.495474</td>\n      <td>77.761592</td>\n    </tr>\n    <tr>\n      <th>703</th>\n      <td>Peugeot 208 1.2 PureTech 130 Allure Pack EAT8 ...</td>\n      <td>24940.0</td>\n      <td>314.811393</td>\n      <td>79.222038</td>\n    </tr>\n  </tbody>\n</table>\n</div>"
     },
     "metadata": {},
     "execution_count": 6
    }
   ],
   "source": [
    "VIEW_COLUMNS = [Column.NAME, Column.TOTAL_PRICE, Column.TOTAL_SCORE, Column.EURO_PER_SCORE]\n",
    "VIEW_LIMIT = 10\n",
    "\n",
    "top = df.filter(VIEW_COLUMNS).sort_values(Column.EURO_PER_SCORE)\n",
    "top.head(VIEW_LIMIT)"
   ]
  },
  {
   "cell_type": "markdown",
   "metadata": {},
   "source": [
    "## Compare top cars"
   ]
  },
  {
   "cell_type": "code",
   "execution_count": 7,
   "metadata": {
    "tags": []
   },
   "outputs": [
    {
     "output_type": "execute_result",
     "data": {
      "text/plain": [
       "<pandas.io.formats.style.Styler at 0x7f011fdf9e50>"
      ],
      "text/html": "<style  type=\"text/css\" >\n#T_9b375_row0_col3,#T_9b375_row0_col8,#T_9b375_row0_col18,#T_9b375_row0_col20,#T_9b375_row0_col25,#T_9b375_row0_col29,#T_9b375_row0_col33,#T_9b375_row0_col35,#T_9b375_row0_col37,#T_9b375_row0_col41,#T_9b375_row0_col43,#T_9b375_row0_col45,#T_9b375_row0_col46,#T_9b375_row0_col48,#T_9b375_row0_col50,#T_9b375_row0_col60,#T_9b375_row1_col18,#T_9b375_row1_col20,#T_9b375_row1_col25,#T_9b375_row1_col29,#T_9b375_row1_col35,#T_9b375_row1_col37,#T_9b375_row1_col38,#T_9b375_row1_col41,#T_9b375_row1_col43,#T_9b375_row1_col45,#T_9b375_row1_col46,#T_9b375_row1_col48,#T_9b375_row1_col50,#T_9b375_row2_col6,#T_9b375_row2_col8,#T_9b375_row2_col10,#T_9b375_row2_col25,#T_9b375_row2_col34,#T_9b375_row2_col35,#T_9b375_row2_col37,#T_9b375_row2_col38,#T_9b375_row2_col41,#T_9b375_row2_col43,#T_9b375_row2_col45,#T_9b375_row2_col46,#T_9b375_row2_col48,#T_9b375_row3_col18,#T_9b375_row3_col20,#T_9b375_row3_col25,#T_9b375_row3_col35,#T_9b375_row3_col37,#T_9b375_row3_col38,#T_9b375_row3_col41,#T_9b375_row3_col43,#T_9b375_row3_col45,#T_9b375_row3_col46,#T_9b375_row3_col48,#T_9b375_row4_col8,#T_9b375_row4_col18,#T_9b375_row4_col25,#T_9b375_row4_col35,#T_9b375_row4_col37,#T_9b375_row4_col41,#T_9b375_row4_col43,#T_9b375_row4_col45,#T_9b375_row4_col46,#T_9b375_row4_col48,#T_9b375_row4_col54,#T_9b375_row5_col25,#T_9b375_row5_col35,#T_9b375_row5_col37,#T_9b375_row5_col38,#T_9b375_row5_col41,#T_9b375_row5_col43,#T_9b375_row5_col45,#T_9b375_row5_col46,#T_9b375_row5_col48,#T_9b375_row5_col50,#T_9b375_row5_col53,#T_9b375_row6_col4,#T_9b375_row6_col5,#T_9b375_row6_col8,#T_9b375_row6_col9,#T_9b375_row6_col10,#T_9b375_row6_col14,#T_9b375_row6_col16,#T_9b375_row6_col18,#T_9b375_row6_col19,#T_9b375_row6_col20,#T_9b375_row6_col23,#T_9b375_row6_col28,#T_9b375_row6_col31,#T_9b375_row6_col32,#T_9b375_row6_col39,#T_9b375_row6_col40,#T_9b375_row6_col50,#T_9b375_row6_col52,#T_9b375_row6_col59,#T_9b375_row6_col61,#T_9b375_row7_col25,#T_9b375_row7_col35,#T_9b375_row7_col37,#T_9b375_row7_col38,#T_9b375_row7_col41,#T_9b375_row7_col43,#T_9b375_row7_col45,#T_9b375_row7_col46,#T_9b375_row7_col48,#T_9b375_row7_col51,#T_9b375_row7_col55,#T_9b375_row7_col56,#T_9b375_row7_col57,#T_9b375_row8_col8,#T_9b375_row8_col9,#T_9b375_row8_col10,#T_9b375_row8_col14,#T_9b375_row8_col16,#T_9b375_row8_col18,#T_9b375_row8_col19,#T_9b375_row8_col20,#T_9b375_row8_col23,#T_9b375_row8_col30,#T_9b375_row8_col31,#T_9b375_row8_col32,#T_9b375_row8_col39,#T_9b375_row8_col50,#T_9b375_row8_col52,#T_9b375_row8_col59,#T_9b375_row9_col25,#T_9b375_row9_col35,#T_9b375_row9_col37,#T_9b375_row9_col38,#T_9b375_row9_col41,#T_9b375_row9_col43,#T_9b375_row9_col45,#T_9b375_row9_col46,#T_9b375_row9_col48{\n            background-color:  #2e8b57;\n            color:  #000000;\n        }#T_9b375_row0_col4{\n            background-color:  #a1cab2;\n            color:  #000000;\n        }#T_9b375_row0_col5,#T_9b375_row1_col30,#T_9b375_row3_col55{\n            background-color:  #a2cbb3;\n            color:  #000000;\n        }#T_9b375_row0_col6,#T_9b375_row0_col34,#T_9b375_row4_col55{\n            background-color:  #b8d7c5;\n            color:  #000000;\n        }#T_9b375_row0_col7,#T_9b375_row0_col9,#T_9b375_row0_col10,#T_9b375_row0_col11,#T_9b375_row0_col12,#T_9b375_row0_col13,#T_9b375_row0_col14,#T_9b375_row0_col15,#T_9b375_row0_col16,#T_9b375_row0_col17,#T_9b375_row0_col19,#T_9b375_row0_col21,#T_9b375_row0_col22,#T_9b375_row0_col23,#T_9b375_row0_col24,#T_9b375_row0_col26,#T_9b375_row0_col27,#T_9b375_row0_col28,#T_9b375_row0_col31,#T_9b375_row0_col32,#T_9b375_row0_col36,#T_9b375_row0_col39,#T_9b375_row0_col42,#T_9b375_row0_col44,#T_9b375_row0_col47,#T_9b375_row0_col49,#T_9b375_row0_col54,#T_9b375_row0_col58,#T_9b375_row1_col7,#T_9b375_row1_col8,#T_9b375_row1_col9,#T_9b375_row1_col10,#T_9b375_row1_col11,#T_9b375_row1_col12,#T_9b375_row1_col13,#T_9b375_row1_col14,#T_9b375_row1_col15,#T_9b375_row1_col16,#T_9b375_row1_col17,#T_9b375_row1_col19,#T_9b375_row1_col21,#T_9b375_row1_col22,#T_9b375_row1_col23,#T_9b375_row1_col24,#T_9b375_row1_col26,#T_9b375_row1_col27,#T_9b375_row1_col28,#T_9b375_row1_col31,#T_9b375_row1_col32,#T_9b375_row1_col36,#T_9b375_row1_col39,#T_9b375_row1_col42,#T_9b375_row1_col44,#T_9b375_row1_col47,#T_9b375_row1_col49,#T_9b375_row1_col54,#T_9b375_row1_col58,#T_9b375_row2_col7,#T_9b375_row2_col9,#T_9b375_row2_col11,#T_9b375_row2_col12,#T_9b375_row2_col13,#T_9b375_row2_col14,#T_9b375_row2_col15,#T_9b375_row2_col16,#T_9b375_row2_col17,#T_9b375_row2_col18,#T_9b375_row2_col19,#T_9b375_row2_col20,#T_9b375_row2_col21,#T_9b375_row2_col22,#T_9b375_row2_col23,#T_9b375_row2_col24,#T_9b375_row2_col26,#T_9b375_row2_col27,#T_9b375_row2_col28,#T_9b375_row2_col31,#T_9b375_row2_col32,#T_9b375_row2_col36,#T_9b375_row2_col42,#T_9b375_row2_col44,#T_9b375_row2_col47,#T_9b375_row2_col49,#T_9b375_row2_col50,#T_9b375_row2_col53,#T_9b375_row2_col58,#T_9b375_row3_col7,#T_9b375_row3_col8,#T_9b375_row3_col9,#T_9b375_row3_col10,#T_9b375_row3_col11,#T_9b375_row3_col12,#T_9b375_row3_col13,#T_9b375_row3_col14,#T_9b375_row3_col15,#T_9b375_row3_col16,#T_9b375_row3_col17,#T_9b375_row3_col19,#T_9b375_row3_col21,#T_9b375_row3_col22,#T_9b375_row3_col23,#T_9b375_row3_col24,#T_9b375_row3_col26,#T_9b375_row3_col27,#T_9b375_row3_col28,#T_9b375_row3_col31,#T_9b375_row3_col32,#T_9b375_row3_col36,#T_9b375_row3_col42,#T_9b375_row3_col44,#T_9b375_row3_col47,#T_9b375_row3_col49,#T_9b375_row3_col50,#T_9b375_row3_col58,#T_9b375_row4_col7,#T_9b375_row4_col9,#T_9b375_row4_col10,#T_9b375_row4_col11,#T_9b375_row4_col12,#T_9b375_row4_col13,#T_9b375_row4_col14,#T_9b375_row4_col15,#T_9b375_row4_col16,#T_9b375_row4_col17,#T_9b375_row4_col19,#T_9b375_row4_col20,#T_9b375_row4_col21,#T_9b375_row4_col22,#T_9b375_row4_col23,#T_9b375_row4_col24,#T_9b375_row4_col26,#T_9b375_row4_col27,#T_9b375_row4_col28,#T_9b375_row4_col31,#T_9b375_row4_col32,#T_9b375_row4_col36,#T_9b375_row4_col42,#T_9b375_row4_col44,#T_9b375_row4_col47,#T_9b375_row4_col49,#T_9b375_row4_col51,#T_9b375_row4_col58,#T_9b375_row5_col6,#T_9b375_row5_col7,#T_9b375_row5_col8,#T_9b375_row5_col9,#T_9b375_row5_col10,#T_9b375_row5_col11,#T_9b375_row5_col12,#T_9b375_row5_col13,#T_9b375_row5_col14,#T_9b375_row5_col15,#T_9b375_row5_col16,#T_9b375_row5_col17,#T_9b375_row5_col18,#T_9b375_row5_col19,#T_9b375_row5_col20,#T_9b375_row5_col21,#T_9b375_row5_col22,#T_9b375_row5_col23,#T_9b375_row5_col24,#T_9b375_row5_col26,#T_9b375_row5_col27,#T_9b375_row5_col28,#T_9b375_row5_col29,#T_9b375_row5_col31,#T_9b375_row5_col32,#T_9b375_row5_col34,#T_9b375_row5_col36,#T_9b375_row5_col42,#T_9b375_row5_col44,#T_9b375_row5_col47,#T_9b375_row5_col49,#T_9b375_row5_col58,#T_9b375_row5_col59,#T_9b375_row6_col7,#T_9b375_row6_col11,#T_9b375_row6_col12,#T_9b375_row6_col13,#T_9b375_row6_col15,#T_9b375_row6_col17,#T_9b375_row6_col21,#T_9b375_row6_col22,#T_9b375_row6_col24,#T_9b375_row6_col25,#T_9b375_row6_col26,#T_9b375_row6_col27,#T_9b375_row6_col35,#T_9b375_row6_col36,#T_9b375_row6_col37,#T_9b375_row6_col38,#T_9b375_row6_col41,#T_9b375_row6_col42,#T_9b375_row6_col43,#T_9b375_row6_col44,#T_9b375_row6_col45,#T_9b375_row6_col46,#T_9b375_row6_col47,#T_9b375_row6_col48,#T_9b375_row6_col49,#T_9b375_row6_col55,#T_9b375_row6_col56,#T_9b375_row6_col57,#T_9b375_row6_col58,#T_9b375_row7_col3,#T_9b375_row7_col4,#T_9b375_row7_col5,#T_9b375_row7_col7,#T_9b375_row7_col8,#T_9b375_row7_col9,#T_9b375_row7_col10,#T_9b375_row7_col11,#T_9b375_row7_col12,#T_9b375_row7_col13,#T_9b375_row7_col14,#T_9b375_row7_col15,#T_9b375_row7_col16,#T_9b375_row7_col17,#T_9b375_row7_col18,#T_9b375_row7_col19,#T_9b375_row7_col20,#T_9b375_row7_col21,#T_9b375_row7_col22,#T_9b375_row7_col23,#T_9b375_row7_col24,#T_9b375_row7_col26,#T_9b375_row7_col27,#T_9b375_row7_col28,#T_9b375_row7_col29,#T_9b375_row7_col30,#T_9b375_row7_col31,#T_9b375_row7_col32,#T_9b375_row7_col33,#T_9b375_row7_col36,#T_9b375_row7_col40,#T_9b375_row7_col42,#T_9b375_row7_col44,#T_9b375_row7_col47,#T_9b375_row7_col49,#T_9b375_row7_col52,#T_9b375_row7_col54,#T_9b375_row7_col58,#T_9b375_row7_col59,#T_9b375_row7_col61,#T_9b375_row8_col7,#T_9b375_row8_col11,#T_9b375_row8_col12,#T_9b375_row8_col13,#T_9b375_row8_col15,#T_9b375_row8_col17,#T_9b375_row8_col21,#T_9b375_row8_col22,#T_9b375_row8_col24,#T_9b375_row8_col25,#T_9b375_row8_col26,#T_9b375_row8_col27,#T_9b375_row8_col28,#T_9b375_row8_col35,#T_9b375_row8_col36,#T_9b375_row8_col37,#T_9b375_row8_col38,#T_9b375_row8_col41,#T_9b375_row8_col42,#T_9b375_row8_col44,#T_9b375_row8_col45,#T_9b375_row8_col46,#T_9b375_row8_col47,#T_9b375_row8_col48,#T_9b375_row8_col49,#T_9b375_row8_col58,#T_9b375_row9_col7,#T_9b375_row9_col8,#T_9b375_row9_col9,#T_9b375_row9_col10,#T_9b375_row9_col11,#T_9b375_row9_col12,#T_9b375_row9_col13,#T_9b375_row9_col14,#T_9b375_row9_col15,#T_9b375_row9_col16,#T_9b375_row9_col17,#T_9b375_row9_col18,#T_9b375_row9_col19,#T_9b375_row9_col20,#T_9b375_row9_col21,#T_9b375_row9_col22,#T_9b375_row9_col23,#T_9b375_row9_col24,#T_9b375_row9_col26,#T_9b375_row9_col27,#T_9b375_row9_col28,#T_9b375_row9_col31,#T_9b375_row9_col32,#T_9b375_row9_col36,#T_9b375_row9_col42,#T_9b375_row9_col44,#T_9b375_row9_col47,#T_9b375_row9_col49,#T_9b375_row9_col50,#T_9b375_row9_col58,#T_9b375_row9_col60{\n            background-color:  #ebf3ed;\n            color:  #000000;\n        }#T_9b375_row0_col30{\n            background-color:  #8ebfa3;\n            color:  #000000;\n        }#T_9b375_row0_col38,#T_9b375_row4_col38{\n            background-color:  #2f8b58;\n            color:  #000000;\n        }#T_9b375_row0_col40,#T_9b375_row2_col39,#T_9b375_row2_col40,#T_9b375_row3_col39,#T_9b375_row3_col52,#T_9b375_row4_col60,#T_9b375_row5_col39,#T_9b375_row7_col39,#T_9b375_row9_col39,#T_9b375_row9_col52{\n            background-color:  #bcd9c8;\n            color:  #000000;\n        }#T_9b375_row0_col51,#T_9b375_row1_col51,#T_9b375_row6_col34{\n            background-color:  #75b290;\n            color:  #000000;\n        }#T_9b375_row0_col52{\n            background-color:  #6cad88;\n            color:  #000000;\n        }#T_9b375_row0_col53,#T_9b375_row1_col52{\n            background-color:  #91c1a6;\n            color:  #000000;\n        }#T_9b375_row0_col55{\n            background-color:  #59a379;\n            color:  #000000;\n        }#T_9b375_row0_col56{\n            background-color:  #77b391;\n            color:  #000000;\n        }#T_9b375_row0_col57{\n            background-color:  #78b492;\n            color:  #000000;\n        }#T_9b375_row0_col59{\n            background-color:  #8bbea1;\n            color:  #000000;\n        }#T_9b375_row0_col61{\n            background-color:  #b3d4c1;\n            color:  #000000;\n        }#T_9b375_row1_col3{\n            background-color:  #67aa84;\n            color:  #000000;\n        }#T_9b375_row1_col4,#T_9b375_row4_col52{\n            background-color:  #a9ceb9;\n            color:  #000000;\n        }#T_9b375_row1_col5{\n            background-color:  #d6e7dd;\n            color:  #000000;\n        }#T_9b375_row1_col6,#T_9b375_row1_col34{\n            background-color:  #37905e;\n            color:  #000000;\n        }#T_9b375_row1_col33,#T_9b375_row8_col33{\n            background-color:  #539f74;\n            color:  #000000;\n        }#T_9b375_row1_col40,#T_9b375_row3_col40,#T_9b375_row4_col40,#T_9b375_row5_col40,#T_9b375_row9_col40{\n            background-color:  #8cbfa2;\n            color:  #000000;\n        }#T_9b375_row1_col53,#T_9b375_row8_col55{\n            background-color:  #d0e4d8;\n            color:  #000000;\n        }#T_9b375_row1_col55{\n            background-color:  #57a278;\n            color:  #000000;\n        }#T_9b375_row1_col56,#T_9b375_row4_col33{\n            background-color:  #439667;\n            color:  #000000;\n        }#T_9b375_row1_col57{\n            background-color:  #70af8b;\n            color:  #000000;\n        }#T_9b375_row1_col59,#T_9b375_row3_col59,#T_9b375_row9_col59{\n            background-color:  #e1ede5;\n            color:  #000000;\n        }#T_9b375_row1_col60{\n            background-color:  #449769;\n            color:  #000000;\n        }#T_9b375_row1_col61{\n            background-color:  #b9d7c6;\n            color:  #000000;\n        }#T_9b375_row2_col3,#T_9b375_row3_col3,#T_9b375_row9_col3{\n            background-color:  #b4d5c2;\n            color:  #000000;\n        }#T_9b375_row2_col4{\n            background-color:  #9bc7ae;\n            color:  #000000;\n        }#T_9b375_row2_col5{\n            background-color:  #dfece4;\n            color:  #000000;\n        }#T_9b375_row2_col29,#T_9b375_row3_col29,#T_9b375_row4_col29,#T_9b375_row6_col29,#T_9b375_row8_col29,#T_9b375_row9_col29{\n            background-color:  #7ab493;\n            color:  #000000;\n        }#T_9b375_row2_col30,#T_9b375_row3_col30,#T_9b375_row9_col30{\n            background-color:  #96c4aa;\n            color:  #000000;\n        }#T_9b375_row2_col33,#T_9b375_row2_col61,#T_9b375_row3_col33,#T_9b375_row9_col33{\n            background-color:  #9fc9b1;\n            color:  #000000;\n        }#T_9b375_row2_col51,#T_9b375_row3_col51,#T_9b375_row6_col51,#T_9b375_row8_col51,#T_9b375_row9_col51{\n            background-color:  #a0cab2;\n            color:  #000000;\n        }#T_9b375_row2_col52,#T_9b375_row5_col5,#T_9b375_row8_col57{\n            background-color:  #d3e6da;\n            color:  #000000;\n        }#T_9b375_row2_col54,#T_9b375_row3_col54,#T_9b375_row6_col53,#T_9b375_row6_col54,#T_9b375_row7_col53,#T_9b375_row9_col54{\n            background-color:  #5aa37a;\n            color:  #000000;\n        }#T_9b375_row2_col55,#T_9b375_row3_col4{\n            background-color:  #95c3a9;\n            color:  #000000;\n        }#T_9b375_row2_col56{\n            background-color:  #3a9160;\n            color:  #000000;\n        }#T_9b375_row2_col57{\n            background-color:  #7eb797;\n            color:  #000000;\n        }#T_9b375_row2_col59{\n            background-color:  #96c4a9;\n            color:  #000000;\n        }#T_9b375_row2_col60{\n            background-color:  #aacfb9;\n            color:  #000000;\n        }#T_9b375_row3_col5,#T_9b375_row9_col5{\n            background-color:  #cae1d3;\n            color:  #000000;\n        }#T_9b375_row3_col6,#T_9b375_row3_col34,#T_9b375_row4_col30,#T_9b375_row9_col6,#T_9b375_row9_col34{\n            background-color:  #3e9463;\n            color:  #000000;\n        }#T_9b375_row3_col53,#T_9b375_row9_col53{\n            background-color:  #e3eee7;\n            color:  #000000;\n        }#T_9b375_row3_col56,#T_9b375_row9_col56{\n            background-color:  #4f9d71;\n            color:  #000000;\n        }#T_9b375_row3_col57{\n            background-color:  #84ba9b;\n            color:  #000000;\n        }#T_9b375_row3_col60{\n            background-color:  #acd0bb;\n            color:  #000000;\n        }#T_9b375_row3_col61{\n            background-color:  #99c6ac;\n            color:  #000000;\n        }#T_9b375_row4_col3,#T_9b375_row6_col3,#T_9b375_row8_col3{\n            background-color:  #6dae89;\n            color:  #000000;\n        }#T_9b375_row4_col4{\n            background-color:  #73b18e;\n            color:  #000000;\n        }#T_9b375_row4_col5{\n            background-color:  #8abda0;\n            color:  #000000;\n        }#T_9b375_row4_col6,#T_9b375_row4_col34{\n            background-color:  #8ec0a4;\n            color:  #000000;\n        }#T_9b375_row4_col39{\n            background-color:  #bedac9;\n            color:  #000000;\n        }#T_9b375_row4_col50,#T_9b375_row7_col50{\n            background-color:  #a3cbb4;\n            color:  #000000;\n        }#T_9b375_row4_col53{\n            background-color:  #88bc9e;\n            color:  #000000;\n        }#T_9b375_row4_col56{\n            background-color:  #8fc0a4;\n            color:  #000000;\n        }#T_9b375_row4_col57{\n            background-color:  #a6cdb6;\n            color:  #000000;\n        }#T_9b375_row4_col59{\n            background-color:  #a4ccb5;\n            color:  #000000;\n        }#T_9b375_row4_col61,#T_9b375_row6_col6{\n            background-color:  #76b290;\n            color:  #000000;\n        }#T_9b375_row5_col3{\n            background-color:  #cfe3d7;\n            color:  #000000;\n        }#T_9b375_row5_col4{\n            background-color:  #d7e8dd;\n            color:  #000000;\n        }#T_9b375_row5_col30{\n            background-color:  #bfdbca;\n            color:  #000000;\n        }#T_9b375_row5_col33{\n            background-color:  #c0dbcb;\n            color:  #000000;\n        }#T_9b375_row5_col51{\n            background-color:  #4c9c6f;\n            color:  #000000;\n        }#T_9b375_row5_col52{\n            background-color:  #e7f0ea;\n            color:  #000000;\n        }#T_9b375_row5_col54{\n            background-color:  #e1ede6;\n            color:  #000000;\n        }#T_9b375_row5_col55{\n            background-color:  #3b9261;\n            color:  #000000;\n        }#T_9b375_row5_col56,#T_9b375_row6_col30,#T_9b375_row8_col4{\n            background-color:  #46986a;\n            color:  #000000;\n        }#T_9b375_row5_col57{\n            background-color:  #429667;\n            color:  #000000;\n        }#T_9b375_row5_col60{\n            background-color:  #bfdaca;\n            color:  #000000;\n        }#T_9b375_row5_col61{\n            background-color:  #d9e9df;\n            color:  #000000;\n        }#T_9b375_row6_col33{\n            background-color:  #338e5b;\n            color:  #000000;\n        }#T_9b375_row6_col60{\n            background-color:  #cde2d6;\n            color:  #000000;\n        }#T_9b375_row7_col6,#T_9b375_row7_col34{\n            background-color:  #cde2d5;\n            color:  #000000;\n        }#T_9b375_row7_col60{\n            background-color:  #d8e8de;\n            color:  #000000;\n        }#T_9b375_row8_col5{\n            background-color:  #56a177;\n            color:  #000000;\n        }#T_9b375_row8_col6,#T_9b375_row8_col54{\n            background-color:  #69ab86;\n            color:  #000000;\n        }#T_9b375_row8_col34{\n            background-color:  #68ab85;\n            color:  #000000;\n        }#T_9b375_row8_col40{\n            background-color:  #5da57c;\n            color:  #000000;\n        }#T_9b375_row8_col43{\n            background-color:  #e6f0e9;\n            color:  #000000;\n        }#T_9b375_row8_col53{\n            background-color:  #b6d5c3;\n            color:  #000000;\n        }#T_9b375_row8_col56{\n            background-color:  #c4ddce;\n            color:  #000000;\n        }#T_9b375_row8_col60{\n            background-color:  #deece3;\n            color:  #000000;\n        }#T_9b375_row8_col61{\n            background-color:  #439768;\n            color:  #000000;\n        }#T_9b375_row9_col4{\n            background-color:  #93c2a7;\n            color:  #000000;\n        }#T_9b375_row9_col55{\n            background-color:  #a5ccb5;\n            color:  #000000;\n        }#T_9b375_row9_col57{\n            background-color:  #86bb9d;\n            color:  #000000;\n        }#T_9b375_row9_col61{\n            background-color:  #90c1a5;\n            color:  #000000;\n        }</style><table id=\"T_9b375_\" ><thead>    <tr>        <th class=\"blank level0\" ></th>        <th class=\"col_heading level0 col0\" >name</th>        <th class=\"col_heading level0 col1\" >Marke</th>        <th class=\"col_heading level0 col2\" >Baureihe</th>        <th class=\"col_heading level0 col3\" >Leistung maximal in kW (Systemleistung)</th>        <th class=\"col_heading level0 col4\" >Total price</th>        <th class=\"col_heading level0 col5\" >my monthly costs</th>        <th class=\"col_heading level0 col6\" >Range</th>        <th class=\"col_heading level0 col7\" >AEB pedestrian</th>        <th class=\"col_heading level0 col8\" >navi </th>        <th class=\"col_heading level0 col9\" >active headrest</th>        <th class=\"col_heading level0 col10\" >light autoswitch</th>        <th class=\"col_heading level0 col11\" >car2x</th>        <th class=\"col_heading level0 col12\" >Bremsassistent</th>        <th class=\"col_heading level0 col13\" >lane keep assist active</th>        <th class=\"col_heading level0 col14\" >autoparking</th>        <th class=\"col_heading level0 col15\" >LED lights</th>        <th class=\"col_heading level0 col16\" >adaptive lights</th>        <th class=\"col_heading level0 col17\" >traffic sign recognition</th>        <th class=\"col_heading level0 col18\" >AEB</th>        <th class=\"col_heading level0 col19\" >rear traffic alert</th>        <th class=\"col_heading level0 col20\" >Traffic jam</th>        <th class=\"col_heading level0 col21\" >LED matrix</th>        <th class=\"col_heading level0 col22\" >keyless</th>        <th class=\"col_heading level0 col23\" >Camera, 360, front, back</th>        <th class=\"col_heading level0 col24\" >adaptive cruise from 0 km</th>        <th class=\"col_heading level0 col25\" >safe, euroncap, iihs</th>        <th class=\"col_heading level0 col26\" >plugin hybrid</th>        <th class=\"col_heading level0 col27\" >automat not CVT</th>        <th class=\"col_heading level0 col28\" >4x4</th>        <th class=\"col_heading level0 col29\" >plugin hybrid 2</th>        <th class=\"col_heading level0 col30\" >Top speed</th>        <th class=\"col_heading level0 col31\" >km77 elktest</th>        <th class=\"col_heading level0 col32\" >testberichte</th>        <th class=\"col_heading level0 col33\" >Acceleration <10</th>        <th class=\"col_heading level0 col34\" >range up to 1000 km per tank</th>        <th class=\"col_heading level0 col35\" >side mirrors on door</th>        <th class=\"col_heading level0 col36\" >door till ground</th>        <th class=\"col_heading level0 col37\" >license on back bumper</th>        <th class=\"col_heading level0 col38\" >small length</th>        <th class=\"col_heading level0 col39\" >boot size,Fit 156 snowboard </th>        <th class=\"col_heading level0 col40\" >noise</th>        <th class=\"col_heading level0 col41\" >acc with buttons</th>        <th class=\"col_heading level0 col42\" >no piano black</th>        <th class=\"col_heading level0 col43\" >easy entry(clearance or height of seats)</th>        <th class=\"col_heading level0 col44\" >digital speed</th>        <th class=\"col_heading level0 col45\" >HIFI audio</th>        <th class=\"col_heading level0 col46\" >white seats</th>        <th class=\"col_heading level0 col47\" >interior</th>        <th class=\"col_heading level0 col48\" >mobile warranty</th>        <th class=\"col_heading level0 col49\" >Garantie y</th>        <th class=\"col_heading level0 col50\" >Insurance 1</th>        <th class=\"col_heading level0 col51\" >Insurance 2</th>        <th class=\"col_heading level0 col52\" >Costs service</th>        <th class=\"col_heading level0 col53\" >Costs running</th>        <th class=\"col_heading level0 col54\" >Costs fixed</th>        <th class=\"col_heading level0 col55\" >Costs depreciation</th>        <th class=\"col_heading level0 col56\" >monthly costs</th>        <th class=\"col_heading level0 col57\" >price</th>        <th class=\"col_heading level0 col58\" >AGR</th>        <th class=\"col_heading level0 col59\" >ADAC additional equipment</th>        <th class=\"col_heading level0 col60\" >Total Score</th>        <th class=\"col_heading level0 col61\" >Euro per score</th>    </tr></thead><tbody>\n                <tr>\n                        <th id=\"T_9b375_level0_row0\" class=\"row_heading level0 row0\" >5436</th>\n                        <td id=\"T_9b375_row0_col0\" class=\"data row0 col0\" >VW Golf GTE DSG (ab 08/20)</td>\n                        <td id=\"T_9b375_row0_col1\" class=\"data row0 col1\" >VW</td>\n                        <td id=\"T_9b375_row0_col2\" class=\"data row0 col2\" >Golf (VIII) GTE (ab 08/20)</td>\n                        <td id=\"T_9b375_row0_col3\" class=\"data row0 col3\" >180</td>\n                        <td id=\"T_9b375_row0_col4\" class=\"data row0 col4\" >37505.000000</td>\n                        <td id=\"T_9b375_row0_col5\" class=\"data row0 col5\" >469.000000</td>\n                        <td id=\"T_9b375_row0_col6\" class=\"data row0 col6\" >897.730000</td>\n                        <td id=\"T_9b375_row0_col7\" class=\"data row0 col7\" >5.000000</td>\n                        <td id=\"T_9b375_row0_col8\" class=\"data row0 col8\" >3.000000</td>\n                        <td id=\"T_9b375_row0_col9\" class=\"data row0 col9\" >0.000000</td>\n                        <td id=\"T_9b375_row0_col10\" class=\"data row0 col10\" >4.545455</td>\n                        <td id=\"T_9b375_row0_col11\" class=\"data row0 col11\" >5.000000</td>\n                        <td id=\"T_9b375_row0_col12\" class=\"data row0 col12\" >10.000000</td>\n                        <td id=\"T_9b375_row0_col13\" class=\"data row0 col13\" >10.000000</td>\n                        <td id=\"T_9b375_row0_col14\" class=\"data row0 col14\" >1.500000</td>\n                        <td id=\"T_9b375_row0_col15\" class=\"data row0 col15\" >10.000000</td>\n                        <td id=\"T_9b375_row0_col16\" class=\"data row0 col16\" >6.666667</td>\n                        <td id=\"T_9b375_row0_col17\" class=\"data row0 col17\" >10.000000</td>\n                        <td id=\"T_9b375_row0_col18\" class=\"data row0 col18\" >10.000000</td>\n                        <td id=\"T_9b375_row0_col19\" class=\"data row0 col19\" >6.666667</td>\n                        <td id=\"T_9b375_row0_col20\" class=\"data row0 col20\" >10.000000</td>\n                        <td id=\"T_9b375_row0_col21\" class=\"data row0 col21\" >10.000000</td>\n                        <td id=\"T_9b375_row0_col22\" class=\"data row0 col22\" >10.000000</td>\n                        <td id=\"T_9b375_row0_col23\" class=\"data row0 col23\" >4.285714</td>\n                        <td id=\"T_9b375_row0_col24\" class=\"data row0 col24\" >10.000000</td>\n                        <td id=\"T_9b375_row0_col25\" class=\"data row0 col25\" >18.600000</td>\n                        <td id=\"T_9b375_row0_col26\" class=\"data row0 col26\" >0</td>\n                        <td id=\"T_9b375_row0_col27\" class=\"data row0 col27\" >6.666667</td>\n                        <td id=\"T_9b375_row0_col28\" class=\"data row0 col28\" >1.250000</td>\n                        <td id=\"T_9b375_row0_col29\" class=\"data row0 col29\" >7.000000</td>\n                        <td id=\"T_9b375_row0_col30\" class=\"data row0 col30\" >3.210000</td>\n                        <td id=\"T_9b375_row0_col31\" class=\"data row0 col31\" >5.330000</td>\n                        <td id=\"T_9b375_row0_col32\" class=\"data row0 col32\" >2.870000</td>\n                        <td id=\"T_9b375_row0_col33\" class=\"data row0 col33\" >7.120000</td>\n                        <td id=\"T_9b375_row0_col34\" class=\"data row0 col34\" >9.140000</td>\n                        <td id=\"T_9b375_row0_col35\" class=\"data row0 col35\" >5.000000</td>\n                        <td id=\"T_9b375_row0_col36\" class=\"data row0 col36\" >0.000000</td>\n                        <td id=\"T_9b375_row0_col37\" class=\"data row0 col37\" >5.000000</td>\n                        <td id=\"T_9b375_row0_col38\" class=\"data row0 col38\" >3.540000</td>\n                        <td id=\"T_9b375_row0_col39\" class=\"data row0 col39\" >0.760000</td>\n                        <td id=\"T_9b375_row0_col40\" class=\"data row0 col40\" >7.500000</td>\n                        <td id=\"T_9b375_row0_col41\" class=\"data row0 col41\" >5.000000</td>\n                        <td id=\"T_9b375_row0_col42\" class=\"data row0 col42\" >3.330000</td>\n                        <td id=\"T_9b375_row0_col43\" class=\"data row0 col43\" >5.400000</td>\n                        <td id=\"T_9b375_row0_col44\" class=\"data row0 col44\" >5.000000</td>\n                        <td id=\"T_9b375_row0_col45\" class=\"data row0 col45\" >6.670000</td>\n                        <td id=\"T_9b375_row0_col46\" class=\"data row0 col46\" >5.000000</td>\n                        <td id=\"T_9b375_row0_col47\" class=\"data row0 col47\" >6.670000</td>\n                        <td id=\"T_9b375_row0_col48\" class=\"data row0 col48\" >9.677419</td>\n                        <td id=\"T_9b375_row0_col49\" class=\"data row0 col49\" >4.444444</td>\n                        <td id=\"T_9b375_row0_col50\" class=\"data row0 col50\" >11.470000</td>\n                        <td id=\"T_9b375_row0_col51\" class=\"data row0 col51\" >11.050000</td>\n                        <td id=\"T_9b375_row0_col52\" class=\"data row0 col52\" >6.400000</td>\n                        <td id=\"T_9b375_row0_col53\" class=\"data row0 col53\" >4.470000</td>\n                        <td id=\"T_9b375_row0_col54\" class=\"data row0 col54\" >2.620000</td>\n                        <td id=\"T_9b375_row0_col55\" class=\"data row0 col55\" >6.420000</td>\n                        <td id=\"T_9b375_row0_col56\" class=\"data row0 col56\" >21.150000</td>\n                        <td id=\"T_9b375_row0_col57\" class=\"data row0 col57\" >25.100000</td>\n                        <td id=\"T_9b375_row0_col58\" class=\"data row0 col58\" >2.500000</td>\n                        <td id=\"T_9b375_row0_col59\" class=\"data row0 col59\" >15.270000</td>\n                        <td id=\"T_9b375_row0_col60\" class=\"data row0 col60\" >367.293033</td>\n                        <td id=\"T_9b375_row0_col61\" class=\"data row0 col61\" >102.111929</td>\n            </tr>\n            <tr>\n                        <th id=\"T_9b375_level0_row1\" class=\"row_heading level0 row1\" >5434</th>\n                        <td id=\"T_9b375_row1_col0\" class=\"data row1 col0\" >VW Golf 1.4 eHybrid Style DSG (ab 08/20)</td>\n                        <td id=\"T_9b375_row1_col1\" class=\"data row1 col1\" >VW</td>\n                        <td id=\"T_9b375_row1_col2\" class=\"data row1 col2\" >Golf (VIII) (ab 12/19)</td>\n                        <td id=\"T_9b375_row1_col3\" class=\"data row1 col3\" >150</td>\n                        <td id=\"T_9b375_row1_col4\" class=\"data row1 col4\" >36770.000000</td>\n                        <td id=\"T_9b375_row1_col5\" class=\"data row1 col5\" >439.000000</td>\n                        <td id=\"T_9b375_row1_col6\" class=\"data row1 col6\" >1097.220000</td>\n                        <td id=\"T_9b375_row1_col7\" class=\"data row1 col7\" >5.000000</td>\n                        <td id=\"T_9b375_row1_col8\" class=\"data row1 col8\" >1.000000</td>\n                        <td id=\"T_9b375_row1_col9\" class=\"data row1 col9\" >0.000000</td>\n                        <td id=\"T_9b375_row1_col10\" class=\"data row1 col10\" >4.545455</td>\n                        <td id=\"T_9b375_row1_col11\" class=\"data row1 col11\" >5.000000</td>\n                        <td id=\"T_9b375_row1_col12\" class=\"data row1 col12\" >10.000000</td>\n                        <td id=\"T_9b375_row1_col13\" class=\"data row1 col13\" >10.000000</td>\n                        <td id=\"T_9b375_row1_col14\" class=\"data row1 col14\" >1.500000</td>\n                        <td id=\"T_9b375_row1_col15\" class=\"data row1 col15\" >10.000000</td>\n                        <td id=\"T_9b375_row1_col16\" class=\"data row1 col16\" >6.666667</td>\n                        <td id=\"T_9b375_row1_col17\" class=\"data row1 col17\" >10.000000</td>\n                        <td id=\"T_9b375_row1_col18\" class=\"data row1 col18\" >10.000000</td>\n                        <td id=\"T_9b375_row1_col19\" class=\"data row1 col19\" >6.666667</td>\n                        <td id=\"T_9b375_row1_col20\" class=\"data row1 col20\" >10.000000</td>\n                        <td id=\"T_9b375_row1_col21\" class=\"data row1 col21\" >10.000000</td>\n                        <td id=\"T_9b375_row1_col22\" class=\"data row1 col22\" >10.000000</td>\n                        <td id=\"T_9b375_row1_col23\" class=\"data row1 col23\" >4.285714</td>\n                        <td id=\"T_9b375_row1_col24\" class=\"data row1 col24\" >10.000000</td>\n                        <td id=\"T_9b375_row1_col25\" class=\"data row1 col25\" >18.600000</td>\n                        <td id=\"T_9b375_row1_col26\" class=\"data row1 col26\" >0</td>\n                        <td id=\"T_9b375_row1_col27\" class=\"data row1 col27\" >6.666667</td>\n                        <td id=\"T_9b375_row1_col28\" class=\"data row1 col28\" >1.250000</td>\n                        <td id=\"T_9b375_row1_col29\" class=\"data row1 col29\" >7.000000</td>\n                        <td id=\"T_9b375_row1_col30\" class=\"data row1 col30\" >2.990000</td>\n                        <td id=\"T_9b375_row1_col31\" class=\"data row1 col31\" >5.330000</td>\n                        <td id=\"T_9b375_row1_col32\" class=\"data row1 col32\" >2.870000</td>\n                        <td id=\"T_9b375_row1_col33\" class=\"data row1 col33\" >6.250000</td>\n                        <td id=\"T_9b375_row1_col34\" class=\"data row1 col34\" >11.590000</td>\n                        <td id=\"T_9b375_row1_col35\" class=\"data row1 col35\" >5.000000</td>\n                        <td id=\"T_9b375_row1_col36\" class=\"data row1 col36\" >0.000000</td>\n                        <td id=\"T_9b375_row1_col37\" class=\"data row1 col37\" >5.000000</td>\n                        <td id=\"T_9b375_row1_col38\" class=\"data row1 col38\" >3.550000</td>\n                        <td id=\"T_9b375_row1_col39\" class=\"data row1 col39\" >0.760000</td>\n                        <td id=\"T_9b375_row1_col40\" class=\"data row1 col40\" >9.000000</td>\n                        <td id=\"T_9b375_row1_col41\" class=\"data row1 col41\" >5.000000</td>\n                        <td id=\"T_9b375_row1_col42\" class=\"data row1 col42\" >3.330000</td>\n                        <td id=\"T_9b375_row1_col43\" class=\"data row1 col43\" >5.400000</td>\n                        <td id=\"T_9b375_row1_col44\" class=\"data row1 col44\" >5.000000</td>\n                        <td id=\"T_9b375_row1_col45\" class=\"data row1 col45\" >6.670000</td>\n                        <td id=\"T_9b375_row1_col46\" class=\"data row1 col46\" >5.000000</td>\n                        <td id=\"T_9b375_row1_col47\" class=\"data row1 col47\" >6.670000</td>\n                        <td id=\"T_9b375_row1_col48\" class=\"data row1 col48\" >9.677419</td>\n                        <td id=\"T_9b375_row1_col49\" class=\"data row1 col49\" >4.444444</td>\n                        <td id=\"T_9b375_row1_col50\" class=\"data row1 col50\" >11.470000</td>\n                        <td id=\"T_9b375_row1_col51\" class=\"data row1 col51\" >11.050000</td>\n                        <td id=\"T_9b375_row1_col52\" class=\"data row1 col52\" >4.940000</td>\n                        <td id=\"T_9b375_row1_col53\" class=\"data row1 col53\" >3.460000</td>\n                        <td id=\"T_9b375_row1_col54\" class=\"data row1 col54\" >2.620000</td>\n                        <td id=\"T_9b375_row1_col55\" class=\"data row1 col55\" >6.450000</td>\n                        <td id=\"T_9b375_row1_col56\" class=\"data row1 col56\" >23.720000</td>\n                        <td id=\"T_9b375_row1_col57\" class=\"data row1 col57\" >26.230000</td>\n                        <td id=\"T_9b375_row1_col58\" class=\"data row1 col58\" >2.500000</td>\n                        <td id=\"T_9b375_row1_col59\" class=\"data row1 col59\" >10.960000</td>\n                        <td id=\"T_9b375_row1_col60\" class=\"data row1 col60\" >365.113033</td>\n                        <td id=\"T_9b375_row1_col61\" class=\"data row1 col61\" >100.708539</td>\n            </tr>\n            <tr>\n                        <th id=\"T_9b375_level0_row2\" class=\"row_heading level0 row2\" >4128</th>\n                        <td id=\"T_9b375_row2_col0\" class=\"data row2 col0\" >VW Golf 2.0 TDI SCR ACTIVE DSG (ab 01/21)</td>\n                        <td id=\"T_9b375_row2_col1\" class=\"data row2 col1\" >VW</td>\n                        <td id=\"T_9b375_row2_col2\" class=\"data row2 col2\" >Golf (VIII) (ab 12/19)</td>\n                        <td id=\"T_9b375_row2_col3\" class=\"data row2 col3\" >110</td>\n                        <td id=\"T_9b375_row2_col4\" class=\"data row2 col4\" >38035.000000</td>\n                        <td id=\"T_9b375_row2_col5\" class=\"data row2 col5\" >434.000000</td>\n                        <td id=\"T_9b375_row2_col6\" class=\"data row2 col6\" >1111.110000</td>\n                        <td id=\"T_9b375_row2_col7\" class=\"data row2 col7\" >5.000000</td>\n                        <td id=\"T_9b375_row2_col8\" class=\"data row2 col8\" >3.000000</td>\n                        <td id=\"T_9b375_row2_col9\" class=\"data row2 col9\" >0.000000</td>\n                        <td id=\"T_9b375_row2_col10\" class=\"data row2 col10\" >5.000000</td>\n                        <td id=\"T_9b375_row2_col11\" class=\"data row2 col11\" >5.000000</td>\n                        <td id=\"T_9b375_row2_col12\" class=\"data row2 col12\" >10.000000</td>\n                        <td id=\"T_9b375_row2_col13\" class=\"data row2 col13\" >10.000000</td>\n                        <td id=\"T_9b375_row2_col14\" class=\"data row2 col14\" >1.500000</td>\n                        <td id=\"T_9b375_row2_col15\" class=\"data row2 col15\" >10.000000</td>\n                        <td id=\"T_9b375_row2_col16\" class=\"data row2 col16\" >6.666667</td>\n                        <td id=\"T_9b375_row2_col17\" class=\"data row2 col17\" >10.000000</td>\n                        <td id=\"T_9b375_row2_col18\" class=\"data row2 col18\" >7.500000</td>\n                        <td id=\"T_9b375_row2_col19\" class=\"data row2 col19\" >6.666667</td>\n                        <td id=\"T_9b375_row2_col20\" class=\"data row2 col20\" >6.666667</td>\n                        <td id=\"T_9b375_row2_col21\" class=\"data row2 col21\" >10.000000</td>\n                        <td id=\"T_9b375_row2_col22\" class=\"data row2 col22\" >10.000000</td>\n                        <td id=\"T_9b375_row2_col23\" class=\"data row2 col23\" >4.285714</td>\n                        <td id=\"T_9b375_row2_col24\" class=\"data row2 col24\" >10.000000</td>\n                        <td id=\"T_9b375_row2_col25\" class=\"data row2 col25\" >18.600000</td>\n                        <td id=\"T_9b375_row2_col26\" class=\"data row2 col26\" >0</td>\n                        <td id=\"T_9b375_row2_col27\" class=\"data row2 col27\" >6.666667</td>\n                        <td id=\"T_9b375_row2_col28\" class=\"data row2 col28\" >1.250000</td>\n                        <td id=\"T_9b375_row2_col29\" class=\"data row2 col29\" >4.200000</td>\n                        <td id=\"T_9b375_row2_col30\" class=\"data row2 col30\" >3.120000</td>\n                        <td id=\"T_9b375_row2_col31\" class=\"data row2 col31\" >5.330000</td>\n                        <td id=\"T_9b375_row2_col32\" class=\"data row2 col32\" >2.870000</td>\n                        <td id=\"T_9b375_row2_col33\" class=\"data row2 col33\" >4.500000</td>\n                        <td id=\"T_9b375_row2_col34\" class=\"data row2 col34\" >11.760000</td>\n                        <td id=\"T_9b375_row2_col35\" class=\"data row2 col35\" >5.000000</td>\n                        <td id=\"T_9b375_row2_col36\" class=\"data row2 col36\" >0.000000</td>\n                        <td id=\"T_9b375_row2_col37\" class=\"data row2 col37\" >5.000000</td>\n                        <td id=\"T_9b375_row2_col38\" class=\"data row2 col38\" >3.550000</td>\n                        <td id=\"T_9b375_row2_col39\" class=\"data row2 col39\" >1.250000</td>\n                        <td id=\"T_9b375_row2_col40\" class=\"data row2 col40\" >7.500000</td>\n                        <td id=\"T_9b375_row2_col41\" class=\"data row2 col41\" >5.000000</td>\n                        <td id=\"T_9b375_row2_col42\" class=\"data row2 col42\" >3.330000</td>\n                        <td id=\"T_9b375_row2_col43\" class=\"data row2 col43\" >5.400000</td>\n                        <td id=\"T_9b375_row2_col44\" class=\"data row2 col44\" >5.000000</td>\n                        <td id=\"T_9b375_row2_col45\" class=\"data row2 col45\" >6.670000</td>\n                        <td id=\"T_9b375_row2_col46\" class=\"data row2 col46\" >5.000000</td>\n                        <td id=\"T_9b375_row2_col47\" class=\"data row2 col47\" >6.670000</td>\n                        <td id=\"T_9b375_row2_col48\" class=\"data row2 col48\" >9.677419</td>\n                        <td id=\"T_9b375_row2_col49\" class=\"data row2 col49\" >4.444444</td>\n                        <td id=\"T_9b375_row2_col50\" class=\"data row2 col50\" >7.890000</td>\n                        <td id=\"T_9b375_row2_col51\" class=\"data row2 col51\" >10.060000</td>\n                        <td id=\"T_9b375_row2_col52\" class=\"data row2 col52\" >2.380000</td>\n                        <td id=\"T_9b375_row2_col53\" class=\"data row2 col53\" >3.030000</td>\n                        <td id=\"T_9b375_row2_col54\" class=\"data row2 col54\" >8.060000</td>\n                        <td id=\"T_9b375_row2_col55\" class=\"data row2 col55\" >5.150000</td>\n                        <td id=\"T_9b375_row2_col56\" class=\"data row2 col56\" >24.150000</td>\n                        <td id=\"T_9b375_row2_col57\" class=\"data row2 col57\" >24.280000</td>\n                        <td id=\"T_9b375_row2_col58\" class=\"data row2 col58\" >2.500000</td>\n                        <td id=\"T_9b375_row2_col59\" class=\"data row2 col59\" >14.730000</td>\n                        <td id=\"T_9b375_row2_col60\" class=\"data row2 col60\" >355.304245</td>\n                        <td id=\"T_9b375_row2_col61\" class=\"data row2 col61\" >107.049101</td>\n            </tr>\n            <tr>\n                        <th id=\"T_9b375_level0_row3\" class=\"row_heading level0 row3\" >4129</th>\n                        <td id=\"T_9b375_row3_col0\" class=\"data row3 col0\" >VW Golf 2.0 TDI SCR Style DSG (ab 09/20)</td>\n                        <td id=\"T_9b375_row3_col1\" class=\"data row3 col1\" >VW</td>\n                        <td id=\"T_9b375_row3_col2\" class=\"data row3 col2\" >Golf (VIII) (ab 12/19)</td>\n                        <td id=\"T_9b375_row3_col3\" class=\"data row3 col3\" >110</td>\n                        <td id=\"T_9b375_row3_col4\" class=\"data row3 col4\" >38555.000000</td>\n                        <td id=\"T_9b375_row3_col5\" class=\"data row3 col5\" >446.000000</td>\n                        <td id=\"T_9b375_row3_col6\" class=\"data row3 col6\" >1086.960000</td>\n                        <td id=\"T_9b375_row3_col7\" class=\"data row3 col7\" >5.000000</td>\n                        <td id=\"T_9b375_row3_col8\" class=\"data row3 col8\" >1.000000</td>\n                        <td id=\"T_9b375_row3_col9\" class=\"data row3 col9\" >0.000000</td>\n                        <td id=\"T_9b375_row3_col10\" class=\"data row3 col10\" >4.545455</td>\n                        <td id=\"T_9b375_row3_col11\" class=\"data row3 col11\" >5.000000</td>\n                        <td id=\"T_9b375_row3_col12\" class=\"data row3 col12\" >10.000000</td>\n                        <td id=\"T_9b375_row3_col13\" class=\"data row3 col13\" >10.000000</td>\n                        <td id=\"T_9b375_row3_col14\" class=\"data row3 col14\" >1.500000</td>\n                        <td id=\"T_9b375_row3_col15\" class=\"data row3 col15\" >10.000000</td>\n                        <td id=\"T_9b375_row3_col16\" class=\"data row3 col16\" >6.666667</td>\n                        <td id=\"T_9b375_row3_col17\" class=\"data row3 col17\" >10.000000</td>\n                        <td id=\"T_9b375_row3_col18\" class=\"data row3 col18\" >10.000000</td>\n                        <td id=\"T_9b375_row3_col19\" class=\"data row3 col19\" >6.666667</td>\n                        <td id=\"T_9b375_row3_col20\" class=\"data row3 col20\" >10.000000</td>\n                        <td id=\"T_9b375_row3_col21\" class=\"data row3 col21\" >10.000000</td>\n                        <td id=\"T_9b375_row3_col22\" class=\"data row3 col22\" >10.000000</td>\n                        <td id=\"T_9b375_row3_col23\" class=\"data row3 col23\" >4.285714</td>\n                        <td id=\"T_9b375_row3_col24\" class=\"data row3 col24\" >10.000000</td>\n                        <td id=\"T_9b375_row3_col25\" class=\"data row3 col25\" >18.600000</td>\n                        <td id=\"T_9b375_row3_col26\" class=\"data row3 col26\" >0</td>\n                        <td id=\"T_9b375_row3_col27\" class=\"data row3 col27\" >6.666667</td>\n                        <td id=\"T_9b375_row3_col28\" class=\"data row3 col28\" >1.250000</td>\n                        <td id=\"T_9b375_row3_col29\" class=\"data row3 col29\" >4.200000</td>\n                        <td id=\"T_9b375_row3_col30\" class=\"data row3 col30\" >3.120000</td>\n                        <td id=\"T_9b375_row3_col31\" class=\"data row3 col31\" >5.330000</td>\n                        <td id=\"T_9b375_row3_col32\" class=\"data row3 col32\" >2.870000</td>\n                        <td id=\"T_9b375_row3_col33\" class=\"data row3 col33\" >4.500000</td>\n                        <td id=\"T_9b375_row3_col34\" class=\"data row3 col34\" >11.460000</td>\n                        <td id=\"T_9b375_row3_col35\" class=\"data row3 col35\" >5.000000</td>\n                        <td id=\"T_9b375_row3_col36\" class=\"data row3 col36\" >0.000000</td>\n                        <td id=\"T_9b375_row3_col37\" class=\"data row3 col37\" >5.000000</td>\n                        <td id=\"T_9b375_row3_col38\" class=\"data row3 col38\" >3.550000</td>\n                        <td id=\"T_9b375_row3_col39\" class=\"data row3 col39\" >1.250000</td>\n                        <td id=\"T_9b375_row3_col40\" class=\"data row3 col40\" >9.000000</td>\n                        <td id=\"T_9b375_row3_col41\" class=\"data row3 col41\" >5.000000</td>\n                        <td id=\"T_9b375_row3_col42\" class=\"data row3 col42\" >3.330000</td>\n                        <td id=\"T_9b375_row3_col43\" class=\"data row3 col43\" >5.400000</td>\n                        <td id=\"T_9b375_row3_col44\" class=\"data row3 col44\" >5.000000</td>\n                        <td id=\"T_9b375_row3_col45\" class=\"data row3 col45\" >6.670000</td>\n                        <td id=\"T_9b375_row3_col46\" class=\"data row3 col46\" >5.000000</td>\n                        <td id=\"T_9b375_row3_col47\" class=\"data row3 col47\" >6.670000</td>\n                        <td id=\"T_9b375_row3_col48\" class=\"data row3 col48\" >9.677419</td>\n                        <td id=\"T_9b375_row3_col49\" class=\"data row3 col49\" >4.444444</td>\n                        <td id=\"T_9b375_row3_col50\" class=\"data row3 col50\" >7.890000</td>\n                        <td id=\"T_9b375_row3_col51\" class=\"data row3 col51\" >10.060000</td>\n                        <td id=\"T_9b375_row3_col52\" class=\"data row3 col52\" >3.290000</td>\n                        <td id=\"T_9b375_row3_col53\" class=\"data row3 col53\" >3.170000</td>\n                        <td id=\"T_9b375_row3_col54\" class=\"data row3 col54\" >8.060000</td>\n                        <td id=\"T_9b375_row3_col55\" class=\"data row3 col55\" >4.880000</td>\n                        <td id=\"T_9b375_row3_col56\" class=\"data row3 col56\" >23.120000</td>\n                        <td id=\"T_9b375_row3_col57\" class=\"data row3 col57\" >23.480000</td>\n                        <td id=\"T_9b375_row3_col58\" class=\"data row3 col58\" >2.500000</td>\n                        <td id=\"T_9b375_row3_col59\" class=\"data row3 col59\" >10.960000</td>\n                        <td id=\"T_9b375_row3_col60\" class=\"data row3 col60\" >355.063033</td>\n                        <td id=\"T_9b375_row3_col61\" class=\"data row3 col61\" >108.586354</td>\n            </tr>\n            <tr>\n                        <th id=\"T_9b375_level0_row4\" class=\"row_heading level0 row4\" >4133</th>\n                        <td id=\"T_9b375_row4_col0\" class=\"data row4 col0\" >VW Golf GTD DSG (ab 10/20)</td>\n                        <td id=\"T_9b375_row4_col1\" class=\"data row4 col1\" >VW</td>\n                        <td id=\"T_9b375_row4_col2\" class=\"data row4 col2\" >Golf (VIII) GTD (ab 10/20)</td>\n                        <td id=\"T_9b375_row4_col3\" class=\"data row4 col3\" >147</td>\n                        <td id=\"T_9b375_row4_col4\" class=\"data row4 col4\" >41530.000000</td>\n                        <td id=\"T_9b375_row4_col5\" class=\"data row4 col5\" >483.000000</td>\n                        <td id=\"T_9b375_row4_col6\" class=\"data row4 col6\" >961.540000</td>\n                        <td id=\"T_9b375_row4_col7\" class=\"data row4 col7\" >5.000000</td>\n                        <td id=\"T_9b375_row4_col8\" class=\"data row4 col8\" >3.000000</td>\n                        <td id=\"T_9b375_row4_col9\" class=\"data row4 col9\" >0.000000</td>\n                        <td id=\"T_9b375_row4_col10\" class=\"data row4 col10\" >4.545455</td>\n                        <td id=\"T_9b375_row4_col11\" class=\"data row4 col11\" >5.000000</td>\n                        <td id=\"T_9b375_row4_col12\" class=\"data row4 col12\" >10.000000</td>\n                        <td id=\"T_9b375_row4_col13\" class=\"data row4 col13\" >10.000000</td>\n                        <td id=\"T_9b375_row4_col14\" class=\"data row4 col14\" >1.500000</td>\n                        <td id=\"T_9b375_row4_col15\" class=\"data row4 col15\" >10.000000</td>\n                        <td id=\"T_9b375_row4_col16\" class=\"data row4 col16\" >6.666667</td>\n                        <td id=\"T_9b375_row4_col17\" class=\"data row4 col17\" >10.000000</td>\n                        <td id=\"T_9b375_row4_col18\" class=\"data row4 col18\" >10.000000</td>\n                        <td id=\"T_9b375_row4_col19\" class=\"data row4 col19\" >6.666667</td>\n                        <td id=\"T_9b375_row4_col20\" class=\"data row4 col20\" >6.666667</td>\n                        <td id=\"T_9b375_row4_col21\" class=\"data row4 col21\" >10.000000</td>\n                        <td id=\"T_9b375_row4_col22\" class=\"data row4 col22\" >10.000000</td>\n                        <td id=\"T_9b375_row4_col23\" class=\"data row4 col23\" >4.285714</td>\n                        <td id=\"T_9b375_row4_col24\" class=\"data row4 col24\" >10.000000</td>\n                        <td id=\"T_9b375_row4_col25\" class=\"data row4 col25\" >18.600000</td>\n                        <td id=\"T_9b375_row4_col26\" class=\"data row4 col26\" >0</td>\n                        <td id=\"T_9b375_row4_col27\" class=\"data row4 col27\" >6.666667</td>\n                        <td id=\"T_9b375_row4_col28\" class=\"data row4 col28\" >1.250000</td>\n                        <td id=\"T_9b375_row4_col29\" class=\"data row4 col29\" >4.200000</td>\n                        <td id=\"T_9b375_row4_col30\" class=\"data row4 col30\" >4.060000</td>\n                        <td id=\"T_9b375_row4_col31\" class=\"data row4 col31\" >5.330000</td>\n                        <td id=\"T_9b375_row4_col32\" class=\"data row4 col32\" >2.870000</td>\n                        <td id=\"T_9b375_row4_col33\" class=\"data row4 col33\" >6.630000</td>\n                        <td id=\"T_9b375_row4_col34\" class=\"data row4 col34\" >9.920000</td>\n                        <td id=\"T_9b375_row4_col35\" class=\"data row4 col35\" >5.000000</td>\n                        <td id=\"T_9b375_row4_col36\" class=\"data row4 col36\" >0.000000</td>\n                        <td id=\"T_9b375_row4_col37\" class=\"data row4 col37\" >5.000000</td>\n                        <td id=\"T_9b375_row4_col38\" class=\"data row4 col38\" >3.540000</td>\n                        <td id=\"T_9b375_row4_col39\" class=\"data row4 col39\" >1.220000</td>\n                        <td id=\"T_9b375_row4_col40\" class=\"data row4 col40\" >9.000000</td>\n                        <td id=\"T_9b375_row4_col41\" class=\"data row4 col41\" >5.000000</td>\n                        <td id=\"T_9b375_row4_col42\" class=\"data row4 col42\" >3.330000</td>\n                        <td id=\"T_9b375_row4_col43\" class=\"data row4 col43\" >5.400000</td>\n                        <td id=\"T_9b375_row4_col44\" class=\"data row4 col44\" >5.000000</td>\n                        <td id=\"T_9b375_row4_col45\" class=\"data row4 col45\" >6.670000</td>\n                        <td id=\"T_9b375_row4_col46\" class=\"data row4 col46\" >5.000000</td>\n                        <td id=\"T_9b375_row4_col47\" class=\"data row4 col47\" >6.670000</td>\n                        <td id=\"T_9b375_row4_col48\" class=\"data row4 col48\" >9.677419</td>\n                        <td id=\"T_9b375_row4_col49\" class=\"data row4 col49\" >4.444444</td>\n                        <td id=\"T_9b375_row4_col50\" class=\"data row4 col50\" >9.250000</td>\n                        <td id=\"T_9b375_row4_col51\" class=\"data row4 col51\" >8.320000</td>\n                        <td id=\"T_9b375_row4_col52\" class=\"data row4 col52\" >4.020000</td>\n                        <td id=\"T_9b375_row4_col53\" class=\"data row4 col53\" >4.620000</td>\n                        <td id=\"T_9b375_row4_col54\" class=\"data row4 col54\" >9.750000</td>\n                        <td id=\"T_9b375_row4_col55\" class=\"data row4 col55\" >4.420000</td>\n                        <td id=\"T_9b375_row4_col56\" class=\"data row4 col56\" >19.940000</td>\n                        <td id=\"T_9b375_row4_col57\" class=\"data row4 col57\" >18.910000</td>\n                        <td id=\"T_9b375_row4_col58\" class=\"data row4 col58\" >2.500000</td>\n                        <td id=\"T_9b375_row4_col59\" class=\"data row4 col59\" >14.020000</td>\n                        <td id=\"T_9b375_row4_col60\" class=\"data row4 col60\" >353.559699</td>\n                        <td id=\"T_9b375_row4_col61\" class=\"data row4 col61\" >117.462483</td>\n            </tr>\n            <tr>\n                        <th id=\"T_9b375_level0_row5\" class=\"row_heading level0 row5\" >1844</th>\n                        <td id=\"T_9b375_row5_col0\" class=\"data row5 col0\" >VW Golf 1.5 eTSI Life DSG (ab 12/20)</td>\n                        <td id=\"T_9b375_row5_col1\" class=\"data row5 col1\" >VW</td>\n                        <td id=\"T_9b375_row5_col2\" class=\"data row5 col2\" >Golf (VIII) (ab 12/19)</td>\n                        <td id=\"T_9b375_row5_col3\" class=\"data row5 col3\" >96</td>\n                        <td id=\"T_9b375_row5_col4\" class=\"data row5 col4\" >32735.000000</td>\n                        <td id=\"T_9b375_row5_col5\" class=\"data row5 col5\" >441.000000</td>\n                        <td id=\"T_9b375_row5_col6\" class=\"data row5 col6\" >818.180000</td>\n                        <td id=\"T_9b375_row5_col7\" class=\"data row5 col7\" >5.000000</td>\n                        <td id=\"T_9b375_row5_col8\" class=\"data row5 col8\" >1.000000</td>\n                        <td id=\"T_9b375_row5_col9\" class=\"data row5 col9\" >0.000000</td>\n                        <td id=\"T_9b375_row5_col10\" class=\"data row5 col10\" >4.545455</td>\n                        <td id=\"T_9b375_row5_col11\" class=\"data row5 col11\" >5.000000</td>\n                        <td id=\"T_9b375_row5_col12\" class=\"data row5 col12\" >10.000000</td>\n                        <td id=\"T_9b375_row5_col13\" class=\"data row5 col13\" >10.000000</td>\n                        <td id=\"T_9b375_row5_col14\" class=\"data row5 col14\" >1.500000</td>\n                        <td id=\"T_9b375_row5_col15\" class=\"data row5 col15\" >10.000000</td>\n                        <td id=\"T_9b375_row5_col16\" class=\"data row5 col16\" >6.666667</td>\n                        <td id=\"T_9b375_row5_col17\" class=\"data row5 col17\" >10.000000</td>\n                        <td id=\"T_9b375_row5_col18\" class=\"data row5 col18\" >7.500000</td>\n                        <td id=\"T_9b375_row5_col19\" class=\"data row5 col19\" >6.666667</td>\n                        <td id=\"T_9b375_row5_col20\" class=\"data row5 col20\" >6.666667</td>\n                        <td id=\"T_9b375_row5_col21\" class=\"data row5 col21\" >10.000000</td>\n                        <td id=\"T_9b375_row5_col22\" class=\"data row5 col22\" >10.000000</td>\n                        <td id=\"T_9b375_row5_col23\" class=\"data row5 col23\" >4.285714</td>\n                        <td id=\"T_9b375_row5_col24\" class=\"data row5 col24\" >10.000000</td>\n                        <td id=\"T_9b375_row5_col25\" class=\"data row5 col25\" >18.600000</td>\n                        <td id=\"T_9b375_row5_col26\" class=\"data row5 col26\" >0</td>\n                        <td id=\"T_9b375_row5_col27\" class=\"data row5 col27\" >6.666667</td>\n                        <td id=\"T_9b375_row5_col28\" class=\"data row5 col28\" >1.250000</td>\n                        <td id=\"T_9b375_row5_col29\" class=\"data row5 col29\" >0.000000</td>\n                        <td id=\"T_9b375_row5_col30\" class=\"data row5 col30\" >2.690000</td>\n                        <td id=\"T_9b375_row5_col31\" class=\"data row5 col31\" >5.330000</td>\n                        <td id=\"T_9b375_row5_col32\" class=\"data row5 col32\" >2.870000</td>\n                        <td id=\"T_9b375_row5_col33\" class=\"data row5 col33\" >3.750000</td>\n                        <td id=\"T_9b375_row5_col34\" class=\"data row5 col34\" >8.160000</td>\n                        <td id=\"T_9b375_row5_col35\" class=\"data row5 col35\" >5.000000</td>\n                        <td id=\"T_9b375_row5_col36\" class=\"data row5 col36\" >0.000000</td>\n                        <td id=\"T_9b375_row5_col37\" class=\"data row5 col37\" >5.000000</td>\n                        <td id=\"T_9b375_row5_col38\" class=\"data row5 col38\" >3.550000</td>\n                        <td id=\"T_9b375_row5_col39\" class=\"data row5 col39\" >1.250000</td>\n                        <td id=\"T_9b375_row5_col40\" class=\"data row5 col40\" >9.000000</td>\n                        <td id=\"T_9b375_row5_col41\" class=\"data row5 col41\" >5.000000</td>\n                        <td id=\"T_9b375_row5_col42\" class=\"data row5 col42\" >3.330000</td>\n                        <td id=\"T_9b375_row5_col43\" class=\"data row5 col43\" >5.400000</td>\n                        <td id=\"T_9b375_row5_col44\" class=\"data row5 col44\" >5.000000</td>\n                        <td id=\"T_9b375_row5_col45\" class=\"data row5 col45\" >6.670000</td>\n                        <td id=\"T_9b375_row5_col46\" class=\"data row5 col46\" >5.000000</td>\n                        <td id=\"T_9b375_row5_col47\" class=\"data row5 col47\" >6.670000</td>\n                        <td id=\"T_9b375_row5_col48\" class=\"data row5 col48\" >9.677419</td>\n                        <td id=\"T_9b375_row5_col49\" class=\"data row5 col49\" >4.444444</td>\n                        <td id=\"T_9b375_row5_col50\" class=\"data row5 col50\" >11.470000</td>\n                        <td id=\"T_9b375_row5_col51\" class=\"data row5 col51\" >12.000000</td>\n                        <td id=\"T_9b375_row5_col52\" class=\"data row5 col52\" >1.650000</td>\n                        <td id=\"T_9b375_row5_col53\" class=\"data row5 col53\" >6.060000</td>\n                        <td id=\"T_9b375_row5_col54\" class=\"data row5 col54\" >3.000000</td>\n                        <td id=\"T_9b375_row5_col55\" class=\"data row5 col55\" >7.070000</td>\n                        <td id=\"T_9b375_row5_col56\" class=\"data row5 col56\" >23.550000</td>\n                        <td id=\"T_9b375_row5_col57\" class=\"data row5 col57\" >32.430000</td>\n                        <td id=\"T_9b375_row5_col58\" class=\"data row5 col58\" >2.500000</td>\n                        <td id=\"T_9b375_row5_col59\" class=\"data row5 col59\" >10.420000</td>\n                        <td id=\"T_9b375_row5_col60\" class=\"data row5 col60\" >353.289699</td>\n                        <td id=\"T_9b375_row5_col61\" class=\"data row5 col61\" >92.657669</td>\n            </tr>\n            <tr>\n                        <th id=\"T_9b375_level0_row6\" class=\"row_heading level0 row6\" >6321</th>\n                        <td id=\"T_9b375_row6_col0\" class=\"data row6 col0\" >Skoda Octavia RS Plus 2.0 TDI SCR 4x4 DSG (ab 12/20)</td>\n                        <td id=\"T_9b375_row6_col1\" class=\"data row6 col1\" >Skoda</td>\n                        <td id=\"T_9b375_row6_col2\" class=\"data row6 col2\" >Octavia (IV) RS Limousine (ab 09/20)</td>\n                        <td id=\"T_9b375_row6_col3\" class=\"data row6 col3\" >147</td>\n                        <td id=\"T_9b375_row6_col4\" class=\"data row6 col4\" >47645.000000</td>\n                        <td id=\"T_9b375_row6_col5\" class=\"data row6 col5\" >536.000000</td>\n                        <td id=\"T_9b375_row6_col6\" class=\"data row6 col6\" >1000.000000</td>\n                        <td id=\"T_9b375_row6_col7\" class=\"data row6 col7\" >5.000000</td>\n                        <td id=\"T_9b375_row6_col8\" class=\"data row6 col8\" >3.000000</td>\n                        <td id=\"T_9b375_row6_col9\" class=\"data row6 col9\" >5.000000</td>\n                        <td id=\"T_9b375_row6_col10\" class=\"data row6 col10\" >5.000000</td>\n                        <td id=\"T_9b375_row6_col11\" class=\"data row6 col11\" >5.000000</td>\n                        <td id=\"T_9b375_row6_col12\" class=\"data row6 col12\" >10.000000</td>\n                        <td id=\"T_9b375_row6_col13\" class=\"data row6 col13\" >10.000000</td>\n                        <td id=\"T_9b375_row6_col14\" class=\"data row6 col14\" >10.000000</td>\n                        <td id=\"T_9b375_row6_col15\" class=\"data row6 col15\" >10.000000</td>\n                        <td id=\"T_9b375_row6_col16\" class=\"data row6 col16\" >10.000000</td>\n                        <td id=\"T_9b375_row6_col17\" class=\"data row6 col17\" >10.000000</td>\n                        <td id=\"T_9b375_row6_col18\" class=\"data row6 col18\" >10.000000</td>\n                        <td id=\"T_9b375_row6_col19\" class=\"data row6 col19\" >10.000000</td>\n                        <td id=\"T_9b375_row6_col20\" class=\"data row6 col20\" >10.000000</td>\n                        <td id=\"T_9b375_row6_col21\" class=\"data row6 col21\" >10.000000</td>\n                        <td id=\"T_9b375_row6_col22\" class=\"data row6 col22\" >10.000000</td>\n                        <td id=\"T_9b375_row6_col23\" class=\"data row6 col23\" >10.714286</td>\n                        <td id=\"T_9b375_row6_col24\" class=\"data row6 col24\" >10.000000</td>\n                        <td id=\"T_9b375_row6_col25\" class=\"data row6 col25\" >18.090000</td>\n                        <td id=\"T_9b375_row6_col26\" class=\"data row6 col26\" >0</td>\n                        <td id=\"T_9b375_row6_col27\" class=\"data row6 col27\" >6.666667</td>\n                        <td id=\"T_9b375_row6_col28\" class=\"data row6 col28\" >5.000000</td>\n                        <td id=\"T_9b375_row6_col29\" class=\"data row6 col29\" >4.200000</td>\n                        <td id=\"T_9b375_row6_col30\" class=\"data row6 col30\" >3.970000</td>\n                        <td id=\"T_9b375_row6_col31\" class=\"data row6 col31\" >6.000000</td>\n                        <td id=\"T_9b375_row6_col32\" class=\"data row6 col32\" >3.180000</td>\n                        <td id=\"T_9b375_row6_col33\" class=\"data row6 col33\" >7.000000</td>\n                        <td id=\"T_9b375_row6_col34\" class=\"data row6 col34\" >10.400000</td>\n                        <td id=\"T_9b375_row6_col35\" class=\"data row6 col35\" >0.000000</td>\n                        <td id=\"T_9b375_row6_col36\" class=\"data row6 col36\" >0.000000</td>\n                        <td id=\"T_9b375_row6_col37\" class=\"data row6 col37\" >0.000000</td>\n                        <td id=\"T_9b375_row6_col38\" class=\"data row6 col38\" >1.180000</td>\n                        <td id=\"T_9b375_row6_col39\" class=\"data row6 col39\" >2.690000</td>\n                        <td id=\"T_9b375_row6_col40\" class=\"data row6 col40\" >12.000000</td>\n                        <td id=\"T_9b375_row6_col41\" class=\"data row6 col41\" >0.000000</td>\n                        <td id=\"T_9b375_row6_col42\" class=\"data row6 col42\" >3.330000</td>\n                        <td id=\"T_9b375_row6_col43\" class=\"data row6 col43\" >3.220000</td>\n                        <td id=\"T_9b375_row6_col44\" class=\"data row6 col44\" >5.000000</td>\n                        <td id=\"T_9b375_row6_col45\" class=\"data row6 col45\" >0.000000</td>\n                        <td id=\"T_9b375_row6_col46\" class=\"data row6 col46\" >0.000000</td>\n                        <td id=\"T_9b375_row6_col47\" class=\"data row6 col47\" >6.670000</td>\n                        <td id=\"T_9b375_row6_col48\" class=\"data row6 col48\" >0.645161</td>\n                        <td id=\"T_9b375_row6_col49\" class=\"data row6 col49\" >4.444444</td>\n                        <td id=\"T_9b375_row6_col50\" class=\"data row6 col50\" >11.470000</td>\n                        <td id=\"T_9b375_row6_col51\" class=\"data row6 col51\" >10.060000</td>\n                        <td id=\"T_9b375_row6_col52\" class=\"data row6 col52\" >8.780000</td>\n                        <td id=\"T_9b375_row6_col53\" class=\"data row6 col53\" >5.340000</td>\n                        <td id=\"T_9b375_row6_col54\" class=\"data row6 col54\" >8.060000</td>\n                        <td id=\"T_9b375_row6_col55\" class=\"data row6 col55\" >3.330000</td>\n                        <td id=\"T_9b375_row6_col56\" class=\"data row6 col56\" >15.390000</td>\n                        <td id=\"T_9b375_row6_col57\" class=\"data row6 col57\" >9.510000</td>\n                        <td id=\"T_9b375_row6_col58\" class=\"data row6 col58\" >2.500000</td>\n                        <td id=\"T_9b375_row6_col59\" class=\"data row6 col59\" >20.000000</td>\n                        <td id=\"T_9b375_row6_col60\" class=\"data row6 col60\" >351.840558</td>\n                        <td id=\"T_9b375_row6_col61\" class=\"data row6 col61\" >135.416452</td>\n            </tr>\n            <tr>\n                        <th id=\"T_9b375_level0_row7\" class=\"row_heading level0 row7\" >1839</th>\n                        <td id=\"T_9b375_row7_col0\" class=\"data row7 col0\" >VW Golf 1.0 eTSI Life DSG (ab 08/20)</td>\n                        <td id=\"T_9b375_row7_col1\" class=\"data row7 col1\" >VW</td>\n                        <td id=\"T_9b375_row7_col2\" class=\"data row7 col2\" >Golf (VIII) (ab 12/19)</td>\n                        <td id=\"T_9b375_row7_col3\" class=\"data row7 col3\" >81</td>\n                        <td id=\"T_9b375_row7_col4\" class=\"data row7 col4\" >30945.000000</td>\n                        <td id=\"T_9b375_row7_col5\" class=\"data row7 col5\" >427.000000</td>\n                        <td id=\"T_9b375_row7_col6\" class=\"data row7 col6\" >865.380000</td>\n                        <td id=\"T_9b375_row7_col7\" class=\"data row7 col7\" >5.000000</td>\n                        <td id=\"T_9b375_row7_col8\" class=\"data row7 col8\" >1.000000</td>\n                        <td id=\"T_9b375_row7_col9\" class=\"data row7 col9\" >0.000000</td>\n                        <td id=\"T_9b375_row7_col10\" class=\"data row7 col10\" >4.545455</td>\n                        <td id=\"T_9b375_row7_col11\" class=\"data row7 col11\" >5.000000</td>\n                        <td id=\"T_9b375_row7_col12\" class=\"data row7 col12\" >10.000000</td>\n                        <td id=\"T_9b375_row7_col13\" class=\"data row7 col13\" >10.000000</td>\n                        <td id=\"T_9b375_row7_col14\" class=\"data row7 col14\" >1.500000</td>\n                        <td id=\"T_9b375_row7_col15\" class=\"data row7 col15\" >10.000000</td>\n                        <td id=\"T_9b375_row7_col16\" class=\"data row7 col16\" >6.666667</td>\n                        <td id=\"T_9b375_row7_col17\" class=\"data row7 col17\" >10.000000</td>\n                        <td id=\"T_9b375_row7_col18\" class=\"data row7 col18\" >7.500000</td>\n                        <td id=\"T_9b375_row7_col19\" class=\"data row7 col19\" >6.666667</td>\n                        <td id=\"T_9b375_row7_col20\" class=\"data row7 col20\" >6.666667</td>\n                        <td id=\"T_9b375_row7_col21\" class=\"data row7 col21\" >10.000000</td>\n                        <td id=\"T_9b375_row7_col22\" class=\"data row7 col22\" >10.000000</td>\n                        <td id=\"T_9b375_row7_col23\" class=\"data row7 col23\" >4.285714</td>\n                        <td id=\"T_9b375_row7_col24\" class=\"data row7 col24\" >10.000000</td>\n                        <td id=\"T_9b375_row7_col25\" class=\"data row7 col25\" >18.600000</td>\n                        <td id=\"T_9b375_row7_col26\" class=\"data row7 col26\" >0</td>\n                        <td id=\"T_9b375_row7_col27\" class=\"data row7 col27\" >6.666667</td>\n                        <td id=\"T_9b375_row7_col28\" class=\"data row7 col28\" >1.250000</td>\n                        <td id=\"T_9b375_row7_col29\" class=\"data row7 col29\" >0.000000</td>\n                        <td id=\"T_9b375_row7_col30\" class=\"data row7 col30\" >2.220000</td>\n                        <td id=\"T_9b375_row7_col31\" class=\"data row7 col31\" >5.330000</td>\n                        <td id=\"T_9b375_row7_col32\" class=\"data row7 col32\" >2.870000</td>\n                        <td id=\"T_9b375_row7_col33\" class=\"data row7 col33\" >2.750000</td>\n                        <td id=\"T_9b375_row7_col34\" class=\"data row7 col34\" >8.740000</td>\n                        <td id=\"T_9b375_row7_col35\" class=\"data row7 col35\" >5.000000</td>\n                        <td id=\"T_9b375_row7_col36\" class=\"data row7 col36\" >0.000000</td>\n                        <td id=\"T_9b375_row7_col37\" class=\"data row7 col37\" >5.000000</td>\n                        <td id=\"T_9b375_row7_col38\" class=\"data row7 col38\" >3.550000</td>\n                        <td id=\"T_9b375_row7_col39\" class=\"data row7 col39\" >1.250000</td>\n                        <td id=\"T_9b375_row7_col40\" class=\"data row7 col40\" >6.000000</td>\n                        <td id=\"T_9b375_row7_col41\" class=\"data row7 col41\" >5.000000</td>\n                        <td id=\"T_9b375_row7_col42\" class=\"data row7 col42\" >3.330000</td>\n                        <td id=\"T_9b375_row7_col43\" class=\"data row7 col43\" >5.400000</td>\n                        <td id=\"T_9b375_row7_col44\" class=\"data row7 col44\" >5.000000</td>\n                        <td id=\"T_9b375_row7_col45\" class=\"data row7 col45\" >6.670000</td>\n                        <td id=\"T_9b375_row7_col46\" class=\"data row7 col46\" >5.000000</td>\n                        <td id=\"T_9b375_row7_col47\" class=\"data row7 col47\" >6.670000</td>\n                        <td id=\"T_9b375_row7_col48\" class=\"data row7 col48\" >9.677419</td>\n                        <td id=\"T_9b375_row7_col49\" class=\"data row7 col49\" >4.444444</td>\n                        <td id=\"T_9b375_row7_col50\" class=\"data row7 col50\" >9.250000</td>\n                        <td id=\"T_9b375_row7_col51\" class=\"data row7 col51\" >12.710000</td>\n                        <td id=\"T_9b375_row7_col52\" class=\"data row7 col52\" >1.460000</td>\n                        <td id=\"T_9b375_row7_col53\" class=\"data row7 col53\" >5.340000</td>\n                        <td id=\"T_9b375_row7_col54\" class=\"data row7 col54\" >2.620000</td>\n                        <td id=\"T_9b375_row7_col55\" class=\"data row7 col55\" >7.340000</td>\n                        <td id=\"T_9b375_row7_col56\" class=\"data row7 col56\" >24.760000</td>\n                        <td id=\"T_9b375_row7_col57\" class=\"data row7 col57\" >35.180000</td>\n                        <td id=\"T_9b375_row7_col58\" class=\"data row7 col58\" >2.500000</td>\n                        <td id=\"T_9b375_row7_col59\" class=\"data row7 col59\" >10.420000</td>\n                        <td id=\"T_9b375_row7_col60\" class=\"data row7 col60\" >350.829699</td>\n                        <td id=\"T_9b375_row7_col61\" class=\"data row7 col61\" >88.205189</td>\n            </tr>\n            <tr>\n                        <th id=\"T_9b375_level0_row8\" class=\"row_heading level0 row8\" >6320</th>\n                        <td id=\"T_9b375_row8_col0\" class=\"data row8 col0\" >Skoda Octavia RS Plus 2.0 TDI SCR DSG (ab 12/20)</td>\n                        <td id=\"T_9b375_row8_col1\" class=\"data row8 col1\" >Skoda</td>\n                        <td id=\"T_9b375_row8_col2\" class=\"data row8 col2\" >Octavia (IV) RS Limousine (ab 09/20)</td>\n                        <td id=\"T_9b375_row8_col3\" class=\"data row8 col3\" >147</td>\n                        <td id=\"T_9b375_row8_col4\" class=\"data row8 col4\" >45545.000000</td>\n                        <td id=\"T_9b375_row8_col5\" class=\"data row8 col5\" >513.000000</td>\n                        <td id=\"T_9b375_row8_col6\" class=\"data row8 col6\" >1020.410000</td>\n                        <td id=\"T_9b375_row8_col7\" class=\"data row8 col7\" >5.000000</td>\n                        <td id=\"T_9b375_row8_col8\" class=\"data row8 col8\" >3.000000</td>\n                        <td id=\"T_9b375_row8_col9\" class=\"data row8 col9\" >5.000000</td>\n                        <td id=\"T_9b375_row8_col10\" class=\"data row8 col10\" >5.000000</td>\n                        <td id=\"T_9b375_row8_col11\" class=\"data row8 col11\" >5.000000</td>\n                        <td id=\"T_9b375_row8_col12\" class=\"data row8 col12\" >10.000000</td>\n                        <td id=\"T_9b375_row8_col13\" class=\"data row8 col13\" >10.000000</td>\n                        <td id=\"T_9b375_row8_col14\" class=\"data row8 col14\" >10.000000</td>\n                        <td id=\"T_9b375_row8_col15\" class=\"data row8 col15\" >10.000000</td>\n                        <td id=\"T_9b375_row8_col16\" class=\"data row8 col16\" >10.000000</td>\n                        <td id=\"T_9b375_row8_col17\" class=\"data row8 col17\" >10.000000</td>\n                        <td id=\"T_9b375_row8_col18\" class=\"data row8 col18\" >10.000000</td>\n                        <td id=\"T_9b375_row8_col19\" class=\"data row8 col19\" >10.000000</td>\n                        <td id=\"T_9b375_row8_col20\" class=\"data row8 col20\" >10.000000</td>\n                        <td id=\"T_9b375_row8_col21\" class=\"data row8 col21\" >10.000000</td>\n                        <td id=\"T_9b375_row8_col22\" class=\"data row8 col22\" >10.000000</td>\n                        <td id=\"T_9b375_row8_col23\" class=\"data row8 col23\" >10.714286</td>\n                        <td id=\"T_9b375_row8_col24\" class=\"data row8 col24\" >10.000000</td>\n                        <td id=\"T_9b375_row8_col25\" class=\"data row8 col25\" >18.090000</td>\n                        <td id=\"T_9b375_row8_col26\" class=\"data row8 col26\" >0</td>\n                        <td id=\"T_9b375_row8_col27\" class=\"data row8 col27\" >6.666667</td>\n                        <td id=\"T_9b375_row8_col28\" class=\"data row8 col28\" >1.250000</td>\n                        <td id=\"T_9b375_row8_col29\" class=\"data row8 col29\" >4.200000</td>\n                        <td id=\"T_9b375_row8_col30\" class=\"data row8 col30\" >4.230000</td>\n                        <td id=\"T_9b375_row8_col31\" class=\"data row8 col31\" >6.000000</td>\n                        <td id=\"T_9b375_row8_col32\" class=\"data row8 col32\" >3.180000</td>\n                        <td id=\"T_9b375_row8_col33\" class=\"data row8 col33\" >6.250000</td>\n                        <td id=\"T_9b375_row8_col34\" class=\"data row8 col34\" >10.650000</td>\n                        <td id=\"T_9b375_row8_col35\" class=\"data row8 col35\" >0.000000</td>\n                        <td id=\"T_9b375_row8_col36\" class=\"data row8 col36\" >0.000000</td>\n                        <td id=\"T_9b375_row8_col37\" class=\"data row8 col37\" >0.000000</td>\n                        <td id=\"T_9b375_row8_col38\" class=\"data row8 col38\" >1.180000</td>\n                        <td id=\"T_9b375_row8_col39\" class=\"data row8 col39\" >2.690000</td>\n                        <td id=\"T_9b375_row8_col40\" class=\"data row8 col40\" >10.500000</td>\n                        <td id=\"T_9b375_row8_col41\" class=\"data row8 col41\" >0.000000</td>\n                        <td id=\"T_9b375_row8_col42\" class=\"data row8 col42\" >3.330000</td>\n                        <td id=\"T_9b375_row8_col43\" class=\"data row8 col43\" >3.280000</td>\n                        <td id=\"T_9b375_row8_col44\" class=\"data row8 col44\" >5.000000</td>\n                        <td id=\"T_9b375_row8_col45\" class=\"data row8 col45\" >0.000000</td>\n                        <td id=\"T_9b375_row8_col46\" class=\"data row8 col46\" >0.000000</td>\n                        <td id=\"T_9b375_row8_col47\" class=\"data row8 col47\" >6.670000</td>\n                        <td id=\"T_9b375_row8_col48\" class=\"data row8 col48\" >0.645161</td>\n                        <td id=\"T_9b375_row8_col49\" class=\"data row8 col49\" >4.444444</td>\n                        <td id=\"T_9b375_row8_col50\" class=\"data row8 col50\" >11.470000</td>\n                        <td id=\"T_9b375_row8_col51\" class=\"data row8 col51\" >10.060000</td>\n                        <td id=\"T_9b375_row8_col52\" class=\"data row8 col52\" >8.780000</td>\n                        <td id=\"T_9b375_row8_col53\" class=\"data row8 col53\" >3.890000</td>\n                        <td id=\"T_9b375_row8_col54\" class=\"data row8 col54\" >7.500000</td>\n                        <td id=\"T_9b375_row8_col55\" class=\"data row8 col55\" >3.900000</td>\n                        <td id=\"T_9b375_row8_col56\" class=\"data row8 col56\" >17.360000</td>\n                        <td id=\"T_9b375_row8_col57\" class=\"data row8 col57\" >12.740000</td>\n                        <td id=\"T_9b375_row8_col58\" class=\"data row8 col58\" >2.500000</td>\n                        <td id=\"T_9b375_row8_col59\" class=\"data row8 col59\" >20.000000</td>\n                        <td id=\"T_9b375_row8_col60\" class=\"data row8 col60\" >350.170558</td>\n                        <td id=\"T_9b375_row8_col61\" class=\"data row8 col61\" >130.065190</td>\n            </tr>\n            <tr>\n                        <th id=\"T_9b375_level0_row9\" class=\"row_heading level0 row9\" >4130</th>\n                        <td id=\"T_9b375_row9_col0\" class=\"data row9 col0\" >VW Golf 2.0 TDI SCR R-Line DSG (ab 09/20)</td>\n                        <td id=\"T_9b375_row9_col1\" class=\"data row9 col1\" >VW</td>\n                        <td id=\"T_9b375_row9_col2\" class=\"data row9 col2\" >Golf (VIII) (ab 12/19)</td>\n                        <td id=\"T_9b375_row9_col3\" class=\"data row9 col3\" >110</td>\n                        <td id=\"T_9b375_row9_col4\" class=\"data row9 col4\" >38715.000000</td>\n                        <td id=\"T_9b375_row9_col5\" class=\"data row9 col5\" >446.000000</td>\n                        <td id=\"T_9b375_row9_col6\" class=\"data row9 col6\" >1086.960000</td>\n                        <td id=\"T_9b375_row9_col7\" class=\"data row9 col7\" >5.000000</td>\n                        <td id=\"T_9b375_row9_col8\" class=\"data row9 col8\" >1.000000</td>\n                        <td id=\"T_9b375_row9_col9\" class=\"data row9 col9\" >0.000000</td>\n                        <td id=\"T_9b375_row9_col10\" class=\"data row9 col10\" >4.545455</td>\n                        <td id=\"T_9b375_row9_col11\" class=\"data row9 col11\" >5.000000</td>\n                        <td id=\"T_9b375_row9_col12\" class=\"data row9 col12\" >10.000000</td>\n                        <td id=\"T_9b375_row9_col13\" class=\"data row9 col13\" >10.000000</td>\n                        <td id=\"T_9b375_row9_col14\" class=\"data row9 col14\" >1.500000</td>\n                        <td id=\"T_9b375_row9_col15\" class=\"data row9 col15\" >10.000000</td>\n                        <td id=\"T_9b375_row9_col16\" class=\"data row9 col16\" >6.666667</td>\n                        <td id=\"T_9b375_row9_col17\" class=\"data row9 col17\" >10.000000</td>\n                        <td id=\"T_9b375_row9_col18\" class=\"data row9 col18\" >7.500000</td>\n                        <td id=\"T_9b375_row9_col19\" class=\"data row9 col19\" >6.666667</td>\n                        <td id=\"T_9b375_row9_col20\" class=\"data row9 col20\" >6.666667</td>\n                        <td id=\"T_9b375_row9_col21\" class=\"data row9 col21\" >10.000000</td>\n                        <td id=\"T_9b375_row9_col22\" class=\"data row9 col22\" >10.000000</td>\n                        <td id=\"T_9b375_row9_col23\" class=\"data row9 col23\" >4.285714</td>\n                        <td id=\"T_9b375_row9_col24\" class=\"data row9 col24\" >10.000000</td>\n                        <td id=\"T_9b375_row9_col25\" class=\"data row9 col25\" >18.600000</td>\n                        <td id=\"T_9b375_row9_col26\" class=\"data row9 col26\" >0</td>\n                        <td id=\"T_9b375_row9_col27\" class=\"data row9 col27\" >6.666667</td>\n                        <td id=\"T_9b375_row9_col28\" class=\"data row9 col28\" >1.250000</td>\n                        <td id=\"T_9b375_row9_col29\" class=\"data row9 col29\" >4.200000</td>\n                        <td id=\"T_9b375_row9_col30\" class=\"data row9 col30\" >3.120000</td>\n                        <td id=\"T_9b375_row9_col31\" class=\"data row9 col31\" >5.330000</td>\n                        <td id=\"T_9b375_row9_col32\" class=\"data row9 col32\" >2.870000</td>\n                        <td id=\"T_9b375_row9_col33\" class=\"data row9 col33\" >4.500000</td>\n                        <td id=\"T_9b375_row9_col34\" class=\"data row9 col34\" >11.460000</td>\n                        <td id=\"T_9b375_row9_col35\" class=\"data row9 col35\" >5.000000</td>\n                        <td id=\"T_9b375_row9_col36\" class=\"data row9 col36\" >0.000000</td>\n                        <td id=\"T_9b375_row9_col37\" class=\"data row9 col37\" >5.000000</td>\n                        <td id=\"T_9b375_row9_col38\" class=\"data row9 col38\" >3.550000</td>\n                        <td id=\"T_9b375_row9_col39\" class=\"data row9 col39\" >1.250000</td>\n                        <td id=\"T_9b375_row9_col40\" class=\"data row9 col40\" >9.000000</td>\n                        <td id=\"T_9b375_row9_col41\" class=\"data row9 col41\" >5.000000</td>\n                        <td id=\"T_9b375_row9_col42\" class=\"data row9 col42\" >3.330000</td>\n                        <td id=\"T_9b375_row9_col43\" class=\"data row9 col43\" >5.400000</td>\n                        <td id=\"T_9b375_row9_col44\" class=\"data row9 col44\" >5.000000</td>\n                        <td id=\"T_9b375_row9_col45\" class=\"data row9 col45\" >6.670000</td>\n                        <td id=\"T_9b375_row9_col46\" class=\"data row9 col46\" >5.000000</td>\n                        <td id=\"T_9b375_row9_col47\" class=\"data row9 col47\" >6.670000</td>\n                        <td id=\"T_9b375_row9_col48\" class=\"data row9 col48\" >9.677419</td>\n                        <td id=\"T_9b375_row9_col49\" class=\"data row9 col49\" >4.444444</td>\n                        <td id=\"T_9b375_row9_col50\" class=\"data row9 col50\" >7.890000</td>\n                        <td id=\"T_9b375_row9_col51\" class=\"data row9 col51\" >10.060000</td>\n                        <td id=\"T_9b375_row9_col52\" class=\"data row9 col52\" >3.290000</td>\n                        <td id=\"T_9b375_row9_col53\" class=\"data row9 col53\" >3.170000</td>\n                        <td id=\"T_9b375_row9_col54\" class=\"data row9 col54\" >8.060000</td>\n                        <td id=\"T_9b375_row9_col55\" class=\"data row9 col55\" >4.820000</td>\n                        <td id=\"T_9b375_row9_col56\" class=\"data row9 col56\" >23.120000</td>\n                        <td id=\"T_9b375_row9_col57\" class=\"data row9 col57\" >23.240000</td>\n                        <td id=\"T_9b375_row9_col58\" class=\"data row9 col58\" >2.500000</td>\n                        <td id=\"T_9b375_row9_col59\" class=\"data row9 col59\" >10.960000</td>\n                        <td id=\"T_9b375_row9_col60\" class=\"data row9 col60\" >348.929699</td>\n                        <td id=\"T_9b375_row9_col61\" class=\"data row9 col61\" >110.953582</td>\n            </tr>\n    </tbody></table>"
     },
     "metadata": {},
     "execution_count": 7
    }
   ],
   "source": [
    "coloraze(df[df['name'].isin(top['name'])].head(VIEW_LIMIT), axis=0)"
   ]
  },
  {
   "cell_type": "markdown",
   "metadata": {},
   "source": [
    "## Cars with total score(group by mark and serie)"
   ]
  },
  {
   "cell_type": "code",
   "execution_count": 8,
   "metadata": {},
   "outputs": [
    {
     "output_type": "execute_result",
     "data": {
      "text/plain": [
       "     Marke                              Baureihe  \\\n",
       "151     VW            Golf (VIII) GTE (ab 08/20)   \n",
       "149     VW                Golf (VIII) (ab 12/19)   \n",
       "150     VW            Golf (VIII) GTD (ab 10/20)   \n",
       "147     VW                Golf (VIII) (ab 12/19)   \n",
       "148     VW                Golf (VIII) (ab 12/19)   \n",
       "146     VW                Golf (VIII) (ab 12/19)   \n",
       "152     VW            Golf (VIII) GTI (ab 08/20)   \n",
       "153     VW            Golf (VIII) GTI (ab 08/20)   \n",
       "133  Skoda  Octavia (IV) RS Limousine (ab 09/20)   \n",
       "57     KIA               Ceed (CD) GT (ab 01/19)   \n",
       "\n",
       "     Leistung maximal in kW (Systemleistung)  Total price  Total Score  \n",
       "151                                      180      37505.0       367.29  \n",
       "149                                      150      36770.0       365.11  \n",
       "150                                      147      41530.0       353.56  \n",
       "147                                       96      32735.0       353.29  \n",
       "148                                      110      38435.0       353.10  \n",
       "146                                       81      30945.0       350.83  \n",
       "152                                      180      41085.0       346.50  \n",
       "153                                      221      47240.0       341.17  \n",
       "133                                      147      46250.0       334.18  \n",
       "57                                       150      33250.0       333.44  "
      ],
      "text/html": "<div>\n<style scoped>\n    .dataframe tbody tr th:only-of-type {\n        vertical-align: middle;\n    }\n\n    .dataframe tbody tr th {\n        vertical-align: top;\n    }\n\n    .dataframe thead th {\n        text-align: right;\n    }\n</style>\n<table border=\"1\" class=\"dataframe\">\n  <thead>\n    <tr style=\"text-align: right;\">\n      <th></th>\n      <th>Marke</th>\n      <th>Baureihe</th>\n      <th>Leistung maximal in kW (Systemleistung)</th>\n      <th>Total price</th>\n      <th>Total Score</th>\n    </tr>\n  </thead>\n  <tbody>\n    <tr>\n      <th>151</th>\n      <td>VW</td>\n      <td>Golf (VIII) GTE (ab 08/20)</td>\n      <td>180</td>\n      <td>37505.0</td>\n      <td>367.29</td>\n    </tr>\n    <tr>\n      <th>149</th>\n      <td>VW</td>\n      <td>Golf (VIII) (ab 12/19)</td>\n      <td>150</td>\n      <td>36770.0</td>\n      <td>365.11</td>\n    </tr>\n    <tr>\n      <th>150</th>\n      <td>VW</td>\n      <td>Golf (VIII) GTD (ab 10/20)</td>\n      <td>147</td>\n      <td>41530.0</td>\n      <td>353.56</td>\n    </tr>\n    <tr>\n      <th>147</th>\n      <td>VW</td>\n      <td>Golf (VIII) (ab 12/19)</td>\n      <td>96</td>\n      <td>32735.0</td>\n      <td>353.29</td>\n    </tr>\n    <tr>\n      <th>148</th>\n      <td>VW</td>\n      <td>Golf (VIII) (ab 12/19)</td>\n      <td>110</td>\n      <td>38435.0</td>\n      <td>353.10</td>\n    </tr>\n    <tr>\n      <th>146</th>\n      <td>VW</td>\n      <td>Golf (VIII) (ab 12/19)</td>\n      <td>81</td>\n      <td>30945.0</td>\n      <td>350.83</td>\n    </tr>\n    <tr>\n      <th>152</th>\n      <td>VW</td>\n      <td>Golf (VIII) GTI (ab 08/20)</td>\n      <td>180</td>\n      <td>41085.0</td>\n      <td>346.50</td>\n    </tr>\n    <tr>\n      <th>153</th>\n      <td>VW</td>\n      <td>Golf (VIII) GTI (ab 08/20)</td>\n      <td>221</td>\n      <td>47240.0</td>\n      <td>341.17</td>\n    </tr>\n    <tr>\n      <th>133</th>\n      <td>Skoda</td>\n      <td>Octavia (IV) RS Limousine (ab 09/20)</td>\n      <td>147</td>\n      <td>46250.0</td>\n      <td>334.18</td>\n    </tr>\n    <tr>\n      <th>57</th>\n      <td>KIA</td>\n      <td>Ceed (CD) GT (ab 01/19)</td>\n      <td>150</td>\n      <td>33250.0</td>\n      <td>333.44</td>\n    </tr>\n  </tbody>\n</table>\n</div>"
     },
     "metadata": {},
     "execution_count": 8
    }
   ],
   "source": [
    "g = df.groupby(GROUP_COLS_MARK_SERIE_KW, as_index=False)\n",
    "costs_mean = g[[Column.TOTAL_PRICE, Column.TOTAL_SCORE]].agg({Column.TOTAL_PRICE: 'mean', Column.TOTAL_SCORE: 'mean'})\n",
    "costs_mean.sort_values(Column.TOTAL_SCORE, ascending=False).head(10).round(2)"
   ]
  },
  {
   "cell_type": "markdown",
   "metadata": {},
   "source": [
    "## Cars better than best Subaru Impreza"
   ]
  },
  {
   "cell_type": "code",
   "execution_count": 9,
   "metadata": {},
   "outputs": [
    {
     "output_type": "execute_result",
     "data": {
      "text/plain": [
       "{'name': 'Subaru Impreza 2.0i Exclusive Lineartronic (01/18 - 08/18)',\n",
       " 'Marke': 'Subaru',\n",
       " 'Baureihe': 'Impreza (V) (01/18 - 04/20)',\n",
       " 'Leistung maximal in kW (Systemleistung)': 115,\n",
       " 'Total price': 29050.0,\n",
       " 'my monthly costs': 593.0,\n",
       " 'Range': 629.92,\n",
       " 'AEB pedestrian': 5.0,\n",
       " 'navi ': 3.0,\n",
       " 'active headrest': 5.0,\n",
       " 'light autoswitch': 5.0,\n",
       " 'car2x': 0.0,\n",
       " 'Bremsassistent': 10.0,\n",
       " 'lane keep assist active': 10.0,\n",
       " 'autoparking': 0.0,\n",
       " 'LED lights': 10.0,\n",
       " 'adaptive lights': 10.0,\n",
       " 'traffic sign recognition': 0.0,\n",
       " 'AEB': 10.0,\n",
       " 'rear traffic alert': 10.0,\n",
       " 'Traffic jam': 0.0,\n",
       " 'LED matrix': 0.0,\n",
       " 'keyless': 10.0,\n",
       " 'Camera, 360, front, back': 6.428571428571428,\n",
       " 'adaptive cruise from 0 km': 10.0,\n",
       " 'safe, euroncap, iihs': 17.82,\n",
       " 'plugin hybrid': 0,\n",
       " 'automat not CVT': 3.333333333333333,\n",
       " '4x4': 5.0,\n",
       " 'plugin hybrid 2': 1.4000000000000001,\n",
       " 'Top speed': 2.35,\n",
       " 'km77 elktest': 5.33,\n",
       " 'testberichte': 0.67,\n",
       " 'Acceleration <10': 3.25,\n",
       " 'range up to 1000 km per tank': 5.85,\n",
       " 'side mirrors on door': 5.0,\n",
       " 'door till ground': 0.0,\n",
       " 'license on back bumper': 0.0,\n",
       " 'small length': 2.55,\n",
       " 'boot size,Fit 156 snowboard ': 1.58,\n",
       " 'noise': 4.5,\n",
       " 'acc with buttons': 5.0,\n",
       " 'no piano black': 1.67,\n",
       " 'easy entry(clearance or height of seats)': 3.35,\n",
       " 'digital speed': 0.0,\n",
       " 'HIFI audio': 0.0,\n",
       " 'white seats': 0.0,\n",
       " 'interior': 6.67,\n",
       " 'mobile warranty': 0.0,\n",
       " 'Garantie y': 7.777777777777778,\n",
       " 'Insurance 1': 4.11,\n",
       " 'Insurance 2': 7.64,\n",
       " 'Costs service': 8.96,\n",
       " 'Costs running': 8.65,\n",
       " 'Costs fixed': 9.75,\n",
       " 'Costs depreciation': 6.69,\n",
       " 'monthly costs': 10.49,\n",
       " 'price': 38.09,\n",
       " 'AGR': 0.0,\n",
       " 'ADAC additional equipment': 18.65,\n",
       " 'Total Score': 300.5596825396825,\n",
       " 'Euro per score': 96.65301664724964}"
      ]
     },
     "metadata": {},
     "execution_count": 9
    }
   ],
   "source": [
    "# NOTE should be sorted\n",
    "imprezas = df[df[Column.NAME].str.contains('Subaru Impreza 2.0i Exclusive')]\n",
    "\n",
    "top_impreza = imprezas.iloc[0]\n",
    "impreza_euro_per_score = top_impreza[Column.EURO_PER_SCORE]\n",
    "impreza_total_score = top_impreza[Column.TOTAL_SCORE]\n",
    "impreza_costs = top_impreza[Column.MY_M_COSTS]\n",
    "\n",
    "# imprezas\n",
    "top_impreza.to_dict()\n",
    "\n",
    "# NOTE: Total Score should be set!!!"
   ]
  },
  {
   "cell_type": "markdown",
   "metadata": {},
   "source": [
    "### Better in score"
   ]
  },
  {
   "cell_type": "code",
   "execution_count": 10,
   "metadata": {},
   "outputs": [
    {
     "output_type": "execute_result",
     "data": {
      "text/plain": [
       "                                                   name  Total price  \\\n",
       "5436                         VW Golf GTE DSG (ab 08/20)      37505.0   \n",
       "5434           VW Golf 1.4 eHybrid Style DSG (ab 08/20)      36770.0   \n",
       "4128          VW Golf 2.0 TDI SCR ACTIVE DSG (ab 01/21)      38035.0   \n",
       "4129           VW Golf 2.0 TDI SCR Style DSG (ab 09/20)      38555.0   \n",
       "4133                         VW Golf GTD DSG (ab 10/20)      41530.0   \n",
       "1844               VW Golf 1.5 eTSI Life DSG (ab 12/20)      32735.0   \n",
       "6321  Skoda Octavia RS Plus 2.0 TDI SCR 4x4 DSG (ab ...      47645.0   \n",
       "1839               VW Golf 1.0 eTSI Life DSG (ab 08/20)      30945.0   \n",
       "6320   Skoda Octavia RS Plus 2.0 TDI SCR DSG (ab 12/20)      45545.0   \n",
       "4130          VW Golf 2.0 TDI SCR R-Line DSG (ab 09/20)      38715.0   \n",
       "\n",
       "      Total Score  Euro per score  \n",
       "5436   367.293033      102.111929  \n",
       "5434   365.113033      100.708539  \n",
       "4128   355.304245      107.049101  \n",
       "4129   355.063033      108.586354  \n",
       "4133   353.559699      117.462483  \n",
       "1844   353.289699       92.657669  \n",
       "6321   351.840558      135.416452  \n",
       "1839   350.829699       88.205189  \n",
       "6320   350.170558      130.065190  \n",
       "4130   348.929699      110.953582  "
      ],
      "text/html": "<div>\n<style scoped>\n    .dataframe tbody tr th:only-of-type {\n        vertical-align: middle;\n    }\n\n    .dataframe tbody tr th {\n        vertical-align: top;\n    }\n\n    .dataframe thead th {\n        text-align: right;\n    }\n</style>\n<table border=\"1\" class=\"dataframe\">\n  <thead>\n    <tr style=\"text-align: right;\">\n      <th></th>\n      <th>name</th>\n      <th>Total price</th>\n      <th>Total Score</th>\n      <th>Euro per score</th>\n    </tr>\n  </thead>\n  <tbody>\n    <tr>\n      <th>5436</th>\n      <td>VW Golf GTE DSG (ab 08/20)</td>\n      <td>37505.0</td>\n      <td>367.293033</td>\n      <td>102.111929</td>\n    </tr>\n    <tr>\n      <th>5434</th>\n      <td>VW Golf 1.4 eHybrid Style DSG (ab 08/20)</td>\n      <td>36770.0</td>\n      <td>365.113033</td>\n      <td>100.708539</td>\n    </tr>\n    <tr>\n      <th>4128</th>\n      <td>VW Golf 2.0 TDI SCR ACTIVE DSG (ab 01/21)</td>\n      <td>38035.0</td>\n      <td>355.304245</td>\n      <td>107.049101</td>\n    </tr>\n    <tr>\n      <th>4129</th>\n      <td>VW Golf 2.0 TDI SCR Style DSG (ab 09/20)</td>\n      <td>38555.0</td>\n      <td>355.063033</td>\n      <td>108.586354</td>\n    </tr>\n    <tr>\n      <th>4133</th>\n      <td>VW Golf GTD DSG (ab 10/20)</td>\n      <td>41530.0</td>\n      <td>353.559699</td>\n      <td>117.462483</td>\n    </tr>\n    <tr>\n      <th>1844</th>\n      <td>VW Golf 1.5 eTSI Life DSG (ab 12/20)</td>\n      <td>32735.0</td>\n      <td>353.289699</td>\n      <td>92.657669</td>\n    </tr>\n    <tr>\n      <th>6321</th>\n      <td>Skoda Octavia RS Plus 2.0 TDI SCR 4x4 DSG (ab ...</td>\n      <td>47645.0</td>\n      <td>351.840558</td>\n      <td>135.416452</td>\n    </tr>\n    <tr>\n      <th>1839</th>\n      <td>VW Golf 1.0 eTSI Life DSG (ab 08/20)</td>\n      <td>30945.0</td>\n      <td>350.829699</td>\n      <td>88.205189</td>\n    </tr>\n    <tr>\n      <th>6320</th>\n      <td>Skoda Octavia RS Plus 2.0 TDI SCR DSG (ab 12/20)</td>\n      <td>45545.0</td>\n      <td>350.170558</td>\n      <td>130.065190</td>\n    </tr>\n    <tr>\n      <th>4130</th>\n      <td>VW Golf 2.0 TDI SCR R-Line DSG (ab 09/20)</td>\n      <td>38715.0</td>\n      <td>348.929699</td>\n      <td>110.953582</td>\n    </tr>\n  </tbody>\n</table>\n</div>"
     },
     "metadata": {},
     "execution_count": 10
    }
   ],
   "source": [
    "df[df[Column.TOTAL_SCORE] > impreza_total_score][VIEW_COLUMNS].head(VIEW_LIMIT)"
   ]
  },
  {
   "cell_type": "markdown",
   "metadata": {},
   "source": [
    "### Better in euro per score"
   ]
  },
  {
   "cell_type": "code",
   "execution_count": 11,
   "metadata": {},
   "outputs": [
    {
     "output_type": "execute_result",
     "data": {
      "text/plain": [
       "                                                   name  Total price  \\\n",
       "1844               VW Golf 1.5 eTSI Life DSG (ab 12/20)     32735.00   \n",
       "1839               VW Golf 1.0 eTSI Life DSG (ab 08/20)     30945.00   \n",
       "3393       Hyundai IONIQ PlugIn-Hybrid Prime (ab 07/20)     32940.00   \n",
       "1283      KIA Ceed 1.5 T-GDI 48V Spirit DCT7 (ab 03/21)     30000.00   \n",
       "1279          KIA Ceed 1.5 T-GDI Spirit DCT7 (ab 03/21)     29250.00   \n",
       "1284     KIA Ceed 1.5 T-GDI 48V GT Line DCT7 (ab 03/21)     30900.00   \n",
       "1281         KIA Ceed 1.5 T-GDI GT Line DCT7 (ab 03/21)     30150.00   \n",
       "3392       Hyundai IONIQ PlugIn-Hybrid Style (ab 07/20)     30440.00   \n",
       "663   Opel Corsa 1.2 DI Turbo GS Line Automatik (ab ...     25470.00   \n",
       "1521  Opel Corsa 1.2 DI Turbo Ultimate Automatik (ab...     28548.33   \n",
       "\n",
       "      Total Score  Euro per score  \n",
       "1844   353.289699       92.657669  \n",
       "1839   350.829699       88.205189  \n",
       "3393   341.740855       96.388827  \n",
       "1283   339.896769       88.262092  \n",
       "1279   339.236769       86.222965  \n",
       "1284   338.426769       91.304834  \n",
       "1281   337.766769       89.262778  \n",
       "3392   336.280855       90.519575  \n",
       "663    333.031639       76.479220  \n",
       "1521   332.197194       85.937902  "
      ],
      "text/html": "<div>\n<style scoped>\n    .dataframe tbody tr th:only-of-type {\n        vertical-align: middle;\n    }\n\n    .dataframe tbody tr th {\n        vertical-align: top;\n    }\n\n    .dataframe thead th {\n        text-align: right;\n    }\n</style>\n<table border=\"1\" class=\"dataframe\">\n  <thead>\n    <tr style=\"text-align: right;\">\n      <th></th>\n      <th>name</th>\n      <th>Total price</th>\n      <th>Total Score</th>\n      <th>Euro per score</th>\n    </tr>\n  </thead>\n  <tbody>\n    <tr>\n      <th>1844</th>\n      <td>VW Golf 1.5 eTSI Life DSG (ab 12/20)</td>\n      <td>32735.00</td>\n      <td>353.289699</td>\n      <td>92.657669</td>\n    </tr>\n    <tr>\n      <th>1839</th>\n      <td>VW Golf 1.0 eTSI Life DSG (ab 08/20)</td>\n      <td>30945.00</td>\n      <td>350.829699</td>\n      <td>88.205189</td>\n    </tr>\n    <tr>\n      <th>3393</th>\n      <td>Hyundai IONIQ PlugIn-Hybrid Prime (ab 07/20)</td>\n      <td>32940.00</td>\n      <td>341.740855</td>\n      <td>96.388827</td>\n    </tr>\n    <tr>\n      <th>1283</th>\n      <td>KIA Ceed 1.5 T-GDI 48V Spirit DCT7 (ab 03/21)</td>\n      <td>30000.00</td>\n      <td>339.896769</td>\n      <td>88.262092</td>\n    </tr>\n    <tr>\n      <th>1279</th>\n      <td>KIA Ceed 1.5 T-GDI Spirit DCT7 (ab 03/21)</td>\n      <td>29250.00</td>\n      <td>339.236769</td>\n      <td>86.222965</td>\n    </tr>\n    <tr>\n      <th>1284</th>\n      <td>KIA Ceed 1.5 T-GDI 48V GT Line DCT7 (ab 03/21)</td>\n      <td>30900.00</td>\n      <td>338.426769</td>\n      <td>91.304834</td>\n    </tr>\n    <tr>\n      <th>1281</th>\n      <td>KIA Ceed 1.5 T-GDI GT Line DCT7 (ab 03/21)</td>\n      <td>30150.00</td>\n      <td>337.766769</td>\n      <td>89.262778</td>\n    </tr>\n    <tr>\n      <th>3392</th>\n      <td>Hyundai IONIQ PlugIn-Hybrid Style (ab 07/20)</td>\n      <td>30440.00</td>\n      <td>336.280855</td>\n      <td>90.519575</td>\n    </tr>\n    <tr>\n      <th>663</th>\n      <td>Opel Corsa 1.2 DI Turbo GS Line Automatik (ab ...</td>\n      <td>25470.00</td>\n      <td>333.031639</td>\n      <td>76.479220</td>\n    </tr>\n    <tr>\n      <th>1521</th>\n      <td>Opel Corsa 1.2 DI Turbo Ultimate Automatik (ab...</td>\n      <td>28548.33</td>\n      <td>332.197194</td>\n      <td>85.937902</td>\n    </tr>\n  </tbody>\n</table>\n</div>"
     },
     "metadata": {},
     "execution_count": 11
    }
   ],
   "source": [
    "df[df[Column.EURO_PER_SCORE] < impreza_euro_per_score][VIEW_COLUMNS].head(VIEW_LIMIT)"
   ]
  },
  {
   "cell_type": "markdown",
   "metadata": {},
   "source": [
    "### Better in costs"
   ]
  },
  {
   "cell_type": "code",
   "execution_count": 12,
   "metadata": {},
   "outputs": [
    {
     "output_type": "execute_result",
     "data": {
      "text/plain": [
       "                                                   name  Total price  \\\n",
       "5436                         VW Golf GTE DSG (ab 08/20)      37505.0   \n",
       "5434           VW Golf 1.4 eHybrid Style DSG (ab 08/20)      36770.0   \n",
       "4128          VW Golf 2.0 TDI SCR ACTIVE DSG (ab 01/21)      38035.0   \n",
       "4129           VW Golf 2.0 TDI SCR Style DSG (ab 09/20)      38555.0   \n",
       "4133                         VW Golf GTD DSG (ab 10/20)      41530.0   \n",
       "1844               VW Golf 1.5 eTSI Life DSG (ab 12/20)      32735.0   \n",
       "6321  Skoda Octavia RS Plus 2.0 TDI SCR 4x4 DSG (ab ...      47645.0   \n",
       "1839               VW Golf 1.0 eTSI Life DSG (ab 08/20)      30945.0   \n",
       "6320   Skoda Octavia RS Plus 2.0 TDI SCR DSG (ab 12/20)      45545.0   \n",
       "4130          VW Golf 2.0 TDI SCR R-Line DSG (ab 09/20)      38715.0   \n",
       "\n",
       "      Total Score  Euro per score  \n",
       "5436   367.293033      102.111929  \n",
       "5434   365.113033      100.708539  \n",
       "4128   355.304245      107.049101  \n",
       "4129   355.063033      108.586354  \n",
       "4133   353.559699      117.462483  \n",
       "1844   353.289699       92.657669  \n",
       "6321   351.840558      135.416452  \n",
       "1839   350.829699       88.205189  \n",
       "6320   350.170558      130.065190  \n",
       "4130   348.929699      110.953582  "
      ],
      "text/html": "<div>\n<style scoped>\n    .dataframe tbody tr th:only-of-type {\n        vertical-align: middle;\n    }\n\n    .dataframe tbody tr th {\n        vertical-align: top;\n    }\n\n    .dataframe thead th {\n        text-align: right;\n    }\n</style>\n<table border=\"1\" class=\"dataframe\">\n  <thead>\n    <tr style=\"text-align: right;\">\n      <th></th>\n      <th>name</th>\n      <th>Total price</th>\n      <th>Total Score</th>\n      <th>Euro per score</th>\n    </tr>\n  </thead>\n  <tbody>\n    <tr>\n      <th>5436</th>\n      <td>VW Golf GTE DSG (ab 08/20)</td>\n      <td>37505.0</td>\n      <td>367.293033</td>\n      <td>102.111929</td>\n    </tr>\n    <tr>\n      <th>5434</th>\n      <td>VW Golf 1.4 eHybrid Style DSG (ab 08/20)</td>\n      <td>36770.0</td>\n      <td>365.113033</td>\n      <td>100.708539</td>\n    </tr>\n    <tr>\n      <th>4128</th>\n      <td>VW Golf 2.0 TDI SCR ACTIVE DSG (ab 01/21)</td>\n      <td>38035.0</td>\n      <td>355.304245</td>\n      <td>107.049101</td>\n    </tr>\n    <tr>\n      <th>4129</th>\n      <td>VW Golf 2.0 TDI SCR Style DSG (ab 09/20)</td>\n      <td>38555.0</td>\n      <td>355.063033</td>\n      <td>108.586354</td>\n    </tr>\n    <tr>\n      <th>4133</th>\n      <td>VW Golf GTD DSG (ab 10/20)</td>\n      <td>41530.0</td>\n      <td>353.559699</td>\n      <td>117.462483</td>\n    </tr>\n    <tr>\n      <th>1844</th>\n      <td>VW Golf 1.5 eTSI Life DSG (ab 12/20)</td>\n      <td>32735.0</td>\n      <td>353.289699</td>\n      <td>92.657669</td>\n    </tr>\n    <tr>\n      <th>6321</th>\n      <td>Skoda Octavia RS Plus 2.0 TDI SCR 4x4 DSG (ab ...</td>\n      <td>47645.0</td>\n      <td>351.840558</td>\n      <td>135.416452</td>\n    </tr>\n    <tr>\n      <th>1839</th>\n      <td>VW Golf 1.0 eTSI Life DSG (ab 08/20)</td>\n      <td>30945.0</td>\n      <td>350.829699</td>\n      <td>88.205189</td>\n    </tr>\n    <tr>\n      <th>6320</th>\n      <td>Skoda Octavia RS Plus 2.0 TDI SCR DSG (ab 12/20)</td>\n      <td>45545.0</td>\n      <td>350.170558</td>\n      <td>130.065190</td>\n    </tr>\n    <tr>\n      <th>4130</th>\n      <td>VW Golf 2.0 TDI SCR R-Line DSG (ab 09/20)</td>\n      <td>38715.0</td>\n      <td>348.929699</td>\n      <td>110.953582</td>\n    </tr>\n  </tbody>\n</table>\n</div>"
     },
     "metadata": {},
     "execution_count": 12
    }
   ],
   "source": [
    "df[df[Column.MY_M_COSTS] < impreza_costs][VIEW_COLUMNS].head(VIEW_LIMIT)"
   ]
  },
  {
   "cell_type": "markdown",
   "metadata": {},
   "source": [
    "### Better in everything"
   ]
  },
  {
   "cell_type": "code",
   "execution_count": 13,
   "metadata": {},
   "outputs": [
    {
     "output_type": "execute_result",
     "data": {
      "text/plain": [
       "                                                   name  Total price  \\\n",
       "1844               VW Golf 1.5 eTSI Life DSG (ab 12/20)     32735.00   \n",
       "1839               VW Golf 1.0 eTSI Life DSG (ab 08/20)     30945.00   \n",
       "3393       Hyundai IONIQ PlugIn-Hybrid Prime (ab 07/20)     32940.00   \n",
       "1283      KIA Ceed 1.5 T-GDI 48V Spirit DCT7 (ab 03/21)     30000.00   \n",
       "1279          KIA Ceed 1.5 T-GDI Spirit DCT7 (ab 03/21)     29250.00   \n",
       "1284     KIA Ceed 1.5 T-GDI 48V GT Line DCT7 (ab 03/21)     30900.00   \n",
       "1281         KIA Ceed 1.5 T-GDI GT Line DCT7 (ab 03/21)     30150.00   \n",
       "3392       Hyundai IONIQ PlugIn-Hybrid Style (ab 07/20)     30440.00   \n",
       "663   Opel Corsa 1.2 DI Turbo GS Line Automatik (ab ...     25470.00   \n",
       "1521  Opel Corsa 1.2 DI Turbo Ultimate Automatik (ab...     28548.33   \n",
       "\n",
       "      Total Score  Euro per score  \n",
       "1844   353.289699       92.657669  \n",
       "1839   350.829699       88.205189  \n",
       "3393   341.740855       96.388827  \n",
       "1283   339.896769       88.262092  \n",
       "1279   339.236769       86.222965  \n",
       "1284   338.426769       91.304834  \n",
       "1281   337.766769       89.262778  \n",
       "3392   336.280855       90.519575  \n",
       "663    333.031639       76.479220  \n",
       "1521   332.197194       85.937902  "
      ],
      "text/html": "<div>\n<style scoped>\n    .dataframe tbody tr th:only-of-type {\n        vertical-align: middle;\n    }\n\n    .dataframe tbody tr th {\n        vertical-align: top;\n    }\n\n    .dataframe thead th {\n        text-align: right;\n    }\n</style>\n<table border=\"1\" class=\"dataframe\">\n  <thead>\n    <tr style=\"text-align: right;\">\n      <th></th>\n      <th>name</th>\n      <th>Total price</th>\n      <th>Total Score</th>\n      <th>Euro per score</th>\n    </tr>\n  </thead>\n  <tbody>\n    <tr>\n      <th>1844</th>\n      <td>VW Golf 1.5 eTSI Life DSG (ab 12/20)</td>\n      <td>32735.00</td>\n      <td>353.289699</td>\n      <td>92.657669</td>\n    </tr>\n    <tr>\n      <th>1839</th>\n      <td>VW Golf 1.0 eTSI Life DSG (ab 08/20)</td>\n      <td>30945.00</td>\n      <td>350.829699</td>\n      <td>88.205189</td>\n    </tr>\n    <tr>\n      <th>3393</th>\n      <td>Hyundai IONIQ PlugIn-Hybrid Prime (ab 07/20)</td>\n      <td>32940.00</td>\n      <td>341.740855</td>\n      <td>96.388827</td>\n    </tr>\n    <tr>\n      <th>1283</th>\n      <td>KIA Ceed 1.5 T-GDI 48V Spirit DCT7 (ab 03/21)</td>\n      <td>30000.00</td>\n      <td>339.896769</td>\n      <td>88.262092</td>\n    </tr>\n    <tr>\n      <th>1279</th>\n      <td>KIA Ceed 1.5 T-GDI Spirit DCT7 (ab 03/21)</td>\n      <td>29250.00</td>\n      <td>339.236769</td>\n      <td>86.222965</td>\n    </tr>\n    <tr>\n      <th>1284</th>\n      <td>KIA Ceed 1.5 T-GDI 48V GT Line DCT7 (ab 03/21)</td>\n      <td>30900.00</td>\n      <td>338.426769</td>\n      <td>91.304834</td>\n    </tr>\n    <tr>\n      <th>1281</th>\n      <td>KIA Ceed 1.5 T-GDI GT Line DCT7 (ab 03/21)</td>\n      <td>30150.00</td>\n      <td>337.766769</td>\n      <td>89.262778</td>\n    </tr>\n    <tr>\n      <th>3392</th>\n      <td>Hyundai IONIQ PlugIn-Hybrid Style (ab 07/20)</td>\n      <td>30440.00</td>\n      <td>336.280855</td>\n      <td>90.519575</td>\n    </tr>\n    <tr>\n      <th>663</th>\n      <td>Opel Corsa 1.2 DI Turbo GS Line Automatik (ab ...</td>\n      <td>25470.00</td>\n      <td>333.031639</td>\n      <td>76.479220</td>\n    </tr>\n    <tr>\n      <th>1521</th>\n      <td>Opel Corsa 1.2 DI Turbo Ultimate Automatik (ab...</td>\n      <td>28548.33</td>\n      <td>332.197194</td>\n      <td>85.937902</td>\n    </tr>\n  </tbody>\n</table>\n</div>"
     },
     "metadata": {},
     "execution_count": 13
    }
   ],
   "source": [
    "d = df[(df[Column.TOTAL_SCORE] > impreza_total_score) & (df[Column.EURO_PER_SCORE] < impreza_euro_per_score) & (df[Column.MY_M_COSTS] < impreza_costs)]\n",
    "d[VIEW_COLUMNS].head(VIEW_LIMIT)"
   ]
  },
  {
   "cell_type": "code",
   "execution_count": 14,
   "metadata": {},
   "outputs": [],
   "source": [
    "coloraze(d, axis=0).to_excel('/tmp/best_cars.xlsx')"
   ]
  }
 ],
 "metadata": {
  "language_info": {
   "codemirror_mode": {
    "name": "ipython",
    "version": 3
   },
   "file_extension": ".py",
   "mimetype": "text/x-python",
   "name": "python",
   "nbconvert_exporter": "python",
   "pygments_lexer": "ipython3",
   "version": "3.8.5-final"
  },
  "orig_nbformat": 2,
  "kernelspec": {
   "name": "python38564bitvenv02c679b741e94b6f95f18372eb4f448a",
   "display_name": "Python 3.8.5 64-bit ('.venv')"
  },
  "metadata": {
   "interpreter": {
    "hash": "cee5e51e07f067525111a4a8daee22eb902da2fc83df62795d61abd47aae3cb1"
   }
  }
 },
 "nbformat": 4,
 "nbformat_minor": 2
}