{
 "cells": [
  {
   "cell_type": "markdown",
   "metadata": {},
   "source": [
    "# Finding best car\n",
    "## Show top cars with least monthly costs"
   ]
  },
  {
   "cell_type": "code",
   "execution_count": 2,
   "metadata": {
    "tags": []
   },
   "outputs": [
    {
     "output_type": "execute_result",
     "data": {
      "text/plain": [
       "      Marke                                 Baureihe  Leistung maximal in kW  \\\n",
       "552  Toyota                 Corolla (E21) (ab 04/19)                      90   \n",
       "555  Toyota  Corolla (E21) Touring Sports (ab 04/19)                      90   \n",
       "554  Toyota      Corolla (E21) Stufenheck (ab 04/19)                      90   \n",
       "516   Skoda            Octavia (IV) Combi (ab 04/20)                      96   \n",
       "520   Skoda        Octavia (IV) Limousine (ab 04/20)                      96   \n",
       "\n",
       "     Total price  my monthly costs  \n",
       "552      28856.0             357.0  \n",
       "555      30568.0             359.0  \n",
       "554      29968.0             363.0  \n",
       "516      37338.0             368.0  \n",
       "520      36655.0             370.0  "
      ],
      "text/html": "<div>\n<style scoped>\n    .dataframe tbody tr th:only-of-type {\n        vertical-align: middle;\n    }\n\n    .dataframe tbody tr th {\n        vertical-align: top;\n    }\n\n    .dataframe thead th {\n        text-align: right;\n    }\n</style>\n<table border=\"1\" class=\"dataframe\">\n  <thead>\n    <tr style=\"text-align: right;\">\n      <th></th>\n      <th>Marke</th>\n      <th>Baureihe</th>\n      <th>Leistung maximal in kW</th>\n      <th>Total price</th>\n      <th>my monthly costs</th>\n    </tr>\n  </thead>\n  <tbody>\n    <tr>\n      <th>552</th>\n      <td>Toyota</td>\n      <td>Corolla (E21) (ab 04/19)</td>\n      <td>90</td>\n      <td>28856.0</td>\n      <td>357.0</td>\n    </tr>\n    <tr>\n      <th>555</th>\n      <td>Toyota</td>\n      <td>Corolla (E21) Touring Sports (ab 04/19)</td>\n      <td>90</td>\n      <td>30568.0</td>\n      <td>359.0</td>\n    </tr>\n    <tr>\n      <th>554</th>\n      <td>Toyota</td>\n      <td>Corolla (E21) Stufenheck (ab 04/19)</td>\n      <td>90</td>\n      <td>29968.0</td>\n      <td>363.0</td>\n    </tr>\n    <tr>\n      <th>516</th>\n      <td>Skoda</td>\n      <td>Octavia (IV) Combi (ab 04/20)</td>\n      <td>96</td>\n      <td>37338.0</td>\n      <td>368.0</td>\n    </tr>\n    <tr>\n      <th>520</th>\n      <td>Skoda</td>\n      <td>Octavia (IV) Limousine (ab 04/20)</td>\n      <td>96</td>\n      <td>36655.0</td>\n      <td>370.0</td>\n    </tr>\n  </tbody>\n</table>\n</div>"
     },
     "metadata": {},
     "execution_count": 2
    }
   ],
   "source": [
    "from find_best_car import (\n",
    "    _get_df_with_cost_to_own, \n",
    "    Column, \n",
    "    get_scored_df\n",
    ")\n",
    "import pandas as pd\n",
    "from numpy import nan\n",
    "\n",
    "import seaborn as sns\n",
    "\n",
    "def coloraze(df, axis=1):\n",
    "    cm = sns.light_palette(\"seagreen\", as_cmap=True)\n",
    "    return df.style.background_gradient(cmap=cm, axis=axis)\n",
    "\n",
    "GROUP_COLS_MARK_SERIE_KW = [Column.MARK, Column.SERIE, Column.PERFORMANCE_KW]\n",
    "\n",
    "df = _get_df_with_cost_to_own(de_discount=True)\n",
    "\n",
    "g = df.groupby(GROUP_COLS_MARK_SERIE_KW, as_index=False)\n",
    "costs_mean = g[[Column.TOTAL_PRICE, Column.MY_M_COSTS]].mean()\n",
    "costs_mean.sort_values(Column.MY_M_COSTS).head(5).round(0)"
   ]
  },
  {
   "cell_type": "markdown",
   "metadata": {},
   "source": [
    "## Cars with lowest monthly costs"
   ]
  },
  {
   "cell_type": "code",
   "execution_count": 3,
   "metadata": {},
   "outputs": [
    {
     "output_type": "execute_result",
     "data": {
      "text/plain": [
       "       Marke                                 Baureihe  Leistung maximal in kW  \\\n",
       "552   Toyota                 Corolla (E21) (ab 04/19)                      90   \n",
       "555   Toyota  Corolla (E21) Touring Sports (ab 04/19)                      90   \n",
       "554   Toyota      Corolla (E21) Stufenheck (ab 04/19)                      90   \n",
       "516    Skoda            Octavia (IV) Combi (ab 04/20)                      96   \n",
       "520    Skoda        Octavia (IV) Limousine (ab 04/20)                      96   \n",
       "569       VW                   Golf (VIII) (ab 12/19)                      96   \n",
       "204  Hyundai            IONIQ (AE) Elektro (ab 09/19)                     100   \n",
       "297     MINI   MINI (F56) Electric 3-Türer (ab 03/20)                     135   \n",
       "563   Toyota                  Yaris (XP21) (ab 09/20)                      85   \n",
       "553   Toyota                 Corolla (E21) (ab 04/19)                     135   \n",
       "\n",
       "     Total price  my monthly costs  \n",
       "552      28856.0             357.0  \n",
       "555      30568.0             359.0  \n",
       "554      29968.0             363.0  \n",
       "516      37338.0             368.0  \n",
       "520      36655.0             370.0  \n",
       "569      33554.0             371.0  \n",
       "204      31678.0             373.0  \n",
       "297      30897.0             375.0  \n",
       "563      23792.0             376.0  \n",
       "553      32821.0             380.0  "
      ],
      "text/html": "<div>\n<style scoped>\n    .dataframe tbody tr th:only-of-type {\n        vertical-align: middle;\n    }\n\n    .dataframe tbody tr th {\n        vertical-align: top;\n    }\n\n    .dataframe thead th {\n        text-align: right;\n    }\n</style>\n<table border=\"1\" class=\"dataframe\">\n  <thead>\n    <tr style=\"text-align: right;\">\n      <th></th>\n      <th>Marke</th>\n      <th>Baureihe</th>\n      <th>Leistung maximal in kW</th>\n      <th>Total price</th>\n      <th>my monthly costs</th>\n    </tr>\n  </thead>\n  <tbody>\n    <tr>\n      <th>552</th>\n      <td>Toyota</td>\n      <td>Corolla (E21) (ab 04/19)</td>\n      <td>90</td>\n      <td>28856.0</td>\n      <td>357.0</td>\n    </tr>\n    <tr>\n      <th>555</th>\n      <td>Toyota</td>\n      <td>Corolla (E21) Touring Sports (ab 04/19)</td>\n      <td>90</td>\n      <td>30568.0</td>\n      <td>359.0</td>\n    </tr>\n    <tr>\n      <th>554</th>\n      <td>Toyota</td>\n      <td>Corolla (E21) Stufenheck (ab 04/19)</td>\n      <td>90</td>\n      <td>29968.0</td>\n      <td>363.0</td>\n    </tr>\n    <tr>\n      <th>516</th>\n      <td>Skoda</td>\n      <td>Octavia (IV) Combi (ab 04/20)</td>\n      <td>96</td>\n      <td>37338.0</td>\n      <td>368.0</td>\n    </tr>\n    <tr>\n      <th>520</th>\n      <td>Skoda</td>\n      <td>Octavia (IV) Limousine (ab 04/20)</td>\n      <td>96</td>\n      <td>36655.0</td>\n      <td>370.0</td>\n    </tr>\n    <tr>\n      <th>569</th>\n      <td>VW</td>\n      <td>Golf (VIII) (ab 12/19)</td>\n      <td>96</td>\n      <td>33554.0</td>\n      <td>371.0</td>\n    </tr>\n    <tr>\n      <th>204</th>\n      <td>Hyundai</td>\n      <td>IONIQ (AE) Elektro (ab 09/19)</td>\n      <td>100</td>\n      <td>31678.0</td>\n      <td>373.0</td>\n    </tr>\n    <tr>\n      <th>297</th>\n      <td>MINI</td>\n      <td>MINI (F56) Electric 3-Türer (ab 03/20)</td>\n      <td>135</td>\n      <td>30897.0</td>\n      <td>375.0</td>\n    </tr>\n    <tr>\n      <th>563</th>\n      <td>Toyota</td>\n      <td>Yaris (XP21) (ab 09/20)</td>\n      <td>85</td>\n      <td>23792.0</td>\n      <td>376.0</td>\n    </tr>\n    <tr>\n      <th>553</th>\n      <td>Toyota</td>\n      <td>Corolla (E21) (ab 04/19)</td>\n      <td>135</td>\n      <td>32821.0</td>\n      <td>380.0</td>\n    </tr>\n  </tbody>\n</table>\n</div>"
     },
     "metadata": {},
     "execution_count": 3
    }
   ],
   "source": [
    "costs_mean.sort_values(Column.MY_M_COSTS).round(0).head(10)"
   ]
  },
  {
   "cell_type": "markdown",
   "metadata": {},
   "source": [
    "## Find missing data in input excel"
   ]
  },
  {
   "cell_type": "code",
   "execution_count": 4,
   "metadata": {
    "tags": []
   },
   "outputs": [
    {
     "output_type": "stream",
     "name": "stdout",
     "text": [
      "Bad column: boot size,Fit 156 snowboard \n"
     ]
    }
   ],
   "source": [
    "\n",
    "df = get_scored_df(de_discount=True)\n",
    "\n",
    "for col in df.columns:\n",
    "    uniq_vals = df[col]\n",
    "    if uniq_vals.isnull().values.any():\n",
    "        print(f\"Bad column: {col}\")\n"
   ]
  },
  {
   "cell_type": "code",
   "execution_count": 5,
   "metadata": {
    "tags": []
   },
   "outputs": [
    {
     "output_type": "execute_result",
     "data": {
      "text/plain": [
       "     Marke                             Baureihe\n",
       "1198  Audi         A1 (GB) Sportback (ab 11/18)\n",
       "1203  Audi        A1 (GB) citycarver (ab 09/19)\n",
       "2161  Audi         A3 (8Y) Limousine (ab 06/20)\n",
       "3174  Audi         A3 (8Y) Sportback (ab 05/20)\n",
       "2156  Audi  A3 (8Y) Sportback g-tron (ab 10/20)\n",
       "...    ...                                  ...\n",
       "3146    VW                     T-Roc (ab 11/17)\n",
       "3153    VW           T-Roc Cabriolet (ab 03/20)\n",
       "5695    VW                   T-Roc R (ab 09/19)\n",
       "3135    VW               Tiguan (II) (ab 09/20)\n",
       "6608    VW      Tiguan (II) Allspace (ab 09/17)\n",
       "\n",
       "[78 rows x 2 columns]"
      ],
      "text/html": "<div>\n<style scoped>\n    .dataframe tbody tr th:only-of-type {\n        vertical-align: middle;\n    }\n\n    .dataframe tbody tr th {\n        vertical-align: top;\n    }\n\n    .dataframe thead th {\n        text-align: right;\n    }\n</style>\n<table border=\"1\" class=\"dataframe\">\n  <thead>\n    <tr style=\"text-align: right;\">\n      <th></th>\n      <th>Marke</th>\n      <th>Baureihe</th>\n    </tr>\n  </thead>\n  <tbody>\n    <tr>\n      <th>1198</th>\n      <td>Audi</td>\n      <td>A1 (GB) Sportback (ab 11/18)</td>\n    </tr>\n    <tr>\n      <th>1203</th>\n      <td>Audi</td>\n      <td>A1 (GB) citycarver (ab 09/19)</td>\n    </tr>\n    <tr>\n      <th>2161</th>\n      <td>Audi</td>\n      <td>A3 (8Y) Limousine (ab 06/20)</td>\n    </tr>\n    <tr>\n      <th>3174</th>\n      <td>Audi</td>\n      <td>A3 (8Y) Sportback (ab 05/20)</td>\n    </tr>\n    <tr>\n      <th>2156</th>\n      <td>Audi</td>\n      <td>A3 (8Y) Sportback g-tron (ab 10/20)</td>\n    </tr>\n    <tr>\n      <th>...</th>\n      <td>...</td>\n      <td>...</td>\n    </tr>\n    <tr>\n      <th>3146</th>\n      <td>VW</td>\n      <td>T-Roc (ab 11/17)</td>\n    </tr>\n    <tr>\n      <th>3153</th>\n      <td>VW</td>\n      <td>T-Roc Cabriolet (ab 03/20)</td>\n    </tr>\n    <tr>\n      <th>5695</th>\n      <td>VW</td>\n      <td>T-Roc R (ab 09/19)</td>\n    </tr>\n    <tr>\n      <th>3135</th>\n      <td>VW</td>\n      <td>Tiguan (II) (ab 09/20)</td>\n    </tr>\n    <tr>\n      <th>6608</th>\n      <td>VW</td>\n      <td>Tiguan (II) Allspace (ab 09/17)</td>\n    </tr>\n  </tbody>\n</table>\n<p>78 rows × 2 columns</p>\n</div>"
     },
     "metadata": {},
     "execution_count": 5
    }
   ],
   "source": [
    "cols = ['Marke', 'Baureihe']\n",
    "df[cols].drop_duplicates(subset=cols).sort_values(cols)"
   ]
  },
  {
   "cell_type": "markdown",
   "metadata": {},
   "source": [
    "# Most suitable cars"
   ]
  },
  {
   "cell_type": "code",
   "execution_count": 6,
   "metadata": {},
   "outputs": [
    {
     "output_type": "execute_result",
     "data": {
      "text/plain": [
       "                                          name  my monthly costs  Total Score\n",
       "4406  VW Golf 1.4 eHybrid Style DSG (ab 08/20)             437.0   282.659720\n",
       "5663                VW Golf GTE DSG (ab 08/20)             505.0   275.139720\n",
       "2090          VW Golf 1.0 eTSI Life (ab 08/20)             417.0   271.691515\n",
       "3105     VW Golf 1.5 eTSI Style DSG (ab 09/20)             457.0   271.038182\n",
       "2099      VW Golf 1.5 eTSI Life DSG (ab 09/20)             440.0   270.961515\n",
       "2091        VW Golf 1.0 eTSI UNITED (ab 08/20)             417.0   270.293053\n",
       "3106    VW Golf 1.5 eTSI UNITED DSG (ab 09/20)             440.0   269.593053\n",
       "2102  VW Golf Variant 1.0 eTSI Life (ab 11/20)             422.0   268.653053\n",
       "3107    VW Golf 1.5 eTSI R-Line DSG (ab 09/20)             461.0   267.973053\n",
       "3110  VW Golf 2.0 TDI SCR Style DSG (ab 09/20)             438.0   262.498182"
      ],
      "text/html": "<div>\n<style scoped>\n    .dataframe tbody tr th:only-of-type {\n        vertical-align: middle;\n    }\n\n    .dataframe tbody tr th {\n        vertical-align: top;\n    }\n\n    .dataframe thead th {\n        text-align: right;\n    }\n</style>\n<table border=\"1\" class=\"dataframe\">\n  <thead>\n    <tr style=\"text-align: right;\">\n      <th></th>\n      <th>name</th>\n      <th>my monthly costs</th>\n      <th>Total Score</th>\n    </tr>\n  </thead>\n  <tbody>\n    <tr>\n      <th>4406</th>\n      <td>VW Golf 1.4 eHybrid Style DSG (ab 08/20)</td>\n      <td>437.0</td>\n      <td>282.659720</td>\n    </tr>\n    <tr>\n      <th>5663</th>\n      <td>VW Golf GTE DSG (ab 08/20)</td>\n      <td>505.0</td>\n      <td>275.139720</td>\n    </tr>\n    <tr>\n      <th>2090</th>\n      <td>VW Golf 1.0 eTSI Life (ab 08/20)</td>\n      <td>417.0</td>\n      <td>271.691515</td>\n    </tr>\n    <tr>\n      <th>3105</th>\n      <td>VW Golf 1.5 eTSI Style DSG (ab 09/20)</td>\n      <td>457.0</td>\n      <td>271.038182</td>\n    </tr>\n    <tr>\n      <th>2099</th>\n      <td>VW Golf 1.5 eTSI Life DSG (ab 09/20)</td>\n      <td>440.0</td>\n      <td>270.961515</td>\n    </tr>\n    <tr>\n      <th>2091</th>\n      <td>VW Golf 1.0 eTSI UNITED (ab 08/20)</td>\n      <td>417.0</td>\n      <td>270.293053</td>\n    </tr>\n    <tr>\n      <th>3106</th>\n      <td>VW Golf 1.5 eTSI UNITED DSG (ab 09/20)</td>\n      <td>440.0</td>\n      <td>269.593053</td>\n    </tr>\n    <tr>\n      <th>2102</th>\n      <td>VW Golf Variant 1.0 eTSI Life (ab 11/20)</td>\n      <td>422.0</td>\n      <td>268.653053</td>\n    </tr>\n    <tr>\n      <th>3107</th>\n      <td>VW Golf 1.5 eTSI R-Line DSG (ab 09/20)</td>\n      <td>461.0</td>\n      <td>267.973053</td>\n    </tr>\n    <tr>\n      <th>3110</th>\n      <td>VW Golf 2.0 TDI SCR Style DSG (ab 09/20)</td>\n      <td>438.0</td>\n      <td>262.498182</td>\n    </tr>\n  </tbody>\n</table>\n</div>"
     },
     "metadata": {},
     "execution_count": 6
    }
   ],
   "source": [
    "top = df.filter([Column.NAME, Column.MY_M_COSTS, Column.TOTAL_SCORE])\n",
    "df.to_excel('/tmp/1.xlsx')\n",
    "top.head(10)"
   ]
  },
  {
   "cell_type": "markdown",
   "metadata": {},
   "source": [
    "## Most suitable car sorted by euro per 1 score point"
   ]
  },
  {
   "cell_type": "code",
   "execution_count": 7,
   "metadata": {},
   "outputs": [
    {
     "output_type": "execute_result",
     "data": {
      "text/plain": [
       "                                                   name  Total price  \\\n",
       "947      Renault Clio TCe 90 Intens X-tronic (ab 08/20)      20763.0   \n",
       "948      Renault Clio TCe 130 GPF Intens EDC (ab 09/19)      21835.0   \n",
       "868   Opel Corsa 1.2 DI Turbo Elegance Automatik (ab...      22523.0   \n",
       "870   Opel Corsa 1.2 DI Turbo GS Line Automatik (ab ...      22893.0   \n",
       "2777                   Opel Corsa-e Elegance (ab 05/20)      23411.0   \n",
       "2829                    Peugeot e-208 Allure (ab 01/20)      23109.0   \n",
       "902   Peugeot 208 1.2 PureTech 100 Allure EAT8 (ab 0...      22654.0   \n",
       "453       Audi A1 Sportback 25 TFSI S tronic (ab 09/20)      23965.0   \n",
       "2778                    Opel Corsa-e GS Line (ab 05/20)      24192.0   \n",
       "951           Renault Clio E-Tech 140 Intens (ab 07/20)      24370.0   \n",
       "\n",
       "      Total Score  Euro per score  \n",
       "947    240.201962       86.439760  \n",
       "948    242.258629       90.130948  \n",
       "868    238.353598       94.494063  \n",
       "870    237.653598       96.329280  \n",
       "2777   242.268241       96.632558  \n",
       "2829   239.130667       96.637543  \n",
       "902    230.157793       98.428125  \n",
       "453    238.562157      100.456000  \n",
       "2778   239.930549      100.829178  \n",
       "951    241.255296      101.013327  "
      ],
      "text/html": "<div>\n<style scoped>\n    .dataframe tbody tr th:only-of-type {\n        vertical-align: middle;\n    }\n\n    .dataframe tbody tr th {\n        vertical-align: top;\n    }\n\n    .dataframe thead th {\n        text-align: right;\n    }\n</style>\n<table border=\"1\" class=\"dataframe\">\n  <thead>\n    <tr style=\"text-align: right;\">\n      <th></th>\n      <th>name</th>\n      <th>Total price</th>\n      <th>Total Score</th>\n      <th>Euro per score</th>\n    </tr>\n  </thead>\n  <tbody>\n    <tr>\n      <th>947</th>\n      <td>Renault Clio TCe 90 Intens X-tronic (ab 08/20)</td>\n      <td>20763.0</td>\n      <td>240.201962</td>\n      <td>86.439760</td>\n    </tr>\n    <tr>\n      <th>948</th>\n      <td>Renault Clio TCe 130 GPF Intens EDC (ab 09/19)</td>\n      <td>21835.0</td>\n      <td>242.258629</td>\n      <td>90.130948</td>\n    </tr>\n    <tr>\n      <th>868</th>\n      <td>Opel Corsa 1.2 DI Turbo Elegance Automatik (ab...</td>\n      <td>22523.0</td>\n      <td>238.353598</td>\n      <td>94.494063</td>\n    </tr>\n    <tr>\n      <th>870</th>\n      <td>Opel Corsa 1.2 DI Turbo GS Line Automatik (ab ...</td>\n      <td>22893.0</td>\n      <td>237.653598</td>\n      <td>96.329280</td>\n    </tr>\n    <tr>\n      <th>2777</th>\n      <td>Opel Corsa-e Elegance (ab 05/20)</td>\n      <td>23411.0</td>\n      <td>242.268241</td>\n      <td>96.632558</td>\n    </tr>\n    <tr>\n      <th>2829</th>\n      <td>Peugeot e-208 Allure (ab 01/20)</td>\n      <td>23109.0</td>\n      <td>239.130667</td>\n      <td>96.637543</td>\n    </tr>\n    <tr>\n      <th>902</th>\n      <td>Peugeot 208 1.2 PureTech 100 Allure EAT8 (ab 0...</td>\n      <td>22654.0</td>\n      <td>230.157793</td>\n      <td>98.428125</td>\n    </tr>\n    <tr>\n      <th>453</th>\n      <td>Audi A1 Sportback 25 TFSI S tronic (ab 09/20)</td>\n      <td>23965.0</td>\n      <td>238.562157</td>\n      <td>100.456000</td>\n    </tr>\n    <tr>\n      <th>2778</th>\n      <td>Opel Corsa-e GS Line (ab 05/20)</td>\n      <td>24192.0</td>\n      <td>239.930549</td>\n      <td>100.829178</td>\n    </tr>\n    <tr>\n      <th>951</th>\n      <td>Renault Clio E-Tech 140 Intens (ab 07/20)</td>\n      <td>24370.0</td>\n      <td>241.255296</td>\n      <td>101.013327</td>\n    </tr>\n  </tbody>\n</table>\n</div>"
     },
     "metadata": {},
     "execution_count": 7
    }
   ],
   "source": [
    "top = df.filter([Column.NAME, Column.TOTAL_PRICE, Column.TOTAL_SCORE, Column.EURO_PER_SCORE]).sort_values(Column.EURO_PER_SCORE)\n",
    "top.head(10)"
   ]
  },
  {
   "cell_type": "markdown",
   "metadata": {},
   "source": [
    "## Compare top cars"
   ]
  },
  {
   "cell_type": "code",
   "execution_count": 8,
   "metadata": {
    "tags": []
   },
   "outputs": [
    {
     "output_type": "execute_result",
     "data": {
      "text/plain": [
       "<pandas.io.formats.style.Styler at 0x7fcbd573bf10>"
      ],
      "text/html": "<style  type=\"text/css\" >\n    #T_6da2fc26_245c_11eb_ad92_f8a963e3c633row0_col3 {\n            background-color:  #67ac86;\n            color:  #000000;\n        }    #T_6da2fc26_245c_11eb_ad92_f8a963e3c633row0_col4 {\n            background-color:  #63aa82;\n            color:  #000000;\n        }    #T_6da2fc26_245c_11eb_ad92_f8a963e3c633row0_col5 {\n            background-color:  #c1e0ce;\n            color:  #000000;\n        }    #T_6da2fc26_245c_11eb_ad92_f8a963e3c633row0_col6 {\n            background-color:  #2e8b57;\n            color:  #000000;\n        }    #T_6da2fc26_245c_11eb_ad92_f8a963e3c633row0_col7 {\n            background-color:  #ecf9f1;\n            color:  #000000;\n        }    #T_6da2fc26_245c_11eb_ad92_f8a963e3c633row0_col8 {\n            background-color:  #2e8b57;\n            color:  #000000;\n        }    #T_6da2fc26_245c_11eb_ad92_f8a963e3c633row0_col9 {\n            background-color:  #ecf9f1;\n            color:  #000000;\n        }    #T_6da2fc26_245c_11eb_ad92_f8a963e3c633row0_col10 {\n            background-color:  #ecf9f1;\n            color:  #000000;\n        }    #T_6da2fc26_245c_11eb_ad92_f8a963e3c633row0_col11 {\n            background-color:  #ecf9f1;\n            color:  #000000;\n        }    #T_6da2fc26_245c_11eb_ad92_f8a963e3c633row0_col12 {\n            background-color:  #ecf9f1;\n            color:  #000000;\n        }    #T_6da2fc26_245c_11eb_ad92_f8a963e3c633row0_col13 {\n            background-color:  #ecf9f1;\n            color:  #000000;\n        }    #T_6da2fc26_245c_11eb_ad92_f8a963e3c633row0_col14 {\n            background-color:  #ecf9f1;\n            color:  #000000;\n        }    #T_6da2fc26_245c_11eb_ad92_f8a963e3c633row0_col15 {\n            background-color:  #ecf9f1;\n            color:  #000000;\n        }    #T_6da2fc26_245c_11eb_ad92_f8a963e3c633row0_col16 {\n            background-color:  #ecf9f1;\n            color:  #000000;\n        }    #T_6da2fc26_245c_11eb_ad92_f8a963e3c633row0_col17 {\n            background-color:  #ecf9f1;\n            color:  #000000;\n        }    #T_6da2fc26_245c_11eb_ad92_f8a963e3c633row0_col18 {\n            background-color:  #2e8b57;\n            color:  #000000;\n        }    #T_6da2fc26_245c_11eb_ad92_f8a963e3c633row0_col19 {\n            background-color:  #ecf9f1;\n            color:  #000000;\n        }    #T_6da2fc26_245c_11eb_ad92_f8a963e3c633row0_col20 {\n            background-color:  #2e8b57;\n            color:  #000000;\n        }    #T_6da2fc26_245c_11eb_ad92_f8a963e3c633row0_col21 {\n            background-color:  #ecf9f1;\n            color:  #000000;\n        }    #T_6da2fc26_245c_11eb_ad92_f8a963e3c633row0_col22 {\n            background-color:  #ecf9f1;\n            color:  #000000;\n        }    #T_6da2fc26_245c_11eb_ad92_f8a963e3c633row0_col23 {\n            background-color:  #ecf9f1;\n            color:  #000000;\n        }    #T_6da2fc26_245c_11eb_ad92_f8a963e3c633row0_col24 {\n            background-color:  #ecf9f1;\n            color:  #000000;\n        }    #T_6da2fc26_245c_11eb_ad92_f8a963e3c633row0_col25 {\n            background-color:  #ecf9f1;\n            color:  #000000;\n        }    #T_6da2fc26_245c_11eb_ad92_f8a963e3c633row0_col26 {\n            background-color:  #2e8b57;\n            color:  #000000;\n        }    #T_6da2fc26_245c_11eb_ad92_f8a963e3c633row0_col27 {\n            background-color:  #ecf9f1;\n            color:  #000000;\n        }    #T_6da2fc26_245c_11eb_ad92_f8a963e3c633row0_col28 {\n            background-color:  #ecf9f1;\n            color:  #000000;\n        }    #T_6da2fc26_245c_11eb_ad92_f8a963e3c633row0_col29 {\n            background-color:  #2e8b57;\n            color:  #000000;\n        }    #T_6da2fc26_245c_11eb_ad92_f8a963e3c633row0_col30 {\n            background-color:  #57a378;\n            color:  #000000;\n        }    #T_6da2fc26_245c_11eb_ad92_f8a963e3c633row0_col31 {\n            background-color:  #ecf9f1;\n            color:  #000000;\n        }    #T_6da2fc26_245c_11eb_ad92_f8a963e3c633row0_col32 {\n            background-color:  #ecf9f1;\n            color:  #000000;\n        }    #T_6da2fc26_245c_11eb_ad92_f8a963e3c633row0_col33 {\n            background-color:  #54a176;\n            color:  #000000;\n        }    #T_6da2fc26_245c_11eb_ad92_f8a963e3c633row0_col34 {\n            background-color:  #2e8b57;\n            color:  #000000;\n        }    #T_6da2fc26_245c_11eb_ad92_f8a963e3c633row0_col35 {\n            background-color:  #ecf9f1;\n            color:  #000000;\n        }    #T_6da2fc26_245c_11eb_ad92_f8a963e3c633row0_col36 {\n            background-color:  #ecf9f1;\n            color:  #000000;\n        }    #T_6da2fc26_245c_11eb_ad92_f8a963e3c633row0_col37 {\n            background-color:  #ecf9f1;\n            color:  #000000;\n        }    #T_6da2fc26_245c_11eb_ad92_f8a963e3c633row0_col38 {\n            background-color:  #2e8b57;\n            color:  #000000;\n        }    #T_6da2fc26_245c_11eb_ad92_f8a963e3c633row0_col39 {\n            background-color:  #ecf9f1;\n            color:  #000000;\n        }    #T_6da2fc26_245c_11eb_ad92_f8a963e3c633row0_col40 {\n            background-color:  #2e8b57;\n            color:  #000000;\n        }    #T_6da2fc26_245c_11eb_ad92_f8a963e3c633row0_col41 {\n            background-color:  #ecf9f1;\n            color:  #000000;\n        }    #T_6da2fc26_245c_11eb_ad92_f8a963e3c633row0_col42 {\n            background-color:  #ecf9f1;\n            color:  #000000;\n        }    #T_6da2fc26_245c_11eb_ad92_f8a963e3c633row0_col43 {\n            background-color:  #ecf9f1;\n            color:  #000000;\n        }    #T_6da2fc26_245c_11eb_ad92_f8a963e3c633row0_col44 {\n            background-color:  #ecf9f1;\n            color:  #000000;\n        }    #T_6da2fc26_245c_11eb_ad92_f8a963e3c633row0_col45 {\n            background-color:  #ecf9f1;\n            color:  #000000;\n        }    #T_6da2fc26_245c_11eb_ad92_f8a963e3c633row0_col46 {\n            background-color:  #ecf9f1;\n            color:  #000000;\n        }    #T_6da2fc26_245c_11eb_ad92_f8a963e3c633row0_col47 {\n            background-color:  #ecf9f1;\n            color:  #000000;\n        }    #T_6da2fc26_245c_11eb_ad92_f8a963e3c633row0_col48 {\n            background-color:  #ecf9f1;\n            color:  #000000;\n        }    #T_6da2fc26_245c_11eb_ad92_f8a963e3c633row0_col49 {\n            background-color:  #ecf9f1;\n            color:  #000000;\n        }    #T_6da2fc26_245c_11eb_ad92_f8a963e3c633row0_col50 {\n            background-color:  #2e8b57;\n            color:  #000000;\n        }    #T_6da2fc26_245c_11eb_ad92_f8a963e3c633row0_col51 {\n            background-color:  #ecf9f1;\n            color:  #000000;\n        }    #T_6da2fc26_245c_11eb_ad92_f8a963e3c633row0_col52 {\n            background-color:  #72b28e;\n            color:  #000000;\n        }    #T_6da2fc26_245c_11eb_ad92_f8a963e3c633row0_col53 {\n            background-color:  #ecf9f1;\n            color:  #000000;\n        }    #T_6da2fc26_245c_11eb_ad92_f8a963e3c633row0_col54 {\n            background-color:  #2e8b57;\n            color:  #000000;\n        }    #T_6da2fc26_245c_11eb_ad92_f8a963e3c633row0_col55 {\n            background-color:  #8ac0a2;\n            color:  #000000;\n        }    #T_6da2fc26_245c_11eb_ad92_f8a963e3c633row0_col56 {\n            background-color:  #59a47a;\n            color:  #000000;\n        }    #T_6da2fc26_245c_11eb_ad92_f8a963e3c633row0_col57 {\n            background-color:  #b7dac6;\n            color:  #000000;\n        }    #T_6da2fc26_245c_11eb_ad92_f8a963e3c633row0_col58 {\n            background-color:  #ecf9f1;\n            color:  #000000;\n        }    #T_6da2fc26_245c_11eb_ad92_f8a963e3c633row0_col59 {\n            background-color:  #2e8b57;\n            color:  #000000;\n        }    #T_6da2fc26_245c_11eb_ad92_f8a963e3c633row0_col60 {\n            background-color:  #81bb9b;\n            color:  #000000;\n        }    #T_6da2fc26_245c_11eb_ad92_f8a963e3c633row1_col3 {\n            background-color:  #2e8b57;\n            color:  #000000;\n        }    #T_6da2fc26_245c_11eb_ad92_f8a963e3c633row1_col4 {\n            background-color:  #2e8b57;\n            color:  #000000;\n        }    #T_6da2fc26_245c_11eb_ad92_f8a963e3c633row1_col5 {\n            background-color:  #2e8b57;\n            color:  #000000;\n        }    #T_6da2fc26_245c_11eb_ad92_f8a963e3c633row1_col6 {\n            background-color:  #ecf9f1;\n            color:  #000000;\n        }    #T_6da2fc26_245c_11eb_ad92_f8a963e3c633row1_col7 {\n            background-color:  #ecf9f1;\n            color:  #000000;\n        }    #T_6da2fc26_245c_11eb_ad92_f8a963e3c633row1_col8 {\n            background-color:  #2e8b57;\n            color:  #000000;\n        }    #T_6da2fc26_245c_11eb_ad92_f8a963e3c633row1_col9 {\n            background-color:  #ecf9f1;\n            color:  #000000;\n        }    #T_6da2fc26_245c_11eb_ad92_f8a963e3c633row1_col10 {\n            background-color:  #ecf9f1;\n            color:  #000000;\n        }    #T_6da2fc26_245c_11eb_ad92_f8a963e3c633row1_col11 {\n            background-color:  #ecf9f1;\n            color:  #000000;\n        }    #T_6da2fc26_245c_11eb_ad92_f8a963e3c633row1_col12 {\n            background-color:  #ecf9f1;\n            color:  #000000;\n        }    #T_6da2fc26_245c_11eb_ad92_f8a963e3c633row1_col13 {\n            background-color:  #ecf9f1;\n            color:  #000000;\n        }    #T_6da2fc26_245c_11eb_ad92_f8a963e3c633row1_col14 {\n            background-color:  #ecf9f1;\n            color:  #000000;\n        }    #T_6da2fc26_245c_11eb_ad92_f8a963e3c633row1_col15 {\n            background-color:  #ecf9f1;\n            color:  #000000;\n        }    #T_6da2fc26_245c_11eb_ad92_f8a963e3c633row1_col16 {\n            background-color:  #ecf9f1;\n            color:  #000000;\n        }    #T_6da2fc26_245c_11eb_ad92_f8a963e3c633row1_col17 {\n            background-color:  #ecf9f1;\n            color:  #000000;\n        }    #T_6da2fc26_245c_11eb_ad92_f8a963e3c633row1_col18 {\n            background-color:  #2e8b57;\n            color:  #000000;\n        }    #T_6da2fc26_245c_11eb_ad92_f8a963e3c633row1_col19 {\n            background-color:  #ecf9f1;\n            color:  #000000;\n        }    #T_6da2fc26_245c_11eb_ad92_f8a963e3c633row1_col20 {\n            background-color:  #2e8b57;\n            color:  #000000;\n        }    #T_6da2fc26_245c_11eb_ad92_f8a963e3c633row1_col21 {\n            background-color:  #ecf9f1;\n            color:  #000000;\n        }    #T_6da2fc26_245c_11eb_ad92_f8a963e3c633row1_col22 {\n            background-color:  #ecf9f1;\n            color:  #000000;\n        }    #T_6da2fc26_245c_11eb_ad92_f8a963e3c633row1_col23 {\n            background-color:  #ecf9f1;\n            color:  #000000;\n        }    #T_6da2fc26_245c_11eb_ad92_f8a963e3c633row1_col24 {\n            background-color:  #ecf9f1;\n            color:  #000000;\n        }    #T_6da2fc26_245c_11eb_ad92_f8a963e3c633row1_col25 {\n            background-color:  #ecf9f1;\n            color:  #000000;\n        }    #T_6da2fc26_245c_11eb_ad92_f8a963e3c633row1_col26 {\n            background-color:  #2e8b57;\n            color:  #000000;\n        }    #T_6da2fc26_245c_11eb_ad92_f8a963e3c633row1_col27 {\n            background-color:  #ecf9f1;\n            color:  #000000;\n        }    #T_6da2fc26_245c_11eb_ad92_f8a963e3c633row1_col28 {\n            background-color:  #ecf9f1;\n            color:  #000000;\n        }    #T_6da2fc26_245c_11eb_ad92_f8a963e3c633row1_col29 {\n            background-color:  #2e8b57;\n            color:  #000000;\n        }    #T_6da2fc26_245c_11eb_ad92_f8a963e3c633row1_col30 {\n            background-color:  #2e8b57;\n            color:  #000000;\n        }    #T_6da2fc26_245c_11eb_ad92_f8a963e3c633row1_col31 {\n            background-color:  #ecf9f1;\n            color:  #000000;\n        }    #T_6da2fc26_245c_11eb_ad92_f8a963e3c633row1_col32 {\n            background-color:  #ecf9f1;\n            color:  #000000;\n        }    #T_6da2fc26_245c_11eb_ad92_f8a963e3c633row1_col33 {\n            background-color:  #2e8b57;\n            color:  #000000;\n        }    #T_6da2fc26_245c_11eb_ad92_f8a963e3c633row1_col34 {\n            background-color:  #ecf9f1;\n            color:  #000000;\n        }    #T_6da2fc26_245c_11eb_ad92_f8a963e3c633row1_col35 {\n            background-color:  #ecf9f1;\n            color:  #000000;\n        }    #T_6da2fc26_245c_11eb_ad92_f8a963e3c633row1_col36 {\n            background-color:  #ecf9f1;\n            color:  #000000;\n        }    #T_6da2fc26_245c_11eb_ad92_f8a963e3c633row1_col37 {\n            background-color:  #ecf9f1;\n            color:  #000000;\n        }    #T_6da2fc26_245c_11eb_ad92_f8a963e3c633row1_col38 {\n            background-color:  #ecf9f1;\n            color:  #000000;\n        }    #T_6da2fc26_245c_11eb_ad92_f8a963e3c633row1_col39 {\n            background-color:  #ecf9f1;\n            color:  #000000;\n        }    #T_6da2fc26_245c_11eb_ad92_f8a963e3c633row1_col40 {\n            background-color:  #ecf9f1;\n            color:  #000000;\n        }    #T_6da2fc26_245c_11eb_ad92_f8a963e3c633row1_col41 {\n            background-color:  #ecf9f1;\n            color:  #000000;\n        }    #T_6da2fc26_245c_11eb_ad92_f8a963e3c633row1_col42 {\n            background-color:  #ecf9f1;\n            color:  #000000;\n        }    #T_6da2fc26_245c_11eb_ad92_f8a963e3c633row1_col43 {\n            background-color:  #ecf9f1;\n            color:  #000000;\n        }    #T_6da2fc26_245c_11eb_ad92_f8a963e3c633row1_col44 {\n            background-color:  #ecf9f1;\n            color:  #000000;\n        }    #T_6da2fc26_245c_11eb_ad92_f8a963e3c633row1_col45 {\n            background-color:  #ecf9f1;\n            color:  #000000;\n        }    #T_6da2fc26_245c_11eb_ad92_f8a963e3c633row1_col46 {\n            background-color:  #ecf9f1;\n            color:  #000000;\n        }    #T_6da2fc26_245c_11eb_ad92_f8a963e3c633row1_col47 {\n            background-color:  #ecf9f1;\n            color:  #000000;\n        }    #T_6da2fc26_245c_11eb_ad92_f8a963e3c633row1_col48 {\n            background-color:  #ecf9f1;\n            color:  #000000;\n        }    #T_6da2fc26_245c_11eb_ad92_f8a963e3c633row1_col49 {\n            background-color:  #ecf9f1;\n            color:  #000000;\n        }    #T_6da2fc26_245c_11eb_ad92_f8a963e3c633row1_col50 {\n            background-color:  #2e8b57;\n            color:  #000000;\n        }    #T_6da2fc26_245c_11eb_ad92_f8a963e3c633row1_col51 {\n            background-color:  #ecf9f1;\n            color:  #000000;\n        }    #T_6da2fc26_245c_11eb_ad92_f8a963e3c633row1_col52 {\n            background-color:  #2e8b57;\n            color:  #000000;\n        }    #T_6da2fc26_245c_11eb_ad92_f8a963e3c633row1_col53 {\n            background-color:  #2e8b57;\n            color:  #000000;\n        }    #T_6da2fc26_245c_11eb_ad92_f8a963e3c633row1_col54 {\n            background-color:  #2e8b57;\n            color:  #000000;\n        }    #T_6da2fc26_245c_11eb_ad92_f8a963e3c633row1_col55 {\n            background-color:  #ecf9f1;\n            color:  #000000;\n        }    #T_6da2fc26_245c_11eb_ad92_f8a963e3c633row1_col56 {\n            background-color:  #ecf9f1;\n            color:  #000000;\n        }    #T_6da2fc26_245c_11eb_ad92_f8a963e3c633row1_col57 {\n            background-color:  #ecf9f1;\n            color:  #000000;\n        }    #T_6da2fc26_245c_11eb_ad92_f8a963e3c633row1_col58 {\n            background-color:  #ecf9f1;\n            color:  #000000;\n        }    #T_6da2fc26_245c_11eb_ad92_f8a963e3c633row1_col59 {\n            background-color:  #b0d6c1;\n            color:  #000000;\n        }    #T_6da2fc26_245c_11eb_ad92_f8a963e3c633row1_col60 {\n            background-color:  #2e8b57;\n            color:  #000000;\n        }    #T_6da2fc26_245c_11eb_ad92_f8a963e3c633row2_col3 {\n            background-color:  #ecf9f1;\n            color:  #000000;\n        }    #T_6da2fc26_245c_11eb_ad92_f8a963e3c633row2_col4 {\n            background-color:  #ecf9f1;\n            color:  #000000;\n        }    #T_6da2fc26_245c_11eb_ad92_f8a963e3c633row2_col5 {\n            background-color:  #ecf9f1;\n            color:  #000000;\n        }    #T_6da2fc26_245c_11eb_ad92_f8a963e3c633row2_col6 {\n            background-color:  #afd5c0;\n            color:  #000000;\n        }    #T_6da2fc26_245c_11eb_ad92_f8a963e3c633row2_col7 {\n            background-color:  #ecf9f1;\n            color:  #000000;\n        }    #T_6da2fc26_245c_11eb_ad92_f8a963e3c633row2_col8 {\n            background-color:  #ecf9f1;\n            color:  #000000;\n        }    #T_6da2fc26_245c_11eb_ad92_f8a963e3c633row2_col9 {\n            background-color:  #ecf9f1;\n            color:  #000000;\n        }    #T_6da2fc26_245c_11eb_ad92_f8a963e3c633row2_col10 {\n            background-color:  #ecf9f1;\n            color:  #000000;\n        }    #T_6da2fc26_245c_11eb_ad92_f8a963e3c633row2_col11 {\n            background-color:  #ecf9f1;\n            color:  #000000;\n        }    #T_6da2fc26_245c_11eb_ad92_f8a963e3c633row2_col12 {\n            background-color:  #ecf9f1;\n            color:  #000000;\n        }    #T_6da2fc26_245c_11eb_ad92_f8a963e3c633row2_col13 {\n            background-color:  #ecf9f1;\n            color:  #000000;\n        }    #T_6da2fc26_245c_11eb_ad92_f8a963e3c633row2_col14 {\n            background-color:  #ecf9f1;\n            color:  #000000;\n        }    #T_6da2fc26_245c_11eb_ad92_f8a963e3c633row2_col15 {\n            background-color:  #ecf9f1;\n            color:  #000000;\n        }    #T_6da2fc26_245c_11eb_ad92_f8a963e3c633row2_col16 {\n            background-color:  #ecf9f1;\n            color:  #000000;\n        }    #T_6da2fc26_245c_11eb_ad92_f8a963e3c633row2_col17 {\n            background-color:  #ecf9f1;\n            color:  #000000;\n        }    #T_6da2fc26_245c_11eb_ad92_f8a963e3c633row2_col18 {\n            background-color:  #ecf9f1;\n            color:  #000000;\n        }    #T_6da2fc26_245c_11eb_ad92_f8a963e3c633row2_col19 {\n            background-color:  #ecf9f1;\n            color:  #000000;\n        }    #T_6da2fc26_245c_11eb_ad92_f8a963e3c633row2_col20 {\n            background-color:  #ecf9f1;\n            color:  #000000;\n        }    #T_6da2fc26_245c_11eb_ad92_f8a963e3c633row2_col21 {\n            background-color:  #ecf9f1;\n            color:  #000000;\n        }    #T_6da2fc26_245c_11eb_ad92_f8a963e3c633row2_col22 {\n            background-color:  #ecf9f1;\n            color:  #000000;\n        }    #T_6da2fc26_245c_11eb_ad92_f8a963e3c633row2_col23 {\n            background-color:  #ecf9f1;\n            color:  #000000;\n        }    #T_6da2fc26_245c_11eb_ad92_f8a963e3c633row2_col24 {\n            background-color:  #ecf9f1;\n            color:  #000000;\n        }    #T_6da2fc26_245c_11eb_ad92_f8a963e3c633row2_col25 {\n            background-color:  #ecf9f1;\n            color:  #000000;\n        }    #T_6da2fc26_245c_11eb_ad92_f8a963e3c633row2_col26 {\n            background-color:  #ecf9f1;\n            color:  #000000;\n        }    #T_6da2fc26_245c_11eb_ad92_f8a963e3c633row2_col27 {\n            background-color:  #ecf9f1;\n            color:  #000000;\n        }    #T_6da2fc26_245c_11eb_ad92_f8a963e3c633row2_col28 {\n            background-color:  #ecf9f1;\n            color:  #000000;\n        }    #T_6da2fc26_245c_11eb_ad92_f8a963e3c633row2_col29 {\n            background-color:  #ecf9f1;\n            color:  #000000;\n        }    #T_6da2fc26_245c_11eb_ad92_f8a963e3c633row2_col30 {\n            background-color:  #ecf9f1;\n            color:  #000000;\n        }    #T_6da2fc26_245c_11eb_ad92_f8a963e3c633row2_col31 {\n            background-color:  #ecf9f1;\n            color:  #000000;\n        }    #T_6da2fc26_245c_11eb_ad92_f8a963e3c633row2_col32 {\n            background-color:  #ecf9f1;\n            color:  #000000;\n        }    #T_6da2fc26_245c_11eb_ad92_f8a963e3c633row2_col33 {\n            background-color:  #ecf9f1;\n            color:  #000000;\n        }    #T_6da2fc26_245c_11eb_ad92_f8a963e3c633row2_col34 {\n            background-color:  #afd5c0;\n            color:  #000000;\n        }    #T_6da2fc26_245c_11eb_ad92_f8a963e3c633row2_col35 {\n            background-color:  #ecf9f1;\n            color:  #000000;\n        }    #T_6da2fc26_245c_11eb_ad92_f8a963e3c633row2_col36 {\n            background-color:  #ecf9f1;\n            color:  #000000;\n        }    #T_6da2fc26_245c_11eb_ad92_f8a963e3c633row2_col37 {\n            background-color:  #ecf9f1;\n            color:  #000000;\n        }    #T_6da2fc26_245c_11eb_ad92_f8a963e3c633row2_col38 {\n            background-color:  #2e8b57;\n            color:  #000000;\n        }    #T_6da2fc26_245c_11eb_ad92_f8a963e3c633row2_col39 {\n            background-color:  #2e8b57;\n            color:  #000000;\n        }    #T_6da2fc26_245c_11eb_ad92_f8a963e3c633row2_col40 {\n            background-color:  #2e8b57;\n            color:  #000000;\n        }    #T_6da2fc26_245c_11eb_ad92_f8a963e3c633row2_col41 {\n            background-color:  #ecf9f1;\n            color:  #000000;\n        }    #T_6da2fc26_245c_11eb_ad92_f8a963e3c633row2_col42 {\n            background-color:  #ecf9f1;\n            color:  #000000;\n        }    #T_6da2fc26_245c_11eb_ad92_f8a963e3c633row2_col43 {\n            background-color:  #ecf9f1;\n            color:  #000000;\n        }    #T_6da2fc26_245c_11eb_ad92_f8a963e3c633row2_col44 {\n            background-color:  #ecf9f1;\n            color:  #000000;\n        }    #T_6da2fc26_245c_11eb_ad92_f8a963e3c633row2_col45 {\n            background-color:  #ecf9f1;\n            color:  #000000;\n        }    #T_6da2fc26_245c_11eb_ad92_f8a963e3c633row2_col46 {\n            background-color:  #ecf9f1;\n            color:  #000000;\n        }    #T_6da2fc26_245c_11eb_ad92_f8a963e3c633row2_col47 {\n            background-color:  #ecf9f1;\n            color:  #000000;\n        }    #T_6da2fc26_245c_11eb_ad92_f8a963e3c633row2_col48 {\n            background-color:  #ecf9f1;\n            color:  #000000;\n        }    #T_6da2fc26_245c_11eb_ad92_f8a963e3c633row2_col49 {\n            background-color:  #ecf9f1;\n            color:  #000000;\n        }    #T_6da2fc26_245c_11eb_ad92_f8a963e3c633row2_col50 {\n            background-color:  #ecf9f1;\n            color:  #000000;\n        }    #T_6da2fc26_245c_11eb_ad92_f8a963e3c633row2_col51 {\n            background-color:  #2e8b57;\n            color:  #000000;\n        }    #T_6da2fc26_245c_11eb_ad92_f8a963e3c633row2_col52 {\n            background-color:  #ecf9f1;\n            color:  #000000;\n        }    #T_6da2fc26_245c_11eb_ad92_f8a963e3c633row2_col53 {\n            background-color:  #a5d0b8;\n            color:  #000000;\n        }    #T_6da2fc26_245c_11eb_ad92_f8a963e3c633row2_col54 {\n            background-color:  #ecf9f1;\n            color:  #000000;\n        }    #T_6da2fc26_245c_11eb_ad92_f8a963e3c633row2_col55 {\n            background-color:  #2e8b57;\n            color:  #000000;\n        }    #T_6da2fc26_245c_11eb_ad92_f8a963e3c633row2_col56 {\n            background-color:  #2e8b57;\n            color:  #000000;\n        }    #T_6da2fc26_245c_11eb_ad92_f8a963e3c633row2_col57 {\n            background-color:  #2e8b57;\n            color:  #000000;\n        }    #T_6da2fc26_245c_11eb_ad92_f8a963e3c633row2_col58 {\n            background-color:  #ecf9f1;\n            color:  #000000;\n        }    #T_6da2fc26_245c_11eb_ad92_f8a963e3c633row2_col59 {\n            background-color:  #ecf9f1;\n            color:  #000000;\n        }    #T_6da2fc26_245c_11eb_ad92_f8a963e3c633row2_col60 {\n            background-color:  #ecf9f1;\n            color:  #000000;\n        }</style><table id=\"T_6da2fc26_245c_11eb_ad92_f8a963e3c633\" ><thead>    <tr>        <th class=\"blank level0\" ></th>        <th class=\"col_heading level0 col0\" >name</th>        <th class=\"col_heading level0 col1\" >Marke</th>        <th class=\"col_heading level0 col2\" >Baureihe</th>        <th class=\"col_heading level0 col3\" >Leistung maximal in kW</th>        <th class=\"col_heading level0 col4\" >Total price</th>        <th class=\"col_heading level0 col5\" >my monthly costs</th>        <th class=\"col_heading level0 col6\" >Range</th>        <th class=\"col_heading level0 col7\" >AEB pedestrian</th>        <th class=\"col_heading level0 col8\" >navi </th>        <th class=\"col_heading level0 col9\" >active headrest</th>        <th class=\"col_heading level0 col10\" >light autoswitch</th>        <th class=\"col_heading level0 col11\" >car2x</th>        <th class=\"col_heading level0 col12\" >Bremsassistent</th>        <th class=\"col_heading level0 col13\" >lane keep assist active</th>        <th class=\"col_heading level0 col14\" >autoparking</th>        <th class=\"col_heading level0 col15\" >LED lights</th>        <th class=\"col_heading level0 col16\" >adaptive lights</th>        <th class=\"col_heading level0 col17\" >traffic sign recognition</th>        <th class=\"col_heading level0 col18\" >AEB</th>        <th class=\"col_heading level0 col19\" >rear traffic alert</th>        <th class=\"col_heading level0 col20\" >Traffic jam</th>        <th class=\"col_heading level0 col21\" >LED matrix</th>        <th class=\"col_heading level0 col22\" >keyless</th>        <th class=\"col_heading level0 col23\" >Camera, 360, front, back</th>        <th class=\"col_heading level0 col24\" >adaptive cruise from 0 km</th>        <th class=\"col_heading level0 col25\" >safe, euroncap, iihs</th>        <th class=\"col_heading level0 col26\" >plugin hybrid</th>        <th class=\"col_heading level0 col27\" >automat not CVT</th>        <th class=\"col_heading level0 col28\" >4x4</th>        <th class=\"col_heading level0 col29\" >plugin hybrid 2</th>        <th class=\"col_heading level0 col30\" >Top speed</th>        <th class=\"col_heading level0 col31\" >km77 elktest</th>        <th class=\"col_heading level0 col32\" >testberichte</th>        <th class=\"col_heading level0 col33\" >Acceleration <10</th>        <th class=\"col_heading level0 col34\" >range up to 1000 km per tank</th>        <th class=\"col_heading level0 col35\" >side mirrors on door</th>        <th class=\"col_heading level0 col36\" >door till ground</th>        <th class=\"col_heading level0 col37\" >license on back bumper</th>        <th class=\"col_heading level0 col38\" >small length</th>        <th class=\"col_heading level0 col39\" >boot size,Fit 156 snowboard </th>        <th class=\"col_heading level0 col40\" >noise</th>        <th class=\"col_heading level0 col41\" >acc with buttons</th>        <th class=\"col_heading level0 col42\" >no piano black</th>        <th class=\"col_heading level0 col43\" >easy entry(clearance or height of seats)</th>        <th class=\"col_heading level0 col44\" >digital speed</th>        <th class=\"col_heading level0 col45\" >HIFI audio</th>        <th class=\"col_heading level0 col46\" >white seats</th>        <th class=\"col_heading level0 col47\" >interior</th>        <th class=\"col_heading level0 col48\" >mobile warranty</th>        <th class=\"col_heading level0 col49\" >Garantie y</th>        <th class=\"col_heading level0 col50\" >Insurance 1</th>        <th class=\"col_heading level0 col51\" >Insurance 2</th>        <th class=\"col_heading level0 col52\" >Costs service</th>        <th class=\"col_heading level0 col53\" >Costs running</th>        <th class=\"col_heading level0 col54\" >Costs fixed</th>        <th class=\"col_heading level0 col55\" >Costs depreciation</th>        <th class=\"col_heading level0 col56\" >monthly costs</th>        <th class=\"col_heading level0 col57\" >price</th>        <th class=\"col_heading level0 col58\" >AGR</th>        <th class=\"col_heading level0 col59\" >Total Score</th>        <th class=\"col_heading level0 col60\" >Euro per score</th>    </tr></thead><tbody>\n                <tr>\n                        <th id=\"T_6da2fc26_245c_11eb_ad92_f8a963e3c633level0_row0\" class=\"row_heading level0 row0\" >4406</th>\n                        <td id=\"T_6da2fc26_245c_11eb_ad92_f8a963e3c633row0_col0\" class=\"data row0 col0\" >VW Golf 1.4 eHybrid Style DSG (ab 08/20)</td>\n                        <td id=\"T_6da2fc26_245c_11eb_ad92_f8a963e3c633row0_col1\" class=\"data row0 col1\" >VW</td>\n                        <td id=\"T_6da2fc26_245c_11eb_ad92_f8a963e3c633row0_col2\" class=\"data row0 col2\" >Golf (VIII) (ab 12/19)</td>\n                        <td id=\"T_6da2fc26_245c_11eb_ad92_f8a963e3c633row0_col3\" class=\"data row0 col3\" >150</td>\n                        <td id=\"T_6da2fc26_245c_11eb_ad92_f8a963e3c633row0_col4\" class=\"data row0 col4\" >34476.000000</td>\n                        <td id=\"T_6da2fc26_245c_11eb_ad92_f8a963e3c633row0_col5\" class=\"data row0 col5\" >437.000000</td>\n                        <td id=\"T_6da2fc26_245c_11eb_ad92_f8a963e3c633row0_col6\" class=\"data row0 col6\" >1388.890000</td>\n                        <td id=\"T_6da2fc26_245c_11eb_ad92_f8a963e3c633row0_col7\" class=\"data row0 col7\" >2.000000</td>\n                        <td id=\"T_6da2fc26_245c_11eb_ad92_f8a963e3c633row0_col8\" class=\"data row0 col8\" >3.000000</td>\n                        <td id=\"T_6da2fc26_245c_11eb_ad92_f8a963e3c633row0_col9\" class=\"data row0 col9\" >0.000000</td>\n                        <td id=\"T_6da2fc26_245c_11eb_ad92_f8a963e3c633row0_col10\" class=\"data row0 col10\" >3.555556</td>\n                        <td id=\"T_6da2fc26_245c_11eb_ad92_f8a963e3c633row0_col11\" class=\"data row0 col11\" >5.000000</td>\n                        <td id=\"T_6da2fc26_245c_11eb_ad92_f8a963e3c633row0_col12\" class=\"data row0 col12\" >5.000000</td>\n                        <td id=\"T_6da2fc26_245c_11eb_ad92_f8a963e3c633row0_col13\" class=\"data row0 col13\" >5.000000</td>\n                        <td id=\"T_6da2fc26_245c_11eb_ad92_f8a963e3c633row0_col14\" class=\"data row0 col14\" >0.789474</td>\n                        <td id=\"T_6da2fc26_245c_11eb_ad92_f8a963e3c633row0_col15\" class=\"data row0 col15\" >5.000000</td>\n                        <td id=\"T_6da2fc26_245c_11eb_ad92_f8a963e3c633row0_col16\" class=\"data row0 col16\" >4.000000</td>\n                        <td id=\"T_6da2fc26_245c_11eb_ad92_f8a963e3c633row0_col17\" class=\"data row0 col17\" >6.000000</td>\n                        <td id=\"T_6da2fc26_245c_11eb_ad92_f8a963e3c633row0_col18\" class=\"data row0 col18\" >7.000000</td>\n                        <td id=\"T_6da2fc26_245c_11eb_ad92_f8a963e3c633row0_col19\" class=\"data row0 col19\" >0.000000</td>\n                        <td id=\"T_6da2fc26_245c_11eb_ad92_f8a963e3c633row0_col20\" class=\"data row0 col20\" >8.000000</td>\n                        <td id=\"T_6da2fc26_245c_11eb_ad92_f8a963e3c633row0_col21\" class=\"data row0 col21\" >8.000000</td>\n                        <td id=\"T_6da2fc26_245c_11eb_ad92_f8a963e3c633row0_col22\" class=\"data row0 col22\" >8.000000</td>\n                        <td id=\"T_6da2fc26_245c_11eb_ad92_f8a963e3c633row0_col23\" class=\"data row0 col23\" >2.857143</td>\n                        <td id=\"T_6da2fc26_245c_11eb_ad92_f8a963e3c633row0_col24\" class=\"data row0 col24\" >10.000000</td>\n                        <td id=\"T_6da2fc26_245c_11eb_ad92_f8a963e3c633row0_col25\" class=\"data row0 col25\" >9.300000</td>\n                        <td id=\"T_6da2fc26_245c_11eb_ad92_f8a963e3c633row0_col26\" class=\"data row0 col26\" >5.000000</td>\n                        <td id=\"T_6da2fc26_245c_11eb_ad92_f8a963e3c633row0_col27\" class=\"data row0 col27\" >3.333333</td>\n                        <td id=\"T_6da2fc26_245c_11eb_ad92_f8a963e3c633row0_col28\" class=\"data row0 col28\" >1.250000</td>\n                        <td id=\"T_6da2fc26_245c_11eb_ad92_f8a963e3c633row0_col29\" class=\"data row0 col29\" >7.000000</td>\n                        <td id=\"T_6da2fc26_245c_11eb_ad92_f8a963e3c633row0_col30\" class=\"data row0 col30\" >4.900000</td>\n                        <td id=\"T_6da2fc26_245c_11eb_ad92_f8a963e3c633row0_col31\" class=\"data row0 col31\" >4.270000</td>\n                        <td id=\"T_6da2fc26_245c_11eb_ad92_f8a963e3c633row0_col32\" class=\"data row0 col32\" >4.590000</td>\n                        <td id=\"T_6da2fc26_245c_11eb_ad92_f8a963e3c633row0_col33\" class=\"data row0 col33\" >6.490000</td>\n                        <td id=\"T_6da2fc26_245c_11eb_ad92_f8a963e3c633row0_col34\" class=\"data row0 col34\" >4.230000</td>\n                        <td id=\"T_6da2fc26_245c_11eb_ad92_f8a963e3c633row0_col35\" class=\"data row0 col35\" >4.000000</td>\n                        <td id=\"T_6da2fc26_245c_11eb_ad92_f8a963e3c633row0_col36\" class=\"data row0 col36\" >0.000000</td>\n                        <td id=\"T_6da2fc26_245c_11eb_ad92_f8a963e3c633row0_col37\" class=\"data row0 col37\" >5.000000</td>\n                        <td id=\"T_6da2fc26_245c_11eb_ad92_f8a963e3c633row0_col38\" class=\"data row0 col38\" >4.420000</td>\n                        <td id=\"T_6da2fc26_245c_11eb_ad92_f8a963e3c633row0_col39\" class=\"data row0 col39\" >0.230000</td>\n                        <td id=\"T_6da2fc26_245c_11eb_ad92_f8a963e3c633row0_col40\" class=\"data row0 col40\" >2.610000</td>\n                        <td id=\"T_6da2fc26_245c_11eb_ad92_f8a963e3c633row0_col41\" class=\"data row0 col41\" >4.000000</td>\n                        <td id=\"T_6da2fc26_245c_11eb_ad92_f8a963e3c633row0_col42\" class=\"data row0 col42\" >3.330000</td>\n                        <td id=\"T_6da2fc26_245c_11eb_ad92_f8a963e3c633row0_col43\" class=\"data row0 col43\" >3.230000</td>\n                        <td id=\"T_6da2fc26_245c_11eb_ad92_f8a963e3c633row0_col44\" class=\"data row0 col44\" >6.000000</td>\n                        <td id=\"T_6da2fc26_245c_11eb_ad92_f8a963e3c633row0_col45\" class=\"data row0 col45\" >5.330000</td>\n                        <td id=\"T_6da2fc26_245c_11eb_ad92_f8a963e3c633row0_col46\" class=\"data row0 col46\" >9.000000</td>\n                        <td id=\"T_6da2fc26_245c_11eb_ad92_f8a963e3c633row0_col47\" class=\"data row0 col47\" >6.670000</td>\n                        <td id=\"T_6da2fc26_245c_11eb_ad92_f8a963e3c633row0_col48\" class=\"data row0 col48\" >5.793103</td>\n                        <td id=\"T_6da2fc26_245c_11eb_ad92_f8a963e3c633row0_col49\" class=\"data row0 col49\" >3.111111</td>\n                        <td id=\"T_6da2fc26_245c_11eb_ad92_f8a963e3c633row0_col50\" class=\"data row0 col50\" >7.650000</td>\n                        <td id=\"T_6da2fc26_245c_11eb_ad92_f8a963e3c633row0_col51\" class=\"data row0 col51\" >9.570000</td>\n                        <td id=\"T_6da2fc26_245c_11eb_ad92_f8a963e3c633row0_col52\" class=\"data row0 col52\" >3.330000</td>\n                        <td id=\"T_6da2fc26_245c_11eb_ad92_f8a963e3c633row0_col53\" class=\"data row0 col53\" >2.530000</td>\n                        <td id=\"T_6da2fc26_245c_11eb_ad92_f8a963e3c633row0_col54\" class=\"data row0 col54\" >1.400000</td>\n                        <td id=\"T_6da2fc26_245c_11eb_ad92_f8a963e3c633row0_col55\" class=\"data row0 col55\" >6.880000</td>\n                        <td id=\"T_6da2fc26_245c_11eb_ad92_f8a963e3c633row0_col56\" class=\"data row0 col56\" >22.740000</td>\n                        <td id=\"T_6da2fc26_245c_11eb_ad92_f8a963e3c633row0_col57\" class=\"data row0 col57\" >28.270000</td>\n                        <td id=\"T_6da2fc26_245c_11eb_ad92_f8a963e3c633row0_col58\" class=\"data row0 col58\" >4.000000</td>\n                        <td id=\"T_6da2fc26_245c_11eb_ad92_f8a963e3c633row0_col59\" class=\"data row0 col59\" >282.659720</td>\n                        <td id=\"T_6da2fc26_245c_11eb_ad92_f8a963e3c633row0_col60\" class=\"data row0 col60\" >121.969979</td>\n            </tr>\n            <tr>\n                        <th id=\"T_6da2fc26_245c_11eb_ad92_f8a963e3c633level0_row1\" class=\"row_heading level0 row1\" >5663</th>\n                        <td id=\"T_6da2fc26_245c_11eb_ad92_f8a963e3c633row1_col0\" class=\"data row1 col0\" >VW Golf GTE DSG (ab 08/20)</td>\n                        <td id=\"T_6da2fc26_245c_11eb_ad92_f8a963e3c633row1_col1\" class=\"data row1 col1\" >VW</td>\n                        <td id=\"T_6da2fc26_245c_11eb_ad92_f8a963e3c633row1_col2\" class=\"data row1 col2\" >Golf (VIII) GTE (ab 08/20)</td>\n                        <td id=\"T_6da2fc26_245c_11eb_ad92_f8a963e3c633row1_col3\" class=\"data row1 col3\" >180</td>\n                        <td id=\"T_6da2fc26_245c_11eb_ad92_f8a963e3c633row1_col4\" class=\"data row1 col4\" >36362.000000</td>\n                        <td id=\"T_6da2fc26_245c_11eb_ad92_f8a963e3c633row1_col5\" class=\"data row1 col5\" >505.000000</td>\n                        <td id=\"T_6da2fc26_245c_11eb_ad92_f8a963e3c633row1_col6\" class=\"data row1 col6\" >617.190000</td>\n                        <td id=\"T_6da2fc26_245c_11eb_ad92_f8a963e3c633row1_col7\" class=\"data row1 col7\" >2.000000</td>\n                        <td id=\"T_6da2fc26_245c_11eb_ad92_f8a963e3c633row1_col8\" class=\"data row1 col8\" >3.000000</td>\n                        <td id=\"T_6da2fc26_245c_11eb_ad92_f8a963e3c633row1_col9\" class=\"data row1 col9\" >0.000000</td>\n                        <td id=\"T_6da2fc26_245c_11eb_ad92_f8a963e3c633row1_col10\" class=\"data row1 col10\" >3.555556</td>\n                        <td id=\"T_6da2fc26_245c_11eb_ad92_f8a963e3c633row1_col11\" class=\"data row1 col11\" >5.000000</td>\n                        <td id=\"T_6da2fc26_245c_11eb_ad92_f8a963e3c633row1_col12\" class=\"data row1 col12\" >5.000000</td>\n                        <td id=\"T_6da2fc26_245c_11eb_ad92_f8a963e3c633row1_col13\" class=\"data row1 col13\" >5.000000</td>\n                        <td id=\"T_6da2fc26_245c_11eb_ad92_f8a963e3c633row1_col14\" class=\"data row1 col14\" >0.789474</td>\n                        <td id=\"T_6da2fc26_245c_11eb_ad92_f8a963e3c633row1_col15\" class=\"data row1 col15\" >5.000000</td>\n                        <td id=\"T_6da2fc26_245c_11eb_ad92_f8a963e3c633row1_col16\" class=\"data row1 col16\" >4.000000</td>\n                        <td id=\"T_6da2fc26_245c_11eb_ad92_f8a963e3c633row1_col17\" class=\"data row1 col17\" >6.000000</td>\n                        <td id=\"T_6da2fc26_245c_11eb_ad92_f8a963e3c633row1_col18\" class=\"data row1 col18\" >7.000000</td>\n                        <td id=\"T_6da2fc26_245c_11eb_ad92_f8a963e3c633row1_col19\" class=\"data row1 col19\" >0.000000</td>\n                        <td id=\"T_6da2fc26_245c_11eb_ad92_f8a963e3c633row1_col20\" class=\"data row1 col20\" >8.000000</td>\n                        <td id=\"T_6da2fc26_245c_11eb_ad92_f8a963e3c633row1_col21\" class=\"data row1 col21\" >8.000000</td>\n                        <td id=\"T_6da2fc26_245c_11eb_ad92_f8a963e3c633row1_col22\" class=\"data row1 col22\" >8.000000</td>\n                        <td id=\"T_6da2fc26_245c_11eb_ad92_f8a963e3c633row1_col23\" class=\"data row1 col23\" >2.857143</td>\n                        <td id=\"T_6da2fc26_245c_11eb_ad92_f8a963e3c633row1_col24\" class=\"data row1 col24\" >10.000000</td>\n                        <td id=\"T_6da2fc26_245c_11eb_ad92_f8a963e3c633row1_col25\" class=\"data row1 col25\" >9.300000</td>\n                        <td id=\"T_6da2fc26_245c_11eb_ad92_f8a963e3c633row1_col26\" class=\"data row1 col26\" >5.000000</td>\n                        <td id=\"T_6da2fc26_245c_11eb_ad92_f8a963e3c633row1_col27\" class=\"data row1 col27\" >3.333333</td>\n                        <td id=\"T_6da2fc26_245c_11eb_ad92_f8a963e3c633row1_col28\" class=\"data row1 col28\" >1.250000</td>\n                        <td id=\"T_6da2fc26_245c_11eb_ad92_f8a963e3c633row1_col29\" class=\"data row1 col29\" >7.000000</td>\n                        <td id=\"T_6da2fc26_245c_11eb_ad92_f8a963e3c633row1_col30\" class=\"data row1 col30\" >5.250000</td>\n                        <td id=\"T_6da2fc26_245c_11eb_ad92_f8a963e3c633row1_col31\" class=\"data row1 col31\" >4.270000</td>\n                        <td id=\"T_6da2fc26_245c_11eb_ad92_f8a963e3c633row1_col32\" class=\"data row1 col32\" >4.590000</td>\n                        <td id=\"T_6da2fc26_245c_11eb_ad92_f8a963e3c633row1_col33\" class=\"data row1 col33\" >7.400000</td>\n                        <td id=\"T_6da2fc26_245c_11eb_ad92_f8a963e3c633row1_col34\" class=\"data row1 col34\" >1.780000</td>\n                        <td id=\"T_6da2fc26_245c_11eb_ad92_f8a963e3c633row1_col35\" class=\"data row1 col35\" >4.000000</td>\n                        <td id=\"T_6da2fc26_245c_11eb_ad92_f8a963e3c633row1_col36\" class=\"data row1 col36\" >0.000000</td>\n                        <td id=\"T_6da2fc26_245c_11eb_ad92_f8a963e3c633row1_col37\" class=\"data row1 col37\" >5.000000</td>\n                        <td id=\"T_6da2fc26_245c_11eb_ad92_f8a963e3c633row1_col38\" class=\"data row1 col38\" >4.400000</td>\n                        <td id=\"T_6da2fc26_245c_11eb_ad92_f8a963e3c633row1_col39\" class=\"data row1 col39\" >0.230000</td>\n                        <td id=\"T_6da2fc26_245c_11eb_ad92_f8a963e3c633row1_col40\" class=\"data row1 col40\" >1.960000</td>\n                        <td id=\"T_6da2fc26_245c_11eb_ad92_f8a963e3c633row1_col41\" class=\"data row1 col41\" >4.000000</td>\n                        <td id=\"T_6da2fc26_245c_11eb_ad92_f8a963e3c633row1_col42\" class=\"data row1 col42\" >3.330000</td>\n                        <td id=\"T_6da2fc26_245c_11eb_ad92_f8a963e3c633row1_col43\" class=\"data row1 col43\" >3.230000</td>\n                        <td id=\"T_6da2fc26_245c_11eb_ad92_f8a963e3c633row1_col44\" class=\"data row1 col44\" >6.000000</td>\n                        <td id=\"T_6da2fc26_245c_11eb_ad92_f8a963e3c633row1_col45\" class=\"data row1 col45\" >5.330000</td>\n                        <td id=\"T_6da2fc26_245c_11eb_ad92_f8a963e3c633row1_col46\" class=\"data row1 col46\" >9.000000</td>\n                        <td id=\"T_6da2fc26_245c_11eb_ad92_f8a963e3c633row1_col47\" class=\"data row1 col47\" >6.670000</td>\n                        <td id=\"T_6da2fc26_245c_11eb_ad92_f8a963e3c633row1_col48\" class=\"data row1 col48\" >5.793103</td>\n                        <td id=\"T_6da2fc26_245c_11eb_ad92_f8a963e3c633row1_col49\" class=\"data row1 col49\" >3.111111</td>\n                        <td id=\"T_6da2fc26_245c_11eb_ad92_f8a963e3c633row1_col50\" class=\"data row1 col50\" >7.650000</td>\n                        <td id=\"T_6da2fc26_245c_11eb_ad92_f8a963e3c633row1_col51\" class=\"data row1 col51\" >9.570000</td>\n                        <td id=\"T_6da2fc26_245c_11eb_ad92_f8a963e3c633row1_col52\" class=\"data row1 col52\" >4.620000</td>\n                        <td id=\"T_6da2fc26_245c_11eb_ad92_f8a963e3c633row1_col53\" class=\"data row1 col53\" >5.050000</td>\n                        <td id=\"T_6da2fc26_245c_11eb_ad92_f8a963e3c633row1_col54\" class=\"data row1 col54\" >1.400000</td>\n                        <td id=\"T_6da2fc26_245c_11eb_ad92_f8a963e3c633row1_col55\" class=\"data row1 col55\" >6.340000</td>\n                        <td id=\"T_6da2fc26_245c_11eb_ad92_f8a963e3c633row1_col56\" class=\"data row1 col56\" >16.790000</td>\n                        <td id=\"T_6da2fc26_245c_11eb_ad92_f8a963e3c633row1_col57\" class=\"data row1 col57\" >25.290000</td>\n                        <td id=\"T_6da2fc26_245c_11eb_ad92_f8a963e3c633row1_col58\" class=\"data row1 col58\" >4.000000</td>\n                        <td id=\"T_6da2fc26_245c_11eb_ad92_f8a963e3c633row1_col59\" class=\"data row1 col59\" >275.139720</td>\n                        <td id=\"T_6da2fc26_245c_11eb_ad92_f8a963e3c633row1_col60\" class=\"data row1 col60\" >132.158309</td>\n            </tr>\n            <tr>\n                        <th id=\"T_6da2fc26_245c_11eb_ad92_f8a963e3c633level0_row2\" class=\"row_heading level0 row2\" >2090</th>\n                        <td id=\"T_6da2fc26_245c_11eb_ad92_f8a963e3c633row2_col0\" class=\"data row2 col0\" >VW Golf 1.0 eTSI Life (ab 08/20)</td>\n                        <td id=\"T_6da2fc26_245c_11eb_ad92_f8a963e3c633row2_col1\" class=\"data row2 col1\" >VW</td>\n                        <td id=\"T_6da2fc26_245c_11eb_ad92_f8a963e3c633row2_col2\" class=\"data row2 col2\" >Golf (VIII) (ab 12/19)</td>\n                        <td id=\"T_6da2fc26_245c_11eb_ad92_f8a963e3c633row2_col3\" class=\"data row2 col3\" >81</td>\n                        <td id=\"T_6da2fc26_245c_11eb_ad92_f8a963e3c633row2_col4\" class=\"data row2 col4\" >29591.000000</td>\n                        <td id=\"T_6da2fc26_245c_11eb_ad92_f8a963e3c633row2_col5\" class=\"data row2 col5\" >417.000000</td>\n                        <td id=\"T_6da2fc26_245c_11eb_ad92_f8a963e3c633row2_col6\" class=\"data row2 col6\" >865.380000</td>\n                        <td id=\"T_6da2fc26_245c_11eb_ad92_f8a963e3c633row2_col7\" class=\"data row2 col7\" >2.000000</td>\n                        <td id=\"T_6da2fc26_245c_11eb_ad92_f8a963e3c633row2_col8\" class=\"data row2 col8\" >1.038462</td>\n                        <td id=\"T_6da2fc26_245c_11eb_ad92_f8a963e3c633row2_col9\" class=\"data row2 col9\" >0.000000</td>\n                        <td id=\"T_6da2fc26_245c_11eb_ad92_f8a963e3c633row2_col10\" class=\"data row2 col10\" >3.555556</td>\n                        <td id=\"T_6da2fc26_245c_11eb_ad92_f8a963e3c633row2_col11\" class=\"data row2 col11\" >5.000000</td>\n                        <td id=\"T_6da2fc26_245c_11eb_ad92_f8a963e3c633row2_col12\" class=\"data row2 col12\" >5.000000</td>\n                        <td id=\"T_6da2fc26_245c_11eb_ad92_f8a963e3c633row2_col13\" class=\"data row2 col13\" >5.000000</td>\n                        <td id=\"T_6da2fc26_245c_11eb_ad92_f8a963e3c633row2_col14\" class=\"data row2 col14\" >0.789474</td>\n                        <td id=\"T_6da2fc26_245c_11eb_ad92_f8a963e3c633row2_col15\" class=\"data row2 col15\" >5.000000</td>\n                        <td id=\"T_6da2fc26_245c_11eb_ad92_f8a963e3c633row2_col16\" class=\"data row2 col16\" >4.000000</td>\n                        <td id=\"T_6da2fc26_245c_11eb_ad92_f8a963e3c633row2_col17\" class=\"data row2 col17\" >6.000000</td>\n                        <td id=\"T_6da2fc26_245c_11eb_ad92_f8a963e3c633row2_col18\" class=\"data row2 col18\" >5.250000</td>\n                        <td id=\"T_6da2fc26_245c_11eb_ad92_f8a963e3c633row2_col19\" class=\"data row2 col19\" >0.000000</td>\n                        <td id=\"T_6da2fc26_245c_11eb_ad92_f8a963e3c633row2_col20\" class=\"data row2 col20\" >5.333333</td>\n                        <td id=\"T_6da2fc26_245c_11eb_ad92_f8a963e3c633row2_col21\" class=\"data row2 col21\" >8.000000</td>\n                        <td id=\"T_6da2fc26_245c_11eb_ad92_f8a963e3c633row2_col22\" class=\"data row2 col22\" >8.000000</td>\n                        <td id=\"T_6da2fc26_245c_11eb_ad92_f8a963e3c633row2_col23\" class=\"data row2 col23\" >2.857143</td>\n                        <td id=\"T_6da2fc26_245c_11eb_ad92_f8a963e3c633row2_col24\" class=\"data row2 col24\" >10.000000</td>\n                        <td id=\"T_6da2fc26_245c_11eb_ad92_f8a963e3c633row2_col25\" class=\"data row2 col25\" >9.300000</td>\n                        <td id=\"T_6da2fc26_245c_11eb_ad92_f8a963e3c633row2_col26\" class=\"data row2 col26\" >4.000000</td>\n                        <td id=\"T_6da2fc26_245c_11eb_ad92_f8a963e3c633row2_col27\" class=\"data row2 col27\" >3.333333</td>\n                        <td id=\"T_6da2fc26_245c_11eb_ad92_f8a963e3c633row2_col28\" class=\"data row2 col28\" >1.250000</td>\n                        <td id=\"T_6da2fc26_245c_11eb_ad92_f8a963e3c633row2_col29\" class=\"data row2 col29\" >1.400000</td>\n                        <td id=\"T_6da2fc26_245c_11eb_ad92_f8a963e3c633row2_col30\" class=\"data row2 col30\" >3.640000</td>\n                        <td id=\"T_6da2fc26_245c_11eb_ad92_f8a963e3c633row2_col31\" class=\"data row2 col31\" >4.270000</td>\n                        <td id=\"T_6da2fc26_245c_11eb_ad92_f8a963e3c633row2_col32\" class=\"data row2 col32\" >4.590000</td>\n                        <td id=\"T_6da2fc26_245c_11eb_ad92_f8a963e3c633row2_col33\" class=\"data row2 col33\" >2.860000</td>\n                        <td id=\"T_6da2fc26_245c_11eb_ad92_f8a963e3c633row2_col34\" class=\"data row2 col34\" >2.570000</td>\n                        <td id=\"T_6da2fc26_245c_11eb_ad92_f8a963e3c633row2_col35\" class=\"data row2 col35\" >4.000000</td>\n                        <td id=\"T_6da2fc26_245c_11eb_ad92_f8a963e3c633row2_col36\" class=\"data row2 col36\" >0.000000</td>\n                        <td id=\"T_6da2fc26_245c_11eb_ad92_f8a963e3c633row2_col37\" class=\"data row2 col37\" >5.000000</td>\n                        <td id=\"T_6da2fc26_245c_11eb_ad92_f8a963e3c633row2_col38\" class=\"data row2 col38\" >4.420000</td>\n                        <td id=\"T_6da2fc26_245c_11eb_ad92_f8a963e3c633row2_col39\" class=\"data row2 col39\" >0.370000</td>\n                        <td id=\"T_6da2fc26_245c_11eb_ad92_f8a963e3c633row2_col40\" class=\"data row2 col40\" >2.610000</td>\n                        <td id=\"T_6da2fc26_245c_11eb_ad92_f8a963e3c633row2_col41\" class=\"data row2 col41\" >4.000000</td>\n                        <td id=\"T_6da2fc26_245c_11eb_ad92_f8a963e3c633row2_col42\" class=\"data row2 col42\" >3.330000</td>\n                        <td id=\"T_6da2fc26_245c_11eb_ad92_f8a963e3c633row2_col43\" class=\"data row2 col43\" >3.230000</td>\n                        <td id=\"T_6da2fc26_245c_11eb_ad92_f8a963e3c633row2_col44\" class=\"data row2 col44\" >6.000000</td>\n                        <td id=\"T_6da2fc26_245c_11eb_ad92_f8a963e3c633row2_col45\" class=\"data row2 col45\" >5.330000</td>\n                        <td id=\"T_6da2fc26_245c_11eb_ad92_f8a963e3c633row2_col46\" class=\"data row2 col46\" >9.000000</td>\n                        <td id=\"T_6da2fc26_245c_11eb_ad92_f8a963e3c633row2_col47\" class=\"data row2 col47\" >6.670000</td>\n                        <td id=\"T_6da2fc26_245c_11eb_ad92_f8a963e3c633row2_col48\" class=\"data row2 col48\" >5.793103</td>\n                        <td id=\"T_6da2fc26_245c_11eb_ad92_f8a963e3c633row2_col49\" class=\"data row2 col49\" >3.111111</td>\n                        <td id=\"T_6da2fc26_245c_11eb_ad92_f8a963e3c633row2_col50\" class=\"data row2 col50\" >6.160000</td>\n                        <td id=\"T_6da2fc26_245c_11eb_ad92_f8a963e3c633row2_col51\" class=\"data row2 col51\" >11.020000</td>\n                        <td id=\"T_6da2fc26_245c_11eb_ad92_f8a963e3c633row2_col52\" class=\"data row2 col52\" >1.030000</td>\n                        <td id=\"T_6da2fc26_245c_11eb_ad92_f8a963e3c633row2_col53\" class=\"data row2 col53\" >3.470000</td>\n                        <td id=\"T_6da2fc26_245c_11eb_ad92_f8a963e3c633row2_col54\" class=\"data row2 col54\" >1.220000</td>\n                        <td id=\"T_6da2fc26_245c_11eb_ad92_f8a963e3c633row2_col55\" class=\"data row2 col55\" >7.390000</td>\n                        <td id=\"T_6da2fc26_245c_11eb_ad92_f8a963e3c633row2_col56\" class=\"data row2 col56\" >24.490000</td>\n                        <td id=\"T_6da2fc26_245c_11eb_ad92_f8a963e3c633row2_col57\" class=\"data row2 col57\" >36.010000</td>\n                        <td id=\"T_6da2fc26_245c_11eb_ad92_f8a963e3c633row2_col58\" class=\"data row2 col58\" >4.000000</td>\n                        <td id=\"T_6da2fc26_245c_11eb_ad92_f8a963e3c633row2_col59\" class=\"data row2 col59\" >271.691515</td>\n                        <td id=\"T_6da2fc26_245c_11eb_ad92_f8a963e3c633row2_col60\" class=\"data row2 col60\" >108.913964</td>\n            </tr>\n    </tbody></table>"
     },
     "metadata": {},
     "execution_count": 8
    }
   ],
   "source": [
    "coloraze(df[df['name'].isin(top['name'])].head(3), axis=0)"
   ]
  },
  {
   "cell_type": "markdown",
   "metadata": {},
   "source": [
    "## Cars with total score(group by mark and serie)"
   ]
  },
  {
   "cell_type": "code",
   "execution_count": 9,
   "metadata": {},
   "outputs": [
    {
     "output_type": "execute_result",
     "data": {
      "text/plain": [
       "    Marke                        Baureihe  Leistung maximal in kW  \\\n",
       "166    VW          Golf (VIII) (ab 12/19)                     150   \n",
       "168    VW      Golf (VIII) GTE (ab 08/20)                     180   \n",
       "163    VW          Golf (VIII) (ab 12/19)                      81   \n",
       "170    VW  Golf (VIII) Variant (ab 11/20)                      81   \n",
       "165    VW          Golf (VIII) (ab 12/19)                     110   \n",
       "164    VW          Golf (VIII) (ab 12/19)                      96   \n",
       "171    VW  Golf (VIII) Variant (ab 11/20)                     110   \n",
       "9    Audi    A3 (8Y) Sportback (ab 05/20)                     150   \n",
       "169    VW      Golf (VIII) GTI (ab 08/20)                     180   \n",
       "167    VW      Golf (VIII) GTD (ab 10/20)                     147   \n",
       "\n",
       "     Total price  Total Score  \n",
       "166     34476.00       282.66  \n",
       "168     36362.00       275.14  \n",
       "163     30519.50       270.99  \n",
       "170     30805.00       268.65  \n",
       "165     35139.62       265.63  \n",
       "164     33554.00       261.59  \n",
       "171     37560.33       260.10  \n",
       "9       35854.67       258.29  \n",
       "169     39402.00       258.24  \n",
       "167     39909.00       257.57  "
      ],
      "text/html": "<div>\n<style scoped>\n    .dataframe tbody tr th:only-of-type {\n        vertical-align: middle;\n    }\n\n    .dataframe tbody tr th {\n        vertical-align: top;\n    }\n\n    .dataframe thead th {\n        text-align: right;\n    }\n</style>\n<table border=\"1\" class=\"dataframe\">\n  <thead>\n    <tr style=\"text-align: right;\">\n      <th></th>\n      <th>Marke</th>\n      <th>Baureihe</th>\n      <th>Leistung maximal in kW</th>\n      <th>Total price</th>\n      <th>Total Score</th>\n    </tr>\n  </thead>\n  <tbody>\n    <tr>\n      <th>166</th>\n      <td>VW</td>\n      <td>Golf (VIII) (ab 12/19)</td>\n      <td>150</td>\n      <td>34476.00</td>\n      <td>282.66</td>\n    </tr>\n    <tr>\n      <th>168</th>\n      <td>VW</td>\n      <td>Golf (VIII) GTE (ab 08/20)</td>\n      <td>180</td>\n      <td>36362.00</td>\n      <td>275.14</td>\n    </tr>\n    <tr>\n      <th>163</th>\n      <td>VW</td>\n      <td>Golf (VIII) (ab 12/19)</td>\n      <td>81</td>\n      <td>30519.50</td>\n      <td>270.99</td>\n    </tr>\n    <tr>\n      <th>170</th>\n      <td>VW</td>\n      <td>Golf (VIII) Variant (ab 11/20)</td>\n      <td>81</td>\n      <td>30805.00</td>\n      <td>268.65</td>\n    </tr>\n    <tr>\n      <th>165</th>\n      <td>VW</td>\n      <td>Golf (VIII) (ab 12/19)</td>\n      <td>110</td>\n      <td>35139.62</td>\n      <td>265.63</td>\n    </tr>\n    <tr>\n      <th>164</th>\n      <td>VW</td>\n      <td>Golf (VIII) (ab 12/19)</td>\n      <td>96</td>\n      <td>33554.00</td>\n      <td>261.59</td>\n    </tr>\n    <tr>\n      <th>171</th>\n      <td>VW</td>\n      <td>Golf (VIII) Variant (ab 11/20)</td>\n      <td>110</td>\n      <td>37560.33</td>\n      <td>260.10</td>\n    </tr>\n    <tr>\n      <th>9</th>\n      <td>Audi</td>\n      <td>A3 (8Y) Sportback (ab 05/20)</td>\n      <td>150</td>\n      <td>35854.67</td>\n      <td>258.29</td>\n    </tr>\n    <tr>\n      <th>169</th>\n      <td>VW</td>\n      <td>Golf (VIII) GTI (ab 08/20)</td>\n      <td>180</td>\n      <td>39402.00</td>\n      <td>258.24</td>\n    </tr>\n    <tr>\n      <th>167</th>\n      <td>VW</td>\n      <td>Golf (VIII) GTD (ab 10/20)</td>\n      <td>147</td>\n      <td>39909.00</td>\n      <td>257.57</td>\n    </tr>\n  </tbody>\n</table>\n</div>"
     },
     "metadata": {},
     "execution_count": 9
    }
   ],
   "source": [
    "# df.to_excel('/tmp/1.xlsx')\n",
    "g = df.groupby(GROUP_COLS_MARK_SERIE_KW, as_index=False)\n",
    "costs_mean = g[[Column.TOTAL_PRICE, Column.TOTAL_SCORE]].agg({Column.TOTAL_PRICE: 'mean', Column.TOTAL_SCORE: 'mean'})\n",
    "costs_mean.sort_values(Column.TOTAL_SCORE, ascending=False).head(10).round(2)"
   ]
  },
  {
   "cell_type": "markdown",
   "metadata": {},
   "source": [
    "## Cars better than best Subaru Impreza"
   ]
  },
  {
   "cell_type": "code",
   "execution_count": 10,
   "metadata": {},
   "outputs": [
    {
     "output_type": "execute_result",
     "data": {
      "text/plain": [
       "{'name': 'Subaru Impreza 2.0i Exclusive Lineartronic (01/18 - 08/18)',\n",
       " 'Marke': 'Subaru',\n",
       " 'Baureihe': 'Impreza (V) (01/18 - 04/20)',\n",
       " 'Leistung maximal in kW': 115,\n",
       " 'Total price': 29036.0,\n",
       " 'my monthly costs': 581.0,\n",
       " 'Range': 610.78,\n",
       " 'AEB pedestrian': 2.0,\n",
       " 'navi ': 3.0,\n",
       " 'active headrest': 4.0,\n",
       " 'light autoswitch': 4.0,\n",
       " 'car2x': 0.0,\n",
       " 'Bremsassistent': 5.0,\n",
       " 'lane keep assist active': 5.0,\n",
       " 'autoparking': 0.0,\n",
       " 'LED lights': 5.0,\n",
       " 'adaptive lights': 6.0,\n",
       " 'traffic sign recognition': 0.0,\n",
       " 'AEB': 7.0,\n",
       " 'rear traffic alert': 7.0,\n",
       " 'Traffic jam': 0.0,\n",
       " 'LED matrix': 0.0,\n",
       " 'keyless': 8.0,\n",
       " 'Camera, 360, front, back': 4.285714285714286,\n",
       " 'adaptive cruise from 0 km': 10.0,\n",
       " 'safe, euroncap, iihs': 8.91,\n",
       " 'plugin hybrid': 0.5,\n",
       " 'automat not CVT': 1.6666666666666665,\n",
       " '4x4': 5.0,\n",
       " 'plugin hybrid 2': 1.4000000000000001,\n",
       " 'Top speed': 3.85,\n",
       " 'km77 elktest': 4.27,\n",
       " 'testberichte': 1.07,\n",
       " 'Acceleration <10': 3.38,\n",
       " 'range up to 1000 km per tank': 1.76,\n",
       " 'side mirrors on door': 4.0,\n",
       " 'door till ground': 0.0,\n",
       " 'license on back bumper': 0.0,\n",
       " 'small length': 3.33,\n",
       " 'boot size,Fit 156 snowboard ': 0.47,\n",
       " 'noise': 1.6,\n",
       " 'acc with buttons': 4.0,\n",
       " 'no piano black': 1.67,\n",
       " 'easy entry(clearance or height of seats)': 2.13,\n",
       " 'digital speed': 0.0,\n",
       " 'HIFI audio': 0.0,\n",
       " 'white seats': 0.0,\n",
       " 'interior': 6.67,\n",
       " 'mobile warranty': 0.0,\n",
       " 'Garantie y': 5.444444444444445,\n",
       " 'Insurance 1': 2.74,\n",
       " 'Insurance 2': 6.62,\n",
       " 'Costs service': 6.28,\n",
       " 'Costs running': 5.79,\n",
       " 'Costs fixed': 4.55,\n",
       " 'Costs depreciation': 6.52,\n",
       " 'monthly costs': 10.15,\n",
       " 'price': 36.89,\n",
       " 'AGR': 0.0,\n",
       " 'Total Score': 210.94682539682543,\n",
       " 'Euro per score': 137.64606291362074}"
      ]
     },
     "metadata": {},
     "execution_count": 10
    }
   ],
   "source": [
    "# NOTE should be sorted\n",
    "imprezas = df[df[Column.NAME].str.contains('Subaru Impreza 2.0i Exclusive')]\n",
    "\n",
    "top_impreza = imprezas.iloc[0]\n",
    "impreza_euro_per_score = top_impreza[Column.EURO_PER_SCORE]\n",
    "impreza_total_score = top_impreza[Column.TOTAL_SCORE]\n",
    "impreza_costs = top_impreza[Column.MY_M_COSTS]\n",
    "\n",
    "# imprezas\n",
    "top_impreza.to_dict()\n",
    "\n",
    "# NOTE: Total Score should be set!!!"
   ]
  },
  {
   "cell_type": "markdown",
   "metadata": {},
   "source": [
    "### Better in score"
   ]
  },
  {
   "cell_type": "code",
   "execution_count": 11,
   "metadata": {},
   "outputs": [
    {
     "output_type": "execute_result",
     "data": {
      "text/plain": [
       "                                          name Marke  \\\n",
       "4406  VW Golf 1.4 eHybrid Style DSG (ab 08/20)    VW   \n",
       "5663                VW Golf GTE DSG (ab 08/20)    VW   \n",
       "2090          VW Golf 1.0 eTSI Life (ab 08/20)    VW   \n",
       "3105     VW Golf 1.5 eTSI Style DSG (ab 09/20)    VW   \n",
       "2099      VW Golf 1.5 eTSI Life DSG (ab 09/20)    VW   \n",
       "2091        VW Golf 1.0 eTSI UNITED (ab 08/20)    VW   \n",
       "3106    VW Golf 1.5 eTSI UNITED DSG (ab 09/20)    VW   \n",
       "2102  VW Golf Variant 1.0 eTSI Life (ab 11/20)    VW   \n",
       "3107    VW Golf 1.5 eTSI R-Line DSG (ab 09/20)    VW   \n",
       "3110  VW Golf 2.0 TDI SCR Style DSG (ab 09/20)    VW   \n",
       "\n",
       "                            Baureihe  Leistung maximal in kW  Total price  \\\n",
       "4406          Golf (VIII) (ab 12/19)                     150      34476.0   \n",
       "5663      Golf (VIII) GTE (ab 08/20)                     180      36362.0   \n",
       "2090          Golf (VIII) (ab 12/19)                      81      29591.0   \n",
       "3105          Golf (VIII) (ab 12/19)                     110      34374.0   \n",
       "2099          Golf (VIII) (ab 12/19)                     110      32306.0   \n",
       "2091          Golf (VIII) (ab 12/19)                      81      31448.0   \n",
       "3106          Golf (VIII) (ab 12/19)                     110      34163.0   \n",
       "2102  Golf (VIII) Variant (ab 11/20)                      81      30805.0   \n",
       "3107          Golf (VIII) (ab 12/19)                     110      34676.0   \n",
       "3110          Golf (VIII) (ab 12/19)                     110      36894.0   \n",
       "\n",
       "      my monthly costs    Range  AEB pedestrian     navi   active headrest  \\\n",
       "4406             437.0  1388.89             2.0  3.000000              0.0   \n",
       "5663             505.0   617.19             2.0  3.000000              0.0   \n",
       "2090             417.0   865.38             2.0  1.038462              0.0   \n",
       "3105             457.0   862.07             2.0  1.038462              0.0   \n",
       "2099             440.0   877.19             2.0  1.038462              0.0   \n",
       "2091             417.0   865.38             2.0  3.000000              0.0   \n",
       "3106             440.0   877.19             2.0  3.000000              0.0   \n",
       "2102             422.0   849.06             2.0  3.000000              0.0   \n",
       "3107             461.0   847.46             2.0  3.000000              0.0   \n",
       "3110             438.0  1086.96             2.0  1.038462              0.0   \n",
       "\n",
       "      ...  Insurance 2  Costs service  Costs running  Costs fixed  \\\n",
       "4406  ...         9.57           3.33           2.53         1.40   \n",
       "5663  ...         9.57           4.62           5.05         1.40   \n",
       "2090  ...        11.02           1.03           3.47         1.22   \n",
       "3105  ...        10.40           2.05           4.53         1.58   \n",
       "2099  ...        10.40           1.28           4.32         1.49   \n",
       "2091  ...        11.02           1.03           3.47         1.22   \n",
       "3106  ...        10.40           1.28           4.32         1.49   \n",
       "2102  ...        11.02           1.03           3.68         1.31   \n",
       "3107  ...        10.40           2.05           4.74         1.58   \n",
       "3110  ...         8.72           2.56           1.79         3.76   \n",
       "\n",
       "      Costs depreciation  monthly costs  price  AGR  Total Score  \\\n",
       "4406                6.88          22.74  28.27  4.0   282.659720   \n",
       "5663                6.34          16.79  25.29  4.0   275.139720   \n",
       "2090                7.39          24.49  36.01  4.0   271.691515   \n",
       "3105                6.16          20.99  28.44  4.0   271.038182   \n",
       "2099                6.76          22.48  31.71  4.0   270.961515   \n",
       "2091                6.97          24.49  33.07  4.0   270.293053   \n",
       "3106                6.37          22.48  28.77  4.0   269.593053   \n",
       "2102                7.30          24.05  34.09  4.0   268.653053   \n",
       "3107                6.22          20.64  27.96  4.0   267.973053   \n",
       "3110                5.02          22.65  24.44  4.0   262.498182   \n",
       "\n",
       "      Euro per score  \n",
       "4406      121.969979  \n",
       "5663      132.158309  \n",
       "2090      108.913964  \n",
       "3105      126.823460  \n",
       "2099      119.227264  \n",
       "2091      116.347792  \n",
       "3106      126.720624  \n",
       "2102      114.664619  \n",
       "3107      129.401071  \n",
       "3110      140.549545  \n",
       "\n",
       "[10 rows x 61 columns]"
      ],
      "text/html": "<div>\n<style scoped>\n    .dataframe tbody tr th:only-of-type {\n        vertical-align: middle;\n    }\n\n    .dataframe tbody tr th {\n        vertical-align: top;\n    }\n\n    .dataframe thead th {\n        text-align: right;\n    }\n</style>\n<table border=\"1\" class=\"dataframe\">\n  <thead>\n    <tr style=\"text-align: right;\">\n      <th></th>\n      <th>name</th>\n      <th>Marke</th>\n      <th>Baureihe</th>\n      <th>Leistung maximal in kW</th>\n      <th>Total price</th>\n      <th>my monthly costs</th>\n      <th>Range</th>\n      <th>AEB pedestrian</th>\n      <th>navi</th>\n      <th>active headrest</th>\n      <th>...</th>\n      <th>Insurance 2</th>\n      <th>Costs service</th>\n      <th>Costs running</th>\n      <th>Costs fixed</th>\n      <th>Costs depreciation</th>\n      <th>monthly costs</th>\n      <th>price</th>\n      <th>AGR</th>\n      <th>Total Score</th>\n      <th>Euro per score</th>\n    </tr>\n  </thead>\n  <tbody>\n    <tr>\n      <th>4406</th>\n      <td>VW Golf 1.4 eHybrid Style DSG (ab 08/20)</td>\n      <td>VW</td>\n      <td>Golf (VIII) (ab 12/19)</td>\n      <td>150</td>\n      <td>34476.0</td>\n      <td>437.0</td>\n      <td>1388.89</td>\n      <td>2.0</td>\n      <td>3.000000</td>\n      <td>0.0</td>\n      <td>...</td>\n      <td>9.57</td>\n      <td>3.33</td>\n      <td>2.53</td>\n      <td>1.40</td>\n      <td>6.88</td>\n      <td>22.74</td>\n      <td>28.27</td>\n      <td>4.0</td>\n      <td>282.659720</td>\n      <td>121.969979</td>\n    </tr>\n    <tr>\n      <th>5663</th>\n      <td>VW Golf GTE DSG (ab 08/20)</td>\n      <td>VW</td>\n      <td>Golf (VIII) GTE (ab 08/20)</td>\n      <td>180</td>\n      <td>36362.0</td>\n      <td>505.0</td>\n      <td>617.19</td>\n      <td>2.0</td>\n      <td>3.000000</td>\n      <td>0.0</td>\n      <td>...</td>\n      <td>9.57</td>\n      <td>4.62</td>\n      <td>5.05</td>\n      <td>1.40</td>\n      <td>6.34</td>\n      <td>16.79</td>\n      <td>25.29</td>\n      <td>4.0</td>\n      <td>275.139720</td>\n      <td>132.158309</td>\n    </tr>\n    <tr>\n      <th>2090</th>\n      <td>VW Golf 1.0 eTSI Life (ab 08/20)</td>\n      <td>VW</td>\n      <td>Golf (VIII) (ab 12/19)</td>\n      <td>81</td>\n      <td>29591.0</td>\n      <td>417.0</td>\n      <td>865.38</td>\n      <td>2.0</td>\n      <td>1.038462</td>\n      <td>0.0</td>\n      <td>...</td>\n      <td>11.02</td>\n      <td>1.03</td>\n      <td>3.47</td>\n      <td>1.22</td>\n      <td>7.39</td>\n      <td>24.49</td>\n      <td>36.01</td>\n      <td>4.0</td>\n      <td>271.691515</td>\n      <td>108.913964</td>\n    </tr>\n    <tr>\n      <th>3105</th>\n      <td>VW Golf 1.5 eTSI Style DSG (ab 09/20)</td>\n      <td>VW</td>\n      <td>Golf (VIII) (ab 12/19)</td>\n      <td>110</td>\n      <td>34374.0</td>\n      <td>457.0</td>\n      <td>862.07</td>\n      <td>2.0</td>\n      <td>1.038462</td>\n      <td>0.0</td>\n      <td>...</td>\n      <td>10.40</td>\n      <td>2.05</td>\n      <td>4.53</td>\n      <td>1.58</td>\n      <td>6.16</td>\n      <td>20.99</td>\n      <td>28.44</td>\n      <td>4.0</td>\n      <td>271.038182</td>\n      <td>126.823460</td>\n    </tr>\n    <tr>\n      <th>2099</th>\n      <td>VW Golf 1.5 eTSI Life DSG (ab 09/20)</td>\n      <td>VW</td>\n      <td>Golf (VIII) (ab 12/19)</td>\n      <td>110</td>\n      <td>32306.0</td>\n      <td>440.0</td>\n      <td>877.19</td>\n      <td>2.0</td>\n      <td>1.038462</td>\n      <td>0.0</td>\n      <td>...</td>\n      <td>10.40</td>\n      <td>1.28</td>\n      <td>4.32</td>\n      <td>1.49</td>\n      <td>6.76</td>\n      <td>22.48</td>\n      <td>31.71</td>\n      <td>4.0</td>\n      <td>270.961515</td>\n      <td>119.227264</td>\n    </tr>\n    <tr>\n      <th>2091</th>\n      <td>VW Golf 1.0 eTSI UNITED (ab 08/20)</td>\n      <td>VW</td>\n      <td>Golf (VIII) (ab 12/19)</td>\n      <td>81</td>\n      <td>31448.0</td>\n      <td>417.0</td>\n      <td>865.38</td>\n      <td>2.0</td>\n      <td>3.000000</td>\n      <td>0.0</td>\n      <td>...</td>\n      <td>11.02</td>\n      <td>1.03</td>\n      <td>3.47</td>\n      <td>1.22</td>\n      <td>6.97</td>\n      <td>24.49</td>\n      <td>33.07</td>\n      <td>4.0</td>\n      <td>270.293053</td>\n      <td>116.347792</td>\n    </tr>\n    <tr>\n      <th>3106</th>\n      <td>VW Golf 1.5 eTSI UNITED DSG (ab 09/20)</td>\n      <td>VW</td>\n      <td>Golf (VIII) (ab 12/19)</td>\n      <td>110</td>\n      <td>34163.0</td>\n      <td>440.0</td>\n      <td>877.19</td>\n      <td>2.0</td>\n      <td>3.000000</td>\n      <td>0.0</td>\n      <td>...</td>\n      <td>10.40</td>\n      <td>1.28</td>\n      <td>4.32</td>\n      <td>1.49</td>\n      <td>6.37</td>\n      <td>22.48</td>\n      <td>28.77</td>\n      <td>4.0</td>\n      <td>269.593053</td>\n      <td>126.720624</td>\n    </tr>\n    <tr>\n      <th>2102</th>\n      <td>VW Golf Variant 1.0 eTSI Life (ab 11/20)</td>\n      <td>VW</td>\n      <td>Golf (VIII) Variant (ab 11/20)</td>\n      <td>81</td>\n      <td>30805.0</td>\n      <td>422.0</td>\n      <td>849.06</td>\n      <td>2.0</td>\n      <td>3.000000</td>\n      <td>0.0</td>\n      <td>...</td>\n      <td>11.02</td>\n      <td>1.03</td>\n      <td>3.68</td>\n      <td>1.31</td>\n      <td>7.30</td>\n      <td>24.05</td>\n      <td>34.09</td>\n      <td>4.0</td>\n      <td>268.653053</td>\n      <td>114.664619</td>\n    </tr>\n    <tr>\n      <th>3107</th>\n      <td>VW Golf 1.5 eTSI R-Line DSG (ab 09/20)</td>\n      <td>VW</td>\n      <td>Golf (VIII) (ab 12/19)</td>\n      <td>110</td>\n      <td>34676.0</td>\n      <td>461.0</td>\n      <td>847.46</td>\n      <td>2.0</td>\n      <td>3.000000</td>\n      <td>0.0</td>\n      <td>...</td>\n      <td>10.40</td>\n      <td>2.05</td>\n      <td>4.74</td>\n      <td>1.58</td>\n      <td>6.22</td>\n      <td>20.64</td>\n      <td>27.96</td>\n      <td>4.0</td>\n      <td>267.973053</td>\n      <td>129.401071</td>\n    </tr>\n    <tr>\n      <th>3110</th>\n      <td>VW Golf 2.0 TDI SCR Style DSG (ab 09/20)</td>\n      <td>VW</td>\n      <td>Golf (VIII) (ab 12/19)</td>\n      <td>110</td>\n      <td>36894.0</td>\n      <td>438.0</td>\n      <td>1086.96</td>\n      <td>2.0</td>\n      <td>1.038462</td>\n      <td>0.0</td>\n      <td>...</td>\n      <td>8.72</td>\n      <td>2.56</td>\n      <td>1.79</td>\n      <td>3.76</td>\n      <td>5.02</td>\n      <td>22.65</td>\n      <td>24.44</td>\n      <td>4.0</td>\n      <td>262.498182</td>\n      <td>140.549545</td>\n    </tr>\n  </tbody>\n</table>\n<p>10 rows × 61 columns</p>\n</div>"
     },
     "metadata": {},
     "execution_count": 11
    }
   ],
   "source": [
    "df[df[Column.TOTAL_SCORE] > impreza_total_score].head(10)"
   ]
  },
  {
   "cell_type": "markdown",
   "metadata": {},
   "source": [
    "### Better in euro per score"
   ]
  },
  {
   "cell_type": "code",
   "execution_count": 12,
   "metadata": {},
   "outputs": [
    {
     "output_type": "execute_result",
     "data": {
      "text/plain": [
       "                                          name Marke  \\\n",
       "4406  VW Golf 1.4 eHybrid Style DSG (ab 08/20)    VW   \n",
       "5663                VW Golf GTE DSG (ab 08/20)    VW   \n",
       "2090          VW Golf 1.0 eTSI Life (ab 08/20)    VW   \n",
       "3105     VW Golf 1.5 eTSI Style DSG (ab 09/20)    VW   \n",
       "2099      VW Golf 1.5 eTSI Life DSG (ab 09/20)    VW   \n",
       "2091        VW Golf 1.0 eTSI UNITED (ab 08/20)    VW   \n",
       "3106    VW Golf 1.5 eTSI UNITED DSG (ab 09/20)    VW   \n",
       "2102  VW Golf Variant 1.0 eTSI Life (ab 11/20)    VW   \n",
       "3107    VW Golf 1.5 eTSI R-Line DSG (ab 09/20)    VW   \n",
       "3109   VW Golf 2.0 TDI SCR Life DSG (ab 09/20)    VW   \n",
       "\n",
       "                            Baureihe  Leistung maximal in kW  Total price  \\\n",
       "4406          Golf (VIII) (ab 12/19)                     150      34476.0   \n",
       "5663      Golf (VIII) GTE (ab 08/20)                     180      36362.0   \n",
       "2090          Golf (VIII) (ab 12/19)                      81      29591.0   \n",
       "3105          Golf (VIII) (ab 12/19)                     110      34374.0   \n",
       "2099          Golf (VIII) (ab 12/19)                     110      32306.0   \n",
       "2091          Golf (VIII) (ab 12/19)                      81      31448.0   \n",
       "3106          Golf (VIII) (ab 12/19)                     110      34163.0   \n",
       "2102  Golf (VIII) Variant (ab 11/20)                      81      30805.0   \n",
       "3107          Golf (VIII) (ab 12/19)                     110      34676.0   \n",
       "3109          Golf (VIII) (ab 12/19)                     110      34826.0   \n",
       "\n",
       "      my monthly costs    Range  AEB pedestrian     navi   active headrest  \\\n",
       "4406             437.0  1388.89             2.0  3.000000              0.0   \n",
       "5663             505.0   617.19             2.0  3.000000              0.0   \n",
       "2090             417.0   865.38             2.0  1.038462              0.0   \n",
       "3105             457.0   862.07             2.0  1.038462              0.0   \n",
       "2099             440.0   877.19             2.0  1.038462              0.0   \n",
       "2091             417.0   865.38             2.0  3.000000              0.0   \n",
       "3106             440.0   877.19             2.0  3.000000              0.0   \n",
       "2102             422.0   849.06             2.0  3.000000              0.0   \n",
       "3107             461.0   847.46             2.0  3.000000              0.0   \n",
       "3109             424.0  1111.11             2.0  1.038462              0.0   \n",
       "\n",
       "      ...  Insurance 2  Costs service  Costs running  Costs fixed  \\\n",
       "4406  ...         9.57           3.33           2.53         1.40   \n",
       "5663  ...         9.57           4.62           5.05         1.40   \n",
       "2090  ...        11.02           1.03           3.47         1.22   \n",
       "3105  ...        10.40           2.05           4.53         1.58   \n",
       "2099  ...        10.40           1.28           4.32         1.49   \n",
       "2091  ...        11.02           1.03           3.47         1.22   \n",
       "3106  ...        10.40           1.28           4.32         1.49   \n",
       "2102  ...        11.02           1.03           3.68         1.31   \n",
       "3107  ...        10.40           2.05           4.74         1.58   \n",
       "3109  ...         8.72           1.79           1.68         3.76   \n",
       "\n",
       "      Costs depreciation  monthly costs  price  AGR  Total Score  \\\n",
       "4406                6.88          22.74  28.27  4.0   282.659720   \n",
       "5663                6.34          16.79  25.29  4.0   275.139720   \n",
       "2090                7.39          24.49  36.01  4.0   271.691515   \n",
       "3105                6.16          20.99  28.44  4.0   271.038182   \n",
       "2099                6.76          22.48  31.71  4.0   270.961515   \n",
       "2091                6.97          24.49  33.07  4.0   270.293053   \n",
       "3106                6.37          22.48  28.77  4.0   269.593053   \n",
       "2102                7.30          24.05  34.09  4.0   268.653053   \n",
       "3107                6.22          20.64  27.96  4.0   267.973053   \n",
       "3109                5.62          23.88  27.72  4.0   262.391515   \n",
       "\n",
       "      Euro per score  \n",
       "4406      121.969979  \n",
       "5663      132.158309  \n",
       "2090      108.913964  \n",
       "3105      126.823460  \n",
       "2099      119.227264  \n",
       "2091      116.347792  \n",
       "3106      126.720624  \n",
       "2102      114.664619  \n",
       "3107      129.401071  \n",
       "3109      132.725328  \n",
       "\n",
       "[10 rows x 61 columns]"
      ],
      "text/html": "<div>\n<style scoped>\n    .dataframe tbody tr th:only-of-type {\n        vertical-align: middle;\n    }\n\n    .dataframe tbody tr th {\n        vertical-align: top;\n    }\n\n    .dataframe thead th {\n        text-align: right;\n    }\n</style>\n<table border=\"1\" class=\"dataframe\">\n  <thead>\n    <tr style=\"text-align: right;\">\n      <th></th>\n      <th>name</th>\n      <th>Marke</th>\n      <th>Baureihe</th>\n      <th>Leistung maximal in kW</th>\n      <th>Total price</th>\n      <th>my monthly costs</th>\n      <th>Range</th>\n      <th>AEB pedestrian</th>\n      <th>navi</th>\n      <th>active headrest</th>\n      <th>...</th>\n      <th>Insurance 2</th>\n      <th>Costs service</th>\n      <th>Costs running</th>\n      <th>Costs fixed</th>\n      <th>Costs depreciation</th>\n      <th>monthly costs</th>\n      <th>price</th>\n      <th>AGR</th>\n      <th>Total Score</th>\n      <th>Euro per score</th>\n    </tr>\n  </thead>\n  <tbody>\n    <tr>\n      <th>4406</th>\n      <td>VW Golf 1.4 eHybrid Style DSG (ab 08/20)</td>\n      <td>VW</td>\n      <td>Golf (VIII) (ab 12/19)</td>\n      <td>150</td>\n      <td>34476.0</td>\n      <td>437.0</td>\n      <td>1388.89</td>\n      <td>2.0</td>\n      <td>3.000000</td>\n      <td>0.0</td>\n      <td>...</td>\n      <td>9.57</td>\n      <td>3.33</td>\n      <td>2.53</td>\n      <td>1.40</td>\n      <td>6.88</td>\n      <td>22.74</td>\n      <td>28.27</td>\n      <td>4.0</td>\n      <td>282.659720</td>\n      <td>121.969979</td>\n    </tr>\n    <tr>\n      <th>5663</th>\n      <td>VW Golf GTE DSG (ab 08/20)</td>\n      <td>VW</td>\n      <td>Golf (VIII) GTE (ab 08/20)</td>\n      <td>180</td>\n      <td>36362.0</td>\n      <td>505.0</td>\n      <td>617.19</td>\n      <td>2.0</td>\n      <td>3.000000</td>\n      <td>0.0</td>\n      <td>...</td>\n      <td>9.57</td>\n      <td>4.62</td>\n      <td>5.05</td>\n      <td>1.40</td>\n      <td>6.34</td>\n      <td>16.79</td>\n      <td>25.29</td>\n      <td>4.0</td>\n      <td>275.139720</td>\n      <td>132.158309</td>\n    </tr>\n    <tr>\n      <th>2090</th>\n      <td>VW Golf 1.0 eTSI Life (ab 08/20)</td>\n      <td>VW</td>\n      <td>Golf (VIII) (ab 12/19)</td>\n      <td>81</td>\n      <td>29591.0</td>\n      <td>417.0</td>\n      <td>865.38</td>\n      <td>2.0</td>\n      <td>1.038462</td>\n      <td>0.0</td>\n      <td>...</td>\n      <td>11.02</td>\n      <td>1.03</td>\n      <td>3.47</td>\n      <td>1.22</td>\n      <td>7.39</td>\n      <td>24.49</td>\n      <td>36.01</td>\n      <td>4.0</td>\n      <td>271.691515</td>\n      <td>108.913964</td>\n    </tr>\n    <tr>\n      <th>3105</th>\n      <td>VW Golf 1.5 eTSI Style DSG (ab 09/20)</td>\n      <td>VW</td>\n      <td>Golf (VIII) (ab 12/19)</td>\n      <td>110</td>\n      <td>34374.0</td>\n      <td>457.0</td>\n      <td>862.07</td>\n      <td>2.0</td>\n      <td>1.038462</td>\n      <td>0.0</td>\n      <td>...</td>\n      <td>10.40</td>\n      <td>2.05</td>\n      <td>4.53</td>\n      <td>1.58</td>\n      <td>6.16</td>\n      <td>20.99</td>\n      <td>28.44</td>\n      <td>4.0</td>\n      <td>271.038182</td>\n      <td>126.823460</td>\n    </tr>\n    <tr>\n      <th>2099</th>\n      <td>VW Golf 1.5 eTSI Life DSG (ab 09/20)</td>\n      <td>VW</td>\n      <td>Golf (VIII) (ab 12/19)</td>\n      <td>110</td>\n      <td>32306.0</td>\n      <td>440.0</td>\n      <td>877.19</td>\n      <td>2.0</td>\n      <td>1.038462</td>\n      <td>0.0</td>\n      <td>...</td>\n      <td>10.40</td>\n      <td>1.28</td>\n      <td>4.32</td>\n      <td>1.49</td>\n      <td>6.76</td>\n      <td>22.48</td>\n      <td>31.71</td>\n      <td>4.0</td>\n      <td>270.961515</td>\n      <td>119.227264</td>\n    </tr>\n    <tr>\n      <th>2091</th>\n      <td>VW Golf 1.0 eTSI UNITED (ab 08/20)</td>\n      <td>VW</td>\n      <td>Golf (VIII) (ab 12/19)</td>\n      <td>81</td>\n      <td>31448.0</td>\n      <td>417.0</td>\n      <td>865.38</td>\n      <td>2.0</td>\n      <td>3.000000</td>\n      <td>0.0</td>\n      <td>...</td>\n      <td>11.02</td>\n      <td>1.03</td>\n      <td>3.47</td>\n      <td>1.22</td>\n      <td>6.97</td>\n      <td>24.49</td>\n      <td>33.07</td>\n      <td>4.0</td>\n      <td>270.293053</td>\n      <td>116.347792</td>\n    </tr>\n    <tr>\n      <th>3106</th>\n      <td>VW Golf 1.5 eTSI UNITED DSG (ab 09/20)</td>\n      <td>VW</td>\n      <td>Golf (VIII) (ab 12/19)</td>\n      <td>110</td>\n      <td>34163.0</td>\n      <td>440.0</td>\n      <td>877.19</td>\n      <td>2.0</td>\n      <td>3.000000</td>\n      <td>0.0</td>\n      <td>...</td>\n      <td>10.40</td>\n      <td>1.28</td>\n      <td>4.32</td>\n      <td>1.49</td>\n      <td>6.37</td>\n      <td>22.48</td>\n      <td>28.77</td>\n      <td>4.0</td>\n      <td>269.593053</td>\n      <td>126.720624</td>\n    </tr>\n    <tr>\n      <th>2102</th>\n      <td>VW Golf Variant 1.0 eTSI Life (ab 11/20)</td>\n      <td>VW</td>\n      <td>Golf (VIII) Variant (ab 11/20)</td>\n      <td>81</td>\n      <td>30805.0</td>\n      <td>422.0</td>\n      <td>849.06</td>\n      <td>2.0</td>\n      <td>3.000000</td>\n      <td>0.0</td>\n      <td>...</td>\n      <td>11.02</td>\n      <td>1.03</td>\n      <td>3.68</td>\n      <td>1.31</td>\n      <td>7.30</td>\n      <td>24.05</td>\n      <td>34.09</td>\n      <td>4.0</td>\n      <td>268.653053</td>\n      <td>114.664619</td>\n    </tr>\n    <tr>\n      <th>3107</th>\n      <td>VW Golf 1.5 eTSI R-Line DSG (ab 09/20)</td>\n      <td>VW</td>\n      <td>Golf (VIII) (ab 12/19)</td>\n      <td>110</td>\n      <td>34676.0</td>\n      <td>461.0</td>\n      <td>847.46</td>\n      <td>2.0</td>\n      <td>3.000000</td>\n      <td>0.0</td>\n      <td>...</td>\n      <td>10.40</td>\n      <td>2.05</td>\n      <td>4.74</td>\n      <td>1.58</td>\n      <td>6.22</td>\n      <td>20.64</td>\n      <td>27.96</td>\n      <td>4.0</td>\n      <td>267.973053</td>\n      <td>129.401071</td>\n    </tr>\n    <tr>\n      <th>3109</th>\n      <td>VW Golf 2.0 TDI SCR Life DSG (ab 09/20)</td>\n      <td>VW</td>\n      <td>Golf (VIII) (ab 12/19)</td>\n      <td>110</td>\n      <td>34826.0</td>\n      <td>424.0</td>\n      <td>1111.11</td>\n      <td>2.0</td>\n      <td>1.038462</td>\n      <td>0.0</td>\n      <td>...</td>\n      <td>8.72</td>\n      <td>1.79</td>\n      <td>1.68</td>\n      <td>3.76</td>\n      <td>5.62</td>\n      <td>23.88</td>\n      <td>27.72</td>\n      <td>4.0</td>\n      <td>262.391515</td>\n      <td>132.725328</td>\n    </tr>\n  </tbody>\n</table>\n<p>10 rows × 61 columns</p>\n</div>"
     },
     "metadata": {},
     "execution_count": 12
    }
   ],
   "source": [
    "df[df[Column.EURO_PER_SCORE] < impreza_euro_per_score].head(10)"
   ]
  },
  {
   "cell_type": "markdown",
   "metadata": {},
   "source": [
    "### Better in costs"
   ]
  },
  {
   "cell_type": "code",
   "execution_count": 13,
   "metadata": {},
   "outputs": [
    {
     "output_type": "execute_result",
     "data": {
      "text/plain": [
       "                                          name Marke  \\\n",
       "4406  VW Golf 1.4 eHybrid Style DSG (ab 08/20)    VW   \n",
       "5663                VW Golf GTE DSG (ab 08/20)    VW   \n",
       "2090          VW Golf 1.0 eTSI Life (ab 08/20)    VW   \n",
       "3105     VW Golf 1.5 eTSI Style DSG (ab 09/20)    VW   \n",
       "2099      VW Golf 1.5 eTSI Life DSG (ab 09/20)    VW   \n",
       "2091        VW Golf 1.0 eTSI UNITED (ab 08/20)    VW   \n",
       "3106    VW Golf 1.5 eTSI UNITED DSG (ab 09/20)    VW   \n",
       "2102  VW Golf Variant 1.0 eTSI Life (ab 11/20)    VW   \n",
       "3107    VW Golf 1.5 eTSI R-Line DSG (ab 09/20)    VW   \n",
       "3110  VW Golf 2.0 TDI SCR Style DSG (ab 09/20)    VW   \n",
       "\n",
       "                            Baureihe  Leistung maximal in kW  Total price  \\\n",
       "4406          Golf (VIII) (ab 12/19)                     150      34476.0   \n",
       "5663      Golf (VIII) GTE (ab 08/20)                     180      36362.0   \n",
       "2090          Golf (VIII) (ab 12/19)                      81      29591.0   \n",
       "3105          Golf (VIII) (ab 12/19)                     110      34374.0   \n",
       "2099          Golf (VIII) (ab 12/19)                     110      32306.0   \n",
       "2091          Golf (VIII) (ab 12/19)                      81      31448.0   \n",
       "3106          Golf (VIII) (ab 12/19)                     110      34163.0   \n",
       "2102  Golf (VIII) Variant (ab 11/20)                      81      30805.0   \n",
       "3107          Golf (VIII) (ab 12/19)                     110      34676.0   \n",
       "3110          Golf (VIII) (ab 12/19)                     110      36894.0   \n",
       "\n",
       "      my monthly costs    Range  AEB pedestrian     navi   active headrest  \\\n",
       "4406             437.0  1388.89             2.0  3.000000              0.0   \n",
       "5663             505.0   617.19             2.0  3.000000              0.0   \n",
       "2090             417.0   865.38             2.0  1.038462              0.0   \n",
       "3105             457.0   862.07             2.0  1.038462              0.0   \n",
       "2099             440.0   877.19             2.0  1.038462              0.0   \n",
       "2091             417.0   865.38             2.0  3.000000              0.0   \n",
       "3106             440.0   877.19             2.0  3.000000              0.0   \n",
       "2102             422.0   849.06             2.0  3.000000              0.0   \n",
       "3107             461.0   847.46             2.0  3.000000              0.0   \n",
       "3110             438.0  1086.96             2.0  1.038462              0.0   \n",
       "\n",
       "      ...  Insurance 2  Costs service  Costs running  Costs fixed  \\\n",
       "4406  ...         9.57           3.33           2.53         1.40   \n",
       "5663  ...         9.57           4.62           5.05         1.40   \n",
       "2090  ...        11.02           1.03           3.47         1.22   \n",
       "3105  ...        10.40           2.05           4.53         1.58   \n",
       "2099  ...        10.40           1.28           4.32         1.49   \n",
       "2091  ...        11.02           1.03           3.47         1.22   \n",
       "3106  ...        10.40           1.28           4.32         1.49   \n",
       "2102  ...        11.02           1.03           3.68         1.31   \n",
       "3107  ...        10.40           2.05           4.74         1.58   \n",
       "3110  ...         8.72           2.56           1.79         3.76   \n",
       "\n",
       "      Costs depreciation  monthly costs  price  AGR  Total Score  \\\n",
       "4406                6.88          22.74  28.27  4.0   282.659720   \n",
       "5663                6.34          16.79  25.29  4.0   275.139720   \n",
       "2090                7.39          24.49  36.01  4.0   271.691515   \n",
       "3105                6.16          20.99  28.44  4.0   271.038182   \n",
       "2099                6.76          22.48  31.71  4.0   270.961515   \n",
       "2091                6.97          24.49  33.07  4.0   270.293053   \n",
       "3106                6.37          22.48  28.77  4.0   269.593053   \n",
       "2102                7.30          24.05  34.09  4.0   268.653053   \n",
       "3107                6.22          20.64  27.96  4.0   267.973053   \n",
       "3110                5.02          22.65  24.44  4.0   262.498182   \n",
       "\n",
       "      Euro per score  \n",
       "4406      121.969979  \n",
       "5663      132.158309  \n",
       "2090      108.913964  \n",
       "3105      126.823460  \n",
       "2099      119.227264  \n",
       "2091      116.347792  \n",
       "3106      126.720624  \n",
       "2102      114.664619  \n",
       "3107      129.401071  \n",
       "3110      140.549545  \n",
       "\n",
       "[10 rows x 61 columns]"
      ],
      "text/html": "<div>\n<style scoped>\n    .dataframe tbody tr th:only-of-type {\n        vertical-align: middle;\n    }\n\n    .dataframe tbody tr th {\n        vertical-align: top;\n    }\n\n    .dataframe thead th {\n        text-align: right;\n    }\n</style>\n<table border=\"1\" class=\"dataframe\">\n  <thead>\n    <tr style=\"text-align: right;\">\n      <th></th>\n      <th>name</th>\n      <th>Marke</th>\n      <th>Baureihe</th>\n      <th>Leistung maximal in kW</th>\n      <th>Total price</th>\n      <th>my monthly costs</th>\n      <th>Range</th>\n      <th>AEB pedestrian</th>\n      <th>navi</th>\n      <th>active headrest</th>\n      <th>...</th>\n      <th>Insurance 2</th>\n      <th>Costs service</th>\n      <th>Costs running</th>\n      <th>Costs fixed</th>\n      <th>Costs depreciation</th>\n      <th>monthly costs</th>\n      <th>price</th>\n      <th>AGR</th>\n      <th>Total Score</th>\n      <th>Euro per score</th>\n    </tr>\n  </thead>\n  <tbody>\n    <tr>\n      <th>4406</th>\n      <td>VW Golf 1.4 eHybrid Style DSG (ab 08/20)</td>\n      <td>VW</td>\n      <td>Golf (VIII) (ab 12/19)</td>\n      <td>150</td>\n      <td>34476.0</td>\n      <td>437.0</td>\n      <td>1388.89</td>\n      <td>2.0</td>\n      <td>3.000000</td>\n      <td>0.0</td>\n      <td>...</td>\n      <td>9.57</td>\n      <td>3.33</td>\n      <td>2.53</td>\n      <td>1.40</td>\n      <td>6.88</td>\n      <td>22.74</td>\n      <td>28.27</td>\n      <td>4.0</td>\n      <td>282.659720</td>\n      <td>121.969979</td>\n    </tr>\n    <tr>\n      <th>5663</th>\n      <td>VW Golf GTE DSG (ab 08/20)</td>\n      <td>VW</td>\n      <td>Golf (VIII) GTE (ab 08/20)</td>\n      <td>180</td>\n      <td>36362.0</td>\n      <td>505.0</td>\n      <td>617.19</td>\n      <td>2.0</td>\n      <td>3.000000</td>\n      <td>0.0</td>\n      <td>...</td>\n      <td>9.57</td>\n      <td>4.62</td>\n      <td>5.05</td>\n      <td>1.40</td>\n      <td>6.34</td>\n      <td>16.79</td>\n      <td>25.29</td>\n      <td>4.0</td>\n      <td>275.139720</td>\n      <td>132.158309</td>\n    </tr>\n    <tr>\n      <th>2090</th>\n      <td>VW Golf 1.0 eTSI Life (ab 08/20)</td>\n      <td>VW</td>\n      <td>Golf (VIII) (ab 12/19)</td>\n      <td>81</td>\n      <td>29591.0</td>\n      <td>417.0</td>\n      <td>865.38</td>\n      <td>2.0</td>\n      <td>1.038462</td>\n      <td>0.0</td>\n      <td>...</td>\n      <td>11.02</td>\n      <td>1.03</td>\n      <td>3.47</td>\n      <td>1.22</td>\n      <td>7.39</td>\n      <td>24.49</td>\n      <td>36.01</td>\n      <td>4.0</td>\n      <td>271.691515</td>\n      <td>108.913964</td>\n    </tr>\n    <tr>\n      <th>3105</th>\n      <td>VW Golf 1.5 eTSI Style DSG (ab 09/20)</td>\n      <td>VW</td>\n      <td>Golf (VIII) (ab 12/19)</td>\n      <td>110</td>\n      <td>34374.0</td>\n      <td>457.0</td>\n      <td>862.07</td>\n      <td>2.0</td>\n      <td>1.038462</td>\n      <td>0.0</td>\n      <td>...</td>\n      <td>10.40</td>\n      <td>2.05</td>\n      <td>4.53</td>\n      <td>1.58</td>\n      <td>6.16</td>\n      <td>20.99</td>\n      <td>28.44</td>\n      <td>4.0</td>\n      <td>271.038182</td>\n      <td>126.823460</td>\n    </tr>\n    <tr>\n      <th>2099</th>\n      <td>VW Golf 1.5 eTSI Life DSG (ab 09/20)</td>\n      <td>VW</td>\n      <td>Golf (VIII) (ab 12/19)</td>\n      <td>110</td>\n      <td>32306.0</td>\n      <td>440.0</td>\n      <td>877.19</td>\n      <td>2.0</td>\n      <td>1.038462</td>\n      <td>0.0</td>\n      <td>...</td>\n      <td>10.40</td>\n      <td>1.28</td>\n      <td>4.32</td>\n      <td>1.49</td>\n      <td>6.76</td>\n      <td>22.48</td>\n      <td>31.71</td>\n      <td>4.0</td>\n      <td>270.961515</td>\n      <td>119.227264</td>\n    </tr>\n    <tr>\n      <th>2091</th>\n      <td>VW Golf 1.0 eTSI UNITED (ab 08/20)</td>\n      <td>VW</td>\n      <td>Golf (VIII) (ab 12/19)</td>\n      <td>81</td>\n      <td>31448.0</td>\n      <td>417.0</td>\n      <td>865.38</td>\n      <td>2.0</td>\n      <td>3.000000</td>\n      <td>0.0</td>\n      <td>...</td>\n      <td>11.02</td>\n      <td>1.03</td>\n      <td>3.47</td>\n      <td>1.22</td>\n      <td>6.97</td>\n      <td>24.49</td>\n      <td>33.07</td>\n      <td>4.0</td>\n      <td>270.293053</td>\n      <td>116.347792</td>\n    </tr>\n    <tr>\n      <th>3106</th>\n      <td>VW Golf 1.5 eTSI UNITED DSG (ab 09/20)</td>\n      <td>VW</td>\n      <td>Golf (VIII) (ab 12/19)</td>\n      <td>110</td>\n      <td>34163.0</td>\n      <td>440.0</td>\n      <td>877.19</td>\n      <td>2.0</td>\n      <td>3.000000</td>\n      <td>0.0</td>\n      <td>...</td>\n      <td>10.40</td>\n      <td>1.28</td>\n      <td>4.32</td>\n      <td>1.49</td>\n      <td>6.37</td>\n      <td>22.48</td>\n      <td>28.77</td>\n      <td>4.0</td>\n      <td>269.593053</td>\n      <td>126.720624</td>\n    </tr>\n    <tr>\n      <th>2102</th>\n      <td>VW Golf Variant 1.0 eTSI Life (ab 11/20)</td>\n      <td>VW</td>\n      <td>Golf (VIII) Variant (ab 11/20)</td>\n      <td>81</td>\n      <td>30805.0</td>\n      <td>422.0</td>\n      <td>849.06</td>\n      <td>2.0</td>\n      <td>3.000000</td>\n      <td>0.0</td>\n      <td>...</td>\n      <td>11.02</td>\n      <td>1.03</td>\n      <td>3.68</td>\n      <td>1.31</td>\n      <td>7.30</td>\n      <td>24.05</td>\n      <td>34.09</td>\n      <td>4.0</td>\n      <td>268.653053</td>\n      <td>114.664619</td>\n    </tr>\n    <tr>\n      <th>3107</th>\n      <td>VW Golf 1.5 eTSI R-Line DSG (ab 09/20)</td>\n      <td>VW</td>\n      <td>Golf (VIII) (ab 12/19)</td>\n      <td>110</td>\n      <td>34676.0</td>\n      <td>461.0</td>\n      <td>847.46</td>\n      <td>2.0</td>\n      <td>3.000000</td>\n      <td>0.0</td>\n      <td>...</td>\n      <td>10.40</td>\n      <td>2.05</td>\n      <td>4.74</td>\n      <td>1.58</td>\n      <td>6.22</td>\n      <td>20.64</td>\n      <td>27.96</td>\n      <td>4.0</td>\n      <td>267.973053</td>\n      <td>129.401071</td>\n    </tr>\n    <tr>\n      <th>3110</th>\n      <td>VW Golf 2.0 TDI SCR Style DSG (ab 09/20)</td>\n      <td>VW</td>\n      <td>Golf (VIII) (ab 12/19)</td>\n      <td>110</td>\n      <td>36894.0</td>\n      <td>438.0</td>\n      <td>1086.96</td>\n      <td>2.0</td>\n      <td>1.038462</td>\n      <td>0.0</td>\n      <td>...</td>\n      <td>8.72</td>\n      <td>2.56</td>\n      <td>1.79</td>\n      <td>3.76</td>\n      <td>5.02</td>\n      <td>22.65</td>\n      <td>24.44</td>\n      <td>4.0</td>\n      <td>262.498182</td>\n      <td>140.549545</td>\n    </tr>\n  </tbody>\n</table>\n<p>10 rows × 61 columns</p>\n</div>"
     },
     "metadata": {},
     "execution_count": 13
    }
   ],
   "source": [
    "df[df[Column.MY_M_COSTS] < impreza_costs].head(10)"
   ]
  },
  {
   "cell_type": "markdown",
   "metadata": {},
   "source": [
    "### Better in everything"
   ]
  },
  {
   "cell_type": "code",
   "execution_count": 14,
   "metadata": {},
   "outputs": [
    {
     "output_type": "execute_result",
     "data": {
      "text/plain": [
       "                                                   name  Marke  \\\n",
       "4406           VW Golf 1.4 eHybrid Style DSG (ab 08/20)     VW   \n",
       "5663                         VW Golf GTE DSG (ab 08/20)     VW   \n",
       "2090                   VW Golf 1.0 eTSI Life (ab 08/20)     VW   \n",
       "3105              VW Golf 1.5 eTSI Style DSG (ab 09/20)     VW   \n",
       "2099               VW Golf 1.5 eTSI Life DSG (ab 09/20)     VW   \n",
       "...                                                 ...    ...   \n",
       "1524  KIA Ceed 1.6 CRDi 136 Eco-Dynamics+ Vision DCT...    KIA   \n",
       "1523  KIA Ceed 1.6 CRDi 115 Eco-Dynamics+ Vision DCT...    KIA   \n",
       "1456      Honda Civic 1.0 Turbo Elegance CVT (ab 12/19)  Honda   \n",
       "1551  KIA XCeed 1.4 T-GDI JBL Sound Edition DCT7 (ab...    KIA   \n",
       "740   KIA Ceed Sportswagon 1.4 T-GDI Vision DCT7 (ab...    KIA   \n",
       "\n",
       "                              Baureihe  Leistung maximal in kW  Total price  \\\n",
       "4406            Golf (VIII) (ab 12/19)                     150      34476.0   \n",
       "5663        Golf (VIII) GTE (ab 08/20)                     180      36362.0   \n",
       "2090            Golf (VIII) (ab 12/19)                      81      29591.0   \n",
       "3105            Golf (VIII) (ab 12/19)                     110      34374.0   \n",
       "2099            Golf (VIII) (ab 12/19)                     110      32306.0   \n",
       "...                                ...                     ...          ...   \n",
       "1524              Ceed (CD) (ab 06/18)                     100      28086.0   \n",
       "1523              Ceed (CD) (ab 06/18)                      85      28048.0   \n",
       "1456              Civic (X) (ab 03/17)                      93      27879.0   \n",
       "1551             XCeed (CD) (ab 09/19)                     103      27664.0   \n",
       "740   Ceed (CD) Sportswagon (ab 09/18)                     103      26185.0   \n",
       "\n",
       "      my monthly costs    Range  AEB pedestrian     navi   active headrest  \\\n",
       "4406             437.0  1388.89        2.000000  3.000000              0.0   \n",
       "5663             505.0   617.19        2.000000  3.000000              0.0   \n",
       "2090             417.0   865.38        2.000000  1.038462              0.0   \n",
       "3105             457.0   862.07        2.000000  1.038462              0.0   \n",
       "2099             440.0   877.19        2.000000  1.038462              0.0   \n",
       "...                ...      ...             ...       ...              ...   \n",
       "1524             383.0   320.00        1.333333  2.884615              0.0   \n",
       "1523             383.0   320.00        1.333333  2.884615              0.0   \n",
       "1456             498.0   723.08        2.000000  3.000000              4.0   \n",
       "1551             474.0   320.00        1.333333  3.000000              0.0   \n",
       "740              449.0   320.00        1.333333  2.884615              0.0   \n",
       "\n",
       "      ...  Insurance 2  Costs service  Costs running  Costs fixed  \\\n",
       "4406  ...         9.57           3.33           2.53         1.40   \n",
       "5663  ...         9.57           4.62           5.05         1.40   \n",
       "2090  ...        11.02           1.03           3.47         1.22   \n",
       "3105  ...        10.40           2.05           4.53         1.58   \n",
       "2099  ...        10.40           1.28           4.32         1.49   \n",
       "...   ...          ...            ...            ...          ...   \n",
       "1524  ...         9.57           1.15           0.63         2.80   \n",
       "1523  ...         9.57           1.15           0.63         2.80   \n",
       "1456  ...         8.09           2.31           5.68         2.89   \n",
       "1551  ...        10.40           3.33           4.21         1.84   \n",
       "740   ...         8.72           1.67           3.89         2.45   \n",
       "\n",
       "      Costs depreciation  monthly costs  price  AGR  Total Score  \\\n",
       "4406                6.88          22.74  28.27  4.0   282.659720   \n",
       "5663                6.34          16.79  25.29  4.0   275.139720   \n",
       "2090                7.39          24.49  36.01  4.0   271.691515   \n",
       "3105                6.16          20.99  28.44  4.0   271.038182   \n",
       "2099                6.76          22.48  31.71  4.0   270.961515   \n",
       "...                  ...            ...    ...  ...          ...   \n",
       "1524                7.54          27.46  38.40  0.0   215.202563   \n",
       "1523                7.36          27.46  38.46  0.0   213.222563   \n",
       "1456                7.51          17.41  38.73  0.0   212.321171   \n",
       "1551                8.32          19.50  39.07  0.0   211.258424   \n",
       "740                 8.11          21.69  41.41  0.0   211.232563   \n",
       "\n",
       "      Euro per score  \n",
       "4406      121.969979  \n",
       "5663      132.158309  \n",
       "2090      108.913964  \n",
       "3105      126.823460  \n",
       "2099      119.227264  \n",
       "...              ...  \n",
       "1524      130.509598  \n",
       "1523      131.543302  \n",
       "1456      131.305794  \n",
       "1551      130.948625  \n",
       "740       123.962895  \n",
       "\n",
       "[131 rows x 61 columns]"
      ],
      "text/html": "<div>\n<style scoped>\n    .dataframe tbody tr th:only-of-type {\n        vertical-align: middle;\n    }\n\n    .dataframe tbody tr th {\n        vertical-align: top;\n    }\n\n    .dataframe thead th {\n        text-align: right;\n    }\n</style>\n<table border=\"1\" class=\"dataframe\">\n  <thead>\n    <tr style=\"text-align: right;\">\n      <th></th>\n      <th>name</th>\n      <th>Marke</th>\n      <th>Baureihe</th>\n      <th>Leistung maximal in kW</th>\n      <th>Total price</th>\n      <th>my monthly costs</th>\n      <th>Range</th>\n      <th>AEB pedestrian</th>\n      <th>navi</th>\n      <th>active headrest</th>\n      <th>...</th>\n      <th>Insurance 2</th>\n      <th>Costs service</th>\n      <th>Costs running</th>\n      <th>Costs fixed</th>\n      <th>Costs depreciation</th>\n      <th>monthly costs</th>\n      <th>price</th>\n      <th>AGR</th>\n      <th>Total Score</th>\n      <th>Euro per score</th>\n    </tr>\n  </thead>\n  <tbody>\n    <tr>\n      <th>4406</th>\n      <td>VW Golf 1.4 eHybrid Style DSG (ab 08/20)</td>\n      <td>VW</td>\n      <td>Golf (VIII) (ab 12/19)</td>\n      <td>150</td>\n      <td>34476.0</td>\n      <td>437.0</td>\n      <td>1388.89</td>\n      <td>2.000000</td>\n      <td>3.000000</td>\n      <td>0.0</td>\n      <td>...</td>\n      <td>9.57</td>\n      <td>3.33</td>\n      <td>2.53</td>\n      <td>1.40</td>\n      <td>6.88</td>\n      <td>22.74</td>\n      <td>28.27</td>\n      <td>4.0</td>\n      <td>282.659720</td>\n      <td>121.969979</td>\n    </tr>\n    <tr>\n      <th>5663</th>\n      <td>VW Golf GTE DSG (ab 08/20)</td>\n      <td>VW</td>\n      <td>Golf (VIII) GTE (ab 08/20)</td>\n      <td>180</td>\n      <td>36362.0</td>\n      <td>505.0</td>\n      <td>617.19</td>\n      <td>2.000000</td>\n      <td>3.000000</td>\n      <td>0.0</td>\n      <td>...</td>\n      <td>9.57</td>\n      <td>4.62</td>\n      <td>5.05</td>\n      <td>1.40</td>\n      <td>6.34</td>\n      <td>16.79</td>\n      <td>25.29</td>\n      <td>4.0</td>\n      <td>275.139720</td>\n      <td>132.158309</td>\n    </tr>\n    <tr>\n      <th>2090</th>\n      <td>VW Golf 1.0 eTSI Life (ab 08/20)</td>\n      <td>VW</td>\n      <td>Golf (VIII) (ab 12/19)</td>\n      <td>81</td>\n      <td>29591.0</td>\n      <td>417.0</td>\n      <td>865.38</td>\n      <td>2.000000</td>\n      <td>1.038462</td>\n      <td>0.0</td>\n      <td>...</td>\n      <td>11.02</td>\n      <td>1.03</td>\n      <td>3.47</td>\n      <td>1.22</td>\n      <td>7.39</td>\n      <td>24.49</td>\n      <td>36.01</td>\n      <td>4.0</td>\n      <td>271.691515</td>\n      <td>108.913964</td>\n    </tr>\n    <tr>\n      <th>3105</th>\n      <td>VW Golf 1.5 eTSI Style DSG (ab 09/20)</td>\n      <td>VW</td>\n      <td>Golf (VIII) (ab 12/19)</td>\n      <td>110</td>\n      <td>34374.0</td>\n      <td>457.0</td>\n      <td>862.07</td>\n      <td>2.000000</td>\n      <td>1.038462</td>\n      <td>0.0</td>\n      <td>...</td>\n      <td>10.40</td>\n      <td>2.05</td>\n      <td>4.53</td>\n      <td>1.58</td>\n      <td>6.16</td>\n      <td>20.99</td>\n      <td>28.44</td>\n      <td>4.0</td>\n      <td>271.038182</td>\n      <td>126.823460</td>\n    </tr>\n    <tr>\n      <th>2099</th>\n      <td>VW Golf 1.5 eTSI Life DSG (ab 09/20)</td>\n      <td>VW</td>\n      <td>Golf (VIII) (ab 12/19)</td>\n      <td>110</td>\n      <td>32306.0</td>\n      <td>440.0</td>\n      <td>877.19</td>\n      <td>2.000000</td>\n      <td>1.038462</td>\n      <td>0.0</td>\n      <td>...</td>\n      <td>10.40</td>\n      <td>1.28</td>\n      <td>4.32</td>\n      <td>1.49</td>\n      <td>6.76</td>\n      <td>22.48</td>\n      <td>31.71</td>\n      <td>4.0</td>\n      <td>270.961515</td>\n      <td>119.227264</td>\n    </tr>\n    <tr>\n      <th>...</th>\n      <td>...</td>\n      <td>...</td>\n      <td>...</td>\n      <td>...</td>\n      <td>...</td>\n      <td>...</td>\n      <td>...</td>\n      <td>...</td>\n      <td>...</td>\n      <td>...</td>\n      <td>...</td>\n      <td>...</td>\n      <td>...</td>\n      <td>...</td>\n      <td>...</td>\n      <td>...</td>\n      <td>...</td>\n      <td>...</td>\n      <td>...</td>\n      <td>...</td>\n      <td>...</td>\n    </tr>\n    <tr>\n      <th>1524</th>\n      <td>KIA Ceed 1.6 CRDi 136 Eco-Dynamics+ Vision DCT...</td>\n      <td>KIA</td>\n      <td>Ceed (CD) (ab 06/18)</td>\n      <td>100</td>\n      <td>28086.0</td>\n      <td>383.0</td>\n      <td>320.00</td>\n      <td>1.333333</td>\n      <td>2.884615</td>\n      <td>0.0</td>\n      <td>...</td>\n      <td>9.57</td>\n      <td>1.15</td>\n      <td>0.63</td>\n      <td>2.80</td>\n      <td>7.54</td>\n      <td>27.46</td>\n      <td>38.40</td>\n      <td>0.0</td>\n      <td>215.202563</td>\n      <td>130.509598</td>\n    </tr>\n    <tr>\n      <th>1523</th>\n      <td>KIA Ceed 1.6 CRDi 115 Eco-Dynamics+ Vision DCT...</td>\n      <td>KIA</td>\n      <td>Ceed (CD) (ab 06/18)</td>\n      <td>85</td>\n      <td>28048.0</td>\n      <td>383.0</td>\n      <td>320.00</td>\n      <td>1.333333</td>\n      <td>2.884615</td>\n      <td>0.0</td>\n      <td>...</td>\n      <td>9.57</td>\n      <td>1.15</td>\n      <td>0.63</td>\n      <td>2.80</td>\n      <td>7.36</td>\n      <td>27.46</td>\n      <td>38.46</td>\n      <td>0.0</td>\n      <td>213.222563</td>\n      <td>131.543302</td>\n    </tr>\n    <tr>\n      <th>1456</th>\n      <td>Honda Civic 1.0 Turbo Elegance CVT (ab 12/19)</td>\n      <td>Honda</td>\n      <td>Civic (X) (ab 03/17)</td>\n      <td>93</td>\n      <td>27879.0</td>\n      <td>498.0</td>\n      <td>723.08</td>\n      <td>2.000000</td>\n      <td>3.000000</td>\n      <td>4.0</td>\n      <td>...</td>\n      <td>8.09</td>\n      <td>2.31</td>\n      <td>5.68</td>\n      <td>2.89</td>\n      <td>7.51</td>\n      <td>17.41</td>\n      <td>38.73</td>\n      <td>0.0</td>\n      <td>212.321171</td>\n      <td>131.305794</td>\n    </tr>\n    <tr>\n      <th>1551</th>\n      <td>KIA XCeed 1.4 T-GDI JBL Sound Edition DCT7 (ab...</td>\n      <td>KIA</td>\n      <td>XCeed (CD) (ab 09/19)</td>\n      <td>103</td>\n      <td>27664.0</td>\n      <td>474.0</td>\n      <td>320.00</td>\n      <td>1.333333</td>\n      <td>3.000000</td>\n      <td>0.0</td>\n      <td>...</td>\n      <td>10.40</td>\n      <td>3.33</td>\n      <td>4.21</td>\n      <td>1.84</td>\n      <td>8.32</td>\n      <td>19.50</td>\n      <td>39.07</td>\n      <td>0.0</td>\n      <td>211.258424</td>\n      <td>130.948625</td>\n    </tr>\n    <tr>\n      <th>740</th>\n      <td>KIA Ceed Sportswagon 1.4 T-GDI Vision DCT7 (ab...</td>\n      <td>KIA</td>\n      <td>Ceed (CD) Sportswagon (ab 09/18)</td>\n      <td>103</td>\n      <td>26185.0</td>\n      <td>449.0</td>\n      <td>320.00</td>\n      <td>1.333333</td>\n      <td>2.884615</td>\n      <td>0.0</td>\n      <td>...</td>\n      <td>8.72</td>\n      <td>1.67</td>\n      <td>3.89</td>\n      <td>2.45</td>\n      <td>8.11</td>\n      <td>21.69</td>\n      <td>41.41</td>\n      <td>0.0</td>\n      <td>211.232563</td>\n      <td>123.962895</td>\n    </tr>\n  </tbody>\n</table>\n<p>131 rows × 61 columns</p>\n</div>"
     },
     "metadata": {},
     "execution_count": 14
    }
   ],
   "source": [
    "d = df[(df[Column.TOTAL_SCORE] > impreza_total_score) & (df[Column.EURO_PER_SCORE] < impreza_euro_per_score) & (df[Column.MY_M_COSTS] < impreza_costs)]\n",
    "d.to_csv('/tmp/best_car.csv')\n",
    "d"
   ]
  },
  {
   "cell_type": "code",
   "execution_count": null,
   "metadata": {},
   "outputs": [],
   "source": []
  }
 ],
 "metadata": {
  "language_info": {
   "codemirror_mode": {
    "name": "ipython",
    "version": 3
   },
   "file_extension": ".py",
   "mimetype": "text/x-python",
   "name": "python",
   "nbconvert_exporter": "python",
   "pygments_lexer": "ipython3",
   "version": "3.8.0-final"
  },
  "orig_nbformat": 2,
  "kernelspec": {
   "name": "python38064bitvenvvenv19fc6a42b4f14267a5673bbe29c8a3fc",
   "display_name": "Python 3.8.0 64-bit ('.venv': venv)"
  }
 },
 "nbformat": 4,
 "nbformat_minor": 2
}