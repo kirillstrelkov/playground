{
 "cells": [
  {
   "cell_type": "markdown",
   "metadata": {},
   "source": [
    "# Finding best car\n",
    "## Show top cars with least monthly costs"
   ]
  },
  {
   "cell_type": "code",
   "execution_count": 1,
   "metadata": {
    "tags": []
   },
   "outputs": [
    {
     "output_type": "stream",
     "name": "stderr",
     "text": [
      "<ipython-input-1-d1081bcfb441>:17: DtypeWarning: Columns (234,235,236,237) have mixed types.Specify dtype option on import or set low_memory=False.\n  df = _get_df_with_cost_to_own(de_discount=True)\n"
     ]
    },
    {
     "output_type": "execute_result",
     "data": {
      "text/plain": [
       "     Marke                                Baureihe  \\\n",
       "574     VW                         ID.3 (ab 09/20)   \n",
       "573     VW                         ID.3 (ab 09/20)   \n",
       "495  Skoda           Octavia (IV) Combi (ab 04/20)   \n",
       "296   MINI  MINI (F56) Electric 3-Türer (ab 03/21)   \n",
       "501  Skoda       Octavia (IV) Limousine (ab 04/20)   \n",
       "\n",
       "     Leistung maximal in kW (Systemleistung)  Total price  my monthly costs  \n",
       "574                                      110      28660.0             364.0  \n",
       "573                                      107      32272.0             365.0  \n",
       "495                                       96      38727.0             369.0  \n",
       "296                                      135      26540.0             369.0  \n",
       "501                                       96      38027.0             371.0  "
      ],
      "text/html": "<div>\n<style scoped>\n    .dataframe tbody tr th:only-of-type {\n        vertical-align: middle;\n    }\n\n    .dataframe tbody tr th {\n        vertical-align: top;\n    }\n\n    .dataframe thead th {\n        text-align: right;\n    }\n</style>\n<table border=\"1\" class=\"dataframe\">\n  <thead>\n    <tr style=\"text-align: right;\">\n      <th></th>\n      <th>Marke</th>\n      <th>Baureihe</th>\n      <th>Leistung maximal in kW (Systemleistung)</th>\n      <th>Total price</th>\n      <th>my monthly costs</th>\n    </tr>\n  </thead>\n  <tbody>\n    <tr>\n      <th>574</th>\n      <td>VW</td>\n      <td>ID.3 (ab 09/20)</td>\n      <td>110</td>\n      <td>28660.0</td>\n      <td>364.0</td>\n    </tr>\n    <tr>\n      <th>573</th>\n      <td>VW</td>\n      <td>ID.3 (ab 09/20)</td>\n      <td>107</td>\n      <td>32272.0</td>\n      <td>365.0</td>\n    </tr>\n    <tr>\n      <th>495</th>\n      <td>Skoda</td>\n      <td>Octavia (IV) Combi (ab 04/20)</td>\n      <td>96</td>\n      <td>38727.0</td>\n      <td>369.0</td>\n    </tr>\n    <tr>\n      <th>296</th>\n      <td>MINI</td>\n      <td>MINI (F56) Electric 3-Türer (ab 03/21)</td>\n      <td>135</td>\n      <td>26540.0</td>\n      <td>369.0</td>\n    </tr>\n    <tr>\n      <th>501</th>\n      <td>Skoda</td>\n      <td>Octavia (IV) Limousine (ab 04/20)</td>\n      <td>96</td>\n      <td>38027.0</td>\n      <td>371.0</td>\n    </tr>\n  </tbody>\n</table>\n</div>"
     },
     "metadata": {},
     "execution_count": 1
    }
   ],
   "source": [
    "from find_best_car import (\n",
    "    _get_df_with_cost_to_own, \n",
    "    Column, \n",
    "    get_scored_df\n",
    ")\n",
    "import pandas as pd\n",
    "from numpy import nan\n",
    "\n",
    "import seaborn as sns\n",
    "\n",
    "def coloraze(df, axis=1):\n",
    "    cm = sns.light_palette(\"seagreen\", as_cmap=True)\n",
    "    return df.style.background_gradient(cmap=cm, axis=axis)\n",
    "\n",
    "GROUP_COLS_MARK_SERIE_KW = [Column.MARK, Column.SERIE, Column.PERFORMANCE_KW]\n",
    "\n",
    "df = _get_df_with_cost_to_own(de_discount=True)\n",
    "\n",
    "g = df.groupby(GROUP_COLS_MARK_SERIE_KW, as_index=False)\n",
    "costs_mean = g[[Column.TOTAL_PRICE, Column.MY_M_COSTS]].mean()\n",
    "costs_mean.sort_values(Column.MY_M_COSTS).head(5).round(0)"
   ]
  },
  {
   "cell_type": "markdown",
   "metadata": {},
   "source": [
    "## Cars with lowest monthly costs"
   ]
  },
  {
   "cell_type": "code",
   "execution_count": 2,
   "metadata": {},
   "outputs": [
    {
     "output_type": "execute_result",
     "data": {
      "text/plain": [
       "       Marke                                Baureihe  \\\n",
       "574       VW                         ID.3 (ab 09/20)   \n",
       "573       VW                         ID.3 (ab 09/20)   \n",
       "495    Skoda           Octavia (IV) Combi (ab 04/20)   \n",
       "296     MINI  MINI (F56) Electric 3-Türer (ab 03/21)   \n",
       "501    Skoda       Octavia (IV) Limousine (ab 04/20)   \n",
       "575       VW                         ID.3 (ab 09/20)   \n",
       "201  Hyundai           IONIQ (AE) Elektro (ab 09/19)   \n",
       "18      Audi     A3 (8Y) Sportback g-tron (ab 10/20)   \n",
       "554   Toyota                 Yaris (XP21) (ab 09/20)   \n",
       "479    Skoda                     Enyaq iV (ab 04/21)   \n",
       "\n",
       "     Leistung maximal in kW (Systemleistung)  Total price  my monthly costs  \n",
       "574                                      110      28660.0             364.0  \n",
       "573                                      107      32272.0             365.0  \n",
       "495                                       96      38727.0             369.0  \n",
       "296                                      135      26540.0             369.0  \n",
       "501                                       96      38027.0             371.0  \n",
       "575                                      150      36854.0             374.0  \n",
       "201                                      100      32685.0             375.0  \n",
       "18                                        96      38192.0             378.0  \n",
       "554                                       85      24406.0             381.0  \n",
       "479                                      109      30660.0             388.0  "
      ],
      "text/html": "<div>\n<style scoped>\n    .dataframe tbody tr th:only-of-type {\n        vertical-align: middle;\n    }\n\n    .dataframe tbody tr th {\n        vertical-align: top;\n    }\n\n    .dataframe thead th {\n        text-align: right;\n    }\n</style>\n<table border=\"1\" class=\"dataframe\">\n  <thead>\n    <tr style=\"text-align: right;\">\n      <th></th>\n      <th>Marke</th>\n      <th>Baureihe</th>\n      <th>Leistung maximal in kW (Systemleistung)</th>\n      <th>Total price</th>\n      <th>my monthly costs</th>\n    </tr>\n  </thead>\n  <tbody>\n    <tr>\n      <th>574</th>\n      <td>VW</td>\n      <td>ID.3 (ab 09/20)</td>\n      <td>110</td>\n      <td>28660.0</td>\n      <td>364.0</td>\n    </tr>\n    <tr>\n      <th>573</th>\n      <td>VW</td>\n      <td>ID.3 (ab 09/20)</td>\n      <td>107</td>\n      <td>32272.0</td>\n      <td>365.0</td>\n    </tr>\n    <tr>\n      <th>495</th>\n      <td>Skoda</td>\n      <td>Octavia (IV) Combi (ab 04/20)</td>\n      <td>96</td>\n      <td>38727.0</td>\n      <td>369.0</td>\n    </tr>\n    <tr>\n      <th>296</th>\n      <td>MINI</td>\n      <td>MINI (F56) Electric 3-Türer (ab 03/21)</td>\n      <td>135</td>\n      <td>26540.0</td>\n      <td>369.0</td>\n    </tr>\n    <tr>\n      <th>501</th>\n      <td>Skoda</td>\n      <td>Octavia (IV) Limousine (ab 04/20)</td>\n      <td>96</td>\n      <td>38027.0</td>\n      <td>371.0</td>\n    </tr>\n    <tr>\n      <th>575</th>\n      <td>VW</td>\n      <td>ID.3 (ab 09/20)</td>\n      <td>150</td>\n      <td>36854.0</td>\n      <td>374.0</td>\n    </tr>\n    <tr>\n      <th>201</th>\n      <td>Hyundai</td>\n      <td>IONIQ (AE) Elektro (ab 09/19)</td>\n      <td>100</td>\n      <td>32685.0</td>\n      <td>375.0</td>\n    </tr>\n    <tr>\n      <th>18</th>\n      <td>Audi</td>\n      <td>A3 (8Y) Sportback g-tron (ab 10/20)</td>\n      <td>96</td>\n      <td>38192.0</td>\n      <td>378.0</td>\n    </tr>\n    <tr>\n      <th>554</th>\n      <td>Toyota</td>\n      <td>Yaris (XP21) (ab 09/20)</td>\n      <td>85</td>\n      <td>24406.0</td>\n      <td>381.0</td>\n    </tr>\n    <tr>\n      <th>479</th>\n      <td>Skoda</td>\n      <td>Enyaq iV (ab 04/21)</td>\n      <td>109</td>\n      <td>30660.0</td>\n      <td>388.0</td>\n    </tr>\n  </tbody>\n</table>\n</div>"
     },
     "metadata": {},
     "execution_count": 2
    }
   ],
   "source": [
    "costs_mean.sort_values(Column.MY_M_COSTS).round(0).head(10)"
   ]
  },
  {
   "cell_type": "markdown",
   "metadata": {},
   "source": [
    "## Find missing data in input excel"
   ]
  },
  {
   "cell_type": "code",
   "execution_count": 3,
   "metadata": {
    "tags": []
   },
   "outputs": [
    {
     "output_type": "stream",
     "name": "stderr",
     "text": [
      "/home/kirill/workspace/playground/auto/adac/best_car/find_best_car.py:356: DtypeWarning: Columns (234,235,236,237) have mixed types.Specify dtype option on import or set low_memory=False.\n",
      "  [df, _get_df_with_cost_to_own(model, de_discount=de_discount)]\n",
      "/home/kirill/workspace/playground/auto/adac/best_car/find_best_car.py:356: DtypeWarning: Columns (234,235,236,237) have mixed types.Specify dtype option on import or set low_memory=False.\n",
      "  [df, _get_df_with_cost_to_own(model, de_discount=de_discount)]\n",
      "/home/kirill/workspace/playground/auto/adac/best_car/find_best_car.py:356: DtypeWarning: Columns (234,235,236,237) have mixed types.Specify dtype option on import or set low_memory=False.\n",
      "  [df, _get_df_with_cost_to_own(model, de_discount=de_discount)]\n",
      "/home/kirill/workspace/playground/auto/adac/best_car/find_best_car.py:356: DtypeWarning: Columns (234,235,236,237) have mixed types.Specify dtype option on import or set low_memory=False.\n",
      "  [df, _get_df_with_cost_to_own(model, de_discount=de_discount)]\n",
      "/home/kirill/workspace/playground/auto/adac/best_car/find_best_car.py:356: DtypeWarning: Columns (234,235,236,237) have mixed types.Specify dtype option on import or set low_memory=False.\n",
      "  [df, _get_df_with_cost_to_own(model, de_discount=de_discount)]\n",
      "/home/kirill/workspace/playground/auto/adac/best_car/find_best_car.py:356: DtypeWarning: Columns (234,235,236,237) have mixed types.Specify dtype option on import or set low_memory=False.\n",
      "  [df, _get_df_with_cost_to_own(model, de_discount=de_discount)]\n",
      "/home/kirill/workspace/playground/auto/adac/best_car/find_best_car.py:356: DtypeWarning: Columns (234,235,236,237) have mixed types.Specify dtype option on import or set low_memory=False.\n",
      "  [df, _get_df_with_cost_to_own(model, de_discount=de_discount)]\n",
      "/home/kirill/workspace/playground/auto/adac/best_car/find_best_car.py:356: DtypeWarning: Columns (234,235,236,237) have mixed types.Specify dtype option on import or set low_memory=False.\n",
      "  [df, _get_df_with_cost_to_own(model, de_discount=de_discount)]\n",
      "/home/kirill/workspace/playground/auto/adac/best_car/find_best_car.py:356: DtypeWarning: Columns (234,235,236,237) have mixed types.Specify dtype option on import or set low_memory=False.\n",
      "  [df, _get_df_with_cost_to_own(model, de_discount=de_discount)]\n",
      "/home/kirill/workspace/playground/auto/adac/best_car/find_best_car.py:356: DtypeWarning: Columns (234,235,236,237) have mixed types.Specify dtype option on import or set low_memory=False.\n",
      "  [df, _get_df_with_cost_to_own(model, de_discount=de_discount)]\n",
      "/home/kirill/workspace/playground/auto/adac/best_car/find_best_car.py:356: DtypeWarning: Columns (234,235,236,237) have mixed types.Specify dtype option on import or set low_memory=False.\n",
      "  [df, _get_df_with_cost_to_own(model, de_discount=de_discount)]\n",
      "/home/kirill/workspace/playground/auto/adac/best_car/find_best_car.py:356: DtypeWarning: Columns (234,235,236,237) have mixed types.Specify dtype option on import or set low_memory=False.\n",
      "  [df, _get_df_with_cost_to_own(model, de_discount=de_discount)]\n",
      "/home/kirill/workspace/playground/auto/adac/best_car/find_best_car.py:356: DtypeWarning: Columns (234,235,236,237) have mixed types.Specify dtype option on import or set low_memory=False.\n",
      "  [df, _get_df_with_cost_to_own(model, de_discount=de_discount)]\n",
      "/home/kirill/workspace/playground/auto/adac/best_car/find_best_car.py:356: DtypeWarning: Columns (234,235,236,237) have mixed types.Specify dtype option on import or set low_memory=False.\n",
      "  [df, _get_df_with_cost_to_own(model, de_discount=de_discount)]\n",
      "/home/kirill/workspace/playground/auto/adac/best_car/find_best_car.py:356: DtypeWarning: Columns (234,235,236,237) have mixed types.Specify dtype option on import or set low_memory=False.\n",
      "  [df, _get_df_with_cost_to_own(model, de_discount=de_discount)]\n",
      "/home/kirill/workspace/playground/auto/adac/best_car/find_best_car.py:356: DtypeWarning: Columns (234,235,236,237) have mixed types.Specify dtype option on import or set low_memory=False.\n",
      "  [df, _get_df_with_cost_to_own(model, de_discount=de_discount)]\n",
      "/home/kirill/workspace/playground/auto/adac/best_car/find_best_car.py:356: DtypeWarning: Columns (234,235,236,237) have mixed types.Specify dtype option on import or set low_memory=False.\n",
      "  [df, _get_df_with_cost_to_own(model, de_discount=de_discount)]\n",
      "/home/kirill/workspace/playground/auto/adac/best_car/find_best_car.py:356: DtypeWarning: Columns (234,235,236,237) have mixed types.Specify dtype option on import or set low_memory=False.\n",
      "  [df, _get_df_with_cost_to_own(model, de_discount=de_discount)]\n",
      "/home/kirill/workspace/playground/auto/adac/best_car/find_best_car.py:356: DtypeWarning: Columns (234,235,236,237) have mixed types.Specify dtype option on import or set low_memory=False.\n",
      "  [df, _get_df_with_cost_to_own(model, de_discount=de_discount)]\n",
      "/home/kirill/workspace/playground/auto/adac/best_car/find_best_car.py:356: DtypeWarning: Columns (234,235,236,237) have mixed types.Specify dtype option on import or set low_memory=False.\n",
      "  [df, _get_df_with_cost_to_own(model, de_discount=de_discount)]\n",
      "/home/kirill/workspace/playground/auto/adac/best_car/find_best_car.py:356: DtypeWarning: Columns (234,235,236,237) have mixed types.Specify dtype option on import or set low_memory=False.\n",
      "  [df, _get_df_with_cost_to_own(model, de_discount=de_discount)]\n",
      "/home/kirill/workspace/playground/auto/adac/best_car/find_best_car.py:356: DtypeWarning: Columns (234,235,236,237) have mixed types.Specify dtype option on import or set low_memory=False.\n",
      "  [df, _get_df_with_cost_to_own(model, de_discount=de_discount)]\n",
      "/home/kirill/workspace/playground/auto/adac/best_car/find_best_car.py:356: DtypeWarning: Columns (234,235,236,237) have mixed types.Specify dtype option on import or set low_memory=False.\n",
      "  [df, _get_df_with_cost_to_own(model, de_discount=de_discount)]\n",
      "/home/kirill/workspace/playground/auto/adac/best_car/find_best_car.py:356: DtypeWarning: Columns (234,235,236,237) have mixed types.Specify dtype option on import or set low_memory=False.\n",
      "  [df, _get_df_with_cost_to_own(model, de_discount=de_discount)]\n",
      "/home/kirill/workspace/playground/auto/adac/best_car/find_best_car.py:356: DtypeWarning: Columns (234,235,236,237) have mixed types.Specify dtype option on import or set low_memory=False.\n",
      "  [df, _get_df_with_cost_to_own(model, de_discount=de_discount)]\n",
      "/home/kirill/workspace/playground/auto/adac/best_car/find_best_car.py:356: DtypeWarning: Columns (234,235,236,237) have mixed types.Specify dtype option on import or set low_memory=False.\n",
      "  [df, _get_df_with_cost_to_own(model, de_discount=de_discount)]\n",
      "/home/kirill/workspace/playground/auto/adac/best_car/find_best_car.py:356: DtypeWarning: Columns (234,235,236,237) have mixed types.Specify dtype option on import or set low_memory=False.\n",
      "  [df, _get_df_with_cost_to_own(model, de_discount=de_discount)]\n",
      "/home/kirill/workspace/playground/auto/adac/best_car/find_best_car.py:356: DtypeWarning: Columns (234,235,236,237) have mixed types.Specify dtype option on import or set low_memory=False.\n",
      "  [df, _get_df_with_cost_to_own(model, de_discount=de_discount)]\n",
      "/home/kirill/workspace/playground/auto/adac/best_car/find_best_car.py:356: DtypeWarning: Columns (234,235,236,237) have mixed types.Specify dtype option on import or set low_memory=False.\n",
      "  [df, _get_df_with_cost_to_own(model, de_discount=de_discount)]\n",
      "/home/kirill/workspace/playground/auto/adac/best_car/find_best_car.py:356: DtypeWarning: Columns (234,235,236,237) have mixed types.Specify dtype option on import or set low_memory=False.\n",
      "  [df, _get_df_with_cost_to_own(model, de_discount=de_discount)]\n",
      "/home/kirill/workspace/playground/auto/adac/best_car/find_best_car.py:356: DtypeWarning: Columns (234,235,236,237) have mixed types.Specify dtype option on import or set low_memory=False.\n",
      "  [df, _get_df_with_cost_to_own(model, de_discount=de_discount)]\n",
      "/home/kirill/workspace/playground/auto/adac/best_car/find_best_car.py:356: DtypeWarning: Columns (234,235,236,237) have mixed types.Specify dtype option on import or set low_memory=False.\n",
      "  [df, _get_df_with_cost_to_own(model, de_discount=de_discount)]\n",
      "/home/kirill/workspace/playground/auto/adac/best_car/find_best_car.py:356: DtypeWarning: Columns (234,235,236,237) have mixed types.Specify dtype option on import or set low_memory=False.\n",
      "  [df, _get_df_with_cost_to_own(model, de_discount=de_discount)]\n",
      "/home/kirill/workspace/playground/auto/adac/best_car/find_best_car.py:356: DtypeWarning: Columns (234,235,236,237) have mixed types.Specify dtype option on import or set low_memory=False.\n",
      "  [df, _get_df_with_cost_to_own(model, de_discount=de_discount)]\n",
      "/home/kirill/workspace/playground/auto/adac/best_car/find_best_car.py:356: DtypeWarning: Columns (234,235,236,237) have mixed types.Specify dtype option on import or set low_memory=False.\n",
      "  [df, _get_df_with_cost_to_own(model, de_discount=de_discount)]\n",
      "/home/kirill/workspace/playground/auto/adac/best_car/find_best_car.py:356: DtypeWarning: Columns (234,235,236,237) have mixed types.Specify dtype option on import or set low_memory=False.\n",
      "  [df, _get_df_with_cost_to_own(model, de_discount=de_discount)]\n",
      "/home/kirill/workspace/playground/auto/adac/best_car/find_best_car.py:356: DtypeWarning: Columns (234,235,236,237) have mixed types.Specify dtype option on import or set low_memory=False.\n",
      "  [df, _get_df_with_cost_to_own(model, de_discount=de_discount)]\n",
      "/home/kirill/workspace/playground/auto/adac/best_car/find_best_car.py:356: DtypeWarning: Columns (234,235,236,237) have mixed types.Specify dtype option on import or set low_memory=False.\n",
      "  [df, _get_df_with_cost_to_own(model, de_discount=de_discount)]\n",
      "Bad column: Range\n",
      "Bad column: range up to 1000 km per tank\n",
      "Bad column: boot size,Fit 156 snowboard \n"
     ]
    }
   ],
   "source": [
    "\n",
    "df = get_scored_df(de_discount=True)\n",
    "\n",
    "for col in df.columns:\n",
    "    uniq_vals = df[col]\n",
    "    if uniq_vals.isnull().values.any():\n",
    "        print(f\"Bad column: {col}\")\n"
   ]
  },
  {
   "cell_type": "code",
   "execution_count": 4,
   "metadata": {
    "tags": []
   },
   "outputs": [
    {
     "output_type": "execute_result",
     "data": {
      "text/plain": [
       "     Marke                             Baureihe\n",
       "339   Audi         A1 (GB) Sportback (ab 11/18)\n",
       "950   Audi        A1 (GB) citycarver (ab 09/19)\n",
       "1931  Audi         A3 (8Y) Limousine (ab 06/20)\n",
       "2930  Audi         A3 (8Y) Sportback (ab 05/20)\n",
       "1928  Audi  A3 (8Y) Sportback g-tron (ab 10/20)\n",
       "...    ...                                  ...\n",
       "1866    VW                     T-Roc (ab 11/17)\n",
       "2883    VW           T-Roc Cabriolet (ab 03/20)\n",
       "6444    VW                   T-Roc R (ab 09/19)\n",
       "6434    VW               Tiguan (II) (ab 09/20)\n",
       "4173    VW      Tiguan (II) Allspace (ab 09/17)\n",
       "\n",
       "[78 rows x 2 columns]"
      ],
      "text/html": "<div>\n<style scoped>\n    .dataframe tbody tr th:only-of-type {\n        vertical-align: middle;\n    }\n\n    .dataframe tbody tr th {\n        vertical-align: top;\n    }\n\n    .dataframe thead th {\n        text-align: right;\n    }\n</style>\n<table border=\"1\" class=\"dataframe\">\n  <thead>\n    <tr style=\"text-align: right;\">\n      <th></th>\n      <th>Marke</th>\n      <th>Baureihe</th>\n    </tr>\n  </thead>\n  <tbody>\n    <tr>\n      <th>339</th>\n      <td>Audi</td>\n      <td>A1 (GB) Sportback (ab 11/18)</td>\n    </tr>\n    <tr>\n      <th>950</th>\n      <td>Audi</td>\n      <td>A1 (GB) citycarver (ab 09/19)</td>\n    </tr>\n    <tr>\n      <th>1931</th>\n      <td>Audi</td>\n      <td>A3 (8Y) Limousine (ab 06/20)</td>\n    </tr>\n    <tr>\n      <th>2930</th>\n      <td>Audi</td>\n      <td>A3 (8Y) Sportback (ab 05/20)</td>\n    </tr>\n    <tr>\n      <th>1928</th>\n      <td>Audi</td>\n      <td>A3 (8Y) Sportback g-tron (ab 10/20)</td>\n    </tr>\n    <tr>\n      <th>...</th>\n      <td>...</td>\n      <td>...</td>\n    </tr>\n    <tr>\n      <th>1866</th>\n      <td>VW</td>\n      <td>T-Roc (ab 11/17)</td>\n    </tr>\n    <tr>\n      <th>2883</th>\n      <td>VW</td>\n      <td>T-Roc Cabriolet (ab 03/20)</td>\n    </tr>\n    <tr>\n      <th>6444</th>\n      <td>VW</td>\n      <td>T-Roc R (ab 09/19)</td>\n    </tr>\n    <tr>\n      <th>6434</th>\n      <td>VW</td>\n      <td>Tiguan (II) (ab 09/20)</td>\n    </tr>\n    <tr>\n      <th>4173</th>\n      <td>VW</td>\n      <td>Tiguan (II) Allspace (ab 09/17)</td>\n    </tr>\n  </tbody>\n</table>\n<p>78 rows × 2 columns</p>\n</div>"
     },
     "metadata": {},
     "execution_count": 4
    }
   ],
   "source": [
    "cols = ['Marke', 'Baureihe']\n",
    "df[cols].drop_duplicates(subset=cols).sort_values(cols)"
   ]
  },
  {
   "cell_type": "markdown",
   "metadata": {},
   "source": [
    "# Most suitable cars"
   ]
  },
  {
   "cell_type": "code",
   "execution_count": 5,
   "metadata": {},
   "outputs": [
    {
     "output_type": "execute_result",
     "data": {
      "text/plain": [
       "                                                 name  my monthly costs  \\\n",
       "5434         VW Golf 1.4 eHybrid Style DSG (ab 08/20)             439.0   \n",
       "5436                       VW Golf GTE DSG (ab 08/20)             469.0   \n",
       "1839             VW Golf 1.0 eTSI Life DSG (ab 08/20)             427.0   \n",
       "1844             VW Golf 1.5 eTSI Life DSG (ab 12/20)             441.0   \n",
       "4129         VW Golf 2.0 TDI SCR Style DSG (ab 09/20)             446.0   \n",
       "4128        VW Golf 2.0 TDI SCR ACTIVE DSG (ab 01/21)             434.0   \n",
       "2849  VW Golf Variant 2.0 TDI SCR Life DSG (ab 11/20)             432.0   \n",
       "1849     VW Golf Variant 1.0 eTSI Life DSG (ab 11/20)             432.0   \n",
       "2847  VW Golf Variant 2.0 TDI SCR Life DSG (ab 12/20)             423.0   \n",
       "2845    VW Golf Variant 1.5 eTSI Style DSG (ab 11/20)             458.0   \n",
       "\n",
       "      Total Score  \n",
       "5434   284.492553  \n",
       "5436   282.814091  \n",
       "1839   274.965886  \n",
       "1844   274.295886  \n",
       "4129   273.212553  \n",
       "4128   272.411061  \n",
       "2849   271.055886  \n",
       "1849   270.925886  \n",
       "2847   270.505886  \n",
       "2845   270.422553  "
      ],
      "text/html": "<div>\n<style scoped>\n    .dataframe tbody tr th:only-of-type {\n        vertical-align: middle;\n    }\n\n    .dataframe tbody tr th {\n        vertical-align: top;\n    }\n\n    .dataframe thead th {\n        text-align: right;\n    }\n</style>\n<table border=\"1\" class=\"dataframe\">\n  <thead>\n    <tr style=\"text-align: right;\">\n      <th></th>\n      <th>name</th>\n      <th>my monthly costs</th>\n      <th>Total Score</th>\n    </tr>\n  </thead>\n  <tbody>\n    <tr>\n      <th>5434</th>\n      <td>VW Golf 1.4 eHybrid Style DSG (ab 08/20)</td>\n      <td>439.0</td>\n      <td>284.492553</td>\n    </tr>\n    <tr>\n      <th>5436</th>\n      <td>VW Golf GTE DSG (ab 08/20)</td>\n      <td>469.0</td>\n      <td>282.814091</td>\n    </tr>\n    <tr>\n      <th>1839</th>\n      <td>VW Golf 1.0 eTSI Life DSG (ab 08/20)</td>\n      <td>427.0</td>\n      <td>274.965886</td>\n    </tr>\n    <tr>\n      <th>1844</th>\n      <td>VW Golf 1.5 eTSI Life DSG (ab 12/20)</td>\n      <td>441.0</td>\n      <td>274.295886</td>\n    </tr>\n    <tr>\n      <th>4129</th>\n      <td>VW Golf 2.0 TDI SCR Style DSG (ab 09/20)</td>\n      <td>446.0</td>\n      <td>273.212553</td>\n    </tr>\n    <tr>\n      <th>4128</th>\n      <td>VW Golf 2.0 TDI SCR ACTIVE DSG (ab 01/21)</td>\n      <td>434.0</td>\n      <td>272.411061</td>\n    </tr>\n    <tr>\n      <th>2849</th>\n      <td>VW Golf Variant 2.0 TDI SCR Life DSG (ab 11/20)</td>\n      <td>432.0</td>\n      <td>271.055886</td>\n    </tr>\n    <tr>\n      <th>1849</th>\n      <td>VW Golf Variant 1.0 eTSI Life DSG (ab 11/20)</td>\n      <td>432.0</td>\n      <td>270.925886</td>\n    </tr>\n    <tr>\n      <th>2847</th>\n      <td>VW Golf Variant 2.0 TDI SCR Life DSG (ab 12/20)</td>\n      <td>423.0</td>\n      <td>270.505886</td>\n    </tr>\n    <tr>\n      <th>2845</th>\n      <td>VW Golf Variant 1.5 eTSI Style DSG (ab 11/20)</td>\n      <td>458.0</td>\n      <td>270.422553</td>\n    </tr>\n  </tbody>\n</table>\n</div>"
     },
     "metadata": {},
     "execution_count": 5
    }
   ],
   "source": [
    "top = df.filter([Column.NAME, Column.MY_M_COSTS, Column.TOTAL_SCORE])\n",
    "df.to_excel('/tmp/1.xlsx')\n",
    "top.head(10)"
   ]
  },
  {
   "cell_type": "markdown",
   "metadata": {},
   "source": [
    "## Most suitable car sorted by euro per 1 score point"
   ]
  },
  {
   "cell_type": "code",
   "execution_count": 6,
   "metadata": {},
   "outputs": [
    {
     "output_type": "execute_result",
     "data": {
      "text/plain": [
       "                                                   name  Total price  \\\n",
       "743      Renault Clio TCe 90 Intens X-tronic (ab 08/20)      21300.0   \n",
       "658   Opel Corsa 1.2 DI Turbo Elegance Automatik (ab...      23295.0   \n",
       "660   Opel Corsa 1.2 DI Turbo GS Line Automatik (ab ...      23770.0   \n",
       "339       Audi A1 Sportback 25 TFSI S tronic (ab 09/20)      24885.0   \n",
       "699   Peugeot 208 1.2 PureTech 100 Allure Pack EAT8 ...      23439.0   \n",
       "2504                   Opel Corsa-e Elegance (ab 05/20)      24440.0   \n",
       "2505                    Opel Corsa-e GS Line (ab 05/20)      25100.0   \n",
       "663   Opel Corsa 1.2 DI Turbo GS Line Automatik (ab ...      25470.0   \n",
       "2561               Peugeot e-208 Allure Pack (ab 10/20)      24590.0   \n",
       "345       Audi A1 Sportback 30 TFSI S tronic (ab 09/20)      26135.0   \n",
       "\n",
       "      Total Score  Euro per score  \n",
       "743    240.520371       88.557988  \n",
       "658    244.930627       95.108563  \n",
       "660    243.740627       97.521699  \n",
       "339    248.910538       99.975679  \n",
       "699    234.355653      100.014656  \n",
       "2504   242.048320      100.971575  \n",
       "2505   240.488320      104.370973  \n",
       "663    243.650627      104.534925  \n",
       "2561   235.215653      104.542362  \n",
       "345    248.810538      105.039763  "
      ],
      "text/html": "<div>\n<style scoped>\n    .dataframe tbody tr th:only-of-type {\n        vertical-align: middle;\n    }\n\n    .dataframe tbody tr th {\n        vertical-align: top;\n    }\n\n    .dataframe thead th {\n        text-align: right;\n    }\n</style>\n<table border=\"1\" class=\"dataframe\">\n  <thead>\n    <tr style=\"text-align: right;\">\n      <th></th>\n      <th>name</th>\n      <th>Total price</th>\n      <th>Total Score</th>\n      <th>Euro per score</th>\n    </tr>\n  </thead>\n  <tbody>\n    <tr>\n      <th>743</th>\n      <td>Renault Clio TCe 90 Intens X-tronic (ab 08/20)</td>\n      <td>21300.0</td>\n      <td>240.520371</td>\n      <td>88.557988</td>\n    </tr>\n    <tr>\n      <th>658</th>\n      <td>Opel Corsa 1.2 DI Turbo Elegance Automatik (ab...</td>\n      <td>23295.0</td>\n      <td>244.930627</td>\n      <td>95.108563</td>\n    </tr>\n    <tr>\n      <th>660</th>\n      <td>Opel Corsa 1.2 DI Turbo GS Line Automatik (ab ...</td>\n      <td>23770.0</td>\n      <td>243.740627</td>\n      <td>97.521699</td>\n    </tr>\n    <tr>\n      <th>339</th>\n      <td>Audi A1 Sportback 25 TFSI S tronic (ab 09/20)</td>\n      <td>24885.0</td>\n      <td>248.910538</td>\n      <td>99.975679</td>\n    </tr>\n    <tr>\n      <th>699</th>\n      <td>Peugeot 208 1.2 PureTech 100 Allure Pack EAT8 ...</td>\n      <td>23439.0</td>\n      <td>234.355653</td>\n      <td>100.014656</td>\n    </tr>\n    <tr>\n      <th>2504</th>\n      <td>Opel Corsa-e Elegance (ab 05/20)</td>\n      <td>24440.0</td>\n      <td>242.048320</td>\n      <td>100.971575</td>\n    </tr>\n    <tr>\n      <th>2505</th>\n      <td>Opel Corsa-e GS Line (ab 05/20)</td>\n      <td>25100.0</td>\n      <td>240.488320</td>\n      <td>104.370973</td>\n    </tr>\n    <tr>\n      <th>663</th>\n      <td>Opel Corsa 1.2 DI Turbo GS Line Automatik (ab ...</td>\n      <td>25470.0</td>\n      <td>243.650627</td>\n      <td>104.534925</td>\n    </tr>\n    <tr>\n      <th>2561</th>\n      <td>Peugeot e-208 Allure Pack (ab 10/20)</td>\n      <td>24590.0</td>\n      <td>235.215653</td>\n      <td>104.542362</td>\n    </tr>\n    <tr>\n      <th>345</th>\n      <td>Audi A1 Sportback 30 TFSI S tronic (ab 09/20)</td>\n      <td>26135.0</td>\n      <td>248.810538</td>\n      <td>105.039763</td>\n    </tr>\n  </tbody>\n</table>\n</div>"
     },
     "metadata": {},
     "execution_count": 6
    }
   ],
   "source": [
    "top = df.filter([Column.NAME, Column.TOTAL_PRICE, Column.TOTAL_SCORE, Column.EURO_PER_SCORE]).sort_values(Column.EURO_PER_SCORE)\n",
    "top.head(10)"
   ]
  },
  {
   "cell_type": "markdown",
   "metadata": {},
   "source": [
    "## Compare top cars"
   ]
  },
  {
   "cell_type": "code",
   "execution_count": 17,
   "metadata": {
    "tags": []
   },
   "outputs": [
    {
     "output_type": "execute_result",
     "data": {
      "text/plain": [
       "<pandas.io.formats.style.Styler at 0x7fb37aa37700>"
      ],
      "text/html": "<style  type=\"text/css\" >\n#T_4e04d_row0_col3{\n            background-color:  #67aa84;\n            color:  #000000;\n        }#T_4e04d_row0_col4,#T_4e04d_row3_col57{\n            background-color:  #5aa37a;\n            color:  #000000;\n        }#T_4e04d_row0_col5,#T_4e04d_row1_col34{\n            background-color:  #b5d5c2;\n            color:  #000000;\n        }#T_4e04d_row0_col6,#T_4e04d_row0_col18,#T_4e04d_row0_col20,#T_4e04d_row0_col29,#T_4e04d_row0_col34,#T_4e04d_row0_col38,#T_4e04d_row0_col40,#T_4e04d_row0_col50,#T_4e04d_row0_col59,#T_4e04d_row1_col3,#T_4e04d_row1_col5,#T_4e04d_row1_col8,#T_4e04d_row1_col18,#T_4e04d_row1_col20,#T_4e04d_row1_col29,#T_4e04d_row1_col30,#T_4e04d_row1_col33,#T_4e04d_row1_col50,#T_4e04d_row1_col52,#T_4e04d_row2_col38,#T_4e04d_row2_col39,#T_4e04d_row2_col51,#T_4e04d_row2_col55,#T_4e04d_row2_col56,#T_4e04d_row2_col57,#T_4e04d_row3_col38,#T_4e04d_row3_col39,#T_4e04d_row3_col40,#T_4e04d_row3_col50,#T_4e04d_row3_col53,#T_4e04d_row4_col4,#T_4e04d_row4_col18,#T_4e04d_row4_col20,#T_4e04d_row4_col38,#T_4e04d_row4_col39,#T_4e04d_row4_col40,#T_4e04d_row4_col54,#T_4e04d_row4_col60{\n            background-color:  #2e8b57;\n            color:  #000000;\n        }#T_4e04d_row0_col7,#T_4e04d_row0_col8,#T_4e04d_row0_col9,#T_4e04d_row0_col10,#T_4e04d_row0_col11,#T_4e04d_row0_col12,#T_4e04d_row0_col13,#T_4e04d_row0_col14,#T_4e04d_row0_col15,#T_4e04d_row0_col16,#T_4e04d_row0_col17,#T_4e04d_row0_col19,#T_4e04d_row0_col21,#T_4e04d_row0_col22,#T_4e04d_row0_col23,#T_4e04d_row0_col24,#T_4e04d_row0_col25,#T_4e04d_row0_col26,#T_4e04d_row0_col27,#T_4e04d_row0_col28,#T_4e04d_row0_col31,#T_4e04d_row0_col32,#T_4e04d_row0_col35,#T_4e04d_row0_col36,#T_4e04d_row0_col37,#T_4e04d_row0_col39,#T_4e04d_row0_col41,#T_4e04d_row0_col42,#T_4e04d_row0_col43,#T_4e04d_row0_col44,#T_4e04d_row0_col45,#T_4e04d_row0_col46,#T_4e04d_row0_col47,#T_4e04d_row0_col48,#T_4e04d_row0_col49,#T_4e04d_row0_col54,#T_4e04d_row0_col58,#T_4e04d_row1_col7,#T_4e04d_row1_col9,#T_4e04d_row1_col10,#T_4e04d_row1_col11,#T_4e04d_row1_col12,#T_4e04d_row1_col13,#T_4e04d_row1_col14,#T_4e04d_row1_col15,#T_4e04d_row1_col16,#T_4e04d_row1_col17,#T_4e04d_row1_col19,#T_4e04d_row1_col21,#T_4e04d_row1_col22,#T_4e04d_row1_col23,#T_4e04d_row1_col24,#T_4e04d_row1_col25,#T_4e04d_row1_col26,#T_4e04d_row1_col27,#T_4e04d_row1_col28,#T_4e04d_row1_col31,#T_4e04d_row1_col32,#T_4e04d_row1_col35,#T_4e04d_row1_col36,#T_4e04d_row1_col37,#T_4e04d_row1_col38,#T_4e04d_row1_col39,#T_4e04d_row1_col41,#T_4e04d_row1_col42,#T_4e04d_row1_col43,#T_4e04d_row1_col44,#T_4e04d_row1_col45,#T_4e04d_row1_col46,#T_4e04d_row1_col47,#T_4e04d_row1_col48,#T_4e04d_row1_col49,#T_4e04d_row1_col54,#T_4e04d_row1_col56,#T_4e04d_row1_col58,#T_4e04d_row2_col3,#T_4e04d_row2_col4,#T_4e04d_row2_col5,#T_4e04d_row2_col7,#T_4e04d_row2_col8,#T_4e04d_row2_col9,#T_4e04d_row2_col10,#T_4e04d_row2_col11,#T_4e04d_row2_col12,#T_4e04d_row2_col13,#T_4e04d_row2_col14,#T_4e04d_row2_col15,#T_4e04d_row2_col16,#T_4e04d_row2_col17,#T_4e04d_row2_col18,#T_4e04d_row2_col19,#T_4e04d_row2_col20,#T_4e04d_row2_col21,#T_4e04d_row2_col22,#T_4e04d_row2_col23,#T_4e04d_row2_col24,#T_4e04d_row2_col25,#T_4e04d_row2_col26,#T_4e04d_row2_col27,#T_4e04d_row2_col28,#T_4e04d_row2_col29,#T_4e04d_row2_col30,#T_4e04d_row2_col31,#T_4e04d_row2_col32,#T_4e04d_row2_col33,#T_4e04d_row2_col35,#T_4e04d_row2_col36,#T_4e04d_row2_col37,#T_4e04d_row2_col40,#T_4e04d_row2_col41,#T_4e04d_row2_col42,#T_4e04d_row2_col43,#T_4e04d_row2_col44,#T_4e04d_row2_col45,#T_4e04d_row2_col46,#T_4e04d_row2_col47,#T_4e04d_row2_col48,#T_4e04d_row2_col49,#T_4e04d_row2_col52,#T_4e04d_row2_col54,#T_4e04d_row2_col58,#T_4e04d_row2_col60,#T_4e04d_row3_col6,#T_4e04d_row3_col7,#T_4e04d_row3_col8,#T_4e04d_row3_col9,#T_4e04d_row3_col10,#T_4e04d_row3_col11,#T_4e04d_row3_col12,#T_4e04d_row3_col13,#T_4e04d_row3_col14,#T_4e04d_row3_col15,#T_4e04d_row3_col16,#T_4e04d_row3_col17,#T_4e04d_row3_col18,#T_4e04d_row3_col19,#T_4e04d_row3_col20,#T_4e04d_row3_col21,#T_4e04d_row3_col22,#T_4e04d_row3_col23,#T_4e04d_row3_col24,#T_4e04d_row3_col25,#T_4e04d_row3_col26,#T_4e04d_row3_col27,#T_4e04d_row3_col28,#T_4e04d_row3_col29,#T_4e04d_row3_col31,#T_4e04d_row3_col32,#T_4e04d_row3_col34,#T_4e04d_row3_col35,#T_4e04d_row3_col36,#T_4e04d_row3_col37,#T_4e04d_row3_col41,#T_4e04d_row3_col42,#T_4e04d_row3_col43,#T_4e04d_row3_col44,#T_4e04d_row3_col45,#T_4e04d_row3_col46,#T_4e04d_row3_col47,#T_4e04d_row3_col48,#T_4e04d_row3_col49,#T_4e04d_row3_col58,#T_4e04d_row4_col7,#T_4e04d_row4_col8,#T_4e04d_row4_col9,#T_4e04d_row4_col10,#T_4e04d_row4_col11,#T_4e04d_row4_col12,#T_4e04d_row4_col13,#T_4e04d_row4_col14,#T_4e04d_row4_col15,#T_4e04d_row4_col16,#T_4e04d_row4_col17,#T_4e04d_row4_col19,#T_4e04d_row4_col21,#T_4e04d_row4_col22,#T_4e04d_row4_col23,#T_4e04d_row4_col24,#T_4e04d_row4_col25,#T_4e04d_row4_col26,#T_4e04d_row4_col27,#T_4e04d_row4_col28,#T_4e04d_row4_col31,#T_4e04d_row4_col32,#T_4e04d_row4_col35,#T_4e04d_row4_col36,#T_4e04d_row4_col37,#T_4e04d_row4_col41,#T_4e04d_row4_col42,#T_4e04d_row4_col43,#T_4e04d_row4_col44,#T_4e04d_row4_col45,#T_4e04d_row4_col46,#T_4e04d_row4_col47,#T_4e04d_row4_col48,#T_4e04d_row4_col49,#T_4e04d_row4_col50,#T_4e04d_row4_col51,#T_4e04d_row4_col53,#T_4e04d_row4_col55,#T_4e04d_row4_col57,#T_4e04d_row4_col58,#T_4e04d_row4_col59{\n            background-color:  #ebf3ed;\n            color:  #000000;\n        }#T_4e04d_row0_col30{\n            background-color:  #57a177;\n            color:  #000000;\n        }#T_4e04d_row0_col33{\n            background-color:  #539f74;\n            color:  #000000;\n        }#T_4e04d_row0_col51,#T_4e04d_row1_col51,#T_4e04d_row4_col52{\n            background-color:  #a5ccb6;\n            color:  #000000;\n        }#T_4e04d_row0_col52,#T_4e04d_row1_col60{\n            background-color:  #66aa84;\n            color:  #000000;\n        }#T_4e04d_row0_col53{\n            background-color:  #d8e8de;\n            color:  #000000;\n        }#T_4e04d_row0_col55{\n            background-color:  #72b08d;\n            color:  #000000;\n        }#T_4e04d_row0_col56{\n            background-color:  #64a982;\n            color:  #000000;\n        }#T_4e04d_row0_col57,#T_4e04d_row3_col4,#T_4e04d_row3_col60{\n            background-color:  #bfdaca;\n            color:  #000000;\n        }#T_4e04d_row0_col60{\n            background-color:  #7db695;\n            color:  #000000;\n        }#T_4e04d_row1_col4{\n            background-color:  #48996c;\n            color:  #000000;\n        }#T_4e04d_row1_col6{\n            background-color:  #b6d5c3;\n            color:  #000000;\n        }#T_4e04d_row1_col40{\n            background-color:  #8cbfa2;\n            color:  #000000;\n        }#T_4e04d_row1_col53{\n            background-color:  #96c4aa;\n            color:  #000000;\n        }#T_4e04d_row1_col55{\n            background-color:  #74b28f;\n            color:  #000000;\n        }#T_4e04d_row1_col57{\n            background-color:  #d1e4d9;\n            color:  #000000;\n        }#T_4e04d_row1_col59{\n            background-color:  #4a9a6d;\n            color:  #000000;\n        }#T_4e04d_row2_col6,#T_4e04d_row2_col34{\n            background-color:  #cbe1d4;\n            color:  #000000;\n        }#T_4e04d_row2_col50{\n            background-color:  #a4ccb5;\n            color:  #000000;\n        }#T_4e04d_row2_col53{\n            background-color:  #5da57c;\n            color:  #000000;\n        }#T_4e04d_row2_col59{\n            background-color:  #cee3d6;\n            color:  #000000;\n        }#T_4e04d_row3_col3{\n            background-color:  #cfe3d7;\n            color:  #000000;\n        }#T_4e04d_row3_col5{\n            background-color:  #acd0bb;\n            color:  #000000;\n        }#T_4e04d_row3_col30{\n            background-color:  #91c1a5;\n            color:  #000000;\n        }#T_4e04d_row3_col33{\n            background-color:  #c0dbcb;\n            color:  #000000;\n        }#T_4e04d_row3_col51{\n            background-color:  #61a780;\n            color:  #000000;\n        }#T_4e04d_row3_col52{\n            background-color:  #e4efe8;\n            color:  #000000;\n        }#T_4e04d_row3_col54{\n            background-color:  #deebe3;\n            color:  #000000;\n        }#T_4e04d_row3_col55{\n            background-color:  #439667;\n            color:  #000000;\n        }#T_4e04d_row3_col56{\n            background-color:  #6dae89;\n            color:  #000000;\n        }#T_4e04d_row3_col59{\n            background-color:  #d9e9df;\n            color:  #000000;\n        }#T_4e04d_row4_col3{\n            background-color:  #b4d5c2;\n            color:  #000000;\n        }#T_4e04d_row4_col5{\n            background-color:  #96c4a9;\n            color:  #000000;\n        }#T_4e04d_row4_col6,#T_4e04d_row4_col34{\n            background-color:  #358f5c;\n            color:  #000000;\n        }#T_4e04d_row4_col29{\n            background-color:  #7ab493;\n            color:  #000000;\n        }#T_4e04d_row4_col30{\n            background-color:  #3e9464;\n            color:  #000000;\n        }#T_4e04d_row4_col33{\n            background-color:  #9fc9b1;\n            color:  #000000;\n        }#T_4e04d_row4_col56{\n            background-color:  #84ba9b;\n            color:  #000000;\n        }</style><table id=\"T_4e04d_\" ><thead>    <tr>        <th class=\"blank level0\" ></th>        <th class=\"col_heading level0 col0\" >name</th>        <th class=\"col_heading level0 col1\" >Marke</th>        <th class=\"col_heading level0 col2\" >Baureihe</th>        <th class=\"col_heading level0 col3\" >Leistung maximal in kW (Systemleistung)</th>        <th class=\"col_heading level0 col4\" >Total price</th>        <th class=\"col_heading level0 col5\" >my monthly costs</th>        <th class=\"col_heading level0 col6\" >Range</th>        <th class=\"col_heading level0 col7\" >AEB pedestrian</th>        <th class=\"col_heading level0 col8\" >navi </th>        <th class=\"col_heading level0 col9\" >active headrest</th>        <th class=\"col_heading level0 col10\" >light autoswitch</th>        <th class=\"col_heading level0 col11\" >car2x</th>        <th class=\"col_heading level0 col12\" >Bremsassistent</th>        <th class=\"col_heading level0 col13\" >lane keep assist active</th>        <th class=\"col_heading level0 col14\" >autoparking</th>        <th class=\"col_heading level0 col15\" >LED lights</th>        <th class=\"col_heading level0 col16\" >adaptive lights</th>        <th class=\"col_heading level0 col17\" >traffic sign recognition</th>        <th class=\"col_heading level0 col18\" >AEB</th>        <th class=\"col_heading level0 col19\" >rear traffic alert</th>        <th class=\"col_heading level0 col20\" >Traffic jam</th>        <th class=\"col_heading level0 col21\" >LED matrix</th>        <th class=\"col_heading level0 col22\" >keyless</th>        <th class=\"col_heading level0 col23\" >Camera, 360, front, back</th>        <th class=\"col_heading level0 col24\" >adaptive cruise from 0 km</th>        <th class=\"col_heading level0 col25\" >safe, euroncap, iihs</th>        <th class=\"col_heading level0 col26\" >plugin hybrid</th>        <th class=\"col_heading level0 col27\" >automat not CVT</th>        <th class=\"col_heading level0 col28\" >4x4</th>        <th class=\"col_heading level0 col29\" >plugin hybrid 2</th>        <th class=\"col_heading level0 col30\" >Top speed</th>        <th class=\"col_heading level0 col31\" >km77 elktest</th>        <th class=\"col_heading level0 col32\" >testberichte</th>        <th class=\"col_heading level0 col33\" >Acceleration <10</th>        <th class=\"col_heading level0 col34\" >range up to 1000 km per tank</th>        <th class=\"col_heading level0 col35\" >side mirrors on door</th>        <th class=\"col_heading level0 col36\" >door till ground</th>        <th class=\"col_heading level0 col37\" >license on back bumper</th>        <th class=\"col_heading level0 col38\" >small length</th>        <th class=\"col_heading level0 col39\" >boot size,Fit 156 snowboard </th>        <th class=\"col_heading level0 col40\" >noise</th>        <th class=\"col_heading level0 col41\" >acc with buttons</th>        <th class=\"col_heading level0 col42\" >no piano black</th>        <th class=\"col_heading level0 col43\" >easy entry(clearance or height of seats)</th>        <th class=\"col_heading level0 col44\" >digital speed</th>        <th class=\"col_heading level0 col45\" >HIFI audio</th>        <th class=\"col_heading level0 col46\" >white seats</th>        <th class=\"col_heading level0 col47\" >interior</th>        <th class=\"col_heading level0 col48\" >mobile warranty</th>        <th class=\"col_heading level0 col49\" >Garantie y</th>        <th class=\"col_heading level0 col50\" >Insurance 1</th>        <th class=\"col_heading level0 col51\" >Insurance 2</th>        <th class=\"col_heading level0 col52\" >Costs service</th>        <th class=\"col_heading level0 col53\" >Costs running</th>        <th class=\"col_heading level0 col54\" >Costs fixed</th>        <th class=\"col_heading level0 col55\" >Costs depreciation</th>        <th class=\"col_heading level0 col56\" >monthly costs</th>        <th class=\"col_heading level0 col57\" >price</th>        <th class=\"col_heading level0 col58\" >AGR</th>        <th class=\"col_heading level0 col59\" >Total Score</th>        <th class=\"col_heading level0 col60\" >Euro per score</th>    </tr></thead><tbody>\n                <tr>\n                        <th id=\"T_4e04d_level0_row0\" class=\"row_heading level0 row0\" >5434</th>\n                        <td id=\"T_4e04d_row0_col0\" class=\"data row0 col0\" >VW Golf 1.4 eHybrid Style DSG (ab 08/20)</td>\n                        <td id=\"T_4e04d_row0_col1\" class=\"data row0 col1\" >VW</td>\n                        <td id=\"T_4e04d_row0_col2\" class=\"data row0 col2\" >Golf (VIII) (ab 12/19)</td>\n                        <td id=\"T_4e04d_row0_col3\" class=\"data row0 col3\" >150</td>\n                        <td id=\"T_4e04d_row0_col4\" class=\"data row0 col4\" >36770.000000</td>\n                        <td id=\"T_4e04d_row0_col5\" class=\"data row0 col5\" >439.000000</td>\n                        <td id=\"T_4e04d_row0_col6\" class=\"data row0 col6\" >1097.220000</td>\n                        <td id=\"T_4e04d_row0_col7\" class=\"data row0 col7\" >2.000000</td>\n                        <td id=\"T_4e04d_row0_col8\" class=\"data row0 col8\" >1.038462</td>\n                        <td id=\"T_4e04d_row0_col9\" class=\"data row0 col9\" >0.000000</td>\n                        <td id=\"T_4e04d_row0_col10\" class=\"data row0 col10\" >3.636364</td>\n                        <td id=\"T_4e04d_row0_col11\" class=\"data row0 col11\" >5.000000</td>\n                        <td id=\"T_4e04d_row0_col12\" class=\"data row0 col12\" >5.000000</td>\n                        <td id=\"T_4e04d_row0_col13\" class=\"data row0 col13\" >5.000000</td>\n                        <td id=\"T_4e04d_row0_col14\" class=\"data row0 col14\" >0.789474</td>\n                        <td id=\"T_4e04d_row0_col15\" class=\"data row0 col15\" >5.000000</td>\n                        <td id=\"T_4e04d_row0_col16\" class=\"data row0 col16\" >4.000000</td>\n                        <td id=\"T_4e04d_row0_col17\" class=\"data row0 col17\" >6.000000</td>\n                        <td id=\"T_4e04d_row0_col18\" class=\"data row0 col18\" >7.000000</td>\n                        <td id=\"T_4e04d_row0_col19\" class=\"data row0 col19\" >4.666667</td>\n                        <td id=\"T_4e04d_row0_col20\" class=\"data row0 col20\" >8.000000</td>\n                        <td id=\"T_4e04d_row0_col21\" class=\"data row0 col21\" >8.000000</td>\n                        <td id=\"T_4e04d_row0_col22\" class=\"data row0 col22\" >8.000000</td>\n                        <td id=\"T_4e04d_row0_col23\" class=\"data row0 col23\" >2.857143</td>\n                        <td id=\"T_4e04d_row0_col24\" class=\"data row0 col24\" >10.000000</td>\n                        <td id=\"T_4e04d_row0_col25\" class=\"data row0 col25\" >9.300000</td>\n                        <td id=\"T_4e04d_row0_col26\" class=\"data row0 col26\" >0</td>\n                        <td id=\"T_4e04d_row0_col27\" class=\"data row0 col27\" >3.333333</td>\n                        <td id=\"T_4e04d_row0_col28\" class=\"data row0 col28\" >1.250000</td>\n                        <td id=\"T_4e04d_row0_col29\" class=\"data row0 col29\" >7.000000</td>\n                        <td id=\"T_4e04d_row0_col30\" class=\"data row0 col30\" >4.190000</td>\n                        <td id=\"T_4e04d_row0_col31\" class=\"data row0 col31\" >4.270000</td>\n                        <td id=\"T_4e04d_row0_col32\" class=\"data row0 col32\" >4.590000</td>\n                        <td id=\"T_4e04d_row0_col33\" class=\"data row0 col33\" >6.250000</td>\n                        <td id=\"T_4e04d_row0_col34\" class=\"data row0 col34\" >11.840000</td>\n                        <td id=\"T_4e04d_row0_col35\" class=\"data row0 col35\" >4.000000</td>\n                        <td id=\"T_4e04d_row0_col36\" class=\"data row0 col36\" >0.000000</td>\n                        <td id=\"T_4e04d_row0_col37\" class=\"data row0 col37\" >5.000000</td>\n                        <td id=\"T_4e04d_row0_col38\" class=\"data row0 col38\" >4.400000</td>\n                        <td id=\"T_4e04d_row0_col39\" class=\"data row0 col39\" >0.200000</td>\n                        <td id=\"T_4e04d_row0_col40\" class=\"data row0 col40\" >2.400000</td>\n                        <td id=\"T_4e04d_row0_col41\" class=\"data row0 col41\" >4.000000</td>\n                        <td id=\"T_4e04d_row0_col42\" class=\"data row0 col42\" >3.330000</td>\n                        <td id=\"T_4e04d_row0_col43\" class=\"data row0 col43\" >3.150000</td>\n                        <td id=\"T_4e04d_row0_col44\" class=\"data row0 col44\" >6.000000</td>\n                        <td id=\"T_4e04d_row0_col45\" class=\"data row0 col45\" >5.330000</td>\n                        <td id=\"T_4e04d_row0_col46\" class=\"data row0 col46\" >9.000000</td>\n                        <td id=\"T_4e04d_row0_col47\" class=\"data row0 col47\" >6.670000</td>\n                        <td id=\"T_4e04d_row0_col48\" class=\"data row0 col48\" >5.800000</td>\n                        <td id=\"T_4e04d_row0_col49\" class=\"data row0 col49\" >3.111111</td>\n                        <td id=\"T_4e04d_row0_col50\" class=\"data row0 col50\" >7.650000</td>\n                        <td id=\"T_4e04d_row0_col51\" class=\"data row0 col51\" >9.570000</td>\n                        <td id=\"T_4e04d_row0_col52\" class=\"data row0 col52\" >3.290000</td>\n                        <td id=\"T_4e04d_row0_col53\" class=\"data row0 col53\" >2.310000</td>\n                        <td id=\"T_4e04d_row0_col54\" class=\"data row0 col54\" >1.220000</td>\n                        <td id=\"T_4e04d_row0_col55\" class=\"data row0 col55\" >6.450000</td>\n                        <td id=\"T_4e04d_row0_col56\" class=\"data row0 col56\" >23.370000</td>\n                        <td id=\"T_4e04d_row0_col57\" class=\"data row0 col57\" >26.230000</td>\n                        <td id=\"T_4e04d_row0_col58\" class=\"data row0 col58\" >4.000000</td>\n                        <td id=\"T_4e04d_row0_col59\" class=\"data row0 col59\" >284.492553</td>\n                        <td id=\"T_4e04d_row0_col60\" class=\"data row0 col60\" >129.247671</td>\n            </tr>\n            <tr>\n                        <th id=\"T_4e04d_level0_row1\" class=\"row_heading level0 row1\" >5436</th>\n                        <td id=\"T_4e04d_row1_col0\" class=\"data row1 col0\" >VW Golf GTE DSG (ab 08/20)</td>\n                        <td id=\"T_4e04d_row1_col1\" class=\"data row1 col1\" >VW</td>\n                        <td id=\"T_4e04d_row1_col2\" class=\"data row1 col2\" >Golf (VIII) GTE (ab 08/20)</td>\n                        <td id=\"T_4e04d_row1_col3\" class=\"data row1 col3\" >180</td>\n                        <td id=\"T_4e04d_row1_col4\" class=\"data row1 col4\" >37505.000000</td>\n                        <td id=\"T_4e04d_row1_col5\" class=\"data row1 col5\" >469.000000</td>\n                        <td id=\"T_4e04d_row1_col6\" class=\"data row1 col6\" >897.730000</td>\n                        <td id=\"T_4e04d_row1_col7\" class=\"data row1 col7\" >2.000000</td>\n                        <td id=\"T_4e04d_row1_col8\" class=\"data row1 col8\" >3.000000</td>\n                        <td id=\"T_4e04d_row1_col9\" class=\"data row1 col9\" >0.000000</td>\n                        <td id=\"T_4e04d_row1_col10\" class=\"data row1 col10\" >3.636364</td>\n                        <td id=\"T_4e04d_row1_col11\" class=\"data row1 col11\" >5.000000</td>\n                        <td id=\"T_4e04d_row1_col12\" class=\"data row1 col12\" >5.000000</td>\n                        <td id=\"T_4e04d_row1_col13\" class=\"data row1 col13\" >5.000000</td>\n                        <td id=\"T_4e04d_row1_col14\" class=\"data row1 col14\" >0.789474</td>\n                        <td id=\"T_4e04d_row1_col15\" class=\"data row1 col15\" >5.000000</td>\n                        <td id=\"T_4e04d_row1_col16\" class=\"data row1 col16\" >4.000000</td>\n                        <td id=\"T_4e04d_row1_col17\" class=\"data row1 col17\" >6.000000</td>\n                        <td id=\"T_4e04d_row1_col18\" class=\"data row1 col18\" >7.000000</td>\n                        <td id=\"T_4e04d_row1_col19\" class=\"data row1 col19\" >4.666667</td>\n                        <td id=\"T_4e04d_row1_col20\" class=\"data row1 col20\" >8.000000</td>\n                        <td id=\"T_4e04d_row1_col21\" class=\"data row1 col21\" >8.000000</td>\n                        <td id=\"T_4e04d_row1_col22\" class=\"data row1 col22\" >8.000000</td>\n                        <td id=\"T_4e04d_row1_col23\" class=\"data row1 col23\" >2.857143</td>\n                        <td id=\"T_4e04d_row1_col24\" class=\"data row1 col24\" >10.000000</td>\n                        <td id=\"T_4e04d_row1_col25\" class=\"data row1 col25\" >9.300000</td>\n                        <td id=\"T_4e04d_row1_col26\" class=\"data row1 col26\" >0</td>\n                        <td id=\"T_4e04d_row1_col27\" class=\"data row1 col27\" >3.333333</td>\n                        <td id=\"T_4e04d_row1_col28\" class=\"data row1 col28\" >1.250000</td>\n                        <td id=\"T_4e04d_row1_col29\" class=\"data row1 col29\" >7.000000</td>\n                        <td id=\"T_4e04d_row1_col30\" class=\"data row1 col30\" >4.490000</td>\n                        <td id=\"T_4e04d_row1_col31\" class=\"data row1 col31\" >4.270000</td>\n                        <td id=\"T_4e04d_row1_col32\" class=\"data row1 col32\" >4.590000</td>\n                        <td id=\"T_4e04d_row1_col33\" class=\"data row1 col33\" >7.120000</td>\n                        <td id=\"T_4e04d_row1_col34\" class=\"data row1 col34\" >9.570000</td>\n                        <td id=\"T_4e04d_row1_col35\" class=\"data row1 col35\" >4.000000</td>\n                        <td id=\"T_4e04d_row1_col36\" class=\"data row1 col36\" >0.000000</td>\n                        <td id=\"T_4e04d_row1_col37\" class=\"data row1 col37\" >5.000000</td>\n                        <td id=\"T_4e04d_row1_col38\" class=\"data row1 col38\" >4.380000</td>\n                        <td id=\"T_4e04d_row1_col39\" class=\"data row1 col39\" >0.200000</td>\n                        <td id=\"T_4e04d_row1_col40\" class=\"data row1 col40\" >2.000000</td>\n                        <td id=\"T_4e04d_row1_col41\" class=\"data row1 col41\" >4.000000</td>\n                        <td id=\"T_4e04d_row1_col42\" class=\"data row1 col42\" >3.330000</td>\n                        <td id=\"T_4e04d_row1_col43\" class=\"data row1 col43\" >3.150000</td>\n                        <td id=\"T_4e04d_row1_col44\" class=\"data row1 col44\" >6.000000</td>\n                        <td id=\"T_4e04d_row1_col45\" class=\"data row1 col45\" >5.330000</td>\n                        <td id=\"T_4e04d_row1_col46\" class=\"data row1 col46\" >9.000000</td>\n                        <td id=\"T_4e04d_row1_col47\" class=\"data row1 col47\" >6.670000</td>\n                        <td id=\"T_4e04d_row1_col48\" class=\"data row1 col48\" >5.800000</td>\n                        <td id=\"T_4e04d_row1_col49\" class=\"data row1 col49\" >3.111111</td>\n                        <td id=\"T_4e04d_row1_col50\" class=\"data row1 col50\" >7.650000</td>\n                        <td id=\"T_4e04d_row1_col51\" class=\"data row1 col51\" >9.570000</td>\n                        <td id=\"T_4e04d_row1_col52\" class=\"data row1 col52\" >4.270000</td>\n                        <td id=\"T_4e04d_row1_col53\" class=\"data row1 col53\" >2.980000</td>\n                        <td id=\"T_4e04d_row1_col54\" class=\"data row1 col54\" >1.220000</td>\n                        <td id=\"T_4e04d_row1_col55\" class=\"data row1 col55\" >6.420000</td>\n                        <td id=\"T_4e04d_row1_col56\" class=\"data row1 col56\" >20.760000</td>\n                        <td id=\"T_4e04d_row1_col57\" class=\"data row1 col57\" >25.100000</td>\n                        <td id=\"T_4e04d_row1_col58\" class=\"data row1 col58\" >4.000000</td>\n                        <td id=\"T_4e04d_row1_col59\" class=\"data row1 col59\" >282.814091</td>\n                        <td id=\"T_4e04d_row1_col60\" class=\"data row1 col60\" >132.613618</td>\n            </tr>\n            <tr>\n                        <th id=\"T_4e04d_level0_row2\" class=\"row_heading level0 row2\" >1839</th>\n                        <td id=\"T_4e04d_row2_col0\" class=\"data row2 col0\" >VW Golf 1.0 eTSI Life DSG (ab 08/20)</td>\n                        <td id=\"T_4e04d_row2_col1\" class=\"data row2 col1\" >VW</td>\n                        <td id=\"T_4e04d_row2_col2\" class=\"data row2 col2\" >Golf (VIII) (ab 12/19)</td>\n                        <td id=\"T_4e04d_row2_col3\" class=\"data row2 col3\" >81</td>\n                        <td id=\"T_4e04d_row2_col4\" class=\"data row2 col4\" >30945.000000</td>\n                        <td id=\"T_4e04d_row2_col5\" class=\"data row2 col5\" >427.000000</td>\n                        <td id=\"T_4e04d_row2_col6\" class=\"data row2 col6\" >865.380000</td>\n                        <td id=\"T_4e04d_row2_col7\" class=\"data row2 col7\" >2.000000</td>\n                        <td id=\"T_4e04d_row2_col8\" class=\"data row2 col8\" >1.038462</td>\n                        <td id=\"T_4e04d_row2_col9\" class=\"data row2 col9\" >0.000000</td>\n                        <td id=\"T_4e04d_row2_col10\" class=\"data row2 col10\" >3.636364</td>\n                        <td id=\"T_4e04d_row2_col11\" class=\"data row2 col11\" >5.000000</td>\n                        <td id=\"T_4e04d_row2_col12\" class=\"data row2 col12\" >5.000000</td>\n                        <td id=\"T_4e04d_row2_col13\" class=\"data row2 col13\" >5.000000</td>\n                        <td id=\"T_4e04d_row2_col14\" class=\"data row2 col14\" >0.789474</td>\n                        <td id=\"T_4e04d_row2_col15\" class=\"data row2 col15\" >5.000000</td>\n                        <td id=\"T_4e04d_row2_col16\" class=\"data row2 col16\" >4.000000</td>\n                        <td id=\"T_4e04d_row2_col17\" class=\"data row2 col17\" >6.000000</td>\n                        <td id=\"T_4e04d_row2_col18\" class=\"data row2 col18\" >5.250000</td>\n                        <td id=\"T_4e04d_row2_col19\" class=\"data row2 col19\" >4.666667</td>\n                        <td id=\"T_4e04d_row2_col20\" class=\"data row2 col20\" >5.333333</td>\n                        <td id=\"T_4e04d_row2_col21\" class=\"data row2 col21\" >8.000000</td>\n                        <td id=\"T_4e04d_row2_col22\" class=\"data row2 col22\" >8.000000</td>\n                        <td id=\"T_4e04d_row2_col23\" class=\"data row2 col23\" >2.857143</td>\n                        <td id=\"T_4e04d_row2_col24\" class=\"data row2 col24\" >10.000000</td>\n                        <td id=\"T_4e04d_row2_col25\" class=\"data row2 col25\" >9.300000</td>\n                        <td id=\"T_4e04d_row2_col26\" class=\"data row2 col26\" >0</td>\n                        <td id=\"T_4e04d_row2_col27\" class=\"data row2 col27\" >3.333333</td>\n                        <td id=\"T_4e04d_row2_col28\" class=\"data row2 col28\" >1.250000</td>\n                        <td id=\"T_4e04d_row2_col29\" class=\"data row2 col29\" >0.000000</td>\n                        <td id=\"T_4e04d_row2_col30\" class=\"data row2 col30\" >3.110000</td>\n                        <td id=\"T_4e04d_row2_col31\" class=\"data row2 col31\" >4.270000</td>\n                        <td id=\"T_4e04d_row2_col32\" class=\"data row2 col32\" >4.590000</td>\n                        <td id=\"T_4e04d_row2_col33\" class=\"data row2 col33\" >2.750000</td>\n                        <td id=\"T_4e04d_row2_col34\" class=\"data row2 col34\" >9.200000</td>\n                        <td id=\"T_4e04d_row2_col35\" class=\"data row2 col35\" >4.000000</td>\n                        <td id=\"T_4e04d_row2_col36\" class=\"data row2 col36\" >0.000000</td>\n                        <td id=\"T_4e04d_row2_col37\" class=\"data row2 col37\" >5.000000</td>\n                        <td id=\"T_4e04d_row2_col38\" class=\"data row2 col38\" >4.400000</td>\n                        <td id=\"T_4e04d_row2_col39\" class=\"data row2 col39\" >0.320000</td>\n                        <td id=\"T_4e04d_row2_col40\" class=\"data row2 col40\" >1.600000</td>\n                        <td id=\"T_4e04d_row2_col41\" class=\"data row2 col41\" >4.000000</td>\n                        <td id=\"T_4e04d_row2_col42\" class=\"data row2 col42\" >3.330000</td>\n                        <td id=\"T_4e04d_row2_col43\" class=\"data row2 col43\" >3.150000</td>\n                        <td id=\"T_4e04d_row2_col44\" class=\"data row2 col44\" >6.000000</td>\n                        <td id=\"T_4e04d_row2_col45\" class=\"data row2 col45\" >5.330000</td>\n                        <td id=\"T_4e04d_row2_col46\" class=\"data row2 col46\" >9.000000</td>\n                        <td id=\"T_4e04d_row2_col47\" class=\"data row2 col47\" >6.670000</td>\n                        <td id=\"T_4e04d_row2_col48\" class=\"data row2 col48\" >5.800000</td>\n                        <td id=\"T_4e04d_row2_col49\" class=\"data row2 col49\" >3.111111</td>\n                        <td id=\"T_4e04d_row2_col50\" class=\"data row2 col50\" >6.160000</td>\n                        <td id=\"T_4e04d_row2_col51\" class=\"data row2 col51\" >11.020000</td>\n                        <td id=\"T_4e04d_row2_col52\" class=\"data row2 col52\" >0.980000</td>\n                        <td id=\"T_4e04d_row2_col53\" class=\"data row2 col53\" >3.560000</td>\n                        <td id=\"T_4e04d_row2_col54\" class=\"data row2 col54\" >1.220000</td>\n                        <td id=\"T_4e04d_row2_col55\" class=\"data row2 col55\" >7.340000</td>\n                        <td id=\"T_4e04d_row2_col56\" class=\"data row2 col56\" >24.420000</td>\n                        <td id=\"T_4e04d_row2_col57\" class=\"data row2 col57\" >35.180000</td>\n                        <td id=\"T_4e04d_row2_col58\" class=\"data row2 col58\" >4.000000</td>\n                        <td id=\"T_4e04d_row2_col59\" class=\"data row2 col59\" >274.965886</td>\n                        <td id=\"T_4e04d_row2_col60\" class=\"data row2 col60\" >112.541234</td>\n            </tr>\n            <tr>\n                        <th id=\"T_4e04d_level0_row3\" class=\"row_heading level0 row3\" >1844</th>\n                        <td id=\"T_4e04d_row3_col0\" class=\"data row3 col0\" >VW Golf 1.5 eTSI Life DSG (ab 12/20)</td>\n                        <td id=\"T_4e04d_row3_col1\" class=\"data row3 col1\" >VW</td>\n                        <td id=\"T_4e04d_row3_col2\" class=\"data row3 col2\" >Golf (VIII) (ab 12/19)</td>\n                        <td id=\"T_4e04d_row3_col3\" class=\"data row3 col3\" >96</td>\n                        <td id=\"T_4e04d_row3_col4\" class=\"data row3 col4\" >32735.000000</td>\n                        <td id=\"T_4e04d_row3_col5\" class=\"data row3 col5\" >441.000000</td>\n                        <td id=\"T_4e04d_row3_col6\" class=\"data row3 col6\" >818.180000</td>\n                        <td id=\"T_4e04d_row3_col7\" class=\"data row3 col7\" >2.000000</td>\n                        <td id=\"T_4e04d_row3_col8\" class=\"data row3 col8\" >1.038462</td>\n                        <td id=\"T_4e04d_row3_col9\" class=\"data row3 col9\" >0.000000</td>\n                        <td id=\"T_4e04d_row3_col10\" class=\"data row3 col10\" >3.636364</td>\n                        <td id=\"T_4e04d_row3_col11\" class=\"data row3 col11\" >5.000000</td>\n                        <td id=\"T_4e04d_row3_col12\" class=\"data row3 col12\" >5.000000</td>\n                        <td id=\"T_4e04d_row3_col13\" class=\"data row3 col13\" >5.000000</td>\n                        <td id=\"T_4e04d_row3_col14\" class=\"data row3 col14\" >0.789474</td>\n                        <td id=\"T_4e04d_row3_col15\" class=\"data row3 col15\" >5.000000</td>\n                        <td id=\"T_4e04d_row3_col16\" class=\"data row3 col16\" >4.000000</td>\n                        <td id=\"T_4e04d_row3_col17\" class=\"data row3 col17\" >6.000000</td>\n                        <td id=\"T_4e04d_row3_col18\" class=\"data row3 col18\" >5.250000</td>\n                        <td id=\"T_4e04d_row3_col19\" class=\"data row3 col19\" >4.666667</td>\n                        <td id=\"T_4e04d_row3_col20\" class=\"data row3 col20\" >5.333333</td>\n                        <td id=\"T_4e04d_row3_col21\" class=\"data row3 col21\" >8.000000</td>\n                        <td id=\"T_4e04d_row3_col22\" class=\"data row3 col22\" >8.000000</td>\n                        <td id=\"T_4e04d_row3_col23\" class=\"data row3 col23\" >2.857143</td>\n                        <td id=\"T_4e04d_row3_col24\" class=\"data row3 col24\" >10.000000</td>\n                        <td id=\"T_4e04d_row3_col25\" class=\"data row3 col25\" >9.300000</td>\n                        <td id=\"T_4e04d_row3_col26\" class=\"data row3 col26\" >0</td>\n                        <td id=\"T_4e04d_row3_col27\" class=\"data row3 col27\" >3.333333</td>\n                        <td id=\"T_4e04d_row3_col28\" class=\"data row3 col28\" >1.250000</td>\n                        <td id=\"T_4e04d_row3_col29\" class=\"data row3 col29\" >0.000000</td>\n                        <td id=\"T_4e04d_row3_col30\" class=\"data row3 col30\" >3.770000</td>\n                        <td id=\"T_4e04d_row3_col31\" class=\"data row3 col31\" >4.270000</td>\n                        <td id=\"T_4e04d_row3_col32\" class=\"data row3 col32\" >4.590000</td>\n                        <td id=\"T_4e04d_row3_col33\" class=\"data row3 col33\" >3.750000</td>\n                        <td id=\"T_4e04d_row3_col34\" class=\"data row3 col34\" >8.660000</td>\n                        <td id=\"T_4e04d_row3_col35\" class=\"data row3 col35\" >4.000000</td>\n                        <td id=\"T_4e04d_row3_col36\" class=\"data row3 col36\" >0.000000</td>\n                        <td id=\"T_4e04d_row3_col37\" class=\"data row3 col37\" >5.000000</td>\n                        <td id=\"T_4e04d_row3_col38\" class=\"data row3 col38\" >4.400000</td>\n                        <td id=\"T_4e04d_row3_col39\" class=\"data row3 col39\" >0.320000</td>\n                        <td id=\"T_4e04d_row3_col40\" class=\"data row3 col40\" >2.400000</td>\n                        <td id=\"T_4e04d_row3_col41\" class=\"data row3 col41\" >4.000000</td>\n                        <td id=\"T_4e04d_row3_col42\" class=\"data row3 col42\" >3.330000</td>\n                        <td id=\"T_4e04d_row3_col43\" class=\"data row3 col43\" >3.150000</td>\n                        <td id=\"T_4e04d_row3_col44\" class=\"data row3 col44\" >6.000000</td>\n                        <td id=\"T_4e04d_row3_col45\" class=\"data row3 col45\" >5.330000</td>\n                        <td id=\"T_4e04d_row3_col46\" class=\"data row3 col46\" >9.000000</td>\n                        <td id=\"T_4e04d_row3_col47\" class=\"data row3 col47\" >6.670000</td>\n                        <td id=\"T_4e04d_row3_col48\" class=\"data row3 col48\" >5.800000</td>\n                        <td id=\"T_4e04d_row3_col49\" class=\"data row3 col49\" >3.111111</td>\n                        <td id=\"T_4e04d_row3_col50\" class=\"data row3 col50\" >7.650000</td>\n                        <td id=\"T_4e04d_row3_col51\" class=\"data row3 col51\" >10.400000</td>\n                        <td id=\"T_4e04d_row3_col52\" class=\"data row3 col52\" >1.100000</td>\n                        <td id=\"T_4e04d_row3_col53\" class=\"data row3 col53\" >4.040000</td>\n                        <td id=\"T_4e04d_row3_col54\" class=\"data row3 col54\" >1.400000</td>\n                        <td id=\"T_4e04d_row3_col55\" class=\"data row3 col55\" >7.070000</td>\n                        <td id=\"T_4e04d_row3_col56\" class=\"data row3 col56\" >23.200000</td>\n                        <td id=\"T_4e04d_row3_col57\" class=\"data row3 col57\" >32.430000</td>\n                        <td id=\"T_4e04d_row3_col58\" class=\"data row3 col58\" >4.000000</td>\n                        <td id=\"T_4e04d_row3_col59\" class=\"data row3 col59\" >274.295886</td>\n                        <td id=\"T_4e04d_row3_col60\" class=\"data row3 col60\" >119.341928</td>\n            </tr>\n            <tr>\n                        <th id=\"T_4e04d_level0_row4\" class=\"row_heading level0 row4\" >4129</th>\n                        <td id=\"T_4e04d_row4_col0\" class=\"data row4 col0\" >VW Golf 2.0 TDI SCR Style DSG (ab 09/20)</td>\n                        <td id=\"T_4e04d_row4_col1\" class=\"data row4 col1\" >VW</td>\n                        <td id=\"T_4e04d_row4_col2\" class=\"data row4 col2\" >Golf (VIII) (ab 12/19)</td>\n                        <td id=\"T_4e04d_row4_col3\" class=\"data row4 col3\" >110</td>\n                        <td id=\"T_4e04d_row4_col4\" class=\"data row4 col4\" >38555.000000</td>\n                        <td id=\"T_4e04d_row4_col5\" class=\"data row4 col5\" >446.000000</td>\n                        <td id=\"T_4e04d_row4_col6\" class=\"data row4 col6\" >1086.960000</td>\n                        <td id=\"T_4e04d_row4_col7\" class=\"data row4 col7\" >2.000000</td>\n                        <td id=\"T_4e04d_row4_col8\" class=\"data row4 col8\" >1.038462</td>\n                        <td id=\"T_4e04d_row4_col9\" class=\"data row4 col9\" >0.000000</td>\n                        <td id=\"T_4e04d_row4_col10\" class=\"data row4 col10\" >3.636364</td>\n                        <td id=\"T_4e04d_row4_col11\" class=\"data row4 col11\" >5.000000</td>\n                        <td id=\"T_4e04d_row4_col12\" class=\"data row4 col12\" >5.000000</td>\n                        <td id=\"T_4e04d_row4_col13\" class=\"data row4 col13\" >5.000000</td>\n                        <td id=\"T_4e04d_row4_col14\" class=\"data row4 col14\" >0.789474</td>\n                        <td id=\"T_4e04d_row4_col15\" class=\"data row4 col15\" >5.000000</td>\n                        <td id=\"T_4e04d_row4_col16\" class=\"data row4 col16\" >4.000000</td>\n                        <td id=\"T_4e04d_row4_col17\" class=\"data row4 col17\" >6.000000</td>\n                        <td id=\"T_4e04d_row4_col18\" class=\"data row4 col18\" >7.000000</td>\n                        <td id=\"T_4e04d_row4_col19\" class=\"data row4 col19\" >4.666667</td>\n                        <td id=\"T_4e04d_row4_col20\" class=\"data row4 col20\" >8.000000</td>\n                        <td id=\"T_4e04d_row4_col21\" class=\"data row4 col21\" >8.000000</td>\n                        <td id=\"T_4e04d_row4_col22\" class=\"data row4 col22\" >8.000000</td>\n                        <td id=\"T_4e04d_row4_col23\" class=\"data row4 col23\" >2.857143</td>\n                        <td id=\"T_4e04d_row4_col24\" class=\"data row4 col24\" >10.000000</td>\n                        <td id=\"T_4e04d_row4_col25\" class=\"data row4 col25\" >9.300000</td>\n                        <td id=\"T_4e04d_row4_col26\" class=\"data row4 col26\" >0</td>\n                        <td id=\"T_4e04d_row4_col27\" class=\"data row4 col27\" >3.333333</td>\n                        <td id=\"T_4e04d_row4_col28\" class=\"data row4 col28\" >1.250000</td>\n                        <td id=\"T_4e04d_row4_col29\" class=\"data row4 col29\" >4.200000</td>\n                        <td id=\"T_4e04d_row4_col30\" class=\"data row4 col30\" >4.370000</td>\n                        <td id=\"T_4e04d_row4_col31\" class=\"data row4 col31\" >4.270000</td>\n                        <td id=\"T_4e04d_row4_col32\" class=\"data row4 col32\" >4.590000</td>\n                        <td id=\"T_4e04d_row4_col33\" class=\"data row4 col33\" >4.500000</td>\n                        <td id=\"T_4e04d_row4_col34\" class=\"data row4 col34\" >11.720000</td>\n                        <td id=\"T_4e04d_row4_col35\" class=\"data row4 col35\" >4.000000</td>\n                        <td id=\"T_4e04d_row4_col36\" class=\"data row4 col36\" >0.000000</td>\n                        <td id=\"T_4e04d_row4_col37\" class=\"data row4 col37\" >5.000000</td>\n                        <td id=\"T_4e04d_row4_col38\" class=\"data row4 col38\" >4.400000</td>\n                        <td id=\"T_4e04d_row4_col39\" class=\"data row4 col39\" >0.320000</td>\n                        <td id=\"T_4e04d_row4_col40\" class=\"data row4 col40\" >2.400000</td>\n                        <td id=\"T_4e04d_row4_col41\" class=\"data row4 col41\" >4.000000</td>\n                        <td id=\"T_4e04d_row4_col42\" class=\"data row4 col42\" >3.330000</td>\n                        <td id=\"T_4e04d_row4_col43\" class=\"data row4 col43\" >3.150000</td>\n                        <td id=\"T_4e04d_row4_col44\" class=\"data row4 col44\" >6.000000</td>\n                        <td id=\"T_4e04d_row4_col45\" class=\"data row4 col45\" >5.330000</td>\n                        <td id=\"T_4e04d_row4_col46\" class=\"data row4 col46\" >9.000000</td>\n                        <td id=\"T_4e04d_row4_col47\" class=\"data row4 col47\" >6.670000</td>\n                        <td id=\"T_4e04d_row4_col48\" class=\"data row4 col48\" >5.800000</td>\n                        <td id=\"T_4e04d_row4_col49\" class=\"data row4 col49\" >3.111111</td>\n                        <td id=\"T_4e04d_row4_col50\" class=\"data row4 col50\" >5.260000</td>\n                        <td id=\"T_4e04d_row4_col51\" class=\"data row4 col51\" >8.720000</td>\n                        <td id=\"T_4e04d_row4_col52\" class=\"data row4 col52\" >2.200000</td>\n                        <td id=\"T_4e04d_row4_col53\" class=\"data row4 col53\" >2.120000</td>\n                        <td id=\"T_4e04d_row4_col54\" class=\"data row4 col54\" >3.760000</td>\n                        <td id=\"T_4e04d_row4_col55\" class=\"data row4 col55\" >4.880000</td>\n                        <td id=\"T_4e04d_row4_col56\" class=\"data row4 col56\" >22.760000</td>\n                        <td id=\"T_4e04d_row4_col57\" class=\"data row4 col57\" >23.480000</td>\n                        <td id=\"T_4e04d_row4_col58\" class=\"data row4 col58\" >4.000000</td>\n                        <td id=\"T_4e04d_row4_col59\" class=\"data row4 col59\" >273.212553</td>\n                        <td id=\"T_4e04d_row4_col60\" class=\"data row4 col60\" >141.117235</td>\n            </tr>\n    </tbody></table>"
     },
     "metadata": {},
     "execution_count": 17
    }
   ],
   "source": [
    "coloraze(df[df['name'].isin(top['name'])].head(5), axis=0)"
   ]
  },
  {
   "cell_type": "markdown",
   "metadata": {},
   "source": [
    "## Cars with total score(group by mark and serie)"
   ]
  },
  {
   "cell_type": "code",
   "execution_count": 8,
   "metadata": {},
   "outputs": [
    {
     "output_type": "execute_result",
     "data": {
      "text/plain": [
       "    Marke                        Baureihe  \\\n",
       "178    VW          Golf (VIII) (ab 12/19)   \n",
       "181    VW      Golf (VIII) GTE (ab 08/20)   \n",
       "175    VW          Golf (VIII) (ab 12/19)   \n",
       "176    VW          Golf (VIII) (ab 12/19)   \n",
       "177    VW          Golf (VIII) (ab 12/19)   \n",
       "184    VW  Golf (VIII) Variant (ab 11/20)   \n",
       "185    VW  Golf (VIII) Variant (ab 11/20)   \n",
       "187    VW  Golf (VIII) Variant (ab 11/20)   \n",
       "180    VW      Golf (VIII) GTD (ab 10/20)   \n",
       "186    VW  Golf (VIII) Variant (ab 11/20)   \n",
       "\n",
       "     Leistung maximal in kW (Systemleistung)  Total price  Total Score  \n",
       "178                                      150     36770.00       284.49  \n",
       "181                                      180     37505.00       282.81  \n",
       "175                                       81     30945.00       274.97  \n",
       "176                                       96     32735.00       274.30  \n",
       "177                                      110     38435.00       271.37  \n",
       "184                                       81     32055.00       270.93  \n",
       "185                                       85     34805.00       270.51  \n",
       "187                                      110     37777.50       268.32  \n",
       "180                                      147     41530.00       267.87  \n",
       "186                                       96     36181.67       266.40  "
      ],
      "text/html": "<div>\n<style scoped>\n    .dataframe tbody tr th:only-of-type {\n        vertical-align: middle;\n    }\n\n    .dataframe tbody tr th {\n        vertical-align: top;\n    }\n\n    .dataframe thead th {\n        text-align: right;\n    }\n</style>\n<table border=\"1\" class=\"dataframe\">\n  <thead>\n    <tr style=\"text-align: right;\">\n      <th></th>\n      <th>Marke</th>\n      <th>Baureihe</th>\n      <th>Leistung maximal in kW (Systemleistung)</th>\n      <th>Total price</th>\n      <th>Total Score</th>\n    </tr>\n  </thead>\n  <tbody>\n    <tr>\n      <th>178</th>\n      <td>VW</td>\n      <td>Golf (VIII) (ab 12/19)</td>\n      <td>150</td>\n      <td>36770.00</td>\n      <td>284.49</td>\n    </tr>\n    <tr>\n      <th>181</th>\n      <td>VW</td>\n      <td>Golf (VIII) GTE (ab 08/20)</td>\n      <td>180</td>\n      <td>37505.00</td>\n      <td>282.81</td>\n    </tr>\n    <tr>\n      <th>175</th>\n      <td>VW</td>\n      <td>Golf (VIII) (ab 12/19)</td>\n      <td>81</td>\n      <td>30945.00</td>\n      <td>274.97</td>\n    </tr>\n    <tr>\n      <th>176</th>\n      <td>VW</td>\n      <td>Golf (VIII) (ab 12/19)</td>\n      <td>96</td>\n      <td>32735.00</td>\n      <td>274.30</td>\n    </tr>\n    <tr>\n      <th>177</th>\n      <td>VW</td>\n      <td>Golf (VIII) (ab 12/19)</td>\n      <td>110</td>\n      <td>38435.00</td>\n      <td>271.37</td>\n    </tr>\n    <tr>\n      <th>184</th>\n      <td>VW</td>\n      <td>Golf (VIII) Variant (ab 11/20)</td>\n      <td>81</td>\n      <td>32055.00</td>\n      <td>270.93</td>\n    </tr>\n    <tr>\n      <th>185</th>\n      <td>VW</td>\n      <td>Golf (VIII) Variant (ab 11/20)</td>\n      <td>85</td>\n      <td>34805.00</td>\n      <td>270.51</td>\n    </tr>\n    <tr>\n      <th>187</th>\n      <td>VW</td>\n      <td>Golf (VIII) Variant (ab 11/20)</td>\n      <td>110</td>\n      <td>37777.50</td>\n      <td>268.32</td>\n    </tr>\n    <tr>\n      <th>180</th>\n      <td>VW</td>\n      <td>Golf (VIII) GTD (ab 10/20)</td>\n      <td>147</td>\n      <td>41530.00</td>\n      <td>267.87</td>\n    </tr>\n    <tr>\n      <th>186</th>\n      <td>VW</td>\n      <td>Golf (VIII) Variant (ab 11/20)</td>\n      <td>96</td>\n      <td>36181.67</td>\n      <td>266.40</td>\n    </tr>\n  </tbody>\n</table>\n</div>"
     },
     "metadata": {},
     "execution_count": 8
    }
   ],
   "source": [
    "# df.to_excel('/tmp/1.xlsx')\n",
    "g = df.groupby(GROUP_COLS_MARK_SERIE_KW, as_index=False)\n",
    "costs_mean = g[[Column.TOTAL_PRICE, Column.TOTAL_SCORE]].agg({Column.TOTAL_PRICE: 'mean', Column.TOTAL_SCORE: 'mean'})\n",
    "costs_mean.sort_values(Column.TOTAL_SCORE, ascending=False).head(10).round(2)"
   ]
  },
  {
   "cell_type": "markdown",
   "metadata": {},
   "source": [
    "## Cars better than best Subaru Impreza"
   ]
  },
  {
   "cell_type": "code",
   "execution_count": 9,
   "metadata": {},
   "outputs": [
    {
     "output_type": "execute_result",
     "data": {
      "text/plain": [
       "{'name': 'Subaru Impreza 2.0i Exclusive Lineartronic (01/18 - 08/18)',\n",
       " 'Marke': 'Subaru',\n",
       " 'Baureihe': 'Impreza (V) (01/18 - 04/20)',\n",
       " 'Leistung maximal in kW (Systemleistung)': 115,\n",
       " 'Total price': 29050.0,\n",
       " 'my monthly costs': 593.0,\n",
       " 'Range': 614.32,\n",
       " 'AEB pedestrian': 2.0,\n",
       " 'navi ': 3.0,\n",
       " 'active headrest': 4.0,\n",
       " 'light autoswitch': 4.0,\n",
       " 'car2x': 0.0,\n",
       " 'Bremsassistent': 5.0,\n",
       " 'lane keep assist active': 5.0,\n",
       " 'autoparking': 0.0,\n",
       " 'LED lights': 5.0,\n",
       " 'adaptive lights': 6.0,\n",
       " 'traffic sign recognition': 0.0,\n",
       " 'AEB': 7.0,\n",
       " 'rear traffic alert': 7.0,\n",
       " 'Traffic jam': 0.0,\n",
       " 'LED matrix': 0.0,\n",
       " 'keyless': 8.0,\n",
       " 'Camera, 360, front, back': 4.285714285714286,\n",
       " 'adaptive cruise from 0 km': 10.0,\n",
       " 'safe, euroncap, iihs': 8.91,\n",
       " 'plugin hybrid': 0,\n",
       " 'automat not CVT': 1.6666666666666665,\n",
       " '4x4': 5.0,\n",
       " 'plugin hybrid 2': 1.4000000000000001,\n",
       " 'Top speed': 3.29,\n",
       " 'km77 elktest': 4.27,\n",
       " 'testberichte': 1.07,\n",
       " 'Acceleration <10': 3.25,\n",
       " 'range up to 1000 km per tank': 6.34,\n",
       " 'side mirrors on door': 4.0,\n",
       " 'door till ground': 0.0,\n",
       " 'license on back bumper': 0.0,\n",
       " 'small length': 3.3,\n",
       " 'boot size,Fit 156 snowboard ': 0.41,\n",
       " 'noise': 1.2,\n",
       " 'acc with buttons': 4.0,\n",
       " 'no piano black': 1.67,\n",
       " 'easy entry(clearance or height of seats)': 2.13,\n",
       " 'digital speed': 0.0,\n",
       " 'HIFI audio': 0.0,\n",
       " 'white seats': 0.0,\n",
       " 'interior': 6.67,\n",
       " 'mobile warranty': 0.0,\n",
       " 'Garantie y': 5.444444444444445,\n",
       " 'Insurance 1': 2.74,\n",
       " 'Insurance 2': 6.62,\n",
       " 'Costs service': 5.98,\n",
       " 'Costs running': 5.77,\n",
       " 'Costs fixed': 4.55,\n",
       " 'Costs depreciation': 6.69,\n",
       " 'monthly costs': 9.94,\n",
       " 'price': 38.09,\n",
       " 'AGR': 0.0,\n",
       " 'Total Score': 214.6868253968254,\n",
       " 'Euro per score': 135.31338006561052}"
      ]
     },
     "metadata": {},
     "execution_count": 9
    }
   ],
   "source": [
    "# NOTE should be sorted\n",
    "imprezas = df[df[Column.NAME].str.contains('Subaru Impreza 2.0i Exclusive')]\n",
    "\n",
    "top_impreza = imprezas.iloc[0]\n",
    "impreza_euro_per_score = top_impreza[Column.EURO_PER_SCORE]\n",
    "impreza_total_score = top_impreza[Column.TOTAL_SCORE]\n",
    "impreza_costs = top_impreza[Column.MY_M_COSTS]\n",
    "\n",
    "# imprezas\n",
    "top_impreza.to_dict()\n",
    "\n",
    "# NOTE: Total Score should be set!!!"
   ]
  },
  {
   "cell_type": "markdown",
   "metadata": {},
   "source": [
    "### Better in score"
   ]
  },
  {
   "cell_type": "code",
   "execution_count": 10,
   "metadata": {},
   "outputs": [
    {
     "output_type": "execute_result",
     "data": {
      "text/plain": [
       "                                                 name Marke  \\\n",
       "5434         VW Golf 1.4 eHybrid Style DSG (ab 08/20)    VW   \n",
       "5436                       VW Golf GTE DSG (ab 08/20)    VW   \n",
       "1839             VW Golf 1.0 eTSI Life DSG (ab 08/20)    VW   \n",
       "1844             VW Golf 1.5 eTSI Life DSG (ab 12/20)    VW   \n",
       "4129         VW Golf 2.0 TDI SCR Style DSG (ab 09/20)    VW   \n",
       "4128        VW Golf 2.0 TDI SCR ACTIVE DSG (ab 01/21)    VW   \n",
       "2849  VW Golf Variant 2.0 TDI SCR Life DSG (ab 11/20)    VW   \n",
       "1849     VW Golf Variant 1.0 eTSI Life DSG (ab 11/20)    VW   \n",
       "2847  VW Golf Variant 2.0 TDI SCR Life DSG (ab 12/20)    VW   \n",
       "2845    VW Golf Variant 1.5 eTSI Style DSG (ab 11/20)    VW   \n",
       "\n",
       "                            Baureihe  Leistung maximal in kW (Systemleistung)  \\\n",
       "5434          Golf (VIII) (ab 12/19)                                      150   \n",
       "5436      Golf (VIII) GTE (ab 08/20)                                      180   \n",
       "1839          Golf (VIII) (ab 12/19)                                       81   \n",
       "1844          Golf (VIII) (ab 12/19)                                       96   \n",
       "4129          Golf (VIII) (ab 12/19)                                      110   \n",
       "4128          Golf (VIII) (ab 12/19)                                      110   \n",
       "2849  Golf (VIII) Variant (ab 11/20)                                      110   \n",
       "1849  Golf (VIII) Variant (ab 11/20)                                       81   \n",
       "2847  Golf (VIII) Variant (ab 11/20)                                       85   \n",
       "2845  Golf (VIII) Variant (ab 11/20)                                      110   \n",
       "\n",
       "      Total price  my monthly costs    Range  AEB pedestrian     navi   \\\n",
       "5434      36770.0             439.0  1097.22             2.0  1.038462   \n",
       "5436      37505.0             469.0   897.73             2.0  3.000000   \n",
       "1839      30945.0             427.0   865.38             2.0  1.038462   \n",
       "1844      32735.0             441.0   818.18             2.0  1.038462   \n",
       "4129      38555.0             446.0  1086.96             2.0  1.038462   \n",
       "4128      38035.0             434.0  1111.11             2.0  3.000000   \n",
       "2849      37505.0             432.0  1086.96             2.0  1.038462   \n",
       "1849      32055.0             432.0   849.06             2.0  1.038462   \n",
       "2847      34805.0             423.0   978.26             2.0  1.038462   \n",
       "2845      37165.0             458.0   877.19             2.0  1.038462   \n",
       "\n",
       "      active headrest  ...  Insurance 2  Costs service  Costs running  \\\n",
       "5434              0.0  ...         9.57           3.29           2.31   \n",
       "5436              0.0  ...         9.57           4.27           2.98   \n",
       "1839              0.0  ...        11.02           0.98           3.56   \n",
       "1844              0.0  ...        10.40           1.10           4.04   \n",
       "4129              0.0  ...         8.72           2.20           2.12   \n",
       "4128              0.0  ...         8.72           1.59           2.02   \n",
       "2849              0.0  ...         8.72           1.59           2.12   \n",
       "1849              0.0  ...        11.02           0.98           3.75   \n",
       "2847              0.0  ...         9.57           1.22           2.12   \n",
       "2845              0.0  ...        10.40           1.71           4.33   \n",
       "\n",
       "      Costs fixed  Costs depreciation  monthly costs  price  AGR  Total Score  \\\n",
       "5434         1.22                6.45          23.37  26.23  4.0   284.492553   \n",
       "5436         1.22                6.42          20.76  25.10  4.0   282.814091   \n",
       "1839         1.22                7.34          24.42  35.18  4.0   274.965886   \n",
       "1844         1.40                7.07          23.20  32.43  4.0   274.295886   \n",
       "4129         3.76                4.88          22.76  23.48  4.0   273.212553   \n",
       "4128         3.76                5.15          23.81  24.28  4.0   272.411061   \n",
       "2849         3.41                5.39          23.98  25.10  4.0   271.055886   \n",
       "1849         1.31                7.18          23.98  33.47  4.0   270.925886   \n",
       "2847         3.15                6.04          24.77  29.25  4.0   270.505886   \n",
       "2845         1.49                5.99          21.72  25.62  4.0   270.422553   \n",
       "\n",
       "      Euro per score  \n",
       "5434      129.247671  \n",
       "5436      132.613618  \n",
       "1839      112.541234  \n",
       "1844      119.341928  \n",
       "4129      141.117235  \n",
       "4128      139.623552  \n",
       "2849      138.366300  \n",
       "1849      118.316490  \n",
       "2847      128.666331  \n",
       "2845      137.433064  \n",
       "\n",
       "[10 rows x 61 columns]"
      ],
      "text/html": "<div>\n<style scoped>\n    .dataframe tbody tr th:only-of-type {\n        vertical-align: middle;\n    }\n\n    .dataframe tbody tr th {\n        vertical-align: top;\n    }\n\n    .dataframe thead th {\n        text-align: right;\n    }\n</style>\n<table border=\"1\" class=\"dataframe\">\n  <thead>\n    <tr style=\"text-align: right;\">\n      <th></th>\n      <th>name</th>\n      <th>Marke</th>\n      <th>Baureihe</th>\n      <th>Leistung maximal in kW (Systemleistung)</th>\n      <th>Total price</th>\n      <th>my monthly costs</th>\n      <th>Range</th>\n      <th>AEB pedestrian</th>\n      <th>navi</th>\n      <th>active headrest</th>\n      <th>...</th>\n      <th>Insurance 2</th>\n      <th>Costs service</th>\n      <th>Costs running</th>\n      <th>Costs fixed</th>\n      <th>Costs depreciation</th>\n      <th>monthly costs</th>\n      <th>price</th>\n      <th>AGR</th>\n      <th>Total Score</th>\n      <th>Euro per score</th>\n    </tr>\n  </thead>\n  <tbody>\n    <tr>\n      <th>5434</th>\n      <td>VW Golf 1.4 eHybrid Style DSG (ab 08/20)</td>\n      <td>VW</td>\n      <td>Golf (VIII) (ab 12/19)</td>\n      <td>150</td>\n      <td>36770.0</td>\n      <td>439.0</td>\n      <td>1097.22</td>\n      <td>2.0</td>\n      <td>1.038462</td>\n      <td>0.0</td>\n      <td>...</td>\n      <td>9.57</td>\n      <td>3.29</td>\n      <td>2.31</td>\n      <td>1.22</td>\n      <td>6.45</td>\n      <td>23.37</td>\n      <td>26.23</td>\n      <td>4.0</td>\n      <td>284.492553</td>\n      <td>129.247671</td>\n    </tr>\n    <tr>\n      <th>5436</th>\n      <td>VW Golf GTE DSG (ab 08/20)</td>\n      <td>VW</td>\n      <td>Golf (VIII) GTE (ab 08/20)</td>\n      <td>180</td>\n      <td>37505.0</td>\n      <td>469.0</td>\n      <td>897.73</td>\n      <td>2.0</td>\n      <td>3.000000</td>\n      <td>0.0</td>\n      <td>...</td>\n      <td>9.57</td>\n      <td>4.27</td>\n      <td>2.98</td>\n      <td>1.22</td>\n      <td>6.42</td>\n      <td>20.76</td>\n      <td>25.10</td>\n      <td>4.0</td>\n      <td>282.814091</td>\n      <td>132.613618</td>\n    </tr>\n    <tr>\n      <th>1839</th>\n      <td>VW Golf 1.0 eTSI Life DSG (ab 08/20)</td>\n      <td>VW</td>\n      <td>Golf (VIII) (ab 12/19)</td>\n      <td>81</td>\n      <td>30945.0</td>\n      <td>427.0</td>\n      <td>865.38</td>\n      <td>2.0</td>\n      <td>1.038462</td>\n      <td>0.0</td>\n      <td>...</td>\n      <td>11.02</td>\n      <td>0.98</td>\n      <td>3.56</td>\n      <td>1.22</td>\n      <td>7.34</td>\n      <td>24.42</td>\n      <td>35.18</td>\n      <td>4.0</td>\n      <td>274.965886</td>\n      <td>112.541234</td>\n    </tr>\n    <tr>\n      <th>1844</th>\n      <td>VW Golf 1.5 eTSI Life DSG (ab 12/20)</td>\n      <td>VW</td>\n      <td>Golf (VIII) (ab 12/19)</td>\n      <td>96</td>\n      <td>32735.0</td>\n      <td>441.0</td>\n      <td>818.18</td>\n      <td>2.0</td>\n      <td>1.038462</td>\n      <td>0.0</td>\n      <td>...</td>\n      <td>10.40</td>\n      <td>1.10</td>\n      <td>4.04</td>\n      <td>1.40</td>\n      <td>7.07</td>\n      <td>23.20</td>\n      <td>32.43</td>\n      <td>4.0</td>\n      <td>274.295886</td>\n      <td>119.341928</td>\n    </tr>\n    <tr>\n      <th>4129</th>\n      <td>VW Golf 2.0 TDI SCR Style DSG (ab 09/20)</td>\n      <td>VW</td>\n      <td>Golf (VIII) (ab 12/19)</td>\n      <td>110</td>\n      <td>38555.0</td>\n      <td>446.0</td>\n      <td>1086.96</td>\n      <td>2.0</td>\n      <td>1.038462</td>\n      <td>0.0</td>\n      <td>...</td>\n      <td>8.72</td>\n      <td>2.20</td>\n      <td>2.12</td>\n      <td>3.76</td>\n      <td>4.88</td>\n      <td>22.76</td>\n      <td>23.48</td>\n      <td>4.0</td>\n      <td>273.212553</td>\n      <td>141.117235</td>\n    </tr>\n    <tr>\n      <th>4128</th>\n      <td>VW Golf 2.0 TDI SCR ACTIVE DSG (ab 01/21)</td>\n      <td>VW</td>\n      <td>Golf (VIII) (ab 12/19)</td>\n      <td>110</td>\n      <td>38035.0</td>\n      <td>434.0</td>\n      <td>1111.11</td>\n      <td>2.0</td>\n      <td>3.000000</td>\n      <td>0.0</td>\n      <td>...</td>\n      <td>8.72</td>\n      <td>1.59</td>\n      <td>2.02</td>\n      <td>3.76</td>\n      <td>5.15</td>\n      <td>23.81</td>\n      <td>24.28</td>\n      <td>4.0</td>\n      <td>272.411061</td>\n      <td>139.623552</td>\n    </tr>\n    <tr>\n      <th>2849</th>\n      <td>VW Golf Variant 2.0 TDI SCR Life DSG (ab 11/20)</td>\n      <td>VW</td>\n      <td>Golf (VIII) Variant (ab 11/20)</td>\n      <td>110</td>\n      <td>37505.0</td>\n      <td>432.0</td>\n      <td>1086.96</td>\n      <td>2.0</td>\n      <td>1.038462</td>\n      <td>0.0</td>\n      <td>...</td>\n      <td>8.72</td>\n      <td>1.59</td>\n      <td>2.12</td>\n      <td>3.41</td>\n      <td>5.39</td>\n      <td>23.98</td>\n      <td>25.10</td>\n      <td>4.0</td>\n      <td>271.055886</td>\n      <td>138.366300</td>\n    </tr>\n    <tr>\n      <th>1849</th>\n      <td>VW Golf Variant 1.0 eTSI Life DSG (ab 11/20)</td>\n      <td>VW</td>\n      <td>Golf (VIII) Variant (ab 11/20)</td>\n      <td>81</td>\n      <td>32055.0</td>\n      <td>432.0</td>\n      <td>849.06</td>\n      <td>2.0</td>\n      <td>1.038462</td>\n      <td>0.0</td>\n      <td>...</td>\n      <td>11.02</td>\n      <td>0.98</td>\n      <td>3.75</td>\n      <td>1.31</td>\n      <td>7.18</td>\n      <td>23.98</td>\n      <td>33.47</td>\n      <td>4.0</td>\n      <td>270.925886</td>\n      <td>118.316490</td>\n    </tr>\n    <tr>\n      <th>2847</th>\n      <td>VW Golf Variant 2.0 TDI SCR Life DSG (ab 12/20)</td>\n      <td>VW</td>\n      <td>Golf (VIII) Variant (ab 11/20)</td>\n      <td>85</td>\n      <td>34805.0</td>\n      <td>423.0</td>\n      <td>978.26</td>\n      <td>2.0</td>\n      <td>1.038462</td>\n      <td>0.0</td>\n      <td>...</td>\n      <td>9.57</td>\n      <td>1.22</td>\n      <td>2.12</td>\n      <td>3.15</td>\n      <td>6.04</td>\n      <td>24.77</td>\n      <td>29.25</td>\n      <td>4.0</td>\n      <td>270.505886</td>\n      <td>128.666331</td>\n    </tr>\n    <tr>\n      <th>2845</th>\n      <td>VW Golf Variant 1.5 eTSI Style DSG (ab 11/20)</td>\n      <td>VW</td>\n      <td>Golf (VIII) Variant (ab 11/20)</td>\n      <td>110</td>\n      <td>37165.0</td>\n      <td>458.0</td>\n      <td>877.19</td>\n      <td>2.0</td>\n      <td>1.038462</td>\n      <td>0.0</td>\n      <td>...</td>\n      <td>10.40</td>\n      <td>1.71</td>\n      <td>4.33</td>\n      <td>1.49</td>\n      <td>5.99</td>\n      <td>21.72</td>\n      <td>25.62</td>\n      <td>4.0</td>\n      <td>270.422553</td>\n      <td>137.433064</td>\n    </tr>\n  </tbody>\n</table>\n<p>10 rows × 61 columns</p>\n</div>"
     },
     "metadata": {},
     "execution_count": 10
    }
   ],
   "source": [
    "df[df[Column.TOTAL_SCORE] > impreza_total_score].head(10)"
   ]
  },
  {
   "cell_type": "markdown",
   "metadata": {},
   "source": [
    "### Better in euro per score"
   ]
  },
  {
   "cell_type": "code",
   "execution_count": 11,
   "metadata": {},
   "outputs": [
    {
     "output_type": "execute_result",
     "data": {
      "text/plain": [
       "                                                 name    Marke  \\\n",
       "5434         VW Golf 1.4 eHybrid Style DSG (ab 08/20)       VW   \n",
       "5436                       VW Golf GTE DSG (ab 08/20)       VW   \n",
       "1839             VW Golf 1.0 eTSI Life DSG (ab 08/20)       VW   \n",
       "1844             VW Golf 1.5 eTSI Life DSG (ab 12/20)       VW   \n",
       "1849     VW Golf Variant 1.0 eTSI Life DSG (ab 11/20)       VW   \n",
       "2847  VW Golf Variant 2.0 TDI SCR Life DSG (ab 12/20)       VW   \n",
       "2844     VW Golf Variant 1.5 eTSI Life DSG (ab 11/20)       VW   \n",
       "2841    VW Golf Variant 1.5 eTSI Style DSG (ab 11/20)       VW   \n",
       "3393     Hyundai IONIQ PlugIn-Hybrid Prime (ab 07/20)  Hyundai   \n",
       "3392     Hyundai IONIQ PlugIn-Hybrid Style (ab 07/20)  Hyundai   \n",
       "\n",
       "                            Baureihe  Leistung maximal in kW (Systemleistung)  \\\n",
       "5434          Golf (VIII) (ab 12/19)                                      150   \n",
       "5436      Golf (VIII) GTE (ab 08/20)                                      180   \n",
       "1839          Golf (VIII) (ab 12/19)                                       81   \n",
       "1844          Golf (VIII) (ab 12/19)                                       96   \n",
       "1849  Golf (VIII) Variant (ab 11/20)                                       81   \n",
       "2847  Golf (VIII) Variant (ab 11/20)                                       85   \n",
       "2844  Golf (VIII) Variant (ab 11/20)                                      110   \n",
       "2841  Golf (VIII) Variant (ab 11/20)                                       96   \n",
       "3393    IONIQ (AE) Hybrid (ab 08/19)                                      104   \n",
       "3392    IONIQ (AE) Hybrid (ab 08/19)                                      104   \n",
       "\n",
       "      Total price  my monthly costs    Range  AEB pedestrian     navi   \\\n",
       "5434      36770.0             439.0  1097.22             2.0  1.038462   \n",
       "5436      37505.0             469.0   897.73             2.0  3.000000   \n",
       "1839      30945.0             427.0   865.38             2.0  1.038462   \n",
       "1844      32735.0             441.0   818.18             2.0  1.038462   \n",
       "1849      32055.0             432.0   849.06             2.0  1.038462   \n",
       "2847      34805.0             423.0   978.26             2.0  1.038462   \n",
       "2844      34880.0             450.0   877.19             2.0  1.038462   \n",
       "2841      36130.0             456.0   789.47             2.0  1.038462   \n",
       "3393      32940.0             413.0   977.27             2.0  3.000000   \n",
       "3392      30440.0             413.0   977.27             2.0  3.000000   \n",
       "\n",
       "      active headrest  ...  Insurance 2  Costs service  Costs running  \\\n",
       "5434              0.0  ...         9.57           3.29           2.31   \n",
       "5436              0.0  ...         9.57           4.27           2.98   \n",
       "1839              0.0  ...        11.02           0.98           3.56   \n",
       "1844              0.0  ...        10.40           1.10           4.04   \n",
       "1849              0.0  ...        11.02           0.98           3.75   \n",
       "2847              0.0  ...         9.57           1.22           2.12   \n",
       "2844              0.0  ...        10.40           1.22           4.33   \n",
       "2841              0.0  ...        10.40           1.59           4.33   \n",
       "3393              4.0  ...        10.40           2.32           1.73   \n",
       "3392              4.0  ...        10.40           2.32           1.73   \n",
       "\n",
       "      Costs fixed  Costs depreciation  monthly costs  price  AGR  Total Score  \\\n",
       "5434         1.22                6.45          23.37  26.23  4.0   284.492553   \n",
       "5436         1.22                6.42          20.76  25.10  4.0   282.814091   \n",
       "1839         1.22                7.34          24.42  35.18  4.0   274.965886   \n",
       "1844         1.40                7.07          23.20  32.43  4.0   274.295886   \n",
       "1849         1.31                7.18          23.98  33.47  4.0   270.925886   \n",
       "2847         3.15                6.04          24.77  29.25  4.0   270.505886   \n",
       "2844         1.49                6.59          22.41  29.13  4.0   270.315886   \n",
       "2841         1.49                6.31          21.89  27.21  4.0   269.842553   \n",
       "3393         1.40                7.32          25.64  32.11  0.0   260.469841   \n",
       "3392         1.40                8.02          25.64  35.95  0.0   258.009841   \n",
       "\n",
       "      Euro per score  \n",
       "5434      129.247671  \n",
       "5436      132.613618  \n",
       "1839      112.541234  \n",
       "1844      119.341928  \n",
       "1849      118.316490  \n",
       "2847      128.666331  \n",
       "2844      129.034222  \n",
       "2841      133.892893  \n",
       "3393      126.463777  \n",
       "3392      117.979996  \n",
       "\n",
       "[10 rows x 61 columns]"
      ],
      "text/html": "<div>\n<style scoped>\n    .dataframe tbody tr th:only-of-type {\n        vertical-align: middle;\n    }\n\n    .dataframe tbody tr th {\n        vertical-align: top;\n    }\n\n    .dataframe thead th {\n        text-align: right;\n    }\n</style>\n<table border=\"1\" class=\"dataframe\">\n  <thead>\n    <tr style=\"text-align: right;\">\n      <th></th>\n      <th>name</th>\n      <th>Marke</th>\n      <th>Baureihe</th>\n      <th>Leistung maximal in kW (Systemleistung)</th>\n      <th>Total price</th>\n      <th>my monthly costs</th>\n      <th>Range</th>\n      <th>AEB pedestrian</th>\n      <th>navi</th>\n      <th>active headrest</th>\n      <th>...</th>\n      <th>Insurance 2</th>\n      <th>Costs service</th>\n      <th>Costs running</th>\n      <th>Costs fixed</th>\n      <th>Costs depreciation</th>\n      <th>monthly costs</th>\n      <th>price</th>\n      <th>AGR</th>\n      <th>Total Score</th>\n      <th>Euro per score</th>\n    </tr>\n  </thead>\n  <tbody>\n    <tr>\n      <th>5434</th>\n      <td>VW Golf 1.4 eHybrid Style DSG (ab 08/20)</td>\n      <td>VW</td>\n      <td>Golf (VIII) (ab 12/19)</td>\n      <td>150</td>\n      <td>36770.0</td>\n      <td>439.0</td>\n      <td>1097.22</td>\n      <td>2.0</td>\n      <td>1.038462</td>\n      <td>0.0</td>\n      <td>...</td>\n      <td>9.57</td>\n      <td>3.29</td>\n      <td>2.31</td>\n      <td>1.22</td>\n      <td>6.45</td>\n      <td>23.37</td>\n      <td>26.23</td>\n      <td>4.0</td>\n      <td>284.492553</td>\n      <td>129.247671</td>\n    </tr>\n    <tr>\n      <th>5436</th>\n      <td>VW Golf GTE DSG (ab 08/20)</td>\n      <td>VW</td>\n      <td>Golf (VIII) GTE (ab 08/20)</td>\n      <td>180</td>\n      <td>37505.0</td>\n      <td>469.0</td>\n      <td>897.73</td>\n      <td>2.0</td>\n      <td>3.000000</td>\n      <td>0.0</td>\n      <td>...</td>\n      <td>9.57</td>\n      <td>4.27</td>\n      <td>2.98</td>\n      <td>1.22</td>\n      <td>6.42</td>\n      <td>20.76</td>\n      <td>25.10</td>\n      <td>4.0</td>\n      <td>282.814091</td>\n      <td>132.613618</td>\n    </tr>\n    <tr>\n      <th>1839</th>\n      <td>VW Golf 1.0 eTSI Life DSG (ab 08/20)</td>\n      <td>VW</td>\n      <td>Golf (VIII) (ab 12/19)</td>\n      <td>81</td>\n      <td>30945.0</td>\n      <td>427.0</td>\n      <td>865.38</td>\n      <td>2.0</td>\n      <td>1.038462</td>\n      <td>0.0</td>\n      <td>...</td>\n      <td>11.02</td>\n      <td>0.98</td>\n      <td>3.56</td>\n      <td>1.22</td>\n      <td>7.34</td>\n      <td>24.42</td>\n      <td>35.18</td>\n      <td>4.0</td>\n      <td>274.965886</td>\n      <td>112.541234</td>\n    </tr>\n    <tr>\n      <th>1844</th>\n      <td>VW Golf 1.5 eTSI Life DSG (ab 12/20)</td>\n      <td>VW</td>\n      <td>Golf (VIII) (ab 12/19)</td>\n      <td>96</td>\n      <td>32735.0</td>\n      <td>441.0</td>\n      <td>818.18</td>\n      <td>2.0</td>\n      <td>1.038462</td>\n      <td>0.0</td>\n      <td>...</td>\n      <td>10.40</td>\n      <td>1.10</td>\n      <td>4.04</td>\n      <td>1.40</td>\n      <td>7.07</td>\n      <td>23.20</td>\n      <td>32.43</td>\n      <td>4.0</td>\n      <td>274.295886</td>\n      <td>119.341928</td>\n    </tr>\n    <tr>\n      <th>1849</th>\n      <td>VW Golf Variant 1.0 eTSI Life DSG (ab 11/20)</td>\n      <td>VW</td>\n      <td>Golf (VIII) Variant (ab 11/20)</td>\n      <td>81</td>\n      <td>32055.0</td>\n      <td>432.0</td>\n      <td>849.06</td>\n      <td>2.0</td>\n      <td>1.038462</td>\n      <td>0.0</td>\n      <td>...</td>\n      <td>11.02</td>\n      <td>0.98</td>\n      <td>3.75</td>\n      <td>1.31</td>\n      <td>7.18</td>\n      <td>23.98</td>\n      <td>33.47</td>\n      <td>4.0</td>\n      <td>270.925886</td>\n      <td>118.316490</td>\n    </tr>\n    <tr>\n      <th>2847</th>\n      <td>VW Golf Variant 2.0 TDI SCR Life DSG (ab 12/20)</td>\n      <td>VW</td>\n      <td>Golf (VIII) Variant (ab 11/20)</td>\n      <td>85</td>\n      <td>34805.0</td>\n      <td>423.0</td>\n      <td>978.26</td>\n      <td>2.0</td>\n      <td>1.038462</td>\n      <td>0.0</td>\n      <td>...</td>\n      <td>9.57</td>\n      <td>1.22</td>\n      <td>2.12</td>\n      <td>3.15</td>\n      <td>6.04</td>\n      <td>24.77</td>\n      <td>29.25</td>\n      <td>4.0</td>\n      <td>270.505886</td>\n      <td>128.666331</td>\n    </tr>\n    <tr>\n      <th>2844</th>\n      <td>VW Golf Variant 1.5 eTSI Life DSG (ab 11/20)</td>\n      <td>VW</td>\n      <td>Golf (VIII) Variant (ab 11/20)</td>\n      <td>110</td>\n      <td>34880.0</td>\n      <td>450.0</td>\n      <td>877.19</td>\n      <td>2.0</td>\n      <td>1.038462</td>\n      <td>0.0</td>\n      <td>...</td>\n      <td>10.40</td>\n      <td>1.22</td>\n      <td>4.33</td>\n      <td>1.49</td>\n      <td>6.59</td>\n      <td>22.41</td>\n      <td>29.13</td>\n      <td>4.0</td>\n      <td>270.315886</td>\n      <td>129.034222</td>\n    </tr>\n    <tr>\n      <th>2841</th>\n      <td>VW Golf Variant 1.5 eTSI Style DSG (ab 11/20)</td>\n      <td>VW</td>\n      <td>Golf (VIII) Variant (ab 11/20)</td>\n      <td>96</td>\n      <td>36130.0</td>\n      <td>456.0</td>\n      <td>789.47</td>\n      <td>2.0</td>\n      <td>1.038462</td>\n      <td>0.0</td>\n      <td>...</td>\n      <td>10.40</td>\n      <td>1.59</td>\n      <td>4.33</td>\n      <td>1.49</td>\n      <td>6.31</td>\n      <td>21.89</td>\n      <td>27.21</td>\n      <td>4.0</td>\n      <td>269.842553</td>\n      <td>133.892893</td>\n    </tr>\n    <tr>\n      <th>3393</th>\n      <td>Hyundai IONIQ PlugIn-Hybrid Prime (ab 07/20)</td>\n      <td>Hyundai</td>\n      <td>IONIQ (AE) Hybrid (ab 08/19)</td>\n      <td>104</td>\n      <td>32940.0</td>\n      <td>413.0</td>\n      <td>977.27</td>\n      <td>2.0</td>\n      <td>3.000000</td>\n      <td>4.0</td>\n      <td>...</td>\n      <td>10.40</td>\n      <td>2.32</td>\n      <td>1.73</td>\n      <td>1.40</td>\n      <td>7.32</td>\n      <td>25.64</td>\n      <td>32.11</td>\n      <td>0.0</td>\n      <td>260.469841</td>\n      <td>126.463777</td>\n    </tr>\n    <tr>\n      <th>3392</th>\n      <td>Hyundai IONIQ PlugIn-Hybrid Style (ab 07/20)</td>\n      <td>Hyundai</td>\n      <td>IONIQ (AE) Hybrid (ab 08/19)</td>\n      <td>104</td>\n      <td>30440.0</td>\n      <td>413.0</td>\n      <td>977.27</td>\n      <td>2.0</td>\n      <td>3.000000</td>\n      <td>4.0</td>\n      <td>...</td>\n      <td>10.40</td>\n      <td>2.32</td>\n      <td>1.73</td>\n      <td>1.40</td>\n      <td>8.02</td>\n      <td>25.64</td>\n      <td>35.95</td>\n      <td>0.0</td>\n      <td>258.009841</td>\n      <td>117.979996</td>\n    </tr>\n  </tbody>\n</table>\n<p>10 rows × 61 columns</p>\n</div>"
     },
     "metadata": {},
     "execution_count": 11
    }
   ],
   "source": [
    "df[df[Column.EURO_PER_SCORE] < impreza_euro_per_score].head(10)"
   ]
  },
  {
   "cell_type": "markdown",
   "metadata": {},
   "source": [
    "### Better in costs"
   ]
  },
  {
   "cell_type": "code",
   "execution_count": 12,
   "metadata": {},
   "outputs": [
    {
     "output_type": "execute_result",
     "data": {
      "text/plain": [
       "                                                 name Marke  \\\n",
       "5434         VW Golf 1.4 eHybrid Style DSG (ab 08/20)    VW   \n",
       "5436                       VW Golf GTE DSG (ab 08/20)    VW   \n",
       "1839             VW Golf 1.0 eTSI Life DSG (ab 08/20)    VW   \n",
       "1844             VW Golf 1.5 eTSI Life DSG (ab 12/20)    VW   \n",
       "4129         VW Golf 2.0 TDI SCR Style DSG (ab 09/20)    VW   \n",
       "4128        VW Golf 2.0 TDI SCR ACTIVE DSG (ab 01/21)    VW   \n",
       "2849  VW Golf Variant 2.0 TDI SCR Life DSG (ab 11/20)    VW   \n",
       "1849     VW Golf Variant 1.0 eTSI Life DSG (ab 11/20)    VW   \n",
       "2847  VW Golf Variant 2.0 TDI SCR Life DSG (ab 12/20)    VW   \n",
       "2845    VW Golf Variant 1.5 eTSI Style DSG (ab 11/20)    VW   \n",
       "\n",
       "                            Baureihe  Leistung maximal in kW (Systemleistung)  \\\n",
       "5434          Golf (VIII) (ab 12/19)                                      150   \n",
       "5436      Golf (VIII) GTE (ab 08/20)                                      180   \n",
       "1839          Golf (VIII) (ab 12/19)                                       81   \n",
       "1844          Golf (VIII) (ab 12/19)                                       96   \n",
       "4129          Golf (VIII) (ab 12/19)                                      110   \n",
       "4128          Golf (VIII) (ab 12/19)                                      110   \n",
       "2849  Golf (VIII) Variant (ab 11/20)                                      110   \n",
       "1849  Golf (VIII) Variant (ab 11/20)                                       81   \n",
       "2847  Golf (VIII) Variant (ab 11/20)                                       85   \n",
       "2845  Golf (VIII) Variant (ab 11/20)                                      110   \n",
       "\n",
       "      Total price  my monthly costs    Range  AEB pedestrian     navi   \\\n",
       "5434      36770.0             439.0  1097.22             2.0  1.038462   \n",
       "5436      37505.0             469.0   897.73             2.0  3.000000   \n",
       "1839      30945.0             427.0   865.38             2.0  1.038462   \n",
       "1844      32735.0             441.0   818.18             2.0  1.038462   \n",
       "4129      38555.0             446.0  1086.96             2.0  1.038462   \n",
       "4128      38035.0             434.0  1111.11             2.0  3.000000   \n",
       "2849      37505.0             432.0  1086.96             2.0  1.038462   \n",
       "1849      32055.0             432.0   849.06             2.0  1.038462   \n",
       "2847      34805.0             423.0   978.26             2.0  1.038462   \n",
       "2845      37165.0             458.0   877.19             2.0  1.038462   \n",
       "\n",
       "      active headrest  ...  Insurance 2  Costs service  Costs running  \\\n",
       "5434              0.0  ...         9.57           3.29           2.31   \n",
       "5436              0.0  ...         9.57           4.27           2.98   \n",
       "1839              0.0  ...        11.02           0.98           3.56   \n",
       "1844              0.0  ...        10.40           1.10           4.04   \n",
       "4129              0.0  ...         8.72           2.20           2.12   \n",
       "4128              0.0  ...         8.72           1.59           2.02   \n",
       "2849              0.0  ...         8.72           1.59           2.12   \n",
       "1849              0.0  ...        11.02           0.98           3.75   \n",
       "2847              0.0  ...         9.57           1.22           2.12   \n",
       "2845              0.0  ...        10.40           1.71           4.33   \n",
       "\n",
       "      Costs fixed  Costs depreciation  monthly costs  price  AGR  Total Score  \\\n",
       "5434         1.22                6.45          23.37  26.23  4.0   284.492553   \n",
       "5436         1.22                6.42          20.76  25.10  4.0   282.814091   \n",
       "1839         1.22                7.34          24.42  35.18  4.0   274.965886   \n",
       "1844         1.40                7.07          23.20  32.43  4.0   274.295886   \n",
       "4129         3.76                4.88          22.76  23.48  4.0   273.212553   \n",
       "4128         3.76                5.15          23.81  24.28  4.0   272.411061   \n",
       "2849         3.41                5.39          23.98  25.10  4.0   271.055886   \n",
       "1849         1.31                7.18          23.98  33.47  4.0   270.925886   \n",
       "2847         3.15                6.04          24.77  29.25  4.0   270.505886   \n",
       "2845         1.49                5.99          21.72  25.62  4.0   270.422553   \n",
       "\n",
       "      Euro per score  \n",
       "5434      129.247671  \n",
       "5436      132.613618  \n",
       "1839      112.541234  \n",
       "1844      119.341928  \n",
       "4129      141.117235  \n",
       "4128      139.623552  \n",
       "2849      138.366300  \n",
       "1849      118.316490  \n",
       "2847      128.666331  \n",
       "2845      137.433064  \n",
       "\n",
       "[10 rows x 61 columns]"
      ],
      "text/html": "<div>\n<style scoped>\n    .dataframe tbody tr th:only-of-type {\n        vertical-align: middle;\n    }\n\n    .dataframe tbody tr th {\n        vertical-align: top;\n    }\n\n    .dataframe thead th {\n        text-align: right;\n    }\n</style>\n<table border=\"1\" class=\"dataframe\">\n  <thead>\n    <tr style=\"text-align: right;\">\n      <th></th>\n      <th>name</th>\n      <th>Marke</th>\n      <th>Baureihe</th>\n      <th>Leistung maximal in kW (Systemleistung)</th>\n      <th>Total price</th>\n      <th>my monthly costs</th>\n      <th>Range</th>\n      <th>AEB pedestrian</th>\n      <th>navi</th>\n      <th>active headrest</th>\n      <th>...</th>\n      <th>Insurance 2</th>\n      <th>Costs service</th>\n      <th>Costs running</th>\n      <th>Costs fixed</th>\n      <th>Costs depreciation</th>\n      <th>monthly costs</th>\n      <th>price</th>\n      <th>AGR</th>\n      <th>Total Score</th>\n      <th>Euro per score</th>\n    </tr>\n  </thead>\n  <tbody>\n    <tr>\n      <th>5434</th>\n      <td>VW Golf 1.4 eHybrid Style DSG (ab 08/20)</td>\n      <td>VW</td>\n      <td>Golf (VIII) (ab 12/19)</td>\n      <td>150</td>\n      <td>36770.0</td>\n      <td>439.0</td>\n      <td>1097.22</td>\n      <td>2.0</td>\n      <td>1.038462</td>\n      <td>0.0</td>\n      <td>...</td>\n      <td>9.57</td>\n      <td>3.29</td>\n      <td>2.31</td>\n      <td>1.22</td>\n      <td>6.45</td>\n      <td>23.37</td>\n      <td>26.23</td>\n      <td>4.0</td>\n      <td>284.492553</td>\n      <td>129.247671</td>\n    </tr>\n    <tr>\n      <th>5436</th>\n      <td>VW Golf GTE DSG (ab 08/20)</td>\n      <td>VW</td>\n      <td>Golf (VIII) GTE (ab 08/20)</td>\n      <td>180</td>\n      <td>37505.0</td>\n      <td>469.0</td>\n      <td>897.73</td>\n      <td>2.0</td>\n      <td>3.000000</td>\n      <td>0.0</td>\n      <td>...</td>\n      <td>9.57</td>\n      <td>4.27</td>\n      <td>2.98</td>\n      <td>1.22</td>\n      <td>6.42</td>\n      <td>20.76</td>\n      <td>25.10</td>\n      <td>4.0</td>\n      <td>282.814091</td>\n      <td>132.613618</td>\n    </tr>\n    <tr>\n      <th>1839</th>\n      <td>VW Golf 1.0 eTSI Life DSG (ab 08/20)</td>\n      <td>VW</td>\n      <td>Golf (VIII) (ab 12/19)</td>\n      <td>81</td>\n      <td>30945.0</td>\n      <td>427.0</td>\n      <td>865.38</td>\n      <td>2.0</td>\n      <td>1.038462</td>\n      <td>0.0</td>\n      <td>...</td>\n      <td>11.02</td>\n      <td>0.98</td>\n      <td>3.56</td>\n      <td>1.22</td>\n      <td>7.34</td>\n      <td>24.42</td>\n      <td>35.18</td>\n      <td>4.0</td>\n      <td>274.965886</td>\n      <td>112.541234</td>\n    </tr>\n    <tr>\n      <th>1844</th>\n      <td>VW Golf 1.5 eTSI Life DSG (ab 12/20)</td>\n      <td>VW</td>\n      <td>Golf (VIII) (ab 12/19)</td>\n      <td>96</td>\n      <td>32735.0</td>\n      <td>441.0</td>\n      <td>818.18</td>\n      <td>2.0</td>\n      <td>1.038462</td>\n      <td>0.0</td>\n      <td>...</td>\n      <td>10.40</td>\n      <td>1.10</td>\n      <td>4.04</td>\n      <td>1.40</td>\n      <td>7.07</td>\n      <td>23.20</td>\n      <td>32.43</td>\n      <td>4.0</td>\n      <td>274.295886</td>\n      <td>119.341928</td>\n    </tr>\n    <tr>\n      <th>4129</th>\n      <td>VW Golf 2.0 TDI SCR Style DSG (ab 09/20)</td>\n      <td>VW</td>\n      <td>Golf (VIII) (ab 12/19)</td>\n      <td>110</td>\n      <td>38555.0</td>\n      <td>446.0</td>\n      <td>1086.96</td>\n      <td>2.0</td>\n      <td>1.038462</td>\n      <td>0.0</td>\n      <td>...</td>\n      <td>8.72</td>\n      <td>2.20</td>\n      <td>2.12</td>\n      <td>3.76</td>\n      <td>4.88</td>\n      <td>22.76</td>\n      <td>23.48</td>\n      <td>4.0</td>\n      <td>273.212553</td>\n      <td>141.117235</td>\n    </tr>\n    <tr>\n      <th>4128</th>\n      <td>VW Golf 2.0 TDI SCR ACTIVE DSG (ab 01/21)</td>\n      <td>VW</td>\n      <td>Golf (VIII) (ab 12/19)</td>\n      <td>110</td>\n      <td>38035.0</td>\n      <td>434.0</td>\n      <td>1111.11</td>\n      <td>2.0</td>\n      <td>3.000000</td>\n      <td>0.0</td>\n      <td>...</td>\n      <td>8.72</td>\n      <td>1.59</td>\n      <td>2.02</td>\n      <td>3.76</td>\n      <td>5.15</td>\n      <td>23.81</td>\n      <td>24.28</td>\n      <td>4.0</td>\n      <td>272.411061</td>\n      <td>139.623552</td>\n    </tr>\n    <tr>\n      <th>2849</th>\n      <td>VW Golf Variant 2.0 TDI SCR Life DSG (ab 11/20)</td>\n      <td>VW</td>\n      <td>Golf (VIII) Variant (ab 11/20)</td>\n      <td>110</td>\n      <td>37505.0</td>\n      <td>432.0</td>\n      <td>1086.96</td>\n      <td>2.0</td>\n      <td>1.038462</td>\n      <td>0.0</td>\n      <td>...</td>\n      <td>8.72</td>\n      <td>1.59</td>\n      <td>2.12</td>\n      <td>3.41</td>\n      <td>5.39</td>\n      <td>23.98</td>\n      <td>25.10</td>\n      <td>4.0</td>\n      <td>271.055886</td>\n      <td>138.366300</td>\n    </tr>\n    <tr>\n      <th>1849</th>\n      <td>VW Golf Variant 1.0 eTSI Life DSG (ab 11/20)</td>\n      <td>VW</td>\n      <td>Golf (VIII) Variant (ab 11/20)</td>\n      <td>81</td>\n      <td>32055.0</td>\n      <td>432.0</td>\n      <td>849.06</td>\n      <td>2.0</td>\n      <td>1.038462</td>\n      <td>0.0</td>\n      <td>...</td>\n      <td>11.02</td>\n      <td>0.98</td>\n      <td>3.75</td>\n      <td>1.31</td>\n      <td>7.18</td>\n      <td>23.98</td>\n      <td>33.47</td>\n      <td>4.0</td>\n      <td>270.925886</td>\n      <td>118.316490</td>\n    </tr>\n    <tr>\n      <th>2847</th>\n      <td>VW Golf Variant 2.0 TDI SCR Life DSG (ab 12/20)</td>\n      <td>VW</td>\n      <td>Golf (VIII) Variant (ab 11/20)</td>\n      <td>85</td>\n      <td>34805.0</td>\n      <td>423.0</td>\n      <td>978.26</td>\n      <td>2.0</td>\n      <td>1.038462</td>\n      <td>0.0</td>\n      <td>...</td>\n      <td>9.57</td>\n      <td>1.22</td>\n      <td>2.12</td>\n      <td>3.15</td>\n      <td>6.04</td>\n      <td>24.77</td>\n      <td>29.25</td>\n      <td>4.0</td>\n      <td>270.505886</td>\n      <td>128.666331</td>\n    </tr>\n    <tr>\n      <th>2845</th>\n      <td>VW Golf Variant 1.5 eTSI Style DSG (ab 11/20)</td>\n      <td>VW</td>\n      <td>Golf (VIII) Variant (ab 11/20)</td>\n      <td>110</td>\n      <td>37165.0</td>\n      <td>458.0</td>\n      <td>877.19</td>\n      <td>2.0</td>\n      <td>1.038462</td>\n      <td>0.0</td>\n      <td>...</td>\n      <td>10.40</td>\n      <td>1.71</td>\n      <td>4.33</td>\n      <td>1.49</td>\n      <td>5.99</td>\n      <td>21.72</td>\n      <td>25.62</td>\n      <td>4.0</td>\n      <td>270.422553</td>\n      <td>137.433064</td>\n    </tr>\n  </tbody>\n</table>\n<p>10 rows × 61 columns</p>\n</div>"
     },
     "metadata": {},
     "execution_count": 12
    }
   ],
   "source": [
    "df[df[Column.MY_M_COSTS] < impreza_costs].head(10)"
   ]
  },
  {
   "cell_type": "markdown",
   "metadata": {},
   "source": [
    "### Better in everything"
   ]
  },
  {
   "cell_type": "code",
   "execution_count": 13,
   "metadata": {},
   "outputs": [
    {
     "output_type": "execute_result",
     "data": {
      "text/plain": [
       "                                                   name   Marke  \\\n",
       "5434           VW Golf 1.4 eHybrid Style DSG (ab 08/20)      VW   \n",
       "5436                         VW Golf GTE DSG (ab 08/20)      VW   \n",
       "1839               VW Golf 1.0 eTSI Life DSG (ab 08/20)      VW   \n",
       "1844               VW Golf 1.5 eTSI Life DSG (ab 12/20)      VW   \n",
       "1849       VW Golf Variant 1.0 eTSI Life DSG (ab 11/20)      VW   \n",
       "...                                                 ...     ...   \n",
       "1789  Subaru Impreza 1.6i Exclusive Lineartronic (ab...  Subaru   \n",
       "1313         KIA XCeed 1.5 T-GDI Vision DCT7 (ab 03/21)     KIA   \n",
       "1800       Toyota Corolla 1.8 Hybrid Comfort (ab 09/20)  Toyota   \n",
       "1286       KIA Ceed 1.6 CRDi 48V Vision DCT7 (ab 03/21)     KIA   \n",
       "1220      Honda Civic 1.0 Turbo Elegance CVT (ab 12/19)   Honda   \n",
       "\n",
       "                            Baureihe  Leistung maximal in kW (Systemleistung)  \\\n",
       "5434          Golf (VIII) (ab 12/19)                                      150   \n",
       "5436      Golf (VIII) GTE (ab 08/20)                                      180   \n",
       "1839          Golf (VIII) (ab 12/19)                                       81   \n",
       "1844          Golf (VIII) (ab 12/19)                                       96   \n",
       "1849  Golf (VIII) Variant (ab 11/20)                                       81   \n",
       "...                              ...                                      ...   \n",
       "1789          Impreza (V) (ab 06/20)                                       84   \n",
       "1313           XCeed (CD) (ab 09/19)                                      118   \n",
       "1800        Corolla (E21) (ab 04/19)                                       90   \n",
       "1286            Ceed (CD) (ab 06/18)                                      100   \n",
       "1220            Civic (X) (ab 03/17)                                       93   \n",
       "\n",
       "      Total price  my monthly costs    Range  AEB pedestrian     navi   \\\n",
       "5434     36770.00            439.00  1097.22        2.000000  1.038462   \n",
       "5436     37505.00            469.00   897.73        2.000000  3.000000   \n",
       "1839     30945.00            427.00   865.38        2.000000  1.038462   \n",
       "1844     32735.00            441.00   818.18        2.000000  1.038462   \n",
       "1849     32055.00            432.00   849.06        2.000000  1.038462   \n",
       "...           ...               ...      ...             ...       ...   \n",
       "1789     28560.00            571.00   632.91        2.000000  3.000000   \n",
       "1313     29235.00            413.67   806.45        2.000000  2.884615   \n",
       "1800     29560.00            403.00   955.56        2.000000  1.500000   \n",
       "1286     28794.96            442.42  1086.96        1.333333  2.884615   \n",
       "1220     29010.00            507.00   723.08        2.000000  3.000000   \n",
       "\n",
       "      active headrest  ...  Insurance 2  Costs service  Costs running  \\\n",
       "5434              0.0  ...         9.57           3.29           2.31   \n",
       "5436              0.0  ...         9.57           4.27           2.98   \n",
       "1839              0.0  ...        11.02           0.98           3.56   \n",
       "1844              0.0  ...        10.40           1.10           4.04   \n",
       "1849              0.0  ...        11.02           0.98           3.75   \n",
       "...               ...  ...          ...            ...            ...   \n",
       "1789              4.0  ...         8.72           2.56           7.88   \n",
       "1313              0.0  ...        10.40           2.97           1.54   \n",
       "1800              0.0  ...         8.09           0.00           2.31   \n",
       "1286              0.0  ...        10.30           2.66           2.58   \n",
       "1220              4.0  ...         8.09           1.95           5.67   \n",
       "\n",
       "      Costs fixed  Costs depreciation  monthly costs  price  AGR  Total Score  \\\n",
       "5434         1.22                6.45          23.37  26.23  4.0   284.492553   \n",
       "5436         1.22                6.42          20.76  25.10  4.0   282.814091   \n",
       "1839         1.22                7.34          24.42  35.18  4.0   274.965886   \n",
       "1844         1.40                7.07          23.20  32.43  4.0   274.295886   \n",
       "1849         1.31                7.18          23.98  33.47  4.0   270.925886   \n",
       "...           ...                 ...            ...    ...  ...          ...   \n",
       "1789         3.68                8.02          11.86  38.84  0.0   220.782540   \n",
       "1313         0.88                7.41          25.58  37.81  0.0   220.245568   \n",
       "1800         2.80                7.56          26.51  37.31  0.0   218.841270   \n",
       "1286         1.93                7.70          23.07  38.48  0.0   218.675568   \n",
       "1220         2.98                7.51          17.44  38.15  0.0   216.198413   \n",
       "\n",
       "      Euro per score  \n",
       "5434      129.247671  \n",
       "5436      132.613618  \n",
       "1839      112.541234  \n",
       "1844      119.341928  \n",
       "1849      118.316490  \n",
       "...              ...  \n",
       "1789      129.358055  \n",
       "1313      132.738199  \n",
       "1800      135.075071  \n",
       "1286      131.678908  \n",
       "1220      134.182299  \n",
       "\n",
       "[119 rows x 61 columns]"
      ],
      "text/html": "<div>\n<style scoped>\n    .dataframe tbody tr th:only-of-type {\n        vertical-align: middle;\n    }\n\n    .dataframe tbody tr th {\n        vertical-align: top;\n    }\n\n    .dataframe thead th {\n        text-align: right;\n    }\n</style>\n<table border=\"1\" class=\"dataframe\">\n  <thead>\n    <tr style=\"text-align: right;\">\n      <th></th>\n      <th>name</th>\n      <th>Marke</th>\n      <th>Baureihe</th>\n      <th>Leistung maximal in kW (Systemleistung)</th>\n      <th>Total price</th>\n      <th>my monthly costs</th>\n      <th>Range</th>\n      <th>AEB pedestrian</th>\n      <th>navi</th>\n      <th>active headrest</th>\n      <th>...</th>\n      <th>Insurance 2</th>\n      <th>Costs service</th>\n      <th>Costs running</th>\n      <th>Costs fixed</th>\n      <th>Costs depreciation</th>\n      <th>monthly costs</th>\n      <th>price</th>\n      <th>AGR</th>\n      <th>Total Score</th>\n      <th>Euro per score</th>\n    </tr>\n  </thead>\n  <tbody>\n    <tr>\n      <th>5434</th>\n      <td>VW Golf 1.4 eHybrid Style DSG (ab 08/20)</td>\n      <td>VW</td>\n      <td>Golf (VIII) (ab 12/19)</td>\n      <td>150</td>\n      <td>36770.00</td>\n      <td>439.00</td>\n      <td>1097.22</td>\n      <td>2.000000</td>\n      <td>1.038462</td>\n      <td>0.0</td>\n      <td>...</td>\n      <td>9.57</td>\n      <td>3.29</td>\n      <td>2.31</td>\n      <td>1.22</td>\n      <td>6.45</td>\n      <td>23.37</td>\n      <td>26.23</td>\n      <td>4.0</td>\n      <td>284.492553</td>\n      <td>129.247671</td>\n    </tr>\n    <tr>\n      <th>5436</th>\n      <td>VW Golf GTE DSG (ab 08/20)</td>\n      <td>VW</td>\n      <td>Golf (VIII) GTE (ab 08/20)</td>\n      <td>180</td>\n      <td>37505.00</td>\n      <td>469.00</td>\n      <td>897.73</td>\n      <td>2.000000</td>\n      <td>3.000000</td>\n      <td>0.0</td>\n      <td>...</td>\n      <td>9.57</td>\n      <td>4.27</td>\n      <td>2.98</td>\n      <td>1.22</td>\n      <td>6.42</td>\n      <td>20.76</td>\n      <td>25.10</td>\n      <td>4.0</td>\n      <td>282.814091</td>\n      <td>132.613618</td>\n    </tr>\n    <tr>\n      <th>1839</th>\n      <td>VW Golf 1.0 eTSI Life DSG (ab 08/20)</td>\n      <td>VW</td>\n      <td>Golf (VIII) (ab 12/19)</td>\n      <td>81</td>\n      <td>30945.00</td>\n      <td>427.00</td>\n      <td>865.38</td>\n      <td>2.000000</td>\n      <td>1.038462</td>\n      <td>0.0</td>\n      <td>...</td>\n      <td>11.02</td>\n      <td>0.98</td>\n      <td>3.56</td>\n      <td>1.22</td>\n      <td>7.34</td>\n      <td>24.42</td>\n      <td>35.18</td>\n      <td>4.0</td>\n      <td>274.965886</td>\n      <td>112.541234</td>\n    </tr>\n    <tr>\n      <th>1844</th>\n      <td>VW Golf 1.5 eTSI Life DSG (ab 12/20)</td>\n      <td>VW</td>\n      <td>Golf (VIII) (ab 12/19)</td>\n      <td>96</td>\n      <td>32735.00</td>\n      <td>441.00</td>\n      <td>818.18</td>\n      <td>2.000000</td>\n      <td>1.038462</td>\n      <td>0.0</td>\n      <td>...</td>\n      <td>10.40</td>\n      <td>1.10</td>\n      <td>4.04</td>\n      <td>1.40</td>\n      <td>7.07</td>\n      <td>23.20</td>\n      <td>32.43</td>\n      <td>4.0</td>\n      <td>274.295886</td>\n      <td>119.341928</td>\n    </tr>\n    <tr>\n      <th>1849</th>\n      <td>VW Golf Variant 1.0 eTSI Life DSG (ab 11/20)</td>\n      <td>VW</td>\n      <td>Golf (VIII) Variant (ab 11/20)</td>\n      <td>81</td>\n      <td>32055.00</td>\n      <td>432.00</td>\n      <td>849.06</td>\n      <td>2.000000</td>\n      <td>1.038462</td>\n      <td>0.0</td>\n      <td>...</td>\n      <td>11.02</td>\n      <td>0.98</td>\n      <td>3.75</td>\n      <td>1.31</td>\n      <td>7.18</td>\n      <td>23.98</td>\n      <td>33.47</td>\n      <td>4.0</td>\n      <td>270.925886</td>\n      <td>118.316490</td>\n    </tr>\n    <tr>\n      <th>...</th>\n      <td>...</td>\n      <td>...</td>\n      <td>...</td>\n      <td>...</td>\n      <td>...</td>\n      <td>...</td>\n      <td>...</td>\n      <td>...</td>\n      <td>...</td>\n      <td>...</td>\n      <td>...</td>\n      <td>...</td>\n      <td>...</td>\n      <td>...</td>\n      <td>...</td>\n      <td>...</td>\n      <td>...</td>\n      <td>...</td>\n      <td>...</td>\n      <td>...</td>\n      <td>...</td>\n    </tr>\n    <tr>\n      <th>1789</th>\n      <td>Subaru Impreza 1.6i Exclusive Lineartronic (ab...</td>\n      <td>Subaru</td>\n      <td>Impreza (V) (ab 06/20)</td>\n      <td>84</td>\n      <td>28560.00</td>\n      <td>571.00</td>\n      <td>632.91</td>\n      <td>2.000000</td>\n      <td>3.000000</td>\n      <td>4.0</td>\n      <td>...</td>\n      <td>8.72</td>\n      <td>2.56</td>\n      <td>7.88</td>\n      <td>3.68</td>\n      <td>8.02</td>\n      <td>11.86</td>\n      <td>38.84</td>\n      <td>0.0</td>\n      <td>220.782540</td>\n      <td>129.358055</td>\n    </tr>\n    <tr>\n      <th>1313</th>\n      <td>KIA XCeed 1.5 T-GDI Vision DCT7 (ab 03/21)</td>\n      <td>KIA</td>\n      <td>XCeed (CD) (ab 09/19)</td>\n      <td>118</td>\n      <td>29235.00</td>\n      <td>413.67</td>\n      <td>806.45</td>\n      <td>2.000000</td>\n      <td>2.884615</td>\n      <td>0.0</td>\n      <td>...</td>\n      <td>10.40</td>\n      <td>2.97</td>\n      <td>1.54</td>\n      <td>0.88</td>\n      <td>7.41</td>\n      <td>25.58</td>\n      <td>37.81</td>\n      <td>0.0</td>\n      <td>220.245568</td>\n      <td>132.738199</td>\n    </tr>\n    <tr>\n      <th>1800</th>\n      <td>Toyota Corolla 1.8 Hybrid Comfort (ab 09/20)</td>\n      <td>Toyota</td>\n      <td>Corolla (E21) (ab 04/19)</td>\n      <td>90</td>\n      <td>29560.00</td>\n      <td>403.00</td>\n      <td>955.56</td>\n      <td>2.000000</td>\n      <td>1.500000</td>\n      <td>0.0</td>\n      <td>...</td>\n      <td>8.09</td>\n      <td>0.00</td>\n      <td>2.31</td>\n      <td>2.80</td>\n      <td>7.56</td>\n      <td>26.51</td>\n      <td>37.31</td>\n      <td>0.0</td>\n      <td>218.841270</td>\n      <td>135.075071</td>\n    </tr>\n    <tr>\n      <th>1286</th>\n      <td>KIA Ceed 1.6 CRDi 48V Vision DCT7 (ab 03/21)</td>\n      <td>KIA</td>\n      <td>Ceed (CD) (ab 06/18)</td>\n      <td>100</td>\n      <td>28794.96</td>\n      <td>442.42</td>\n      <td>1086.96</td>\n      <td>1.333333</td>\n      <td>2.884615</td>\n      <td>0.0</td>\n      <td>...</td>\n      <td>10.30</td>\n      <td>2.66</td>\n      <td>2.58</td>\n      <td>1.93</td>\n      <td>7.70</td>\n      <td>23.07</td>\n      <td>38.48</td>\n      <td>0.0</td>\n      <td>218.675568</td>\n      <td>131.678908</td>\n    </tr>\n    <tr>\n      <th>1220</th>\n      <td>Honda Civic 1.0 Turbo Elegance CVT (ab 12/19)</td>\n      <td>Honda</td>\n      <td>Civic (X) (ab 03/17)</td>\n      <td>93</td>\n      <td>29010.00</td>\n      <td>507.00</td>\n      <td>723.08</td>\n      <td>2.000000</td>\n      <td>3.000000</td>\n      <td>4.0</td>\n      <td>...</td>\n      <td>8.09</td>\n      <td>1.95</td>\n      <td>5.67</td>\n      <td>2.98</td>\n      <td>7.51</td>\n      <td>17.44</td>\n      <td>38.15</td>\n      <td>0.0</td>\n      <td>216.198413</td>\n      <td>134.182299</td>\n    </tr>\n  </tbody>\n</table>\n<p>119 rows × 61 columns</p>\n</div>"
     },
     "metadata": {},
     "execution_count": 13
    }
   ],
   "source": [
    "d = df[(df[Column.TOTAL_SCORE] > impreza_total_score) & (df[Column.EURO_PER_SCORE] < impreza_euro_per_score) & (df[Column.MY_M_COSTS] < impreza_costs)]\n",
    "d.to_csv('/tmp/best_car.csv')\n",
    "d"
   ]
  },
  {
   "cell_type": "code",
   "execution_count": null,
   "metadata": {},
   "outputs": [],
   "source": []
  }
 ],
 "metadata": {
  "language_info": {
   "codemirror_mode": {
    "name": "ipython",
    "version": 3
   },
   "file_extension": ".py",
   "mimetype": "text/x-python",
   "name": "python",
   "nbconvert_exporter": "python",
   "pygments_lexer": "ipython3",
   "version": "3.8.5-final"
  },
  "orig_nbformat": 2,
  "kernelspec": {
   "name": "python38564bitvenv4151e26ba44d41128a19ed1edac5de64",
   "display_name": "Python 3.8.5 64-bit ('.venv')"
  },
  "metadata": {
   "interpreter": {
    "hash": "cee5e51e07f067525111a4a8daee22eb902da2fc83df62795d61abd47aae3cb1"
   }
  }
 },
 "nbformat": 4,
 "nbformat_minor": 2
}