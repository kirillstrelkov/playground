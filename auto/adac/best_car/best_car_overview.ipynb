{
 "cells": [
  {
   "cell_type": "markdown",
   "metadata": {},
   "source": [
    "# Finding best car\n",
    "## Show top cars with least monthly costs"
   ]
  },
  {
   "cell_type": "code",
   "execution_count": 1,
   "metadata": {
    "tags": []
   },
   "outputs": [
    {
     "output_type": "execute_result",
     "data": {
      "text/plain": [
       "     Marke                                Baureihe  Leistung maximal in kW  \\\n",
       "292   MINI  MINI (F56) Electric 3-Türer (ab 03/20)                     135   \n",
       "559     VW                         ID.3 (ab 09/20)                     150   \n",
       "409   Opel                  Corsa-e (F) (ab 03/20)                     100   \n",
       "499  Skoda           Octavia (IV) Combi (ab 04/20)                      96   \n",
       "485  Skoda            Fabia (III) Combi (ab 08/18)                      70   \n",
       "\n",
       "     Total price  my monthly costs  \n",
       "292      30897.0             367.0  \n",
       "559      36170.0             369.0  \n",
       "409      23802.0             380.0  \n",
       "499      37338.0             384.0  \n",
       "485      22535.0             386.0  "
      ],
      "text/html": "<div>\n<style scoped>\n    .dataframe tbody tr th:only-of-type {\n        vertical-align: middle;\n    }\n\n    .dataframe tbody tr th {\n        vertical-align: top;\n    }\n\n    .dataframe thead th {\n        text-align: right;\n    }\n</style>\n<table border=\"1\" class=\"dataframe\">\n  <thead>\n    <tr style=\"text-align: right;\">\n      <th></th>\n      <th>Marke</th>\n      <th>Baureihe</th>\n      <th>Leistung maximal in kW</th>\n      <th>Total price</th>\n      <th>my monthly costs</th>\n    </tr>\n  </thead>\n  <tbody>\n    <tr>\n      <th>292</th>\n      <td>MINI</td>\n      <td>MINI (F56) Electric 3-Türer (ab 03/20)</td>\n      <td>135</td>\n      <td>30897.0</td>\n      <td>367.0</td>\n    </tr>\n    <tr>\n      <th>559</th>\n      <td>VW</td>\n      <td>ID.3 (ab 09/20)</td>\n      <td>150</td>\n      <td>36170.0</td>\n      <td>369.0</td>\n    </tr>\n    <tr>\n      <th>409</th>\n      <td>Opel</td>\n      <td>Corsa-e (F) (ab 03/20)</td>\n      <td>100</td>\n      <td>23802.0</td>\n      <td>380.0</td>\n    </tr>\n    <tr>\n      <th>499</th>\n      <td>Skoda</td>\n      <td>Octavia (IV) Combi (ab 04/20)</td>\n      <td>96</td>\n      <td>37338.0</td>\n      <td>384.0</td>\n    </tr>\n    <tr>\n      <th>485</th>\n      <td>Skoda</td>\n      <td>Fabia (III) Combi (ab 08/18)</td>\n      <td>70</td>\n      <td>22535.0</td>\n      <td>386.0</td>\n    </tr>\n  </tbody>\n</table>\n</div>"
     },
     "metadata": {},
     "execution_count": 1
    }
   ],
   "source": [
    "from find_best_car import (\n",
    "    _get_df_with_cost_to_own, \n",
    "    Column, \n",
    "    get_scored_df\n",
    ")\n",
    "import pandas as pd\n",
    "from numpy import nan\n",
    "\n",
    "import seaborn as sns\n",
    "\n",
    "def coloraze(df, axis=1):\n",
    "    cm = sns.light_palette(\"seagreen\", as_cmap=True)\n",
    "    return df.style.background_gradient(cmap=cm, axis=axis)\n",
    "\n",
    "GROUP_COLS_MARK_SERIE_KW = [Column.MARK, Column.SERIE, Column.PERFORMANCE_KW]\n",
    "\n",
    "df = _get_df_with_cost_to_own(de_discount=True)\n",
    "\n",
    "g = df.groupby(GROUP_COLS_MARK_SERIE_KW, as_index=False)\n",
    "costs_mean = g[[Column.TOTAL_PRICE, Column.MY_M_COSTS]].mean()\n",
    "costs_mean.sort_values(Column.MY_M_COSTS).head(5).round(0)"
   ]
  },
  {
   "cell_type": "markdown",
   "metadata": {},
   "source": [
    "## Cars with lowest monthly costs"
   ]
  },
  {
   "cell_type": "code",
   "execution_count": 2,
   "metadata": {},
   "outputs": [
    {
     "output_type": "execute_result",
     "data": {
      "text/plain": [
       "       Marke                                Baureihe  Leistung maximal in kW  \\\n",
       "292     MINI  MINI (F56) Electric 3-Türer (ab 03/20)                     135   \n",
       "559       VW                         ID.3 (ab 09/20)                     150   \n",
       "409     Opel                  Corsa-e (F) (ab 03/20)                     100   \n",
       "499    Skoda           Octavia (IV) Combi (ab 04/20)                      96   \n",
       "485    Skoda            Fabia (III) Combi (ab 08/18)                      70   \n",
       "200  Hyundai           IONIQ (AE) Elektro (ab 09/19)                     100   \n",
       "551       VW                  Golf (VIII) (ab 12/19)                      96   \n",
       "446  Peugeot                   e-208 (II) (ab 01/20)                     100   \n",
       "503    Skoda       Octavia (IV) Limousine (ab 04/20)                      96   \n",
       "484    Skoda                  Fabia (III) (ab 08/18)                      70   \n",
       "\n",
       "     Total price  my monthly costs  \n",
       "292      30897.0             367.0  \n",
       "559      36170.0             369.0  \n",
       "409      23802.0             380.0  \n",
       "499      37338.0             384.0  \n",
       "485      22535.0             386.0  \n",
       "200      31678.0             387.0  \n",
       "551      33554.0             388.0  \n",
       "446      25326.0             388.0  \n",
       "503      36655.0             389.0  \n",
       "484      21681.0             390.0  "
      ],
      "text/html": "<div>\n<style scoped>\n    .dataframe tbody tr th:only-of-type {\n        vertical-align: middle;\n    }\n\n    .dataframe tbody tr th {\n        vertical-align: top;\n    }\n\n    .dataframe thead th {\n        text-align: right;\n    }\n</style>\n<table border=\"1\" class=\"dataframe\">\n  <thead>\n    <tr style=\"text-align: right;\">\n      <th></th>\n      <th>Marke</th>\n      <th>Baureihe</th>\n      <th>Leistung maximal in kW</th>\n      <th>Total price</th>\n      <th>my monthly costs</th>\n    </tr>\n  </thead>\n  <tbody>\n    <tr>\n      <th>292</th>\n      <td>MINI</td>\n      <td>MINI (F56) Electric 3-Türer (ab 03/20)</td>\n      <td>135</td>\n      <td>30897.0</td>\n      <td>367.0</td>\n    </tr>\n    <tr>\n      <th>559</th>\n      <td>VW</td>\n      <td>ID.3 (ab 09/20)</td>\n      <td>150</td>\n      <td>36170.0</td>\n      <td>369.0</td>\n    </tr>\n    <tr>\n      <th>409</th>\n      <td>Opel</td>\n      <td>Corsa-e (F) (ab 03/20)</td>\n      <td>100</td>\n      <td>23802.0</td>\n      <td>380.0</td>\n    </tr>\n    <tr>\n      <th>499</th>\n      <td>Skoda</td>\n      <td>Octavia (IV) Combi (ab 04/20)</td>\n      <td>96</td>\n      <td>37338.0</td>\n      <td>384.0</td>\n    </tr>\n    <tr>\n      <th>485</th>\n      <td>Skoda</td>\n      <td>Fabia (III) Combi (ab 08/18)</td>\n      <td>70</td>\n      <td>22535.0</td>\n      <td>386.0</td>\n    </tr>\n    <tr>\n      <th>200</th>\n      <td>Hyundai</td>\n      <td>IONIQ (AE) Elektro (ab 09/19)</td>\n      <td>100</td>\n      <td>31678.0</td>\n      <td>387.0</td>\n    </tr>\n    <tr>\n      <th>551</th>\n      <td>VW</td>\n      <td>Golf (VIII) (ab 12/19)</td>\n      <td>96</td>\n      <td>33554.0</td>\n      <td>388.0</td>\n    </tr>\n    <tr>\n      <th>446</th>\n      <td>Peugeot</td>\n      <td>e-208 (II) (ab 01/20)</td>\n      <td>100</td>\n      <td>25326.0</td>\n      <td>388.0</td>\n    </tr>\n    <tr>\n      <th>503</th>\n      <td>Skoda</td>\n      <td>Octavia (IV) Limousine (ab 04/20)</td>\n      <td>96</td>\n      <td>36655.0</td>\n      <td>389.0</td>\n    </tr>\n    <tr>\n      <th>484</th>\n      <td>Skoda</td>\n      <td>Fabia (III) (ab 08/18)</td>\n      <td>70</td>\n      <td>21681.0</td>\n      <td>390.0</td>\n    </tr>\n  </tbody>\n</table>\n</div>"
     },
     "metadata": {},
     "execution_count": 2
    }
   ],
   "source": [
    "costs_mean.sort_values(Column.MY_M_COSTS).round(0).head(10)"
   ]
  },
  {
   "cell_type": "markdown",
   "metadata": {},
   "source": [
    "## Find missing data in input excel"
   ]
  },
  {
   "cell_type": "code",
   "execution_count": 3,
   "metadata": {
    "tags": []
   },
   "outputs": [],
   "source": [
    "\n",
    "df = get_scored_df(de_discount=True)\n",
    "\n",
    "for col in df.columns:\n",
    "    uniq_vals = df[col]\n",
    "    if uniq_vals.isnull().values.any():\n",
    "        print(f\"Bad column: {col}\")\n"
   ]
  },
  {
   "cell_type": "code",
   "execution_count": 4,
   "metadata": {
    "tags": []
   },
   "outputs": [
    {
     "output_type": "execute_result",
     "data": {
      "text/plain": [
       "     Marke                             Baureihe\n",
       "1198  Audi         A1 (GB) Sportback (ab 11/18)\n",
       "1203  Audi        A1 (GB) citycarver (ab 09/19)\n",
       "2161  Audi         A3 (8Y) Limousine (ab 06/20)\n",
       "3174  Audi         A3 (8Y) Sportback (ab 05/20)\n",
       "2156  Audi  A3 (8Y) Sportback g-tron (ab 10/20)\n",
       "...    ...                                  ...\n",
       "3146    VW                     T-Roc (ab 11/17)\n",
       "3153    VW           T-Roc Cabriolet (ab 03/20)\n",
       "5695    VW                   T-Roc R (ab 09/19)\n",
       "3137    VW               Tiguan (II) (ab 09/20)\n",
       "6608    VW      Tiguan (II) Allspace (ab 09/17)\n",
       "\n",
       "[77 rows x 2 columns]"
      ],
      "text/html": "<div>\n<style scoped>\n    .dataframe tbody tr th:only-of-type {\n        vertical-align: middle;\n    }\n\n    .dataframe tbody tr th {\n        vertical-align: top;\n    }\n\n    .dataframe thead th {\n        text-align: right;\n    }\n</style>\n<table border=\"1\" class=\"dataframe\">\n  <thead>\n    <tr style=\"text-align: right;\">\n      <th></th>\n      <th>Marke</th>\n      <th>Baureihe</th>\n    </tr>\n  </thead>\n  <tbody>\n    <tr>\n      <th>1198</th>\n      <td>Audi</td>\n      <td>A1 (GB) Sportback (ab 11/18)</td>\n    </tr>\n    <tr>\n      <th>1203</th>\n      <td>Audi</td>\n      <td>A1 (GB) citycarver (ab 09/19)</td>\n    </tr>\n    <tr>\n      <th>2161</th>\n      <td>Audi</td>\n      <td>A3 (8Y) Limousine (ab 06/20)</td>\n    </tr>\n    <tr>\n      <th>3174</th>\n      <td>Audi</td>\n      <td>A3 (8Y) Sportback (ab 05/20)</td>\n    </tr>\n    <tr>\n      <th>2156</th>\n      <td>Audi</td>\n      <td>A3 (8Y) Sportback g-tron (ab 10/20)</td>\n    </tr>\n    <tr>\n      <th>...</th>\n      <td>...</td>\n      <td>...</td>\n    </tr>\n    <tr>\n      <th>3146</th>\n      <td>VW</td>\n      <td>T-Roc (ab 11/17)</td>\n    </tr>\n    <tr>\n      <th>3153</th>\n      <td>VW</td>\n      <td>T-Roc Cabriolet (ab 03/20)</td>\n    </tr>\n    <tr>\n      <th>5695</th>\n      <td>VW</td>\n      <td>T-Roc R (ab 09/19)</td>\n    </tr>\n    <tr>\n      <th>3137</th>\n      <td>VW</td>\n      <td>Tiguan (II) (ab 09/20)</td>\n    </tr>\n    <tr>\n      <th>6608</th>\n      <td>VW</td>\n      <td>Tiguan (II) Allspace (ab 09/17)</td>\n    </tr>\n  </tbody>\n</table>\n<p>77 rows × 2 columns</p>\n</div>"
     },
     "metadata": {},
     "execution_count": 4
    }
   ],
   "source": [
    "cols = ['Marke', 'Baureihe']\n",
    "df[cols].drop_duplicates(subset=cols).sort_values(cols)"
   ]
  },
  {
   "cell_type": "markdown",
   "metadata": {},
   "source": [
    "# Most suitable cars"
   ]
  },
  {
   "cell_type": "code",
   "execution_count": 5,
   "metadata": {},
   "outputs": [
    {
     "output_type": "execute_result",
     "data": {
      "text/plain": [
       "                                          name  my monthly costs  Total Score\n",
       "4406  VW Golf 1.4 eHybrid Style DSG (ab 08/20)             436.0   282.422222\n",
       "3105     VW Golf 1.5 eTSI Style DSG (ab 09/20)             439.0   275.842222\n",
       "3106    VW Golf 1.5 eTSI UNITED DSG (ab 09/20)             423.0   275.555556\n",
       "2091        VW Golf 1.0 eTSI UNITED (ab 08/20)             405.0   275.325556\n",
       "5663                VW Golf GTE DSG (ab 08/20)             480.0   274.452222\n",
       "3107    VW Golf 1.5 eTSI R-Line DSG (ab 09/20)             441.0   273.705556\n",
       "2099      VW Golf 1.5 eTSI Life DSG (ab 09/20)             423.0   273.625556\n",
       "2090          VW Golf 1.0 eTSI Life (ab 08/20)             405.0   273.395556\n",
       "2102  VW Golf Variant 1.0 eTSI Life (ab 11/20)             409.0   272.515556\n",
       "3110  VW Golf 2.0 TDI SCR Style DSG (ab 09/20)             471.0   268.262222"
      ],
      "text/html": "<div>\n<style scoped>\n    .dataframe tbody tr th:only-of-type {\n        vertical-align: middle;\n    }\n\n    .dataframe tbody tr th {\n        vertical-align: top;\n    }\n\n    .dataframe thead th {\n        text-align: right;\n    }\n</style>\n<table border=\"1\" class=\"dataframe\">\n  <thead>\n    <tr style=\"text-align: right;\">\n      <th></th>\n      <th>name</th>\n      <th>my monthly costs</th>\n      <th>Total Score</th>\n    </tr>\n  </thead>\n  <tbody>\n    <tr>\n      <th>4406</th>\n      <td>VW Golf 1.4 eHybrid Style DSG (ab 08/20)</td>\n      <td>436.0</td>\n      <td>282.422222</td>\n    </tr>\n    <tr>\n      <th>3105</th>\n      <td>VW Golf 1.5 eTSI Style DSG (ab 09/20)</td>\n      <td>439.0</td>\n      <td>275.842222</td>\n    </tr>\n    <tr>\n      <th>3106</th>\n      <td>VW Golf 1.5 eTSI UNITED DSG (ab 09/20)</td>\n      <td>423.0</td>\n      <td>275.555556</td>\n    </tr>\n    <tr>\n      <th>2091</th>\n      <td>VW Golf 1.0 eTSI UNITED (ab 08/20)</td>\n      <td>405.0</td>\n      <td>275.325556</td>\n    </tr>\n    <tr>\n      <th>5663</th>\n      <td>VW Golf GTE DSG (ab 08/20)</td>\n      <td>480.0</td>\n      <td>274.452222</td>\n    </tr>\n    <tr>\n      <th>3107</th>\n      <td>VW Golf 1.5 eTSI R-Line DSG (ab 09/20)</td>\n      <td>441.0</td>\n      <td>273.705556</td>\n    </tr>\n    <tr>\n      <th>2099</th>\n      <td>VW Golf 1.5 eTSI Life DSG (ab 09/20)</td>\n      <td>423.0</td>\n      <td>273.625556</td>\n    </tr>\n    <tr>\n      <th>2090</th>\n      <td>VW Golf 1.0 eTSI Life (ab 08/20)</td>\n      <td>405.0</td>\n      <td>273.395556</td>\n    </tr>\n    <tr>\n      <th>2102</th>\n      <td>VW Golf Variant 1.0 eTSI Life (ab 11/20)</td>\n      <td>409.0</td>\n      <td>272.515556</td>\n    </tr>\n    <tr>\n      <th>3110</th>\n      <td>VW Golf 2.0 TDI SCR Style DSG (ab 09/20)</td>\n      <td>471.0</td>\n      <td>268.262222</td>\n    </tr>\n  </tbody>\n</table>\n</div>"
     },
     "metadata": {},
     "execution_count": 5
    }
   ],
   "source": [
    "top = df.filter([Column.NAME, Column.MY_M_COSTS, Column.TOTAL_SCORE])\n",
    "df.to_excel('/tmp/1.xlsx')\n",
    "top.head(10)"
   ]
  },
  {
   "cell_type": "markdown",
   "metadata": {},
   "source": [
    "## Most suitable car sorted by euro per 1 score point"
   ]
  },
  {
   "cell_type": "code",
   "execution_count": 6,
   "metadata": {},
   "outputs": [
    {
     "output_type": "execute_result",
     "data": {
      "text/plain": [
       "                                                   name  Total price  \\\n",
       "947      Renault Clio TCe 90 Intens X-tronic (ab 08/20)      20763.0   \n",
       "948      Renault Clio TCe 130 GPF Intens EDC (ab 09/19)      21835.0   \n",
       "2777                   Opel Corsa-e Elegance (ab 05/20)      23411.0   \n",
       "868   Opel Corsa 1.2 DI Turbo Elegance Automatik (ab...      22523.0   \n",
       "951           Renault Clio E-Tech 140 Intens (ab 07/20)      24370.0   \n",
       "870   Opel Corsa 1.2 DI Turbo GS Line Automatik (ab ...      22893.0   \n",
       "2778                    Opel Corsa-e GS Line (ab 05/20)      24192.0   \n",
       "2090                   VW Golf 1.0 eTSI Life (ab 08/20)      29591.0   \n",
       "2829                    Peugeot e-208 Allure (ab 01/20)      23109.0   \n",
       "453       Audi A1 Sportback 25 TFSI S tronic (ab 09/20)      23965.0   \n",
       "\n",
       "      Total Score  Euro per score  \n",
       "947    220.774286       94.046279  \n",
       "948    224.420952       97.294837  \n",
       "2777   228.557143      102.429527  \n",
       "868    215.110000      104.704570  \n",
       "951    230.077619      105.920776  \n",
       "870    214.810000      106.573251  \n",
       "2778   226.537143      106.790435  \n",
       "2090   273.395556      108.235117  \n",
       "2829   211.902698      109.054770  \n",
       "453    215.699524      111.103630  "
      ],
      "text/html": "<div>\n<style scoped>\n    .dataframe tbody tr th:only-of-type {\n        vertical-align: middle;\n    }\n\n    .dataframe tbody tr th {\n        vertical-align: top;\n    }\n\n    .dataframe thead th {\n        text-align: right;\n    }\n</style>\n<table border=\"1\" class=\"dataframe\">\n  <thead>\n    <tr style=\"text-align: right;\">\n      <th></th>\n      <th>name</th>\n      <th>Total price</th>\n      <th>Total Score</th>\n      <th>Euro per score</th>\n    </tr>\n  </thead>\n  <tbody>\n    <tr>\n      <th>947</th>\n      <td>Renault Clio TCe 90 Intens X-tronic (ab 08/20)</td>\n      <td>20763.0</td>\n      <td>220.774286</td>\n      <td>94.046279</td>\n    </tr>\n    <tr>\n      <th>948</th>\n      <td>Renault Clio TCe 130 GPF Intens EDC (ab 09/19)</td>\n      <td>21835.0</td>\n      <td>224.420952</td>\n      <td>97.294837</td>\n    </tr>\n    <tr>\n      <th>2777</th>\n      <td>Opel Corsa-e Elegance (ab 05/20)</td>\n      <td>23411.0</td>\n      <td>228.557143</td>\n      <td>102.429527</td>\n    </tr>\n    <tr>\n      <th>868</th>\n      <td>Opel Corsa 1.2 DI Turbo Elegance Automatik (ab...</td>\n      <td>22523.0</td>\n      <td>215.110000</td>\n      <td>104.704570</td>\n    </tr>\n    <tr>\n      <th>951</th>\n      <td>Renault Clio E-Tech 140 Intens (ab 07/20)</td>\n      <td>24370.0</td>\n      <td>230.077619</td>\n      <td>105.920776</td>\n    </tr>\n    <tr>\n      <th>870</th>\n      <td>Opel Corsa 1.2 DI Turbo GS Line Automatik (ab ...</td>\n      <td>22893.0</td>\n      <td>214.810000</td>\n      <td>106.573251</td>\n    </tr>\n    <tr>\n      <th>2778</th>\n      <td>Opel Corsa-e GS Line (ab 05/20)</td>\n      <td>24192.0</td>\n      <td>226.537143</td>\n      <td>106.790435</td>\n    </tr>\n    <tr>\n      <th>2090</th>\n      <td>VW Golf 1.0 eTSI Life (ab 08/20)</td>\n      <td>29591.0</td>\n      <td>273.395556</td>\n      <td>108.235117</td>\n    </tr>\n    <tr>\n      <th>2829</th>\n      <td>Peugeot e-208 Allure (ab 01/20)</td>\n      <td>23109.0</td>\n      <td>211.902698</td>\n      <td>109.054770</td>\n    </tr>\n    <tr>\n      <th>453</th>\n      <td>Audi A1 Sportback 25 TFSI S tronic (ab 09/20)</td>\n      <td>23965.0</td>\n      <td>215.699524</td>\n      <td>111.103630</td>\n    </tr>\n  </tbody>\n</table>\n</div>"
     },
     "metadata": {},
     "execution_count": 6
    }
   ],
   "source": [
    "top = df.filter([Column.NAME, Column.TOTAL_PRICE, Column.TOTAL_SCORE, Column.EURO_PER_SCORE]).sort_values(Column.EURO_PER_SCORE)\n",
    "top.head(10)"
   ]
  },
  {
   "cell_type": "markdown",
   "metadata": {},
   "source": [
    "## Compare top cars"
   ]
  },
  {
   "cell_type": "code",
   "execution_count": 7,
   "metadata": {
    "tags": []
   },
   "outputs": [
    {
     "output_type": "execute_result",
     "data": {
      "text/plain": [
       "<pandas.io.formats.style.Styler at 0x7f4b4d75ee50>"
      ],
      "text/html": "<style  type=\"text/css\" >\n    #T_53109d7a_114f_11eb_96ee_38b1db6a60a7row0_col3 {\n            background-color:  #2e8b57;\n            color:  #000000;\n        }    #T_53109d7a_114f_11eb_96ee_38b1db6a60a7row0_col4 {\n            background-color:  #2e8b57;\n            color:  #000000;\n        }    #T_53109d7a_114f_11eb_96ee_38b1db6a60a7row0_col5 {\n            background-color:  #519f73;\n            color:  #000000;\n        }    #T_53109d7a_114f_11eb_96ee_38b1db6a60a7row0_col6 {\n            background-color:  #ecf9f1;\n            color:  #000000;\n        }    #T_53109d7a_114f_11eb_96ee_38b1db6a60a7row0_col7 {\n            background-color:  #ecf9f1;\n            color:  #000000;\n        }    #T_53109d7a_114f_11eb_96ee_38b1db6a60a7row0_col8 {\n            background-color:  #2e8b57;\n            color:  #000000;\n        }    #T_53109d7a_114f_11eb_96ee_38b1db6a60a7row0_col9 {\n            background-color:  #ecf9f1;\n            color:  #000000;\n        }    #T_53109d7a_114f_11eb_96ee_38b1db6a60a7row0_col10 {\n            background-color:  #ecf9f1;\n            color:  #000000;\n        }    #T_53109d7a_114f_11eb_96ee_38b1db6a60a7row0_col11 {\n            background-color:  #ecf9f1;\n            color:  #000000;\n        }    #T_53109d7a_114f_11eb_96ee_38b1db6a60a7row0_col12 {\n            background-color:  #ecf9f1;\n            color:  #000000;\n        }    #T_53109d7a_114f_11eb_96ee_38b1db6a60a7row0_col13 {\n            background-color:  #ecf9f1;\n            color:  #000000;\n        }    #T_53109d7a_114f_11eb_96ee_38b1db6a60a7row0_col14 {\n            background-color:  #ecf9f1;\n            color:  #000000;\n        }    #T_53109d7a_114f_11eb_96ee_38b1db6a60a7row0_col15 {\n            background-color:  #ecf9f1;\n            color:  #000000;\n        }    #T_53109d7a_114f_11eb_96ee_38b1db6a60a7row0_col16 {\n            background-color:  #ecf9f1;\n            color:  #000000;\n        }    #T_53109d7a_114f_11eb_96ee_38b1db6a60a7row0_col17 {\n            background-color:  #ecf9f1;\n            color:  #000000;\n        }    #T_53109d7a_114f_11eb_96ee_38b1db6a60a7row0_col18 {\n            background-color:  #2e8b57;\n            color:  #000000;\n        }    #T_53109d7a_114f_11eb_96ee_38b1db6a60a7row0_col19 {\n            background-color:  #ecf9f1;\n            color:  #000000;\n        }    #T_53109d7a_114f_11eb_96ee_38b1db6a60a7row0_col20 {\n            background-color:  #ecf9f1;\n            color:  #000000;\n        }    #T_53109d7a_114f_11eb_96ee_38b1db6a60a7row0_col21 {\n            background-color:  #ecf9f1;\n            color:  #000000;\n        }    #T_53109d7a_114f_11eb_96ee_38b1db6a60a7row0_col22 {\n            background-color:  #2e8b57;\n            color:  #000000;\n        }    #T_53109d7a_114f_11eb_96ee_38b1db6a60a7row0_col23 {\n            background-color:  #ecf9f1;\n            color:  #000000;\n        }    #T_53109d7a_114f_11eb_96ee_38b1db6a60a7row0_col24 {\n            background-color:  #ecf9f1;\n            color:  #000000;\n        }    #T_53109d7a_114f_11eb_96ee_38b1db6a60a7row0_col25 {\n            background-color:  #2e8b57;\n            color:  #000000;\n        }    #T_53109d7a_114f_11eb_96ee_38b1db6a60a7row0_col26 {\n            background-color:  #2e8b57;\n            color:  #000000;\n        }    #T_53109d7a_114f_11eb_96ee_38b1db6a60a7row0_col27 {\n            background-color:  #ecf9f1;\n            color:  #000000;\n        }    #T_53109d7a_114f_11eb_96ee_38b1db6a60a7row0_col28 {\n            background-color:  #ecf9f1;\n            color:  #000000;\n        }    #T_53109d7a_114f_11eb_96ee_38b1db6a60a7row0_col29 {\n            background-color:  #2e8b57;\n            color:  #000000;\n        }    #T_53109d7a_114f_11eb_96ee_38b1db6a60a7row0_col30 {\n            background-color:  #ecf9f1;\n            color:  #000000;\n        }    #T_53109d7a_114f_11eb_96ee_38b1db6a60a7row0_col31 {\n            background-color:  #ecf9f1;\n            color:  #000000;\n        }    #T_53109d7a_114f_11eb_96ee_38b1db6a60a7row0_col32 {\n            background-color:  #ecf9f1;\n            color:  #000000;\n        }    #T_53109d7a_114f_11eb_96ee_38b1db6a60a7row0_col33 {\n            background-color:  #ecf9f1;\n            color:  #000000;\n        }    #T_53109d7a_114f_11eb_96ee_38b1db6a60a7row0_col34 {\n            background-color:  #ecf9f1;\n            color:  #000000;\n        }    #T_53109d7a_114f_11eb_96ee_38b1db6a60a7row0_col35 {\n            background-color:  #ecf9f1;\n            color:  #000000;\n        }    #T_53109d7a_114f_11eb_96ee_38b1db6a60a7row0_col36 {\n            background-color:  #ecf9f1;\n            color:  #000000;\n        }    #T_53109d7a_114f_11eb_96ee_38b1db6a60a7row0_col37 {\n            background-color:  #ecf9f1;\n            color:  #000000;\n        }    #T_53109d7a_114f_11eb_96ee_38b1db6a60a7row0_col38 {\n            background-color:  #ecf9f1;\n            color:  #000000;\n        }    #T_53109d7a_114f_11eb_96ee_38b1db6a60a7row0_col39 {\n            background-color:  #ecf9f1;\n            color:  #000000;\n        }    #T_53109d7a_114f_11eb_96ee_38b1db6a60a7row0_col40 {\n            background-color:  #ecf9f1;\n            color:  #000000;\n        }    #T_53109d7a_114f_11eb_96ee_38b1db6a60a7row0_col41 {\n            background-color:  #ecf9f1;\n            color:  #000000;\n        }    #T_53109d7a_114f_11eb_96ee_38b1db6a60a7row0_col42 {\n            background-color:  #ecf9f1;\n            color:  #000000;\n        }    #T_53109d7a_114f_11eb_96ee_38b1db6a60a7row0_col43 {\n            background-color:  #ecf9f1;\n            color:  #000000;\n        }    #T_53109d7a_114f_11eb_96ee_38b1db6a60a7row0_col44 {\n            background-color:  #ecf9f1;\n            color:  #000000;\n        }    #T_53109d7a_114f_11eb_96ee_38b1db6a60a7row0_col45 {\n            background-color:  #ecf9f1;\n            color:  #000000;\n        }    #T_53109d7a_114f_11eb_96ee_38b1db6a60a7row0_col46 {\n            background-color:  #ecf9f1;\n            color:  #000000;\n        }    #T_53109d7a_114f_11eb_96ee_38b1db6a60a7row0_col47 {\n            background-color:  #c8e4d4;\n            color:  #000000;\n        }    #T_53109d7a_114f_11eb_96ee_38b1db6a60a7row0_col48 {\n            background-color:  #ecf9f1;\n            color:  #000000;\n        }    #T_53109d7a_114f_11eb_96ee_38b1db6a60a7row0_col49 {\n            background-color:  #ecf9f1;\n            color:  #000000;\n        }    #T_53109d7a_114f_11eb_96ee_38b1db6a60a7row0_col50 {\n            background-color:  #ecf9f1;\n            color:  #000000;\n        }    #T_53109d7a_114f_11eb_96ee_38b1db6a60a7row0_col51 {\n            background-color:  #2e8b57;\n            color:  #000000;\n        }    #T_53109d7a_114f_11eb_96ee_38b1db6a60a7row0_col52 {\n            background-color:  #ecf9f1;\n            color:  #000000;\n        }    #T_53109d7a_114f_11eb_96ee_38b1db6a60a7row1_col3 {\n            background-color:  #ecf9f1;\n            color:  #000000;\n        }    #T_53109d7a_114f_11eb_96ee_38b1db6a60a7row1_col4 {\n            background-color:  #6caf89;\n            color:  #000000;\n        }    #T_53109d7a_114f_11eb_96ee_38b1db6a60a7row1_col5 {\n            background-color:  #2e8b57;\n            color:  #000000;\n        }    #T_53109d7a_114f_11eb_96ee_38b1db6a60a7row1_col6 {\n            background-color:  #ecf9f1;\n            color:  #000000;\n        }    #T_53109d7a_114f_11eb_96ee_38b1db6a60a7row1_col7 {\n            background-color:  #ecf9f1;\n            color:  #000000;\n        }    #T_53109d7a_114f_11eb_96ee_38b1db6a60a7row1_col8 {\n            background-color:  #2e8b57;\n            color:  #000000;\n        }    #T_53109d7a_114f_11eb_96ee_38b1db6a60a7row1_col9 {\n            background-color:  #ecf9f1;\n            color:  #000000;\n        }    #T_53109d7a_114f_11eb_96ee_38b1db6a60a7row1_col10 {\n            background-color:  #ecf9f1;\n            color:  #000000;\n        }    #T_53109d7a_114f_11eb_96ee_38b1db6a60a7row1_col11 {\n            background-color:  #ecf9f1;\n            color:  #000000;\n        }    #T_53109d7a_114f_11eb_96ee_38b1db6a60a7row1_col12 {\n            background-color:  #ecf9f1;\n            color:  #000000;\n        }    #T_53109d7a_114f_11eb_96ee_38b1db6a60a7row1_col13 {\n            background-color:  #ecf9f1;\n            color:  #000000;\n        }    #T_53109d7a_114f_11eb_96ee_38b1db6a60a7row1_col14 {\n            background-color:  #ecf9f1;\n            color:  #000000;\n        }    #T_53109d7a_114f_11eb_96ee_38b1db6a60a7row1_col15 {\n            background-color:  #ecf9f1;\n            color:  #000000;\n        }    #T_53109d7a_114f_11eb_96ee_38b1db6a60a7row1_col16 {\n            background-color:  #ecf9f1;\n            color:  #000000;\n        }    #T_53109d7a_114f_11eb_96ee_38b1db6a60a7row1_col17 {\n            background-color:  #ecf9f1;\n            color:  #000000;\n        }    #T_53109d7a_114f_11eb_96ee_38b1db6a60a7row1_col18 {\n            background-color:  #2e8b57;\n            color:  #000000;\n        }    #T_53109d7a_114f_11eb_96ee_38b1db6a60a7row1_col19 {\n            background-color:  #ecf9f1;\n            color:  #000000;\n        }    #T_53109d7a_114f_11eb_96ee_38b1db6a60a7row1_col20 {\n            background-color:  #ecf9f1;\n            color:  #000000;\n        }    #T_53109d7a_114f_11eb_96ee_38b1db6a60a7row1_col21 {\n            background-color:  #ecf9f1;\n            color:  #000000;\n        }    #T_53109d7a_114f_11eb_96ee_38b1db6a60a7row1_col22 {\n            background-color:  #ecf9f1;\n            color:  #000000;\n        }    #T_53109d7a_114f_11eb_96ee_38b1db6a60a7row1_col23 {\n            background-color:  #ecf9f1;\n            color:  #000000;\n        }    #T_53109d7a_114f_11eb_96ee_38b1db6a60a7row1_col24 {\n            background-color:  #ecf9f1;\n            color:  #000000;\n        }    #T_53109d7a_114f_11eb_96ee_38b1db6a60a7row1_col25 {\n            background-color:  #ecf9f1;\n            color:  #000000;\n        }    #T_53109d7a_114f_11eb_96ee_38b1db6a60a7row1_col26 {\n            background-color:  #ecf9f1;\n            color:  #000000;\n        }    #T_53109d7a_114f_11eb_96ee_38b1db6a60a7row1_col27 {\n            background-color:  #ecf9f1;\n            color:  #000000;\n        }    #T_53109d7a_114f_11eb_96ee_38b1db6a60a7row1_col28 {\n            background-color:  #2e8b57;\n            color:  #000000;\n        }    #T_53109d7a_114f_11eb_96ee_38b1db6a60a7row1_col29 {\n            background-color:  #ecf9f1;\n            color:  #000000;\n        }    #T_53109d7a_114f_11eb_96ee_38b1db6a60a7row1_col30 {\n            background-color:  #ecf9f1;\n            color:  #000000;\n        }    #T_53109d7a_114f_11eb_96ee_38b1db6a60a7row1_col31 {\n            background-color:  #ecf9f1;\n            color:  #000000;\n        }    #T_53109d7a_114f_11eb_96ee_38b1db6a60a7row1_col32 {\n            background-color:  #ecf9f1;\n            color:  #000000;\n        }    #T_53109d7a_114f_11eb_96ee_38b1db6a60a7row1_col33 {\n            background-color:  #ecf9f1;\n            color:  #000000;\n        }    #T_53109d7a_114f_11eb_96ee_38b1db6a60a7row1_col34 {\n            background-color:  #ecf9f1;\n            color:  #000000;\n        }    #T_53109d7a_114f_11eb_96ee_38b1db6a60a7row1_col35 {\n            background-color:  #ecf9f1;\n            color:  #000000;\n        }    #T_53109d7a_114f_11eb_96ee_38b1db6a60a7row1_col36 {\n            background-color:  #ecf9f1;\n            color:  #000000;\n        }    #T_53109d7a_114f_11eb_96ee_38b1db6a60a7row1_col37 {\n            background-color:  #ecf9f1;\n            color:  #000000;\n        }    #T_53109d7a_114f_11eb_96ee_38b1db6a60a7row1_col38 {\n            background-color:  #ecf9f1;\n            color:  #000000;\n        }    #T_53109d7a_114f_11eb_96ee_38b1db6a60a7row1_col39 {\n            background-color:  #ecf9f1;\n            color:  #000000;\n        }    #T_53109d7a_114f_11eb_96ee_38b1db6a60a7row1_col40 {\n            background-color:  #ecf9f1;\n            color:  #000000;\n        }    #T_53109d7a_114f_11eb_96ee_38b1db6a60a7row1_col41 {\n            background-color:  #2e8b57;\n            color:  #000000;\n        }    #T_53109d7a_114f_11eb_96ee_38b1db6a60a7row1_col42 {\n            background-color:  #ecf9f1;\n            color:  #000000;\n        }    #T_53109d7a_114f_11eb_96ee_38b1db6a60a7row1_col43 {\n            background-color:  #ecf9f1;\n            color:  #000000;\n        }    #T_53109d7a_114f_11eb_96ee_38b1db6a60a7row1_col44 {\n            background-color:  #ecf9f1;\n            color:  #000000;\n        }    #T_53109d7a_114f_11eb_96ee_38b1db6a60a7row1_col45 {\n            background-color:  #2e8b57;\n            color:  #000000;\n        }    #T_53109d7a_114f_11eb_96ee_38b1db6a60a7row1_col46 {\n            background-color:  #b0d6c0;\n            color:  #000000;\n        }    #T_53109d7a_114f_11eb_96ee_38b1db6a60a7row1_col47 {\n            background-color:  #ecf9f1;\n            color:  #000000;\n        }    #T_53109d7a_114f_11eb_96ee_38b1db6a60a7row1_col48 {\n            background-color:  #ecf9f1;\n            color:  #000000;\n        }    #T_53109d7a_114f_11eb_96ee_38b1db6a60a7row1_col49 {\n            background-color:  #ecf9f1;\n            color:  #000000;\n        }    #T_53109d7a_114f_11eb_96ee_38b1db6a60a7row1_col50 {\n            background-color:  #ecf9f1;\n            color:  #000000;\n        }    #T_53109d7a_114f_11eb_96ee_38b1db6a60a7row1_col51 {\n            background-color:  #e4f4eb;\n            color:  #000000;\n        }    #T_53109d7a_114f_11eb_96ee_38b1db6a60a7row1_col52 {\n            background-color:  #2e8b57;\n            color:  #000000;\n        }    #T_53109d7a_114f_11eb_96ee_38b1db6a60a7row2_col3 {\n            background-color:  #ecf9f1;\n            color:  #000000;\n        }    #T_53109d7a_114f_11eb_96ee_38b1db6a60a7row2_col4 {\n            background-color:  #ecf9f1;\n            color:  #000000;\n        }    #T_53109d7a_114f_11eb_96ee_38b1db6a60a7row2_col5 {\n            background-color:  #ecf9f1;\n            color:  #000000;\n        }    #T_53109d7a_114f_11eb_96ee_38b1db6a60a7row2_col6 {\n            background-color:  #ecf9f1;\n            color:  #000000;\n        }    #T_53109d7a_114f_11eb_96ee_38b1db6a60a7row2_col7 {\n            background-color:  #ecf9f1;\n            color:  #000000;\n        }    #T_53109d7a_114f_11eb_96ee_38b1db6a60a7row2_col8 {\n            background-color:  #ecf9f1;\n            color:  #000000;\n        }    #T_53109d7a_114f_11eb_96ee_38b1db6a60a7row2_col9 {\n            background-color:  #ecf9f1;\n            color:  #000000;\n        }    #T_53109d7a_114f_11eb_96ee_38b1db6a60a7row2_col10 {\n            background-color:  #ecf9f1;\n            color:  #000000;\n        }    #T_53109d7a_114f_11eb_96ee_38b1db6a60a7row2_col11 {\n            background-color:  #ecf9f1;\n            color:  #000000;\n        }    #T_53109d7a_114f_11eb_96ee_38b1db6a60a7row2_col12 {\n            background-color:  #ecf9f1;\n            color:  #000000;\n        }    #T_53109d7a_114f_11eb_96ee_38b1db6a60a7row2_col13 {\n            background-color:  #ecf9f1;\n            color:  #000000;\n        }    #T_53109d7a_114f_11eb_96ee_38b1db6a60a7row2_col14 {\n            background-color:  #ecf9f1;\n            color:  #000000;\n        }    #T_53109d7a_114f_11eb_96ee_38b1db6a60a7row2_col15 {\n            background-color:  #ecf9f1;\n            color:  #000000;\n        }    #T_53109d7a_114f_11eb_96ee_38b1db6a60a7row2_col16 {\n            background-color:  #ecf9f1;\n            color:  #000000;\n        }    #T_53109d7a_114f_11eb_96ee_38b1db6a60a7row2_col17 {\n            background-color:  #ecf9f1;\n            color:  #000000;\n        }    #T_53109d7a_114f_11eb_96ee_38b1db6a60a7row2_col18 {\n            background-color:  #ecf9f1;\n            color:  #000000;\n        }    #T_53109d7a_114f_11eb_96ee_38b1db6a60a7row2_col19 {\n            background-color:  #ecf9f1;\n            color:  #000000;\n        }    #T_53109d7a_114f_11eb_96ee_38b1db6a60a7row2_col20 {\n            background-color:  #ecf9f1;\n            color:  #000000;\n        }    #T_53109d7a_114f_11eb_96ee_38b1db6a60a7row2_col21 {\n            background-color:  #ecf9f1;\n            color:  #000000;\n        }    #T_53109d7a_114f_11eb_96ee_38b1db6a60a7row2_col22 {\n            background-color:  #2e8b57;\n            color:  #000000;\n        }    #T_53109d7a_114f_11eb_96ee_38b1db6a60a7row2_col23 {\n            background-color:  #ecf9f1;\n            color:  #000000;\n        }    #T_53109d7a_114f_11eb_96ee_38b1db6a60a7row2_col24 {\n            background-color:  #ecf9f1;\n            color:  #000000;\n        }    #T_53109d7a_114f_11eb_96ee_38b1db6a60a7row2_col25 {\n            background-color:  #c8e4d4;\n            color:  #000000;\n        }    #T_53109d7a_114f_11eb_96ee_38b1db6a60a7row2_col26 {\n            background-color:  #ecf9f1;\n            color:  #000000;\n        }    #T_53109d7a_114f_11eb_96ee_38b1db6a60a7row2_col27 {\n            background-color:  #ecf9f1;\n            color:  #000000;\n        }    #T_53109d7a_114f_11eb_96ee_38b1db6a60a7row2_col28 {\n            background-color:  #2e8b57;\n            color:  #000000;\n        }    #T_53109d7a_114f_11eb_96ee_38b1db6a60a7row2_col29 {\n            background-color:  #ecf9f1;\n            color:  #000000;\n        }    #T_53109d7a_114f_11eb_96ee_38b1db6a60a7row2_col30 {\n            background-color:  #ecf9f1;\n            color:  #000000;\n        }    #T_53109d7a_114f_11eb_96ee_38b1db6a60a7row2_col31 {\n            background-color:  #ecf9f1;\n            color:  #000000;\n        }    #T_53109d7a_114f_11eb_96ee_38b1db6a60a7row2_col32 {\n            background-color:  #ecf9f1;\n            color:  #000000;\n        }    #T_53109d7a_114f_11eb_96ee_38b1db6a60a7row2_col33 {\n            background-color:  #ecf9f1;\n            color:  #000000;\n        }    #T_53109d7a_114f_11eb_96ee_38b1db6a60a7row2_col34 {\n            background-color:  #ecf9f1;\n            color:  #000000;\n        }    #T_53109d7a_114f_11eb_96ee_38b1db6a60a7row2_col35 {\n            background-color:  #ecf9f1;\n            color:  #000000;\n        }    #T_53109d7a_114f_11eb_96ee_38b1db6a60a7row2_col36 {\n            background-color:  #ecf9f1;\n            color:  #000000;\n        }    #T_53109d7a_114f_11eb_96ee_38b1db6a60a7row2_col37 {\n            background-color:  #ecf9f1;\n            color:  #000000;\n        }    #T_53109d7a_114f_11eb_96ee_38b1db6a60a7row2_col38 {\n            background-color:  #ecf9f1;\n            color:  #000000;\n        }    #T_53109d7a_114f_11eb_96ee_38b1db6a60a7row2_col39 {\n            background-color:  #ecf9f1;\n            color:  #000000;\n        }    #T_53109d7a_114f_11eb_96ee_38b1db6a60a7row2_col40 {\n            background-color:  #ecf9f1;\n            color:  #000000;\n        }    #T_53109d7a_114f_11eb_96ee_38b1db6a60a7row2_col41 {\n            background-color:  #2e8b57;\n            color:  #000000;\n        }    #T_53109d7a_114f_11eb_96ee_38b1db6a60a7row2_col42 {\n            background-color:  #ecf9f1;\n            color:  #000000;\n        }    #T_53109d7a_114f_11eb_96ee_38b1db6a60a7row2_col43 {\n            background-color:  #ecf9f1;\n            color:  #000000;\n        }    #T_53109d7a_114f_11eb_96ee_38b1db6a60a7row2_col44 {\n            background-color:  #ecf9f1;\n            color:  #000000;\n        }    #T_53109d7a_114f_11eb_96ee_38b1db6a60a7row2_col45 {\n            background-color:  #2e8b57;\n            color:  #000000;\n        }    #T_53109d7a_114f_11eb_96ee_38b1db6a60a7row2_col46 {\n            background-color:  #2e8b57;\n            color:  #000000;\n        }    #T_53109d7a_114f_11eb_96ee_38b1db6a60a7row2_col47 {\n            background-color:  #2e8b57;\n            color:  #000000;\n        }    #T_53109d7a_114f_11eb_96ee_38b1db6a60a7row2_col48 {\n            background-color:  #ecf9f1;\n            color:  #000000;\n        }    #T_53109d7a_114f_11eb_96ee_38b1db6a60a7row2_col49 {\n            background-color:  #ecf9f1;\n            color:  #000000;\n        }    #T_53109d7a_114f_11eb_96ee_38b1db6a60a7row2_col50 {\n            background-color:  #ecf9f1;\n            color:  #000000;\n        }    #T_53109d7a_114f_11eb_96ee_38b1db6a60a7row2_col51 {\n            background-color:  #ecf9f1;\n            color:  #000000;\n        }    #T_53109d7a_114f_11eb_96ee_38b1db6a60a7row2_col52 {\n            background-color:  #5ea77e;\n            color:  #000000;\n        }</style><table id=\"T_53109d7a_114f_11eb_96ee_38b1db6a60a7\" ><thead>    <tr>        <th class=\"blank level0\" ></th>        <th class=\"col_heading level0 col0\" >name</th>        <th class=\"col_heading level0 col1\" >Marke</th>        <th class=\"col_heading level0 col2\" >Baureihe</th>        <th class=\"col_heading level0 col3\" >Leistung maximal in kW</th>        <th class=\"col_heading level0 col4\" >Total price</th>        <th class=\"col_heading level0 col5\" >my monthly costs</th>        <th class=\"col_heading level0 col6\" >adaptive cruise from 0 km</th>        <th class=\"col_heading level0 col7\" >safe, euroncap, iihs</th>        <th class=\"col_heading level0 col8\" >AEB</th>        <th class=\"col_heading level0 col9\" >Bremsassistent</th>        <th class=\"col_heading level0 col10\" >AEB pedestrian</th>        <th class=\"col_heading level0 col11\" >Camera, 360, front, back</th>        <th class=\"col_heading level0 col12\" >rear traffic alert</th>        <th class=\"col_heading level0 col13\" >lane keep assist active</th>        <th class=\"col_heading level0 col14\" >LED lights</th>        <th class=\"col_heading level0 col15\" >LED matrix</th>        <th class=\"col_heading level0 col16\" >keyless</th>        <th class=\"col_heading level0 col17\" >traffic sign recognition</th>        <th class=\"col_heading level0 col18\" >Traffic jam</th>        <th class=\"col_heading level0 col19\" >adaptive lights</th>        <th class=\"col_heading level0 col20\" >light autoswitch</th>        <th class=\"col_heading level0 col21\" >autoparking</th>        <th class=\"col_heading level0 col22\" >navi </th>        <th class=\"col_heading level0 col23\" >car2x</th>        <th class=\"col_heading level0 col24\" >active headrest</th>        <th class=\"col_heading level0 col25\" >range up to 1000 km per tank</th>        <th class=\"col_heading level0 col26\" >Acceleration <10</th>        <th class=\"col_heading level0 col27\" >km77 elktest</th>        <th class=\"col_heading level0 col28\" >Top speed</th>        <th class=\"col_heading level0 col29\" >plugin hybrid</th>        <th class=\"col_heading level0 col30\" >automat not CVT</th>        <th class=\"col_heading level0 col31\" >4x4</th>        <th class=\"col_heading level0 col32\" >testberichte</th>        <th class=\"col_heading level0 col33\" >small length</th>        <th class=\"col_heading level0 col34\" >license on back bumper</th>        <th class=\"col_heading level0 col35\" >side mirrors on door</th>        <th class=\"col_heading level0 col36\" >door till ground</th>        <th class=\"col_heading level0 col37\" >white seats</th>        <th class=\"col_heading level0 col38\" >no piano black</th>        <th class=\"col_heading level0 col39\" >interior</th>        <th class=\"col_heading level0 col40\" >HIFI audio</th>        <th class=\"col_heading level0 col41\" >noise</th>        <th class=\"col_heading level0 col42\" >acc with buttons</th>        <th class=\"col_heading level0 col43\" >easy entry(clearance or height of seats)</th>        <th class=\"col_heading level0 col44\" >digital speed</th>        <th class=\"col_heading level0 col45\" >boot size,Fit 156 snowboard </th>        <th class=\"col_heading level0 col46\" >price</th>        <th class=\"col_heading level0 col47\" >monthly costs</th>        <th class=\"col_heading level0 col48\" >Garantie y</th>        <th class=\"col_heading level0 col49\" >mobile warranty</th>        <th class=\"col_heading level0 col50\" >AGR</th>        <th class=\"col_heading level0 col51\" >Total Score</th>        <th class=\"col_heading level0 col52\" >Euro per score</th>    </tr></thead><tbody>\n                <tr>\n                        <th id=\"T_53109d7a_114f_11eb_96ee_38b1db6a60a7level0_row0\" class=\"row_heading level0 row0\" >4406</th>\n                        <td id=\"T_53109d7a_114f_11eb_96ee_38b1db6a60a7row0_col0\" class=\"data row0 col0\" >VW Golf 1.4 eHybrid Style DSG (ab 08/20)</td>\n                        <td id=\"T_53109d7a_114f_11eb_96ee_38b1db6a60a7row0_col1\" class=\"data row0 col1\" >VW</td>\n                        <td id=\"T_53109d7a_114f_11eb_96ee_38b1db6a60a7row0_col2\" class=\"data row0 col2\" >Golf (VIII) (ab 12/19)</td>\n                        <td id=\"T_53109d7a_114f_11eb_96ee_38b1db6a60a7row0_col3\" class=\"data row0 col3\" >150</td>\n                        <td id=\"T_53109d7a_114f_11eb_96ee_38b1db6a60a7row0_col4\" class=\"data row0 col4\" >34476.000000</td>\n                        <td id=\"T_53109d7a_114f_11eb_96ee_38b1db6a60a7row0_col5\" class=\"data row0 col5\" >436.000000</td>\n                        <td id=\"T_53109d7a_114f_11eb_96ee_38b1db6a60a7row0_col6\" class=\"data row0 col6\" >10.000000</td>\n                        <td id=\"T_53109d7a_114f_11eb_96ee_38b1db6a60a7row0_col7\" class=\"data row0 col7\" >9.300000</td>\n                        <td id=\"T_53109d7a_114f_11eb_96ee_38b1db6a60a7row0_col8\" class=\"data row0 col8\" >10.000000</td>\n                        <td id=\"T_53109d7a_114f_11eb_96ee_38b1db6a60a7row0_col9\" class=\"data row0 col9\" >10.000000</td>\n                        <td id=\"T_53109d7a_114f_11eb_96ee_38b1db6a60a7row0_col10\" class=\"data row0 col10\" >10.000000</td>\n                        <td id=\"T_53109d7a_114f_11eb_96ee_38b1db6a60a7row0_col11\" class=\"data row0 col11\" >2.857143</td>\n                        <td id=\"T_53109d7a_114f_11eb_96ee_38b1db6a60a7row0_col12\" class=\"data row0 col12\" >0.000000</td>\n                        <td id=\"T_53109d7a_114f_11eb_96ee_38b1db6a60a7row0_col13\" class=\"data row0 col13\" >10.000000</td>\n                        <td id=\"T_53109d7a_114f_11eb_96ee_38b1db6a60a7row0_col14\" class=\"data row0 col14\" >9.000000</td>\n                        <td id=\"T_53109d7a_114f_11eb_96ee_38b1db6a60a7row0_col15\" class=\"data row0 col15\" >8.000000</td>\n                        <td id=\"T_53109d7a_114f_11eb_96ee_38b1db6a60a7row0_col16\" class=\"data row0 col16\" >8.000000</td>\n                        <td id=\"T_53109d7a_114f_11eb_96ee_38b1db6a60a7row0_col17\" class=\"data row0 col17\" >8.000000</td>\n                        <td id=\"T_53109d7a_114f_11eb_96ee_38b1db6a60a7row0_col18\" class=\"data row0 col18\" >8.000000</td>\n                        <td id=\"T_53109d7a_114f_11eb_96ee_38b1db6a60a7row0_col19\" class=\"data row0 col19\" >4.666667</td>\n                        <td id=\"T_53109d7a_114f_11eb_96ee_38b1db6a60a7row0_col20\" class=\"data row0 col20\" >6.222222</td>\n                        <td id=\"T_53109d7a_114f_11eb_96ee_38b1db6a60a7row0_col21\" class=\"data row0 col21\" >6.000000</td>\n                        <td id=\"T_53109d7a_114f_11eb_96ee_38b1db6a60a7row0_col22\" class=\"data row0 col22\" >5.000000</td>\n                        <td id=\"T_53109d7a_114f_11eb_96ee_38b1db6a60a7row0_col23\" class=\"data row0 col23\" >5.000000</td>\n                        <td id=\"T_53109d7a_114f_11eb_96ee_38b1db6a60a7row0_col24\" class=\"data row0 col24\" >0.000000</td>\n                        <td id=\"T_53109d7a_114f_11eb_96ee_38b1db6a60a7row0_col25\" class=\"data row0 col25\" >7.880000</td>\n                        <td id=\"T_53109d7a_114f_11eb_96ee_38b1db6a60a7row0_col26\" class=\"data row0 col26\" >5.840000</td>\n                        <td id=\"T_53109d7a_114f_11eb_96ee_38b1db6a60a7row0_col27\" class=\"data row0 col27\" >4.270000</td>\n                        <td id=\"T_53109d7a_114f_11eb_96ee_38b1db6a60a7row0_col28\" class=\"data row0 col28\" >5.600000</td>\n                        <td id=\"T_53109d7a_114f_11eb_96ee_38b1db6a60a7row0_col29\" class=\"data row0 col29\" >4.000000</td>\n                        <td id=\"T_53109d7a_114f_11eb_96ee_38b1db6a60a7row0_col30\" class=\"data row0 col30\" >3.333333</td>\n                        <td id=\"T_53109d7a_114f_11eb_96ee_38b1db6a60a7row0_col31\" class=\"data row0 col31\" >1.250000</td>\n                        <td id=\"T_53109d7a_114f_11eb_96ee_38b1db6a60a7row0_col32\" class=\"data row0 col32\" >5.730000</td>\n                        <td id=\"T_53109d7a_114f_11eb_96ee_38b1db6a60a7row0_col33\" class=\"data row0 col33\" >4.420000</td>\n                        <td id=\"T_53109d7a_114f_11eb_96ee_38b1db6a60a7row0_col34\" class=\"data row0 col34\" >5.000000</td>\n                        <td id=\"T_53109d7a_114f_11eb_96ee_38b1db6a60a7row0_col35\" class=\"data row0 col35\" >4.000000</td>\n                        <td id=\"T_53109d7a_114f_11eb_96ee_38b1db6a60a7row0_col36\" class=\"data row0 col36\" >0.000000</td>\n                        <td id=\"T_53109d7a_114f_11eb_96ee_38b1db6a60a7row0_col37\" class=\"data row0 col37\" >10.000000</td>\n                        <td id=\"T_53109d7a_114f_11eb_96ee_38b1db6a60a7row0_col38\" class=\"data row0 col38\" >3.330000</td>\n                        <td id=\"T_53109d7a_114f_11eb_96ee_38b1db6a60a7row0_col39\" class=\"data row0 col39\" >6.670000</td>\n                        <td id=\"T_53109d7a_114f_11eb_96ee_38b1db6a60a7row0_col40\" class=\"data row0 col40\" >5.330000</td>\n                        <td id=\"T_53109d7a_114f_11eb_96ee_38b1db6a60a7row0_col41\" class=\"data row0 col41\" >5.220000</td>\n                        <td id=\"T_53109d7a_114f_11eb_96ee_38b1db6a60a7row0_col42\" class=\"data row0 col42\" >7.000000</td>\n                        <td id=\"T_53109d7a_114f_11eb_96ee_38b1db6a60a7row0_col43\" class=\"data row0 col43\" >3.230000</td>\n                        <td id=\"T_53109d7a_114f_11eb_96ee_38b1db6a60a7row0_col44\" class=\"data row0 col44\" >6.000000</td>\n                        <td id=\"T_53109d7a_114f_11eb_96ee_38b1db6a60a7row0_col45\" class=\"data row0 col45\" >0.380000</td>\n                        <td id=\"T_53109d7a_114f_11eb_96ee_38b1db6a60a7row0_col46\" class=\"data row0 col46\" >14.140000</td>\n                        <td id=\"T_53109d7a_114f_11eb_96ee_38b1db6a60a7row0_col47\" class=\"data row0 col47\" >16.110000</td>\n                        <td id=\"T_53109d7a_114f_11eb_96ee_38b1db6a60a7row0_col48\" class=\"data row0 col48\" >5.000000</td>\n                        <td id=\"T_53109d7a_114f_11eb_96ee_38b1db6a60a7row0_col49\" class=\"data row0 col49\" >9.642857</td>\n                        <td id=\"T_53109d7a_114f_11eb_96ee_38b1db6a60a7row0_col50\" class=\"data row0 col50\" >5.000000</td>\n                        <td id=\"T_53109d7a_114f_11eb_96ee_38b1db6a60a7row0_col51\" class=\"data row0 col51\" >282.422222</td>\n                        <td id=\"T_53109d7a_114f_11eb_96ee_38b1db6a60a7row0_col52\" class=\"data row0 col52\" >122.072547</td>\n            </tr>\n            <tr>\n                        <th id=\"T_53109d7a_114f_11eb_96ee_38b1db6a60a7level0_row1\" class=\"row_heading level0 row1\" >3105</th>\n                        <td id=\"T_53109d7a_114f_11eb_96ee_38b1db6a60a7row1_col0\" class=\"data row1 col0\" >VW Golf 1.5 eTSI Style DSG (ab 09/20)</td>\n                        <td id=\"T_53109d7a_114f_11eb_96ee_38b1db6a60a7row1_col1\" class=\"data row1 col1\" >VW</td>\n                        <td id=\"T_53109d7a_114f_11eb_96ee_38b1db6a60a7row1_col2\" class=\"data row1 col2\" >Golf (VIII) (ab 12/19)</td>\n                        <td id=\"T_53109d7a_114f_11eb_96ee_38b1db6a60a7row1_col3\" class=\"data row1 col3\" >110</td>\n                        <td id=\"T_53109d7a_114f_11eb_96ee_38b1db6a60a7row1_col4\" class=\"data row1 col4\" >34374.000000</td>\n                        <td id=\"T_53109d7a_114f_11eb_96ee_38b1db6a60a7row1_col5\" class=\"data row1 col5\" >439.000000</td>\n                        <td id=\"T_53109d7a_114f_11eb_96ee_38b1db6a60a7row1_col6\" class=\"data row1 col6\" >10.000000</td>\n                        <td id=\"T_53109d7a_114f_11eb_96ee_38b1db6a60a7row1_col7\" class=\"data row1 col7\" >9.300000</td>\n                        <td id=\"T_53109d7a_114f_11eb_96ee_38b1db6a60a7row1_col8\" class=\"data row1 col8\" >10.000000</td>\n                        <td id=\"T_53109d7a_114f_11eb_96ee_38b1db6a60a7row1_col9\" class=\"data row1 col9\" >10.000000</td>\n                        <td id=\"T_53109d7a_114f_11eb_96ee_38b1db6a60a7row1_col10\" class=\"data row1 col10\" >10.000000</td>\n                        <td id=\"T_53109d7a_114f_11eb_96ee_38b1db6a60a7row1_col11\" class=\"data row1 col11\" >2.857143</td>\n                        <td id=\"T_53109d7a_114f_11eb_96ee_38b1db6a60a7row1_col12\" class=\"data row1 col12\" >0.000000</td>\n                        <td id=\"T_53109d7a_114f_11eb_96ee_38b1db6a60a7row1_col13\" class=\"data row1 col13\" >10.000000</td>\n                        <td id=\"T_53109d7a_114f_11eb_96ee_38b1db6a60a7row1_col14\" class=\"data row1 col14\" >9.000000</td>\n                        <td id=\"T_53109d7a_114f_11eb_96ee_38b1db6a60a7row1_col15\" class=\"data row1 col15\" >8.000000</td>\n                        <td id=\"T_53109d7a_114f_11eb_96ee_38b1db6a60a7row1_col16\" class=\"data row1 col16\" >8.000000</td>\n                        <td id=\"T_53109d7a_114f_11eb_96ee_38b1db6a60a7row1_col17\" class=\"data row1 col17\" >8.000000</td>\n                        <td id=\"T_53109d7a_114f_11eb_96ee_38b1db6a60a7row1_col18\" class=\"data row1 col18\" >8.000000</td>\n                        <td id=\"T_53109d7a_114f_11eb_96ee_38b1db6a60a7row1_col19\" class=\"data row1 col19\" >4.666667</td>\n                        <td id=\"T_53109d7a_114f_11eb_96ee_38b1db6a60a7row1_col20\" class=\"data row1 col20\" >6.222222</td>\n                        <td id=\"T_53109d7a_114f_11eb_96ee_38b1db6a60a7row1_col21\" class=\"data row1 col21\" >6.000000</td>\n                        <td id=\"T_53109d7a_114f_11eb_96ee_38b1db6a60a7row1_col22\" class=\"data row1 col22\" >1.600000</td>\n                        <td id=\"T_53109d7a_114f_11eb_96ee_38b1db6a60a7row1_col23\" class=\"data row1 col23\" >5.000000</td>\n                        <td id=\"T_53109d7a_114f_11eb_96ee_38b1db6a60a7row1_col24\" class=\"data row1 col24\" >0.000000</td>\n                        <td id=\"T_53109d7a_114f_11eb_96ee_38b1db6a60a7row1_col25\" class=\"data row1 col25\" >6.770000</td>\n                        <td id=\"T_53109d7a_114f_11eb_96ee_38b1db6a60a7row1_col26\" class=\"data row1 col26\" >4.560000</td>\n                        <td id=\"T_53109d7a_114f_11eb_96ee_38b1db6a60a7row1_col27\" class=\"data row1 col27\" >4.270000</td>\n                        <td id=\"T_53109d7a_114f_11eb_96ee_38b1db6a60a7row1_col28\" class=\"data row1 col28\" >5.920000</td>\n                        <td id=\"T_53109d7a_114f_11eb_96ee_38b1db6a60a7row1_col29\" class=\"data row1 col29\" >3.200000</td>\n                        <td id=\"T_53109d7a_114f_11eb_96ee_38b1db6a60a7row1_col30\" class=\"data row1 col30\" >3.333333</td>\n                        <td id=\"T_53109d7a_114f_11eb_96ee_38b1db6a60a7row1_col31\" class=\"data row1 col31\" >1.250000</td>\n                        <td id=\"T_53109d7a_114f_11eb_96ee_38b1db6a60a7row1_col32\" class=\"data row1 col32\" >5.730000</td>\n                        <td id=\"T_53109d7a_114f_11eb_96ee_38b1db6a60a7row1_col33\" class=\"data row1 col33\" >4.420000</td>\n                        <td id=\"T_53109d7a_114f_11eb_96ee_38b1db6a60a7row1_col34\" class=\"data row1 col34\" >5.000000</td>\n                        <td id=\"T_53109d7a_114f_11eb_96ee_38b1db6a60a7row1_col35\" class=\"data row1 col35\" >4.000000</td>\n                        <td id=\"T_53109d7a_114f_11eb_96ee_38b1db6a60a7row1_col36\" class=\"data row1 col36\" >0.000000</td>\n                        <td id=\"T_53109d7a_114f_11eb_96ee_38b1db6a60a7row1_col37\" class=\"data row1 col37\" >10.000000</td>\n                        <td id=\"T_53109d7a_114f_11eb_96ee_38b1db6a60a7row1_col38\" class=\"data row1 col38\" >3.330000</td>\n                        <td id=\"T_53109d7a_114f_11eb_96ee_38b1db6a60a7row1_col39\" class=\"data row1 col39\" >6.670000</td>\n                        <td id=\"T_53109d7a_114f_11eb_96ee_38b1db6a60a7row1_col40\" class=\"data row1 col40\" >5.330000</td>\n                        <td id=\"T_53109d7a_114f_11eb_96ee_38b1db6a60a7row1_col41\" class=\"data row1 col41\" >5.600000</td>\n                        <td id=\"T_53109d7a_114f_11eb_96ee_38b1db6a60a7row1_col42\" class=\"data row1 col42\" >7.000000</td>\n                        <td id=\"T_53109d7a_114f_11eb_96ee_38b1db6a60a7row1_col43\" class=\"data row1 col43\" >3.230000</td>\n                        <td id=\"T_53109d7a_114f_11eb_96ee_38b1db6a60a7row1_col44\" class=\"data row1 col44\" >6.000000</td>\n                        <td id=\"T_53109d7a_114f_11eb_96ee_38b1db6a60a7row1_col45\" class=\"data row1 col45\" >0.620000</td>\n                        <td id=\"T_53109d7a_114f_11eb_96ee_38b1db6a60a7row1_col46\" class=\"data row1 col46\" >14.220000</td>\n                        <td id=\"T_53109d7a_114f_11eb_96ee_38b1db6a60a7row1_col47\" class=\"data row1 col47\" >15.900000</td>\n                        <td id=\"T_53109d7a_114f_11eb_96ee_38b1db6a60a7row1_col48\" class=\"data row1 col48\" >5.000000</td>\n                        <td id=\"T_53109d7a_114f_11eb_96ee_38b1db6a60a7row1_col49\" class=\"data row1 col49\" >9.642857</td>\n                        <td id=\"T_53109d7a_114f_11eb_96ee_38b1db6a60a7row1_col50\" class=\"data row1 col50\" >5.000000</td>\n                        <td id=\"T_53109d7a_114f_11eb_96ee_38b1db6a60a7row1_col51\" class=\"data row1 col51\" >275.842222</td>\n                        <td id=\"T_53109d7a_114f_11eb_96ee_38b1db6a60a7row1_col52\" class=\"data row1 col52\" >124.614715</td>\n            </tr>\n            <tr>\n                        <th id=\"T_53109d7a_114f_11eb_96ee_38b1db6a60a7level0_row2\" class=\"row_heading level0 row2\" >3106</th>\n                        <td id=\"T_53109d7a_114f_11eb_96ee_38b1db6a60a7row2_col0\" class=\"data row2 col0\" >VW Golf 1.5 eTSI UNITED DSG (ab 09/20)</td>\n                        <td id=\"T_53109d7a_114f_11eb_96ee_38b1db6a60a7row2_col1\" class=\"data row2 col1\" >VW</td>\n                        <td id=\"T_53109d7a_114f_11eb_96ee_38b1db6a60a7row2_col2\" class=\"data row2 col2\" >Golf (VIII) (ab 12/19)</td>\n                        <td id=\"T_53109d7a_114f_11eb_96ee_38b1db6a60a7row2_col3\" class=\"data row2 col3\" >110</td>\n                        <td id=\"T_53109d7a_114f_11eb_96ee_38b1db6a60a7row2_col4\" class=\"data row2 col4\" >34163.000000</td>\n                        <td id=\"T_53109d7a_114f_11eb_96ee_38b1db6a60a7row2_col5\" class=\"data row2 col5\" >423.000000</td>\n                        <td id=\"T_53109d7a_114f_11eb_96ee_38b1db6a60a7row2_col6\" class=\"data row2 col6\" >10.000000</td>\n                        <td id=\"T_53109d7a_114f_11eb_96ee_38b1db6a60a7row2_col7\" class=\"data row2 col7\" >9.300000</td>\n                        <td id=\"T_53109d7a_114f_11eb_96ee_38b1db6a60a7row2_col8\" class=\"data row2 col8\" >7.500000</td>\n                        <td id=\"T_53109d7a_114f_11eb_96ee_38b1db6a60a7row2_col9\" class=\"data row2 col9\" >10.000000</td>\n                        <td id=\"T_53109d7a_114f_11eb_96ee_38b1db6a60a7row2_col10\" class=\"data row2 col10\" >10.000000</td>\n                        <td id=\"T_53109d7a_114f_11eb_96ee_38b1db6a60a7row2_col11\" class=\"data row2 col11\" >2.857143</td>\n                        <td id=\"T_53109d7a_114f_11eb_96ee_38b1db6a60a7row2_col12\" class=\"data row2 col12\" >0.000000</td>\n                        <td id=\"T_53109d7a_114f_11eb_96ee_38b1db6a60a7row2_col13\" class=\"data row2 col13\" >10.000000</td>\n                        <td id=\"T_53109d7a_114f_11eb_96ee_38b1db6a60a7row2_col14\" class=\"data row2 col14\" >9.000000</td>\n                        <td id=\"T_53109d7a_114f_11eb_96ee_38b1db6a60a7row2_col15\" class=\"data row2 col15\" >8.000000</td>\n                        <td id=\"T_53109d7a_114f_11eb_96ee_38b1db6a60a7row2_col16\" class=\"data row2 col16\" >8.000000</td>\n                        <td id=\"T_53109d7a_114f_11eb_96ee_38b1db6a60a7row2_col17\" class=\"data row2 col17\" >8.000000</td>\n                        <td id=\"T_53109d7a_114f_11eb_96ee_38b1db6a60a7row2_col18\" class=\"data row2 col18\" >5.333333</td>\n                        <td id=\"T_53109d7a_114f_11eb_96ee_38b1db6a60a7row2_col19\" class=\"data row2 col19\" >4.666667</td>\n                        <td id=\"T_53109d7a_114f_11eb_96ee_38b1db6a60a7row2_col20\" class=\"data row2 col20\" >6.222222</td>\n                        <td id=\"T_53109d7a_114f_11eb_96ee_38b1db6a60a7row2_col21\" class=\"data row2 col21\" >6.000000</td>\n                        <td id=\"T_53109d7a_114f_11eb_96ee_38b1db6a60a7row2_col22\" class=\"data row2 col22\" >5.000000</td>\n                        <td id=\"T_53109d7a_114f_11eb_96ee_38b1db6a60a7row2_col23\" class=\"data row2 col23\" >5.000000</td>\n                        <td id=\"T_53109d7a_114f_11eb_96ee_38b1db6a60a7row2_col24\" class=\"data row2 col24\" >0.000000</td>\n                        <td id=\"T_53109d7a_114f_11eb_96ee_38b1db6a60a7row2_col25\" class=\"data row2 col25\" >6.980000</td>\n                        <td id=\"T_53109d7a_114f_11eb_96ee_38b1db6a60a7row2_col26\" class=\"data row2 col26\" >4.560000</td>\n                        <td id=\"T_53109d7a_114f_11eb_96ee_38b1db6a60a7row2_col27\" class=\"data row2 col27\" >4.270000</td>\n                        <td id=\"T_53109d7a_114f_11eb_96ee_38b1db6a60a7row2_col28\" class=\"data row2 col28\" >5.920000</td>\n                        <td id=\"T_53109d7a_114f_11eb_96ee_38b1db6a60a7row2_col29\" class=\"data row2 col29\" >3.200000</td>\n                        <td id=\"T_53109d7a_114f_11eb_96ee_38b1db6a60a7row2_col30\" class=\"data row2 col30\" >3.333333</td>\n                        <td id=\"T_53109d7a_114f_11eb_96ee_38b1db6a60a7row2_col31\" class=\"data row2 col31\" >1.250000</td>\n                        <td id=\"T_53109d7a_114f_11eb_96ee_38b1db6a60a7row2_col32\" class=\"data row2 col32\" >5.730000</td>\n                        <td id=\"T_53109d7a_114f_11eb_96ee_38b1db6a60a7row2_col33\" class=\"data row2 col33\" >4.420000</td>\n                        <td id=\"T_53109d7a_114f_11eb_96ee_38b1db6a60a7row2_col34\" class=\"data row2 col34\" >5.000000</td>\n                        <td id=\"T_53109d7a_114f_11eb_96ee_38b1db6a60a7row2_col35\" class=\"data row2 col35\" >4.000000</td>\n                        <td id=\"T_53109d7a_114f_11eb_96ee_38b1db6a60a7row2_col36\" class=\"data row2 col36\" >0.000000</td>\n                        <td id=\"T_53109d7a_114f_11eb_96ee_38b1db6a60a7row2_col37\" class=\"data row2 col37\" >10.000000</td>\n                        <td id=\"T_53109d7a_114f_11eb_96ee_38b1db6a60a7row2_col38\" class=\"data row2 col38\" >3.330000</td>\n                        <td id=\"T_53109d7a_114f_11eb_96ee_38b1db6a60a7row2_col39\" class=\"data row2 col39\" >6.670000</td>\n                        <td id=\"T_53109d7a_114f_11eb_96ee_38b1db6a60a7row2_col40\" class=\"data row2 col40\" >5.330000</td>\n                        <td id=\"T_53109d7a_114f_11eb_96ee_38b1db6a60a7row2_col41\" class=\"data row2 col41\" >5.600000</td>\n                        <td id=\"T_53109d7a_114f_11eb_96ee_38b1db6a60a7row2_col42\" class=\"data row2 col42\" >7.000000</td>\n                        <td id=\"T_53109d7a_114f_11eb_96ee_38b1db6a60a7row2_col43\" class=\"data row2 col43\" >3.230000</td>\n                        <td id=\"T_53109d7a_114f_11eb_96ee_38b1db6a60a7row2_col44\" class=\"data row2 col44\" >6.000000</td>\n                        <td id=\"T_53109d7a_114f_11eb_96ee_38b1db6a60a7row2_col45\" class=\"data row2 col45\" >0.620000</td>\n                        <td id=\"T_53109d7a_114f_11eb_96ee_38b1db6a60a7row2_col46\" class=\"data row2 col46\" >14.390000</td>\n                        <td id=\"T_53109d7a_114f_11eb_96ee_38b1db6a60a7row2_col47\" class=\"data row2 col47\" >17.000000</td>\n                        <td id=\"T_53109d7a_114f_11eb_96ee_38b1db6a60a7row2_col48\" class=\"data row2 col48\" >5.000000</td>\n                        <td id=\"T_53109d7a_114f_11eb_96ee_38b1db6a60a7row2_col49\" class=\"data row2 col49\" >9.642857</td>\n                        <td id=\"T_53109d7a_114f_11eb_96ee_38b1db6a60a7row2_col50\" class=\"data row2 col50\" >5.000000</td>\n                        <td id=\"T_53109d7a_114f_11eb_96ee_38b1db6a60a7row2_col51\" class=\"data row2 col51\" >275.555556</td>\n                        <td id=\"T_53109d7a_114f_11eb_96ee_38b1db6a60a7row2_col52\" class=\"data row2 col52\" >123.978629</td>\n            </tr>\n    </tbody></table>"
     },
     "metadata": {},
     "execution_count": 7
    }
   ],
   "source": [
    "coloraze(df[df['name'].isin(top['name'])].head(3), axis=0)"
   ]
  },
  {
   "cell_type": "markdown",
   "metadata": {},
   "source": [
    "## Cars with total score(group by mark and serie)"
   ]
  },
  {
   "cell_type": "code",
   "execution_count": 8,
   "metadata": {},
   "outputs": [
    {
     "output_type": "execute_result",
     "data": {
      "text/plain": [
       "    Marke                        Baureihe  Leistung maximal in kW  \\\n",
       "165    VW          Golf (VIII) (ab 12/19)                     150   \n",
       "167    VW      Golf (VIII) GTE (ab 08/20)                     180   \n",
       "162    VW          Golf (VIII) (ab 12/19)                      81   \n",
       "169    VW  Golf (VIII) Variant (ab 11/20)                      81   \n",
       "164    VW          Golf (VIII) (ab 12/19)                     110   \n",
       "170    VW  Golf (VIII) Variant (ab 11/20)                     110   \n",
       "166    VW      Golf (VIII) GTD (ab 10/20)                     147   \n",
       "168    VW      Golf (VIII) GTI (ab 08/20)                     180   \n",
       "163    VW          Golf (VIII) (ab 12/19)                      96   \n",
       "9    Audi    A3 (8Y) Sportback (ab 05/20)                     150   \n",
       "\n",
       "     Total price  Total Score  \n",
       "165     34476.00       282.42  \n",
       "167     36362.00       274.45  \n",
       "162     30519.50       274.36  \n",
       "169     30805.00       272.52  \n",
       "164     35139.62       270.89  \n",
       "170     37560.33       265.27  \n",
       "166     39909.00       264.22  \n",
       "168     39402.00       261.71  \n",
       "163     33554.00       259.05  \n",
       "9       35854.67       248.28  "
      ],
      "text/html": "<div>\n<style scoped>\n    .dataframe tbody tr th:only-of-type {\n        vertical-align: middle;\n    }\n\n    .dataframe tbody tr th {\n        vertical-align: top;\n    }\n\n    .dataframe thead th {\n        text-align: right;\n    }\n</style>\n<table border=\"1\" class=\"dataframe\">\n  <thead>\n    <tr style=\"text-align: right;\">\n      <th></th>\n      <th>Marke</th>\n      <th>Baureihe</th>\n      <th>Leistung maximal in kW</th>\n      <th>Total price</th>\n      <th>Total Score</th>\n    </tr>\n  </thead>\n  <tbody>\n    <tr>\n      <th>165</th>\n      <td>VW</td>\n      <td>Golf (VIII) (ab 12/19)</td>\n      <td>150</td>\n      <td>34476.00</td>\n      <td>282.42</td>\n    </tr>\n    <tr>\n      <th>167</th>\n      <td>VW</td>\n      <td>Golf (VIII) GTE (ab 08/20)</td>\n      <td>180</td>\n      <td>36362.00</td>\n      <td>274.45</td>\n    </tr>\n    <tr>\n      <th>162</th>\n      <td>VW</td>\n      <td>Golf (VIII) (ab 12/19)</td>\n      <td>81</td>\n      <td>30519.50</td>\n      <td>274.36</td>\n    </tr>\n    <tr>\n      <th>169</th>\n      <td>VW</td>\n      <td>Golf (VIII) Variant (ab 11/20)</td>\n      <td>81</td>\n      <td>30805.00</td>\n      <td>272.52</td>\n    </tr>\n    <tr>\n      <th>164</th>\n      <td>VW</td>\n      <td>Golf (VIII) (ab 12/19)</td>\n      <td>110</td>\n      <td>35139.62</td>\n      <td>270.89</td>\n    </tr>\n    <tr>\n      <th>170</th>\n      <td>VW</td>\n      <td>Golf (VIII) Variant (ab 11/20)</td>\n      <td>110</td>\n      <td>37560.33</td>\n      <td>265.27</td>\n    </tr>\n    <tr>\n      <th>166</th>\n      <td>VW</td>\n      <td>Golf (VIII) GTD (ab 10/20)</td>\n      <td>147</td>\n      <td>39909.00</td>\n      <td>264.22</td>\n    </tr>\n    <tr>\n      <th>168</th>\n      <td>VW</td>\n      <td>Golf (VIII) GTI (ab 08/20)</td>\n      <td>180</td>\n      <td>39402.00</td>\n      <td>261.71</td>\n    </tr>\n    <tr>\n      <th>163</th>\n      <td>VW</td>\n      <td>Golf (VIII) (ab 12/19)</td>\n      <td>96</td>\n      <td>33554.00</td>\n      <td>259.05</td>\n    </tr>\n    <tr>\n      <th>9</th>\n      <td>Audi</td>\n      <td>A3 (8Y) Sportback (ab 05/20)</td>\n      <td>150</td>\n      <td>35854.67</td>\n      <td>248.28</td>\n    </tr>\n  </tbody>\n</table>\n</div>"
     },
     "metadata": {},
     "execution_count": 8
    }
   ],
   "source": [
    "# df.to_excel('/tmp/1.xlsx')\n",
    "g = df.groupby(GROUP_COLS_MARK_SERIE_KW, as_index=False)\n",
    "costs_mean = g[[Column.TOTAL_PRICE, Column.TOTAL_SCORE]].agg({Column.TOTAL_PRICE: 'mean', Column.TOTAL_SCORE: 'mean'})\n",
    "costs_mean.sort_values(Column.TOTAL_SCORE, ascending=False).head(10).round(2)"
   ]
  },
  {
   "cell_type": "markdown",
   "metadata": {},
   "source": [
    "## Cars better than best Subaru Impreza"
   ]
  },
  {
   "cell_type": "code",
   "execution_count": 9,
   "metadata": {},
   "outputs": [
    {
     "output_type": "execute_result",
     "data": {
      "text/plain": [
       "{'name': 'Subaru Impreza 2.0i Exclusive Lineartronic (01/18 - 08/18)',\n",
       " 'Marke': 'Subaru',\n",
       " 'Baureihe': 'Impreza (V) (01/18 - 04/20)',\n",
       " 'Leistung maximal in kW': 115,\n",
       " 'Total price': 29036.0,\n",
       " 'my monthly costs': 585.0,\n",
       " 'adaptive cruise from 0 km': 10.0,\n",
       " 'safe, euroncap, iihs': 8.91,\n",
       " 'AEB': 10.0,\n",
       " 'Bremsassistent': 10.0,\n",
       " 'AEB pedestrian': 10.0,\n",
       " 'Camera, 360, front, back': 4.285714285714286,\n",
       " 'rear traffic alert': 10.0,\n",
       " 'lane keep assist active': 10.0,\n",
       " 'LED lights': 9.0,\n",
       " 'LED matrix': 0.0,\n",
       " 'keyless': 8.0,\n",
       " 'traffic sign recognition': 0.0,\n",
       " 'Traffic jam': 0.0,\n",
       " 'adaptive lights': 7.0,\n",
       " 'light autoswitch': 7.0,\n",
       " 'autoparking': 0.0,\n",
       " 'navi ': 5.0,\n",
       " 'car2x': 0.0,\n",
       " 'active headrest': 4.0,\n",
       " 'range up to 1000 km per tank': 3.23,\n",
       " 'Acceleration <10': 3.04,\n",
       " 'km77 elktest': 4.27,\n",
       " 'Top speed': 4.4,\n",
       " 'plugin hybrid': 0.4,\n",
       " 'automat not CVT': 1.6666666666666665,\n",
       " '4x4': 5.0,\n",
       " 'testberichte': 1.34,\n",
       " 'small length': 3.33,\n",
       " 'license on back bumper': 0.0,\n",
       " 'side mirrors on door': 4.0,\n",
       " 'door till ground': 0.0,\n",
       " 'white seats': 0.0,\n",
       " 'no piano black': 1.67,\n",
       " 'interior': 6.67,\n",
       " 'HIFI audio': 0.0,\n",
       " 'noise': 3.2,\n",
       " 'acc with buttons': 7.0,\n",
       " 'easy entry(clearance or height of seats)': 2.13,\n",
       " 'digital speed': 0.0,\n",
       " 'boot size,Fit 156 snowboard ': 0.79,\n",
       " 'price': 18.45,\n",
       " 'monthly costs': 5.94,\n",
       " 'Garantie y': 7.5,\n",
       " 'mobile warranty': 0.0,\n",
       " 'AGR': 0.0,\n",
       " 'Total Score': 197.62238095238095,\n",
       " 'Euro per score': 146.92667834518454}"
      ]
     },
     "metadata": {},
     "execution_count": 9
    }
   ],
   "source": [
    "# NOTE should be sorted\n",
    "imprezas = df[df[Column.NAME].str.contains('Subaru Impreza 2.0i Exclusive')]\n",
    "\n",
    "top_impreza = imprezas.iloc[0]\n",
    "impreza_euro_per_score = top_impreza[Column.EURO_PER_SCORE]\n",
    "impreza_total_score = top_impreza[Column.TOTAL_SCORE]\n",
    "impreza_costs = top_impreza[Column.MY_M_COSTS]\n",
    "\n",
    "# imprezas\n",
    "top_impreza.to_dict()\n",
    "\n",
    "# NOTE: Total Score should be set!!!"
   ]
  },
  {
   "cell_type": "markdown",
   "metadata": {},
   "source": [
    "### Better in score"
   ]
  },
  {
   "cell_type": "code",
   "execution_count": 10,
   "metadata": {},
   "outputs": [
    {
     "output_type": "execute_result",
     "data": {
      "text/plain": [
       "                                          name Marke  \\\n",
       "4406  VW Golf 1.4 eHybrid Style DSG (ab 08/20)    VW   \n",
       "3105     VW Golf 1.5 eTSI Style DSG (ab 09/20)    VW   \n",
       "3106    VW Golf 1.5 eTSI UNITED DSG (ab 09/20)    VW   \n",
       "2091        VW Golf 1.0 eTSI UNITED (ab 08/20)    VW   \n",
       "5663                VW Golf GTE DSG (ab 08/20)    VW   \n",
       "3107    VW Golf 1.5 eTSI R-Line DSG (ab 09/20)    VW   \n",
       "2099      VW Golf 1.5 eTSI Life DSG (ab 09/20)    VW   \n",
       "2090          VW Golf 1.0 eTSI Life (ab 08/20)    VW   \n",
       "2102  VW Golf Variant 1.0 eTSI Life (ab 11/20)    VW   \n",
       "3110  VW Golf 2.0 TDI SCR Style DSG (ab 09/20)    VW   \n",
       "\n",
       "                            Baureihe  Leistung maximal in kW  Total price  \\\n",
       "4406          Golf (VIII) (ab 12/19)                     150      34476.0   \n",
       "3105          Golf (VIII) (ab 12/19)                     110      34374.0   \n",
       "3106          Golf (VIII) (ab 12/19)                     110      34163.0   \n",
       "2091          Golf (VIII) (ab 12/19)                      81      31448.0   \n",
       "5663      Golf (VIII) GTE (ab 08/20)                     180      36362.0   \n",
       "3107          Golf (VIII) (ab 12/19)                     110      34676.0   \n",
       "2099          Golf (VIII) (ab 12/19)                     110      32306.0   \n",
       "2090          Golf (VIII) (ab 12/19)                      81      29591.0   \n",
       "2102  Golf (VIII) Variant (ab 11/20)                      81      30805.0   \n",
       "3110          Golf (VIII) (ab 12/19)                     110      36894.0   \n",
       "\n",
       "      my monthly costs  adaptive cruise from 0 km  safe, euroncap, iihs   AEB  \\\n",
       "4406             436.0                       10.0                   9.3  10.0   \n",
       "3105             439.0                       10.0                   9.3  10.0   \n",
       "3106             423.0                       10.0                   9.3   7.5   \n",
       "2091             405.0                       10.0                   9.3   7.5   \n",
       "5663             480.0                       10.0                   9.3  10.0   \n",
       "3107             441.0                       10.0                   9.3   7.5   \n",
       "2099             423.0                       10.0                   9.3   7.5   \n",
       "2090             405.0                       10.0                   9.3   7.5   \n",
       "2102             409.0                       10.0                   9.3   7.5   \n",
       "3110             471.0                       10.0                   9.3  10.0   \n",
       "\n",
       "      Bremsassistent  ...  easy entry(clearance or height of seats)  \\\n",
       "4406            10.0  ...                                      3.23   \n",
       "3105            10.0  ...                                      3.23   \n",
       "3106            10.0  ...                                      3.23   \n",
       "2091            10.0  ...                                      3.23   \n",
       "5663            10.0  ...                                      3.23   \n",
       "3107            10.0  ...                                      3.23   \n",
       "2099            10.0  ...                                      3.23   \n",
       "2090            10.0  ...                                      3.23   \n",
       "2102            10.0  ...                                      3.23   \n",
       "3110            10.0  ...                                      3.23   \n",
       "\n",
       "      digital speed  boot size,Fit 156 snowboard   price  monthly costs  \\\n",
       "4406            6.0                          0.38  14.14          16.11   \n",
       "3105            6.0                          0.62  14.22          15.90   \n",
       "3106            6.0                          0.62  14.39          17.00   \n",
       "2091            6.0                          0.62  16.54          18.23   \n",
       "5663            6.0                          0.38  12.64          13.11   \n",
       "3107            6.0                          0.62  13.98          15.77   \n",
       "2099            6.0                          0.62  15.86          17.00   \n",
       "2090            6.0                          0.62  18.01          18.23   \n",
       "2102            6.0                          1.50  17.05          17.95   \n",
       "3110            6.0                          0.62  12.22          13.72   \n",
       "\n",
       "      Garantie y  mobile warranty  AGR  Total Score  Euro per score  \n",
       "4406         5.0         9.642857  5.0   282.422222      122.072547  \n",
       "3105         5.0         9.642857  5.0   275.842222      124.614715  \n",
       "3106         5.0         9.642857  5.0   275.555556      123.978629  \n",
       "2091         5.0         9.642857  5.0   275.325556      114.221144  \n",
       "5663         5.0         9.642857  5.0   274.452222      132.489363  \n",
       "3107         5.0         9.642857  5.0   273.705556      126.690888  \n",
       "2099         5.0         9.642857  5.0   273.625556      118.066457  \n",
       "2090         5.0         9.642857  5.0   273.395556      108.235117  \n",
       "2102         5.0         9.642857  5.0   272.515556      113.039419  \n",
       "3110         5.0         9.642857  5.0   268.262222      137.529614  \n",
       "\n",
       "[10 rows x 53 columns]"
      ],
      "text/html": "<div>\n<style scoped>\n    .dataframe tbody tr th:only-of-type {\n        vertical-align: middle;\n    }\n\n    .dataframe tbody tr th {\n        vertical-align: top;\n    }\n\n    .dataframe thead th {\n        text-align: right;\n    }\n</style>\n<table border=\"1\" class=\"dataframe\">\n  <thead>\n    <tr style=\"text-align: right;\">\n      <th></th>\n      <th>name</th>\n      <th>Marke</th>\n      <th>Baureihe</th>\n      <th>Leistung maximal in kW</th>\n      <th>Total price</th>\n      <th>my monthly costs</th>\n      <th>adaptive cruise from 0 km</th>\n      <th>safe, euroncap, iihs</th>\n      <th>AEB</th>\n      <th>Bremsassistent</th>\n      <th>...</th>\n      <th>easy entry(clearance or height of seats)</th>\n      <th>digital speed</th>\n      <th>boot size,Fit 156 snowboard</th>\n      <th>price</th>\n      <th>monthly costs</th>\n      <th>Garantie y</th>\n      <th>mobile warranty</th>\n      <th>AGR</th>\n      <th>Total Score</th>\n      <th>Euro per score</th>\n    </tr>\n  </thead>\n  <tbody>\n    <tr>\n      <th>4406</th>\n      <td>VW Golf 1.4 eHybrid Style DSG (ab 08/20)</td>\n      <td>VW</td>\n      <td>Golf (VIII) (ab 12/19)</td>\n      <td>150</td>\n      <td>34476.0</td>\n      <td>436.0</td>\n      <td>10.0</td>\n      <td>9.3</td>\n      <td>10.0</td>\n      <td>10.0</td>\n      <td>...</td>\n      <td>3.23</td>\n      <td>6.0</td>\n      <td>0.38</td>\n      <td>14.14</td>\n      <td>16.11</td>\n      <td>5.0</td>\n      <td>9.642857</td>\n      <td>5.0</td>\n      <td>282.422222</td>\n      <td>122.072547</td>\n    </tr>\n    <tr>\n      <th>3105</th>\n      <td>VW Golf 1.5 eTSI Style DSG (ab 09/20)</td>\n      <td>VW</td>\n      <td>Golf (VIII) (ab 12/19)</td>\n      <td>110</td>\n      <td>34374.0</td>\n      <td>439.0</td>\n      <td>10.0</td>\n      <td>9.3</td>\n      <td>10.0</td>\n      <td>10.0</td>\n      <td>...</td>\n      <td>3.23</td>\n      <td>6.0</td>\n      <td>0.62</td>\n      <td>14.22</td>\n      <td>15.90</td>\n      <td>5.0</td>\n      <td>9.642857</td>\n      <td>5.0</td>\n      <td>275.842222</td>\n      <td>124.614715</td>\n    </tr>\n    <tr>\n      <th>3106</th>\n      <td>VW Golf 1.5 eTSI UNITED DSG (ab 09/20)</td>\n      <td>VW</td>\n      <td>Golf (VIII) (ab 12/19)</td>\n      <td>110</td>\n      <td>34163.0</td>\n      <td>423.0</td>\n      <td>10.0</td>\n      <td>9.3</td>\n      <td>7.5</td>\n      <td>10.0</td>\n      <td>...</td>\n      <td>3.23</td>\n      <td>6.0</td>\n      <td>0.62</td>\n      <td>14.39</td>\n      <td>17.00</td>\n      <td>5.0</td>\n      <td>9.642857</td>\n      <td>5.0</td>\n      <td>275.555556</td>\n      <td>123.978629</td>\n    </tr>\n    <tr>\n      <th>2091</th>\n      <td>VW Golf 1.0 eTSI UNITED (ab 08/20)</td>\n      <td>VW</td>\n      <td>Golf (VIII) (ab 12/19)</td>\n      <td>81</td>\n      <td>31448.0</td>\n      <td>405.0</td>\n      <td>10.0</td>\n      <td>9.3</td>\n      <td>7.5</td>\n      <td>10.0</td>\n      <td>...</td>\n      <td>3.23</td>\n      <td>6.0</td>\n      <td>0.62</td>\n      <td>16.54</td>\n      <td>18.23</td>\n      <td>5.0</td>\n      <td>9.642857</td>\n      <td>5.0</td>\n      <td>275.325556</td>\n      <td>114.221144</td>\n    </tr>\n    <tr>\n      <th>5663</th>\n      <td>VW Golf GTE DSG (ab 08/20)</td>\n      <td>VW</td>\n      <td>Golf (VIII) GTE (ab 08/20)</td>\n      <td>180</td>\n      <td>36362.0</td>\n      <td>480.0</td>\n      <td>10.0</td>\n      <td>9.3</td>\n      <td>10.0</td>\n      <td>10.0</td>\n      <td>...</td>\n      <td>3.23</td>\n      <td>6.0</td>\n      <td>0.38</td>\n      <td>12.64</td>\n      <td>13.11</td>\n      <td>5.0</td>\n      <td>9.642857</td>\n      <td>5.0</td>\n      <td>274.452222</td>\n      <td>132.489363</td>\n    </tr>\n    <tr>\n      <th>3107</th>\n      <td>VW Golf 1.5 eTSI R-Line DSG (ab 09/20)</td>\n      <td>VW</td>\n      <td>Golf (VIII) (ab 12/19)</td>\n      <td>110</td>\n      <td>34676.0</td>\n      <td>441.0</td>\n      <td>10.0</td>\n      <td>9.3</td>\n      <td>7.5</td>\n      <td>10.0</td>\n      <td>...</td>\n      <td>3.23</td>\n      <td>6.0</td>\n      <td>0.62</td>\n      <td>13.98</td>\n      <td>15.77</td>\n      <td>5.0</td>\n      <td>9.642857</td>\n      <td>5.0</td>\n      <td>273.705556</td>\n      <td>126.690888</td>\n    </tr>\n    <tr>\n      <th>2099</th>\n      <td>VW Golf 1.5 eTSI Life DSG (ab 09/20)</td>\n      <td>VW</td>\n      <td>Golf (VIII) (ab 12/19)</td>\n      <td>110</td>\n      <td>32306.0</td>\n      <td>423.0</td>\n      <td>10.0</td>\n      <td>9.3</td>\n      <td>7.5</td>\n      <td>10.0</td>\n      <td>...</td>\n      <td>3.23</td>\n      <td>6.0</td>\n      <td>0.62</td>\n      <td>15.86</td>\n      <td>17.00</td>\n      <td>5.0</td>\n      <td>9.642857</td>\n      <td>5.0</td>\n      <td>273.625556</td>\n      <td>118.066457</td>\n    </tr>\n    <tr>\n      <th>2090</th>\n      <td>VW Golf 1.0 eTSI Life (ab 08/20)</td>\n      <td>VW</td>\n      <td>Golf (VIII) (ab 12/19)</td>\n      <td>81</td>\n      <td>29591.0</td>\n      <td>405.0</td>\n      <td>10.0</td>\n      <td>9.3</td>\n      <td>7.5</td>\n      <td>10.0</td>\n      <td>...</td>\n      <td>3.23</td>\n      <td>6.0</td>\n      <td>0.62</td>\n      <td>18.01</td>\n      <td>18.23</td>\n      <td>5.0</td>\n      <td>9.642857</td>\n      <td>5.0</td>\n      <td>273.395556</td>\n      <td>108.235117</td>\n    </tr>\n    <tr>\n      <th>2102</th>\n      <td>VW Golf Variant 1.0 eTSI Life (ab 11/20)</td>\n      <td>VW</td>\n      <td>Golf (VIII) Variant (ab 11/20)</td>\n      <td>81</td>\n      <td>30805.0</td>\n      <td>409.0</td>\n      <td>10.0</td>\n      <td>9.3</td>\n      <td>7.5</td>\n      <td>10.0</td>\n      <td>...</td>\n      <td>3.23</td>\n      <td>6.0</td>\n      <td>1.50</td>\n      <td>17.05</td>\n      <td>17.95</td>\n      <td>5.0</td>\n      <td>9.642857</td>\n      <td>5.0</td>\n      <td>272.515556</td>\n      <td>113.039419</td>\n    </tr>\n    <tr>\n      <th>3110</th>\n      <td>VW Golf 2.0 TDI SCR Style DSG (ab 09/20)</td>\n      <td>VW</td>\n      <td>Golf (VIII) (ab 12/19)</td>\n      <td>110</td>\n      <td>36894.0</td>\n      <td>471.0</td>\n      <td>10.0</td>\n      <td>9.3</td>\n      <td>10.0</td>\n      <td>10.0</td>\n      <td>...</td>\n      <td>3.23</td>\n      <td>6.0</td>\n      <td>0.62</td>\n      <td>12.22</td>\n      <td>13.72</td>\n      <td>5.0</td>\n      <td>9.642857</td>\n      <td>5.0</td>\n      <td>268.262222</td>\n      <td>137.529614</td>\n    </tr>\n  </tbody>\n</table>\n<p>10 rows × 53 columns</p>\n</div>"
     },
     "metadata": {},
     "execution_count": 10
    }
   ],
   "source": [
    "df[df[Column.TOTAL_SCORE] > impreza_total_score].head(10)"
   ]
  },
  {
   "cell_type": "markdown",
   "metadata": {},
   "source": [
    "### Better in euro per score"
   ]
  },
  {
   "cell_type": "code",
   "execution_count": 11,
   "metadata": {},
   "outputs": [
    {
     "output_type": "execute_result",
     "data": {
      "text/plain": [
       "                                          name Marke  \\\n",
       "4406  VW Golf 1.4 eHybrid Style DSG (ab 08/20)    VW   \n",
       "3105     VW Golf 1.5 eTSI Style DSG (ab 09/20)    VW   \n",
       "3106    VW Golf 1.5 eTSI UNITED DSG (ab 09/20)    VW   \n",
       "2091        VW Golf 1.0 eTSI UNITED (ab 08/20)    VW   \n",
       "5663                VW Golf GTE DSG (ab 08/20)    VW   \n",
       "3107    VW Golf 1.5 eTSI R-Line DSG (ab 09/20)    VW   \n",
       "2099      VW Golf 1.5 eTSI Life DSG (ab 09/20)    VW   \n",
       "2090          VW Golf 1.0 eTSI Life (ab 08/20)    VW   \n",
       "2102  VW Golf Variant 1.0 eTSI Life (ab 11/20)    VW   \n",
       "3110  VW Golf 2.0 TDI SCR Style DSG (ab 09/20)    VW   \n",
       "\n",
       "                            Baureihe  Leistung maximal in kW  Total price  \\\n",
       "4406          Golf (VIII) (ab 12/19)                     150      34476.0   \n",
       "3105          Golf (VIII) (ab 12/19)                     110      34374.0   \n",
       "3106          Golf (VIII) (ab 12/19)                     110      34163.0   \n",
       "2091          Golf (VIII) (ab 12/19)                      81      31448.0   \n",
       "5663      Golf (VIII) GTE (ab 08/20)                     180      36362.0   \n",
       "3107          Golf (VIII) (ab 12/19)                     110      34676.0   \n",
       "2099          Golf (VIII) (ab 12/19)                     110      32306.0   \n",
       "2090          Golf (VIII) (ab 12/19)                      81      29591.0   \n",
       "2102  Golf (VIII) Variant (ab 11/20)                      81      30805.0   \n",
       "3110          Golf (VIII) (ab 12/19)                     110      36894.0   \n",
       "\n",
       "      my monthly costs  adaptive cruise from 0 km  safe, euroncap, iihs   AEB  \\\n",
       "4406             436.0                       10.0                   9.3  10.0   \n",
       "3105             439.0                       10.0                   9.3  10.0   \n",
       "3106             423.0                       10.0                   9.3   7.5   \n",
       "2091             405.0                       10.0                   9.3   7.5   \n",
       "5663             480.0                       10.0                   9.3  10.0   \n",
       "3107             441.0                       10.0                   9.3   7.5   \n",
       "2099             423.0                       10.0                   9.3   7.5   \n",
       "2090             405.0                       10.0                   9.3   7.5   \n",
       "2102             409.0                       10.0                   9.3   7.5   \n",
       "3110             471.0                       10.0                   9.3  10.0   \n",
       "\n",
       "      Bremsassistent  ...  easy entry(clearance or height of seats)  \\\n",
       "4406            10.0  ...                                      3.23   \n",
       "3105            10.0  ...                                      3.23   \n",
       "3106            10.0  ...                                      3.23   \n",
       "2091            10.0  ...                                      3.23   \n",
       "5663            10.0  ...                                      3.23   \n",
       "3107            10.0  ...                                      3.23   \n",
       "2099            10.0  ...                                      3.23   \n",
       "2090            10.0  ...                                      3.23   \n",
       "2102            10.0  ...                                      3.23   \n",
       "3110            10.0  ...                                      3.23   \n",
       "\n",
       "      digital speed  boot size,Fit 156 snowboard   price  monthly costs  \\\n",
       "4406            6.0                          0.38  14.14          16.11   \n",
       "3105            6.0                          0.62  14.22          15.90   \n",
       "3106            6.0                          0.62  14.39          17.00   \n",
       "2091            6.0                          0.62  16.54          18.23   \n",
       "5663            6.0                          0.38  12.64          13.11   \n",
       "3107            6.0                          0.62  13.98          15.77   \n",
       "2099            6.0                          0.62  15.86          17.00   \n",
       "2090            6.0                          0.62  18.01          18.23   \n",
       "2102            6.0                          1.50  17.05          17.95   \n",
       "3110            6.0                          0.62  12.22          13.72   \n",
       "\n",
       "      Garantie y  mobile warranty  AGR  Total Score  Euro per score  \n",
       "4406         5.0         9.642857  5.0   282.422222      122.072547  \n",
       "3105         5.0         9.642857  5.0   275.842222      124.614715  \n",
       "3106         5.0         9.642857  5.0   275.555556      123.978629  \n",
       "2091         5.0         9.642857  5.0   275.325556      114.221144  \n",
       "5663         5.0         9.642857  5.0   274.452222      132.489363  \n",
       "3107         5.0         9.642857  5.0   273.705556      126.690888  \n",
       "2099         5.0         9.642857  5.0   273.625556      118.066457  \n",
       "2090         5.0         9.642857  5.0   273.395556      108.235117  \n",
       "2102         5.0         9.642857  5.0   272.515556      113.039419  \n",
       "3110         5.0         9.642857  5.0   268.262222      137.529614  \n",
       "\n",
       "[10 rows x 53 columns]"
      ],
      "text/html": "<div>\n<style scoped>\n    .dataframe tbody tr th:only-of-type {\n        vertical-align: middle;\n    }\n\n    .dataframe tbody tr th {\n        vertical-align: top;\n    }\n\n    .dataframe thead th {\n        text-align: right;\n    }\n</style>\n<table border=\"1\" class=\"dataframe\">\n  <thead>\n    <tr style=\"text-align: right;\">\n      <th></th>\n      <th>name</th>\n      <th>Marke</th>\n      <th>Baureihe</th>\n      <th>Leistung maximal in kW</th>\n      <th>Total price</th>\n      <th>my monthly costs</th>\n      <th>adaptive cruise from 0 km</th>\n      <th>safe, euroncap, iihs</th>\n      <th>AEB</th>\n      <th>Bremsassistent</th>\n      <th>...</th>\n      <th>easy entry(clearance or height of seats)</th>\n      <th>digital speed</th>\n      <th>boot size,Fit 156 snowboard</th>\n      <th>price</th>\n      <th>monthly costs</th>\n      <th>Garantie y</th>\n      <th>mobile warranty</th>\n      <th>AGR</th>\n      <th>Total Score</th>\n      <th>Euro per score</th>\n    </tr>\n  </thead>\n  <tbody>\n    <tr>\n      <th>4406</th>\n      <td>VW Golf 1.4 eHybrid Style DSG (ab 08/20)</td>\n      <td>VW</td>\n      <td>Golf (VIII) (ab 12/19)</td>\n      <td>150</td>\n      <td>34476.0</td>\n      <td>436.0</td>\n      <td>10.0</td>\n      <td>9.3</td>\n      <td>10.0</td>\n      <td>10.0</td>\n      <td>...</td>\n      <td>3.23</td>\n      <td>6.0</td>\n      <td>0.38</td>\n      <td>14.14</td>\n      <td>16.11</td>\n      <td>5.0</td>\n      <td>9.642857</td>\n      <td>5.0</td>\n      <td>282.422222</td>\n      <td>122.072547</td>\n    </tr>\n    <tr>\n      <th>3105</th>\n      <td>VW Golf 1.5 eTSI Style DSG (ab 09/20)</td>\n      <td>VW</td>\n      <td>Golf (VIII) (ab 12/19)</td>\n      <td>110</td>\n      <td>34374.0</td>\n      <td>439.0</td>\n      <td>10.0</td>\n      <td>9.3</td>\n      <td>10.0</td>\n      <td>10.0</td>\n      <td>...</td>\n      <td>3.23</td>\n      <td>6.0</td>\n      <td>0.62</td>\n      <td>14.22</td>\n      <td>15.90</td>\n      <td>5.0</td>\n      <td>9.642857</td>\n      <td>5.0</td>\n      <td>275.842222</td>\n      <td>124.614715</td>\n    </tr>\n    <tr>\n      <th>3106</th>\n      <td>VW Golf 1.5 eTSI UNITED DSG (ab 09/20)</td>\n      <td>VW</td>\n      <td>Golf (VIII) (ab 12/19)</td>\n      <td>110</td>\n      <td>34163.0</td>\n      <td>423.0</td>\n      <td>10.0</td>\n      <td>9.3</td>\n      <td>7.5</td>\n      <td>10.0</td>\n      <td>...</td>\n      <td>3.23</td>\n      <td>6.0</td>\n      <td>0.62</td>\n      <td>14.39</td>\n      <td>17.00</td>\n      <td>5.0</td>\n      <td>9.642857</td>\n      <td>5.0</td>\n      <td>275.555556</td>\n      <td>123.978629</td>\n    </tr>\n    <tr>\n      <th>2091</th>\n      <td>VW Golf 1.0 eTSI UNITED (ab 08/20)</td>\n      <td>VW</td>\n      <td>Golf (VIII) (ab 12/19)</td>\n      <td>81</td>\n      <td>31448.0</td>\n      <td>405.0</td>\n      <td>10.0</td>\n      <td>9.3</td>\n      <td>7.5</td>\n      <td>10.0</td>\n      <td>...</td>\n      <td>3.23</td>\n      <td>6.0</td>\n      <td>0.62</td>\n      <td>16.54</td>\n      <td>18.23</td>\n      <td>5.0</td>\n      <td>9.642857</td>\n      <td>5.0</td>\n      <td>275.325556</td>\n      <td>114.221144</td>\n    </tr>\n    <tr>\n      <th>5663</th>\n      <td>VW Golf GTE DSG (ab 08/20)</td>\n      <td>VW</td>\n      <td>Golf (VIII) GTE (ab 08/20)</td>\n      <td>180</td>\n      <td>36362.0</td>\n      <td>480.0</td>\n      <td>10.0</td>\n      <td>9.3</td>\n      <td>10.0</td>\n      <td>10.0</td>\n      <td>...</td>\n      <td>3.23</td>\n      <td>6.0</td>\n      <td>0.38</td>\n      <td>12.64</td>\n      <td>13.11</td>\n      <td>5.0</td>\n      <td>9.642857</td>\n      <td>5.0</td>\n      <td>274.452222</td>\n      <td>132.489363</td>\n    </tr>\n    <tr>\n      <th>3107</th>\n      <td>VW Golf 1.5 eTSI R-Line DSG (ab 09/20)</td>\n      <td>VW</td>\n      <td>Golf (VIII) (ab 12/19)</td>\n      <td>110</td>\n      <td>34676.0</td>\n      <td>441.0</td>\n      <td>10.0</td>\n      <td>9.3</td>\n      <td>7.5</td>\n      <td>10.0</td>\n      <td>...</td>\n      <td>3.23</td>\n      <td>6.0</td>\n      <td>0.62</td>\n      <td>13.98</td>\n      <td>15.77</td>\n      <td>5.0</td>\n      <td>9.642857</td>\n      <td>5.0</td>\n      <td>273.705556</td>\n      <td>126.690888</td>\n    </tr>\n    <tr>\n      <th>2099</th>\n      <td>VW Golf 1.5 eTSI Life DSG (ab 09/20)</td>\n      <td>VW</td>\n      <td>Golf (VIII) (ab 12/19)</td>\n      <td>110</td>\n      <td>32306.0</td>\n      <td>423.0</td>\n      <td>10.0</td>\n      <td>9.3</td>\n      <td>7.5</td>\n      <td>10.0</td>\n      <td>...</td>\n      <td>3.23</td>\n      <td>6.0</td>\n      <td>0.62</td>\n      <td>15.86</td>\n      <td>17.00</td>\n      <td>5.0</td>\n      <td>9.642857</td>\n      <td>5.0</td>\n      <td>273.625556</td>\n      <td>118.066457</td>\n    </tr>\n    <tr>\n      <th>2090</th>\n      <td>VW Golf 1.0 eTSI Life (ab 08/20)</td>\n      <td>VW</td>\n      <td>Golf (VIII) (ab 12/19)</td>\n      <td>81</td>\n      <td>29591.0</td>\n      <td>405.0</td>\n      <td>10.0</td>\n      <td>9.3</td>\n      <td>7.5</td>\n      <td>10.0</td>\n      <td>...</td>\n      <td>3.23</td>\n      <td>6.0</td>\n      <td>0.62</td>\n      <td>18.01</td>\n      <td>18.23</td>\n      <td>5.0</td>\n      <td>9.642857</td>\n      <td>5.0</td>\n      <td>273.395556</td>\n      <td>108.235117</td>\n    </tr>\n    <tr>\n      <th>2102</th>\n      <td>VW Golf Variant 1.0 eTSI Life (ab 11/20)</td>\n      <td>VW</td>\n      <td>Golf (VIII) Variant (ab 11/20)</td>\n      <td>81</td>\n      <td>30805.0</td>\n      <td>409.0</td>\n      <td>10.0</td>\n      <td>9.3</td>\n      <td>7.5</td>\n      <td>10.0</td>\n      <td>...</td>\n      <td>3.23</td>\n      <td>6.0</td>\n      <td>1.50</td>\n      <td>17.05</td>\n      <td>17.95</td>\n      <td>5.0</td>\n      <td>9.642857</td>\n      <td>5.0</td>\n      <td>272.515556</td>\n      <td>113.039419</td>\n    </tr>\n    <tr>\n      <th>3110</th>\n      <td>VW Golf 2.0 TDI SCR Style DSG (ab 09/20)</td>\n      <td>VW</td>\n      <td>Golf (VIII) (ab 12/19)</td>\n      <td>110</td>\n      <td>36894.0</td>\n      <td>471.0</td>\n      <td>10.0</td>\n      <td>9.3</td>\n      <td>10.0</td>\n      <td>10.0</td>\n      <td>...</td>\n      <td>3.23</td>\n      <td>6.0</td>\n      <td>0.62</td>\n      <td>12.22</td>\n      <td>13.72</td>\n      <td>5.0</td>\n      <td>9.642857</td>\n      <td>5.0</td>\n      <td>268.262222</td>\n      <td>137.529614</td>\n    </tr>\n  </tbody>\n</table>\n<p>10 rows × 53 columns</p>\n</div>"
     },
     "metadata": {},
     "execution_count": 11
    }
   ],
   "source": [
    "df[df[Column.EURO_PER_SCORE] < impreza_euro_per_score].head(10)"
   ]
  },
  {
   "cell_type": "markdown",
   "metadata": {},
   "source": [
    "### Better in costs"
   ]
  },
  {
   "cell_type": "code",
   "execution_count": 12,
   "metadata": {},
   "outputs": [
    {
     "output_type": "execute_result",
     "data": {
      "text/plain": [
       "                                          name Marke  \\\n",
       "4406  VW Golf 1.4 eHybrid Style DSG (ab 08/20)    VW   \n",
       "3105     VW Golf 1.5 eTSI Style DSG (ab 09/20)    VW   \n",
       "3106    VW Golf 1.5 eTSI UNITED DSG (ab 09/20)    VW   \n",
       "2091        VW Golf 1.0 eTSI UNITED (ab 08/20)    VW   \n",
       "5663                VW Golf GTE DSG (ab 08/20)    VW   \n",
       "3107    VW Golf 1.5 eTSI R-Line DSG (ab 09/20)    VW   \n",
       "2099      VW Golf 1.5 eTSI Life DSG (ab 09/20)    VW   \n",
       "2090          VW Golf 1.0 eTSI Life (ab 08/20)    VW   \n",
       "2102  VW Golf Variant 1.0 eTSI Life (ab 11/20)    VW   \n",
       "3110  VW Golf 2.0 TDI SCR Style DSG (ab 09/20)    VW   \n",
       "\n",
       "                            Baureihe  Leistung maximal in kW  Total price  \\\n",
       "4406          Golf (VIII) (ab 12/19)                     150      34476.0   \n",
       "3105          Golf (VIII) (ab 12/19)                     110      34374.0   \n",
       "3106          Golf (VIII) (ab 12/19)                     110      34163.0   \n",
       "2091          Golf (VIII) (ab 12/19)                      81      31448.0   \n",
       "5663      Golf (VIII) GTE (ab 08/20)                     180      36362.0   \n",
       "3107          Golf (VIII) (ab 12/19)                     110      34676.0   \n",
       "2099          Golf (VIII) (ab 12/19)                     110      32306.0   \n",
       "2090          Golf (VIII) (ab 12/19)                      81      29591.0   \n",
       "2102  Golf (VIII) Variant (ab 11/20)                      81      30805.0   \n",
       "3110          Golf (VIII) (ab 12/19)                     110      36894.0   \n",
       "\n",
       "      my monthly costs  adaptive cruise from 0 km  safe, euroncap, iihs   AEB  \\\n",
       "4406             436.0                       10.0                   9.3  10.0   \n",
       "3105             439.0                       10.0                   9.3  10.0   \n",
       "3106             423.0                       10.0                   9.3   7.5   \n",
       "2091             405.0                       10.0                   9.3   7.5   \n",
       "5663             480.0                       10.0                   9.3  10.0   \n",
       "3107             441.0                       10.0                   9.3   7.5   \n",
       "2099             423.0                       10.0                   9.3   7.5   \n",
       "2090             405.0                       10.0                   9.3   7.5   \n",
       "2102             409.0                       10.0                   9.3   7.5   \n",
       "3110             471.0                       10.0                   9.3  10.0   \n",
       "\n",
       "      Bremsassistent  ...  easy entry(clearance or height of seats)  \\\n",
       "4406            10.0  ...                                      3.23   \n",
       "3105            10.0  ...                                      3.23   \n",
       "3106            10.0  ...                                      3.23   \n",
       "2091            10.0  ...                                      3.23   \n",
       "5663            10.0  ...                                      3.23   \n",
       "3107            10.0  ...                                      3.23   \n",
       "2099            10.0  ...                                      3.23   \n",
       "2090            10.0  ...                                      3.23   \n",
       "2102            10.0  ...                                      3.23   \n",
       "3110            10.0  ...                                      3.23   \n",
       "\n",
       "      digital speed  boot size,Fit 156 snowboard   price  monthly costs  \\\n",
       "4406            6.0                          0.38  14.14          16.11   \n",
       "3105            6.0                          0.62  14.22          15.90   \n",
       "3106            6.0                          0.62  14.39          17.00   \n",
       "2091            6.0                          0.62  16.54          18.23   \n",
       "5663            6.0                          0.38  12.64          13.11   \n",
       "3107            6.0                          0.62  13.98          15.77   \n",
       "2099            6.0                          0.62  15.86          17.00   \n",
       "2090            6.0                          0.62  18.01          18.23   \n",
       "2102            6.0                          1.50  17.05          17.95   \n",
       "3110            6.0                          0.62  12.22          13.72   \n",
       "\n",
       "      Garantie y  mobile warranty  AGR  Total Score  Euro per score  \n",
       "4406         5.0         9.642857  5.0   282.422222      122.072547  \n",
       "3105         5.0         9.642857  5.0   275.842222      124.614715  \n",
       "3106         5.0         9.642857  5.0   275.555556      123.978629  \n",
       "2091         5.0         9.642857  5.0   275.325556      114.221144  \n",
       "5663         5.0         9.642857  5.0   274.452222      132.489363  \n",
       "3107         5.0         9.642857  5.0   273.705556      126.690888  \n",
       "2099         5.0         9.642857  5.0   273.625556      118.066457  \n",
       "2090         5.0         9.642857  5.0   273.395556      108.235117  \n",
       "2102         5.0         9.642857  5.0   272.515556      113.039419  \n",
       "3110         5.0         9.642857  5.0   268.262222      137.529614  \n",
       "\n",
       "[10 rows x 53 columns]"
      ],
      "text/html": "<div>\n<style scoped>\n    .dataframe tbody tr th:only-of-type {\n        vertical-align: middle;\n    }\n\n    .dataframe tbody tr th {\n        vertical-align: top;\n    }\n\n    .dataframe thead th {\n        text-align: right;\n    }\n</style>\n<table border=\"1\" class=\"dataframe\">\n  <thead>\n    <tr style=\"text-align: right;\">\n      <th></th>\n      <th>name</th>\n      <th>Marke</th>\n      <th>Baureihe</th>\n      <th>Leistung maximal in kW</th>\n      <th>Total price</th>\n      <th>my monthly costs</th>\n      <th>adaptive cruise from 0 km</th>\n      <th>safe, euroncap, iihs</th>\n      <th>AEB</th>\n      <th>Bremsassistent</th>\n      <th>...</th>\n      <th>easy entry(clearance or height of seats)</th>\n      <th>digital speed</th>\n      <th>boot size,Fit 156 snowboard</th>\n      <th>price</th>\n      <th>monthly costs</th>\n      <th>Garantie y</th>\n      <th>mobile warranty</th>\n      <th>AGR</th>\n      <th>Total Score</th>\n      <th>Euro per score</th>\n    </tr>\n  </thead>\n  <tbody>\n    <tr>\n      <th>4406</th>\n      <td>VW Golf 1.4 eHybrid Style DSG (ab 08/20)</td>\n      <td>VW</td>\n      <td>Golf (VIII) (ab 12/19)</td>\n      <td>150</td>\n      <td>34476.0</td>\n      <td>436.0</td>\n      <td>10.0</td>\n      <td>9.3</td>\n      <td>10.0</td>\n      <td>10.0</td>\n      <td>...</td>\n      <td>3.23</td>\n      <td>6.0</td>\n      <td>0.38</td>\n      <td>14.14</td>\n      <td>16.11</td>\n      <td>5.0</td>\n      <td>9.642857</td>\n      <td>5.0</td>\n      <td>282.422222</td>\n      <td>122.072547</td>\n    </tr>\n    <tr>\n      <th>3105</th>\n      <td>VW Golf 1.5 eTSI Style DSG (ab 09/20)</td>\n      <td>VW</td>\n      <td>Golf (VIII) (ab 12/19)</td>\n      <td>110</td>\n      <td>34374.0</td>\n      <td>439.0</td>\n      <td>10.0</td>\n      <td>9.3</td>\n      <td>10.0</td>\n      <td>10.0</td>\n      <td>...</td>\n      <td>3.23</td>\n      <td>6.0</td>\n      <td>0.62</td>\n      <td>14.22</td>\n      <td>15.90</td>\n      <td>5.0</td>\n      <td>9.642857</td>\n      <td>5.0</td>\n      <td>275.842222</td>\n      <td>124.614715</td>\n    </tr>\n    <tr>\n      <th>3106</th>\n      <td>VW Golf 1.5 eTSI UNITED DSG (ab 09/20)</td>\n      <td>VW</td>\n      <td>Golf (VIII) (ab 12/19)</td>\n      <td>110</td>\n      <td>34163.0</td>\n      <td>423.0</td>\n      <td>10.0</td>\n      <td>9.3</td>\n      <td>7.5</td>\n      <td>10.0</td>\n      <td>...</td>\n      <td>3.23</td>\n      <td>6.0</td>\n      <td>0.62</td>\n      <td>14.39</td>\n      <td>17.00</td>\n      <td>5.0</td>\n      <td>9.642857</td>\n      <td>5.0</td>\n      <td>275.555556</td>\n      <td>123.978629</td>\n    </tr>\n    <tr>\n      <th>2091</th>\n      <td>VW Golf 1.0 eTSI UNITED (ab 08/20)</td>\n      <td>VW</td>\n      <td>Golf (VIII) (ab 12/19)</td>\n      <td>81</td>\n      <td>31448.0</td>\n      <td>405.0</td>\n      <td>10.0</td>\n      <td>9.3</td>\n      <td>7.5</td>\n      <td>10.0</td>\n      <td>...</td>\n      <td>3.23</td>\n      <td>6.0</td>\n      <td>0.62</td>\n      <td>16.54</td>\n      <td>18.23</td>\n      <td>5.0</td>\n      <td>9.642857</td>\n      <td>5.0</td>\n      <td>275.325556</td>\n      <td>114.221144</td>\n    </tr>\n    <tr>\n      <th>5663</th>\n      <td>VW Golf GTE DSG (ab 08/20)</td>\n      <td>VW</td>\n      <td>Golf (VIII) GTE (ab 08/20)</td>\n      <td>180</td>\n      <td>36362.0</td>\n      <td>480.0</td>\n      <td>10.0</td>\n      <td>9.3</td>\n      <td>10.0</td>\n      <td>10.0</td>\n      <td>...</td>\n      <td>3.23</td>\n      <td>6.0</td>\n      <td>0.38</td>\n      <td>12.64</td>\n      <td>13.11</td>\n      <td>5.0</td>\n      <td>9.642857</td>\n      <td>5.0</td>\n      <td>274.452222</td>\n      <td>132.489363</td>\n    </tr>\n    <tr>\n      <th>3107</th>\n      <td>VW Golf 1.5 eTSI R-Line DSG (ab 09/20)</td>\n      <td>VW</td>\n      <td>Golf (VIII) (ab 12/19)</td>\n      <td>110</td>\n      <td>34676.0</td>\n      <td>441.0</td>\n      <td>10.0</td>\n      <td>9.3</td>\n      <td>7.5</td>\n      <td>10.0</td>\n      <td>...</td>\n      <td>3.23</td>\n      <td>6.0</td>\n      <td>0.62</td>\n      <td>13.98</td>\n      <td>15.77</td>\n      <td>5.0</td>\n      <td>9.642857</td>\n      <td>5.0</td>\n      <td>273.705556</td>\n      <td>126.690888</td>\n    </tr>\n    <tr>\n      <th>2099</th>\n      <td>VW Golf 1.5 eTSI Life DSG (ab 09/20)</td>\n      <td>VW</td>\n      <td>Golf (VIII) (ab 12/19)</td>\n      <td>110</td>\n      <td>32306.0</td>\n      <td>423.0</td>\n      <td>10.0</td>\n      <td>9.3</td>\n      <td>7.5</td>\n      <td>10.0</td>\n      <td>...</td>\n      <td>3.23</td>\n      <td>6.0</td>\n      <td>0.62</td>\n      <td>15.86</td>\n      <td>17.00</td>\n      <td>5.0</td>\n      <td>9.642857</td>\n      <td>5.0</td>\n      <td>273.625556</td>\n      <td>118.066457</td>\n    </tr>\n    <tr>\n      <th>2090</th>\n      <td>VW Golf 1.0 eTSI Life (ab 08/20)</td>\n      <td>VW</td>\n      <td>Golf (VIII) (ab 12/19)</td>\n      <td>81</td>\n      <td>29591.0</td>\n      <td>405.0</td>\n      <td>10.0</td>\n      <td>9.3</td>\n      <td>7.5</td>\n      <td>10.0</td>\n      <td>...</td>\n      <td>3.23</td>\n      <td>6.0</td>\n      <td>0.62</td>\n      <td>18.01</td>\n      <td>18.23</td>\n      <td>5.0</td>\n      <td>9.642857</td>\n      <td>5.0</td>\n      <td>273.395556</td>\n      <td>108.235117</td>\n    </tr>\n    <tr>\n      <th>2102</th>\n      <td>VW Golf Variant 1.0 eTSI Life (ab 11/20)</td>\n      <td>VW</td>\n      <td>Golf (VIII) Variant (ab 11/20)</td>\n      <td>81</td>\n      <td>30805.0</td>\n      <td>409.0</td>\n      <td>10.0</td>\n      <td>9.3</td>\n      <td>7.5</td>\n      <td>10.0</td>\n      <td>...</td>\n      <td>3.23</td>\n      <td>6.0</td>\n      <td>1.50</td>\n      <td>17.05</td>\n      <td>17.95</td>\n      <td>5.0</td>\n      <td>9.642857</td>\n      <td>5.0</td>\n      <td>272.515556</td>\n      <td>113.039419</td>\n    </tr>\n    <tr>\n      <th>3110</th>\n      <td>VW Golf 2.0 TDI SCR Style DSG (ab 09/20)</td>\n      <td>VW</td>\n      <td>Golf (VIII) (ab 12/19)</td>\n      <td>110</td>\n      <td>36894.0</td>\n      <td>471.0</td>\n      <td>10.0</td>\n      <td>9.3</td>\n      <td>10.0</td>\n      <td>10.0</td>\n      <td>...</td>\n      <td>3.23</td>\n      <td>6.0</td>\n      <td>0.62</td>\n      <td>12.22</td>\n      <td>13.72</td>\n      <td>5.0</td>\n      <td>9.642857</td>\n      <td>5.0</td>\n      <td>268.262222</td>\n      <td>137.529614</td>\n    </tr>\n  </tbody>\n</table>\n<p>10 rows × 53 columns</p>\n</div>"
     },
     "metadata": {},
     "execution_count": 12
    }
   ],
   "source": [
    "df[df[Column.MY_M_COSTS] < impreza_costs].head(10)"
   ]
  },
  {
   "cell_type": "markdown",
   "metadata": {},
   "source": [
    "### Better in everything"
   ]
  },
  {
   "cell_type": "code",
   "execution_count": 14,
   "metadata": {},
   "outputs": [
    {
     "output_type": "execute_result",
     "data": {
      "text/plain": [
       "                                                   name   Marke  \\\n",
       "4406           VW Golf 1.4 eHybrid Style DSG (ab 08/20)      VW   \n",
       "3105              VW Golf 1.5 eTSI Style DSG (ab 09/20)      VW   \n",
       "3106             VW Golf 1.5 eTSI UNITED DSG (ab 09/20)      VW   \n",
       "2091                 VW Golf 1.0 eTSI UNITED (ab 08/20)      VW   \n",
       "5663                         VW Golf GTE DSG (ab 08/20)      VW   \n",
       "...                                                 ...     ...   \n",
       "1534  KIA Ceed Sportswagon 1.6 CRDi 136 Eco-Dynamics...     KIA   \n",
       "2036  Subaru Impreza 1.6i Exclusive Lineartronic (ab...  Subaru   \n",
       "1532  KIA Ceed Sportswagon 1.6 CRDi 115 Eco-Dynamics...     KIA   \n",
       "731           KIA Ceed 1.4 T-GDI Vision DCT7 (ab 09/19)     KIA   \n",
       "1551  KIA XCeed 1.4 T-GDI JBL Sound Edition DCT7 (ab...     KIA   \n",
       "\n",
       "                              Baureihe  Leistung maximal in kW  Total price  \\\n",
       "4406            Golf (VIII) (ab 12/19)                     150      34476.0   \n",
       "3105            Golf (VIII) (ab 12/19)                     110      34374.0   \n",
       "3106            Golf (VIII) (ab 12/19)                     110      34163.0   \n",
       "2091            Golf (VIII) (ab 12/19)                      81      31448.0   \n",
       "5663        Golf (VIII) GTE (ab 08/20)                     180      36362.0   \n",
       "...                                ...                     ...          ...   \n",
       "1534  Ceed (CD) Sportswagon (ab 09/18)                     100      29061.0   \n",
       "2036            Impreza (V) (ab 06/20)                      84      27840.0   \n",
       "1532  Ceed (CD) Sportswagon (ab 09/18)                      85      28573.0   \n",
       "731               Ceed (CD) (ab 06/18)                     103      25210.0   \n",
       "1551             XCeed (CD) (ab 09/19)                     103      27664.0   \n",
       "\n",
       "      my monthly costs  adaptive cruise from 0 km  safe, euroncap, iihs   AEB  \\\n",
       "4406             436.0                       10.0                  9.30  10.0   \n",
       "3105             439.0                       10.0                  9.30  10.0   \n",
       "3106             423.0                       10.0                  9.30   7.5   \n",
       "2091             405.0                       10.0                  9.30   7.5   \n",
       "5663             480.0                       10.0                  9.30  10.0   \n",
       "...                ...                        ...                   ...   ...   \n",
       "1534             446.0                       10.0                  8.51   0.0   \n",
       "2036             526.0                       10.0                  8.91  10.0   \n",
       "1532             442.0                       10.0                  8.51   0.0   \n",
       "731              429.0                       10.0                  8.51   0.0   \n",
       "1551             462.0                       10.0                  0.00   0.0   \n",
       "\n",
       "      Bremsassistent  ...  easy entry(clearance or height of seats)  \\\n",
       "4406            10.0  ...                                      3.23   \n",
       "3105            10.0  ...                                      3.23   \n",
       "3106            10.0  ...                                      3.23   \n",
       "2091            10.0  ...                                      3.23   \n",
       "5663            10.0  ...                                      3.23   \n",
       "...              ...  ...                                       ...   \n",
       "1534            10.0  ...                                      3.60   \n",
       "2036            10.0  ...                                      2.13   \n",
       "1532            10.0  ...                                      3.60   \n",
       "731             10.0  ...                                      3.60   \n",
       "1551            10.0  ...                                      3.60   \n",
       "\n",
       "      digital speed  boot size,Fit 156 snowboard   price  monthly costs  \\\n",
       "4406            6.0                          0.38  14.14          16.11   \n",
       "3105            6.0                          0.62  14.22          15.90   \n",
       "3106            6.0                          0.62  14.39          17.00   \n",
       "2091            6.0                          0.62  16.54          18.23   \n",
       "5663            6.0                          0.38  12.64          13.11   \n",
       "...             ...                           ...    ...            ...   \n",
       "1534            0.0                          1.65  18.43          15.43   \n",
       "2036            0.0                          0.79  19.39           9.97   \n",
       "1532            0.0                          1.65  18.81          15.70   \n",
       "731             0.0                          0.75  21.48          16.59   \n",
       "1551            0.0                          0.94  19.53          14.33   \n",
       "\n",
       "      Garantie y  mobile warranty  AGR  Total Score  Euro per score  \n",
       "4406         5.0         9.642857  5.0   282.422222      122.072547  \n",
       "3105         5.0         9.642857  5.0   275.842222      124.614715  \n",
       "3106         5.0         9.642857  5.0   275.555556      123.978629  \n",
       "2091         5.0         9.642857  5.0   275.325556      114.221144  \n",
       "5663         5.0         9.642857  5.0   274.452222      132.489363  \n",
       "...          ...              ...  ...          ...             ...  \n",
       "1534        10.0         6.428571  0.0   203.080000      143.101241  \n",
       "2036         7.5         0.000000  0.0   201.748095      137.993868  \n",
       "1532        10.0         6.428571  0.0   201.490000      141.808526  \n",
       "731         10.0         6.428571  0.0   198.636667      126.915138  \n",
       "1551        10.0         6.428571  0.0   198.426190      139.417080  \n",
       "\n",
       "[175 rows x 53 columns]"
      ],
      "text/html": "<div>\n<style scoped>\n    .dataframe tbody tr th:only-of-type {\n        vertical-align: middle;\n    }\n\n    .dataframe tbody tr th {\n        vertical-align: top;\n    }\n\n    .dataframe thead th {\n        text-align: right;\n    }\n</style>\n<table border=\"1\" class=\"dataframe\">\n  <thead>\n    <tr style=\"text-align: right;\">\n      <th></th>\n      <th>name</th>\n      <th>Marke</th>\n      <th>Baureihe</th>\n      <th>Leistung maximal in kW</th>\n      <th>Total price</th>\n      <th>my monthly costs</th>\n      <th>adaptive cruise from 0 km</th>\n      <th>safe, euroncap, iihs</th>\n      <th>AEB</th>\n      <th>Bremsassistent</th>\n      <th>...</th>\n      <th>easy entry(clearance or height of seats)</th>\n      <th>digital speed</th>\n      <th>boot size,Fit 156 snowboard</th>\n      <th>price</th>\n      <th>monthly costs</th>\n      <th>Garantie y</th>\n      <th>mobile warranty</th>\n      <th>AGR</th>\n      <th>Total Score</th>\n      <th>Euro per score</th>\n    </tr>\n  </thead>\n  <tbody>\n    <tr>\n      <th>4406</th>\n      <td>VW Golf 1.4 eHybrid Style DSG (ab 08/20)</td>\n      <td>VW</td>\n      <td>Golf (VIII) (ab 12/19)</td>\n      <td>150</td>\n      <td>34476.0</td>\n      <td>436.0</td>\n      <td>10.0</td>\n      <td>9.30</td>\n      <td>10.0</td>\n      <td>10.0</td>\n      <td>...</td>\n      <td>3.23</td>\n      <td>6.0</td>\n      <td>0.38</td>\n      <td>14.14</td>\n      <td>16.11</td>\n      <td>5.0</td>\n      <td>9.642857</td>\n      <td>5.0</td>\n      <td>282.422222</td>\n      <td>122.072547</td>\n    </tr>\n    <tr>\n      <th>3105</th>\n      <td>VW Golf 1.5 eTSI Style DSG (ab 09/20)</td>\n      <td>VW</td>\n      <td>Golf (VIII) (ab 12/19)</td>\n      <td>110</td>\n      <td>34374.0</td>\n      <td>439.0</td>\n      <td>10.0</td>\n      <td>9.30</td>\n      <td>10.0</td>\n      <td>10.0</td>\n      <td>...</td>\n      <td>3.23</td>\n      <td>6.0</td>\n      <td>0.62</td>\n      <td>14.22</td>\n      <td>15.90</td>\n      <td>5.0</td>\n      <td>9.642857</td>\n      <td>5.0</td>\n      <td>275.842222</td>\n      <td>124.614715</td>\n    </tr>\n    <tr>\n      <th>3106</th>\n      <td>VW Golf 1.5 eTSI UNITED DSG (ab 09/20)</td>\n      <td>VW</td>\n      <td>Golf (VIII) (ab 12/19)</td>\n      <td>110</td>\n      <td>34163.0</td>\n      <td>423.0</td>\n      <td>10.0</td>\n      <td>9.30</td>\n      <td>7.5</td>\n      <td>10.0</td>\n      <td>...</td>\n      <td>3.23</td>\n      <td>6.0</td>\n      <td>0.62</td>\n      <td>14.39</td>\n      <td>17.00</td>\n      <td>5.0</td>\n      <td>9.642857</td>\n      <td>5.0</td>\n      <td>275.555556</td>\n      <td>123.978629</td>\n    </tr>\n    <tr>\n      <th>2091</th>\n      <td>VW Golf 1.0 eTSI UNITED (ab 08/20)</td>\n      <td>VW</td>\n      <td>Golf (VIII) (ab 12/19)</td>\n      <td>81</td>\n      <td>31448.0</td>\n      <td>405.0</td>\n      <td>10.0</td>\n      <td>9.30</td>\n      <td>7.5</td>\n      <td>10.0</td>\n      <td>...</td>\n      <td>3.23</td>\n      <td>6.0</td>\n      <td>0.62</td>\n      <td>16.54</td>\n      <td>18.23</td>\n      <td>5.0</td>\n      <td>9.642857</td>\n      <td>5.0</td>\n      <td>275.325556</td>\n      <td>114.221144</td>\n    </tr>\n    <tr>\n      <th>5663</th>\n      <td>VW Golf GTE DSG (ab 08/20)</td>\n      <td>VW</td>\n      <td>Golf (VIII) GTE (ab 08/20)</td>\n      <td>180</td>\n      <td>36362.0</td>\n      <td>480.0</td>\n      <td>10.0</td>\n      <td>9.30</td>\n      <td>10.0</td>\n      <td>10.0</td>\n      <td>...</td>\n      <td>3.23</td>\n      <td>6.0</td>\n      <td>0.38</td>\n      <td>12.64</td>\n      <td>13.11</td>\n      <td>5.0</td>\n      <td>9.642857</td>\n      <td>5.0</td>\n      <td>274.452222</td>\n      <td>132.489363</td>\n    </tr>\n    <tr>\n      <th>...</th>\n      <td>...</td>\n      <td>...</td>\n      <td>...</td>\n      <td>...</td>\n      <td>...</td>\n      <td>...</td>\n      <td>...</td>\n      <td>...</td>\n      <td>...</td>\n      <td>...</td>\n      <td>...</td>\n      <td>...</td>\n      <td>...</td>\n      <td>...</td>\n      <td>...</td>\n      <td>...</td>\n      <td>...</td>\n      <td>...</td>\n      <td>...</td>\n      <td>...</td>\n      <td>...</td>\n    </tr>\n    <tr>\n      <th>1534</th>\n      <td>KIA Ceed Sportswagon 1.6 CRDi 136 Eco-Dynamics...</td>\n      <td>KIA</td>\n      <td>Ceed (CD) Sportswagon (ab 09/18)</td>\n      <td>100</td>\n      <td>29061.0</td>\n      <td>446.0</td>\n      <td>10.0</td>\n      <td>8.51</td>\n      <td>0.0</td>\n      <td>10.0</td>\n      <td>...</td>\n      <td>3.60</td>\n      <td>0.0</td>\n      <td>1.65</td>\n      <td>18.43</td>\n      <td>15.43</td>\n      <td>10.0</td>\n      <td>6.428571</td>\n      <td>0.0</td>\n      <td>203.080000</td>\n      <td>143.101241</td>\n    </tr>\n    <tr>\n      <th>2036</th>\n      <td>Subaru Impreza 1.6i Exclusive Lineartronic (ab...</td>\n      <td>Subaru</td>\n      <td>Impreza (V) (ab 06/20)</td>\n      <td>84</td>\n      <td>27840.0</td>\n      <td>526.0</td>\n      <td>10.0</td>\n      <td>8.91</td>\n      <td>10.0</td>\n      <td>10.0</td>\n      <td>...</td>\n      <td>2.13</td>\n      <td>0.0</td>\n      <td>0.79</td>\n      <td>19.39</td>\n      <td>9.97</td>\n      <td>7.5</td>\n      <td>0.000000</td>\n      <td>0.0</td>\n      <td>201.748095</td>\n      <td>137.993868</td>\n    </tr>\n    <tr>\n      <th>1532</th>\n      <td>KIA Ceed Sportswagon 1.6 CRDi 115 Eco-Dynamics...</td>\n      <td>KIA</td>\n      <td>Ceed (CD) Sportswagon (ab 09/18)</td>\n      <td>85</td>\n      <td>28573.0</td>\n      <td>442.0</td>\n      <td>10.0</td>\n      <td>8.51</td>\n      <td>0.0</td>\n      <td>10.0</td>\n      <td>...</td>\n      <td>3.60</td>\n      <td>0.0</td>\n      <td>1.65</td>\n      <td>18.81</td>\n      <td>15.70</td>\n      <td>10.0</td>\n      <td>6.428571</td>\n      <td>0.0</td>\n      <td>201.490000</td>\n      <td>141.808526</td>\n    </tr>\n    <tr>\n      <th>731</th>\n      <td>KIA Ceed 1.4 T-GDI Vision DCT7 (ab 09/19)</td>\n      <td>KIA</td>\n      <td>Ceed (CD) (ab 06/18)</td>\n      <td>103</td>\n      <td>25210.0</td>\n      <td>429.0</td>\n      <td>10.0</td>\n      <td>8.51</td>\n      <td>0.0</td>\n      <td>10.0</td>\n      <td>...</td>\n      <td>3.60</td>\n      <td>0.0</td>\n      <td>0.75</td>\n      <td>21.48</td>\n      <td>16.59</td>\n      <td>10.0</td>\n      <td>6.428571</td>\n      <td>0.0</td>\n      <td>198.636667</td>\n      <td>126.915138</td>\n    </tr>\n    <tr>\n      <th>1551</th>\n      <td>KIA XCeed 1.4 T-GDI JBL Sound Edition DCT7 (ab...</td>\n      <td>KIA</td>\n      <td>XCeed (CD) (ab 09/19)</td>\n      <td>103</td>\n      <td>27664.0</td>\n      <td>462.0</td>\n      <td>10.0</td>\n      <td>0.00</td>\n      <td>0.0</td>\n      <td>10.0</td>\n      <td>...</td>\n      <td>3.60</td>\n      <td>0.0</td>\n      <td>0.94</td>\n      <td>19.53</td>\n      <td>14.33</td>\n      <td>10.0</td>\n      <td>6.428571</td>\n      <td>0.0</td>\n      <td>198.426190</td>\n      <td>139.417080</td>\n    </tr>\n  </tbody>\n</table>\n<p>175 rows × 53 columns</p>\n</div>"
     },
     "metadata": {},
     "execution_count": 14
    }
   ],
   "source": [
    "d = df[(df[Column.TOTAL_SCORE] > impreza_total_score) & (df[Column.EURO_PER_SCORE] < impreza_euro_per_score) & (df[Column.MY_M_COSTS] < impreza_costs)]\n",
    "d.to_csv('/tmp/best_car.csv')\n",
    "d"
   ]
  },
  {
   "cell_type": "code",
   "execution_count": null,
   "metadata": {},
   "outputs": [],
   "source": []
  }
 ],
 "metadata": {
  "language_info": {
   "codemirror_mode": {
    "name": "ipython",
    "version": 3
   },
   "file_extension": ".py",
   "mimetype": "text/x-python",
   "name": "python",
   "nbconvert_exporter": "python",
   "pygments_lexer": "ipython3",
   "version": "3.8.0-final"
  },
  "orig_nbformat": 2,
  "kernelspec": {
   "name": "python38064bitvenvvenv19fc6a42b4f14267a5673bbe29c8a3fc",
   "display_name": "Python 3.8.0 64-bit ('.venv': venv)"
  }
 },
 "nbformat": 4,
 "nbformat_minor": 2
}