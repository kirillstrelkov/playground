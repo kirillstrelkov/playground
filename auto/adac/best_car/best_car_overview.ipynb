{
 "cells": [
  {
   "cell_type": "markdown",
   "metadata": {},
   "source": [
    "# Finding best car\n",
    "## Show top cars with least monthly costs"
   ]
  },
  {
   "cell_type": "code",
   "execution_count": 2,
   "metadata": {
    "tags": []
   },
   "outputs": [
    {
     "output_type": "execute_result",
     "data": {
      "text/plain": [
       "      Marke                                 Baureihe  Leistung maximal in kW  \\\n",
       "552  Toyota                 Corolla (E21) (ab 04/19)                      90   \n",
       "555  Toyota  Corolla (E21) Touring Sports (ab 04/19)                      90   \n",
       "554  Toyota      Corolla (E21) Stufenheck (ab 04/19)                      90   \n",
       "516   Skoda            Octavia (IV) Combi (ab 04/20)                      96   \n",
       "520   Skoda        Octavia (IV) Limousine (ab 04/20)                      96   \n",
       "\n",
       "     Total price  my monthly costs  \n",
       "552      28856.0             357.0  \n",
       "555      30568.0             359.0  \n",
       "554      29968.0             363.0  \n",
       "516      37338.0             368.0  \n",
       "520      36655.0             370.0  "
      ],
      "text/html": "<div>\n<style scoped>\n    .dataframe tbody tr th:only-of-type {\n        vertical-align: middle;\n    }\n\n    .dataframe tbody tr th {\n        vertical-align: top;\n    }\n\n    .dataframe thead th {\n        text-align: right;\n    }\n</style>\n<table border=\"1\" class=\"dataframe\">\n  <thead>\n    <tr style=\"text-align: right;\">\n      <th></th>\n      <th>Marke</th>\n      <th>Baureihe</th>\n      <th>Leistung maximal in kW</th>\n      <th>Total price</th>\n      <th>my monthly costs</th>\n    </tr>\n  </thead>\n  <tbody>\n    <tr>\n      <th>552</th>\n      <td>Toyota</td>\n      <td>Corolla (E21) (ab 04/19)</td>\n      <td>90</td>\n      <td>28856.0</td>\n      <td>357.0</td>\n    </tr>\n    <tr>\n      <th>555</th>\n      <td>Toyota</td>\n      <td>Corolla (E21) Touring Sports (ab 04/19)</td>\n      <td>90</td>\n      <td>30568.0</td>\n      <td>359.0</td>\n    </tr>\n    <tr>\n      <th>554</th>\n      <td>Toyota</td>\n      <td>Corolla (E21) Stufenheck (ab 04/19)</td>\n      <td>90</td>\n      <td>29968.0</td>\n      <td>363.0</td>\n    </tr>\n    <tr>\n      <th>516</th>\n      <td>Skoda</td>\n      <td>Octavia (IV) Combi (ab 04/20)</td>\n      <td>96</td>\n      <td>37338.0</td>\n      <td>368.0</td>\n    </tr>\n    <tr>\n      <th>520</th>\n      <td>Skoda</td>\n      <td>Octavia (IV) Limousine (ab 04/20)</td>\n      <td>96</td>\n      <td>36655.0</td>\n      <td>370.0</td>\n    </tr>\n  </tbody>\n</table>\n</div>"
     },
     "metadata": {},
     "execution_count": 2
    }
   ],
   "source": [
    "from find_best_car import (\n",
    "    _get_df_with_cost_to_own, \n",
    "    Column, \n",
    "    get_scored_df\n",
    ")\n",
    "import pandas as pd\n",
    "from numpy import nan\n",
    "\n",
    "import seaborn as sns\n",
    "\n",
    "def coloraze(df, axis=1):\n",
    "    cm = sns.light_palette(\"seagreen\", as_cmap=True)\n",
    "    return df.style.background_gradient(cmap=cm, axis=axis)\n",
    "\n",
    "GROUP_COLS_MARK_SERIE_KW = [Column.MARK, Column.SERIE, Column.PERFORMANCE_KW]\n",
    "\n",
    "df = _get_df_with_cost_to_own(de_discount=True)\n",
    "\n",
    "g = df.groupby(GROUP_COLS_MARK_SERIE_KW, as_index=False)\n",
    "costs_mean = g[[Column.TOTAL_PRICE, Column.MY_M_COSTS]].mean()\n",
    "costs_mean.sort_values(Column.MY_M_COSTS).head(5).round(0)"
   ]
  },
  {
   "cell_type": "markdown",
   "metadata": {},
   "source": [
    "## Cars with lowest monthly costs"
   ]
  },
  {
   "cell_type": "code",
   "execution_count": 3,
   "metadata": {},
   "outputs": [
    {
     "output_type": "execute_result",
     "data": {
      "text/plain": [
       "       Marke                                 Baureihe  Leistung maximal in kW  \\\n",
       "552   Toyota                 Corolla (E21) (ab 04/19)                      90   \n",
       "555   Toyota  Corolla (E21) Touring Sports (ab 04/19)                      90   \n",
       "554   Toyota      Corolla (E21) Stufenheck (ab 04/19)                      90   \n",
       "516    Skoda            Octavia (IV) Combi (ab 04/20)                      96   \n",
       "520    Skoda        Octavia (IV) Limousine (ab 04/20)                      96   \n",
       "569       VW                   Golf (VIII) (ab 12/19)                      96   \n",
       "204  Hyundai            IONIQ (AE) Elektro (ab 09/19)                     100   \n",
       "297     MINI   MINI (F56) Electric 3-Türer (ab 03/20)                     135   \n",
       "563   Toyota                  Yaris (XP21) (ab 09/20)                      85   \n",
       "553   Toyota                 Corolla (E21) (ab 04/19)                     135   \n",
       "\n",
       "     Total price  my monthly costs  \n",
       "552      28856.0             357.0  \n",
       "555      30568.0             359.0  \n",
       "554      29968.0             363.0  \n",
       "516      37338.0             368.0  \n",
       "520      36655.0             370.0  \n",
       "569      33554.0             371.0  \n",
       "204      31678.0             373.0  \n",
       "297      30897.0             375.0  \n",
       "563      23792.0             376.0  \n",
       "553      32821.0             380.0  "
      ],
      "text/html": "<div>\n<style scoped>\n    .dataframe tbody tr th:only-of-type {\n        vertical-align: middle;\n    }\n\n    .dataframe tbody tr th {\n        vertical-align: top;\n    }\n\n    .dataframe thead th {\n        text-align: right;\n    }\n</style>\n<table border=\"1\" class=\"dataframe\">\n  <thead>\n    <tr style=\"text-align: right;\">\n      <th></th>\n      <th>Marke</th>\n      <th>Baureihe</th>\n      <th>Leistung maximal in kW</th>\n      <th>Total price</th>\n      <th>my monthly costs</th>\n    </tr>\n  </thead>\n  <tbody>\n    <tr>\n      <th>552</th>\n      <td>Toyota</td>\n      <td>Corolla (E21) (ab 04/19)</td>\n      <td>90</td>\n      <td>28856.0</td>\n      <td>357.0</td>\n    </tr>\n    <tr>\n      <th>555</th>\n      <td>Toyota</td>\n      <td>Corolla (E21) Touring Sports (ab 04/19)</td>\n      <td>90</td>\n      <td>30568.0</td>\n      <td>359.0</td>\n    </tr>\n    <tr>\n      <th>554</th>\n      <td>Toyota</td>\n      <td>Corolla (E21) Stufenheck (ab 04/19)</td>\n      <td>90</td>\n      <td>29968.0</td>\n      <td>363.0</td>\n    </tr>\n    <tr>\n      <th>516</th>\n      <td>Skoda</td>\n      <td>Octavia (IV) Combi (ab 04/20)</td>\n      <td>96</td>\n      <td>37338.0</td>\n      <td>368.0</td>\n    </tr>\n    <tr>\n      <th>520</th>\n      <td>Skoda</td>\n      <td>Octavia (IV) Limousine (ab 04/20)</td>\n      <td>96</td>\n      <td>36655.0</td>\n      <td>370.0</td>\n    </tr>\n    <tr>\n      <th>569</th>\n      <td>VW</td>\n      <td>Golf (VIII) (ab 12/19)</td>\n      <td>96</td>\n      <td>33554.0</td>\n      <td>371.0</td>\n    </tr>\n    <tr>\n      <th>204</th>\n      <td>Hyundai</td>\n      <td>IONIQ (AE) Elektro (ab 09/19)</td>\n      <td>100</td>\n      <td>31678.0</td>\n      <td>373.0</td>\n    </tr>\n    <tr>\n      <th>297</th>\n      <td>MINI</td>\n      <td>MINI (F56) Electric 3-Türer (ab 03/20)</td>\n      <td>135</td>\n      <td>30897.0</td>\n      <td>375.0</td>\n    </tr>\n    <tr>\n      <th>563</th>\n      <td>Toyota</td>\n      <td>Yaris (XP21) (ab 09/20)</td>\n      <td>85</td>\n      <td>23792.0</td>\n      <td>376.0</td>\n    </tr>\n    <tr>\n      <th>553</th>\n      <td>Toyota</td>\n      <td>Corolla (E21) (ab 04/19)</td>\n      <td>135</td>\n      <td>32821.0</td>\n      <td>380.0</td>\n    </tr>\n  </tbody>\n</table>\n</div>"
     },
     "metadata": {},
     "execution_count": 3
    }
   ],
   "source": [
    "costs_mean.sort_values(Column.MY_M_COSTS).round(0).head(10)"
   ]
  },
  {
   "cell_type": "markdown",
   "metadata": {},
   "source": [
    "## Find missing data in input excel"
   ]
  },
  {
   "cell_type": "code",
   "execution_count": 3,
   "metadata": {
    "tags": []
   },
   "outputs": [],
   "source": [
    "\n",
    "df = get_scored_df(de_discount=True)\n",
    "\n",
    "for col in df.columns:\n",
    "    uniq_vals = df[col]\n",
    "    if uniq_vals.isnull().values.any():\n",
    "        print(f\"Bad column: {col}\")\n"
   ]
  },
  {
   "cell_type": "code",
   "execution_count": 7,
   "metadata": {
    "tags": []
   },
   "outputs": [
    {
     "output_type": "execute_result",
     "data": {
      "text/plain": [
       "     Marke                             Baureihe\n",
       "459   Audi         A1 (GB) Sportback (ab 11/18)\n",
       "464   Audi        A1 (GB) citycarver (ab 09/19)\n",
       "2169  Audi         A3 (8Y) Limousine (ab 06/20)\n",
       "3174  Audi         A3 (8Y) Sportback (ab 05/20)\n",
       "2156  Audi  A3 (8Y) Sportback g-tron (ab 10/20)\n",
       "...    ...                                  ...\n",
       "4426    VW                     T-Roc (ab 11/17)\n",
       "3153    VW           T-Roc Cabriolet (ab 03/20)\n",
       "5695    VW                   T-Roc R (ab 09/19)\n",
       "3137    VW               Tiguan (II) (ab 09/20)\n",
       "6608    VW      Tiguan (II) Allspace (ab 09/17)\n",
       "\n",
       "[78 rows x 2 columns]"
      ],
      "text/html": "<div>\n<style scoped>\n    .dataframe tbody tr th:only-of-type {\n        vertical-align: middle;\n    }\n\n    .dataframe tbody tr th {\n        vertical-align: top;\n    }\n\n    .dataframe thead th {\n        text-align: right;\n    }\n</style>\n<table border=\"1\" class=\"dataframe\">\n  <thead>\n    <tr style=\"text-align: right;\">\n      <th></th>\n      <th>Marke</th>\n      <th>Baureihe</th>\n    </tr>\n  </thead>\n  <tbody>\n    <tr>\n      <th>459</th>\n      <td>Audi</td>\n      <td>A1 (GB) Sportback (ab 11/18)</td>\n    </tr>\n    <tr>\n      <th>464</th>\n      <td>Audi</td>\n      <td>A1 (GB) citycarver (ab 09/19)</td>\n    </tr>\n    <tr>\n      <th>2169</th>\n      <td>Audi</td>\n      <td>A3 (8Y) Limousine (ab 06/20)</td>\n    </tr>\n    <tr>\n      <th>3174</th>\n      <td>Audi</td>\n      <td>A3 (8Y) Sportback (ab 05/20)</td>\n    </tr>\n    <tr>\n      <th>2156</th>\n      <td>Audi</td>\n      <td>A3 (8Y) Sportback g-tron (ab 10/20)</td>\n    </tr>\n    <tr>\n      <th>...</th>\n      <td>...</td>\n      <td>...</td>\n    </tr>\n    <tr>\n      <th>4426</th>\n      <td>VW</td>\n      <td>T-Roc (ab 11/17)</td>\n    </tr>\n    <tr>\n      <th>3153</th>\n      <td>VW</td>\n      <td>T-Roc Cabriolet (ab 03/20)</td>\n    </tr>\n    <tr>\n      <th>5695</th>\n      <td>VW</td>\n      <td>T-Roc R (ab 09/19)</td>\n    </tr>\n    <tr>\n      <th>3137</th>\n      <td>VW</td>\n      <td>Tiguan (II) (ab 09/20)</td>\n    </tr>\n    <tr>\n      <th>6608</th>\n      <td>VW</td>\n      <td>Tiguan (II) Allspace (ab 09/17)</td>\n    </tr>\n  </tbody>\n</table>\n<p>78 rows × 2 columns</p>\n</div>"
     },
     "metadata": {},
     "execution_count": 7
    }
   ],
   "source": [
    "cols = ['Marke', 'Baureihe']\n",
    "df[cols].drop_duplicates(subset=cols).sort_values(cols)"
   ]
  },
  {
   "cell_type": "markdown",
   "metadata": {},
   "source": [
    "# Most suitable cars"
   ]
  },
  {
   "cell_type": "code",
   "execution_count": 8,
   "metadata": {},
   "outputs": [
    {
     "output_type": "execute_result",
     "data": {
      "text/plain": [
       "                                                  name  my monthly costs  \\\n",
       "4406          VW Golf 1.4 eHybrid Style DSG (ab 08/20)             437.0   \n",
       "5663                        VW Golf GTE DSG (ab 08/20)             505.0   \n",
       "3110          VW Golf 2.0 TDI SCR Style DSG (ab 09/20)             438.0   \n",
       "4411  VW Golf Variant 2.0 TDI SCR Style DSG (ab 11/20)             439.0   \n",
       "4407         VW Golf 2.0 TDI SCR UNITED DSG (ab 09/20)             424.0   \n",
       "3109           VW Golf 2.0 TDI SCR Life DSG (ab 09/20)             424.0   \n",
       "3112   VW Golf Variant 2.0 TDI SCR Life DSG (ab 11/20)             422.0   \n",
       "2091                VW Golf 1.0 eTSI UNITED (ab 08/20)             417.0   \n",
       "4408         VW Golf 2.0 TDI SCR R-Line DSG (ab 09/20)             438.0   \n",
       "2090                  VW Golf 1.0 eTSI Life (ab 08/20)             417.0   \n",
       "\n",
       "      Total Score  \n",
       "4406   265.302151  \n",
       "5663   256.532151  \n",
       "3110   255.950613  \n",
       "4411   255.542151  \n",
       "4407   255.522151  \n",
       "3109   255.320613  \n",
       "3112   255.192151  \n",
       "2091   253.902151  \n",
       "4408   253.872151  \n",
       "2090   253.710613  "
      ],
      "text/html": "<div>\n<style scoped>\n    .dataframe tbody tr th:only-of-type {\n        vertical-align: middle;\n    }\n\n    .dataframe tbody tr th {\n        vertical-align: top;\n    }\n\n    .dataframe thead th {\n        text-align: right;\n    }\n</style>\n<table border=\"1\" class=\"dataframe\">\n  <thead>\n    <tr style=\"text-align: right;\">\n      <th></th>\n      <th>name</th>\n      <th>my monthly costs</th>\n      <th>Total Score</th>\n    </tr>\n  </thead>\n  <tbody>\n    <tr>\n      <th>4406</th>\n      <td>VW Golf 1.4 eHybrid Style DSG (ab 08/20)</td>\n      <td>437.0</td>\n      <td>265.302151</td>\n    </tr>\n    <tr>\n      <th>5663</th>\n      <td>VW Golf GTE DSG (ab 08/20)</td>\n      <td>505.0</td>\n      <td>256.532151</td>\n    </tr>\n    <tr>\n      <th>3110</th>\n      <td>VW Golf 2.0 TDI SCR Style DSG (ab 09/20)</td>\n      <td>438.0</td>\n      <td>255.950613</td>\n    </tr>\n    <tr>\n      <th>4411</th>\n      <td>VW Golf Variant 2.0 TDI SCR Style DSG (ab 11/20)</td>\n      <td>439.0</td>\n      <td>255.542151</td>\n    </tr>\n    <tr>\n      <th>4407</th>\n      <td>VW Golf 2.0 TDI SCR UNITED DSG (ab 09/20)</td>\n      <td>424.0</td>\n      <td>255.522151</td>\n    </tr>\n    <tr>\n      <th>3109</th>\n      <td>VW Golf 2.0 TDI SCR Life DSG (ab 09/20)</td>\n      <td>424.0</td>\n      <td>255.320613</td>\n    </tr>\n    <tr>\n      <th>3112</th>\n      <td>VW Golf Variant 2.0 TDI SCR Life DSG (ab 11/20)</td>\n      <td>422.0</td>\n      <td>255.192151</td>\n    </tr>\n    <tr>\n      <th>2091</th>\n      <td>VW Golf 1.0 eTSI UNITED (ab 08/20)</td>\n      <td>417.0</td>\n      <td>253.902151</td>\n    </tr>\n    <tr>\n      <th>4408</th>\n      <td>VW Golf 2.0 TDI SCR R-Line DSG (ab 09/20)</td>\n      <td>438.0</td>\n      <td>253.872151</td>\n    </tr>\n    <tr>\n      <th>2090</th>\n      <td>VW Golf 1.0 eTSI Life (ab 08/20)</td>\n      <td>417.0</td>\n      <td>253.710613</td>\n    </tr>\n  </tbody>\n</table>\n</div>"
     },
     "metadata": {},
     "execution_count": 8
    }
   ],
   "source": [
    "top = df.filter([Column.NAME, Column.MY_M_COSTS, Column.TOTAL_SCORE])\n",
    "df.to_excel('/tmp/1.xlsx')\n",
    "top.head(10)"
   ]
  },
  {
   "cell_type": "markdown",
   "metadata": {},
   "source": [
    "## Most suitable car sorted by euro per 1 score point"
   ]
  },
  {
   "cell_type": "code",
   "execution_count": 9,
   "metadata": {},
   "outputs": [
    {
     "output_type": "execute_result",
     "data": {
      "text/plain": [
       "                                                   name  Total price  \\\n",
       "947      Renault Clio TCe 90 Intens X-tronic (ab 08/20)      20763.0   \n",
       "948      Renault Clio TCe 130 GPF Intens EDC (ab 09/19)      21835.0   \n",
       "2777                   Opel Corsa-e Elegance (ab 05/20)      23411.0   \n",
       "868   Opel Corsa 1.2 DI Turbo Elegance Automatik (ab...      22523.0   \n",
       "2829                    Peugeot e-208 Allure (ab 01/20)      23109.0   \n",
       "870   Opel Corsa 1.2 DI Turbo GS Line Automatik (ab ...      22893.0   \n",
       "2778                    Opel Corsa-e GS Line (ab 05/20)      24192.0   \n",
       "951           Renault Clio E-Tech 140 Intens (ab 07/20)      24370.0   \n",
       "453       Audi A1 Sportback 25 TFSI S tronic (ab 09/20)      23965.0   \n",
       "902   Peugeot 208 1.2 PureTech 100 Allure EAT8 (ab 0...      22654.0   \n",
       "\n",
       "      Total Score  Euro per score  \n",
       "947    211.679406       98.087010  \n",
       "948    212.626073      102.692016  \n",
       "2777   220.868964      105.994974  \n",
       "868    210.148168      107.176761  \n",
       "2829   214.338516      107.815433  \n",
       "870    209.798168      109.119161  \n",
       "2778   219.321272      110.303938  \n",
       "951    218.822739      111.368682  \n",
       "453    213.318548      112.343723  \n",
       "902    201.643803      112.346621  "
      ],
      "text/html": "<div>\n<style scoped>\n    .dataframe tbody tr th:only-of-type {\n        vertical-align: middle;\n    }\n\n    .dataframe tbody tr th {\n        vertical-align: top;\n    }\n\n    .dataframe thead th {\n        text-align: right;\n    }\n</style>\n<table border=\"1\" class=\"dataframe\">\n  <thead>\n    <tr style=\"text-align: right;\">\n      <th></th>\n      <th>name</th>\n      <th>Total price</th>\n      <th>Total Score</th>\n      <th>Euro per score</th>\n    </tr>\n  </thead>\n  <tbody>\n    <tr>\n      <th>947</th>\n      <td>Renault Clio TCe 90 Intens X-tronic (ab 08/20)</td>\n      <td>20763.0</td>\n      <td>211.679406</td>\n      <td>98.087010</td>\n    </tr>\n    <tr>\n      <th>948</th>\n      <td>Renault Clio TCe 130 GPF Intens EDC (ab 09/19)</td>\n      <td>21835.0</td>\n      <td>212.626073</td>\n      <td>102.692016</td>\n    </tr>\n    <tr>\n      <th>2777</th>\n      <td>Opel Corsa-e Elegance (ab 05/20)</td>\n      <td>23411.0</td>\n      <td>220.868964</td>\n      <td>105.994974</td>\n    </tr>\n    <tr>\n      <th>868</th>\n      <td>Opel Corsa 1.2 DI Turbo Elegance Automatik (ab...</td>\n      <td>22523.0</td>\n      <td>210.148168</td>\n      <td>107.176761</td>\n    </tr>\n    <tr>\n      <th>2829</th>\n      <td>Peugeot e-208 Allure (ab 01/20)</td>\n      <td>23109.0</td>\n      <td>214.338516</td>\n      <td>107.815433</td>\n    </tr>\n    <tr>\n      <th>870</th>\n      <td>Opel Corsa 1.2 DI Turbo GS Line Automatik (ab ...</td>\n      <td>22893.0</td>\n      <td>209.798168</td>\n      <td>109.119161</td>\n    </tr>\n    <tr>\n      <th>2778</th>\n      <td>Opel Corsa-e GS Line (ab 05/20)</td>\n      <td>24192.0</td>\n      <td>219.321272</td>\n      <td>110.303938</td>\n    </tr>\n    <tr>\n      <th>951</th>\n      <td>Renault Clio E-Tech 140 Intens (ab 07/20)</td>\n      <td>24370.0</td>\n      <td>218.822739</td>\n      <td>111.368682</td>\n    </tr>\n    <tr>\n      <th>453</th>\n      <td>Audi A1 Sportback 25 TFSI S tronic (ab 09/20)</td>\n      <td>23965.0</td>\n      <td>213.318548</td>\n      <td>112.343723</td>\n    </tr>\n    <tr>\n      <th>902</th>\n      <td>Peugeot 208 1.2 PureTech 100 Allure EAT8 (ab 0...</td>\n      <td>22654.0</td>\n      <td>201.643803</td>\n      <td>112.346621</td>\n    </tr>\n  </tbody>\n</table>\n</div>"
     },
     "metadata": {},
     "execution_count": 9
    }
   ],
   "source": [
    "top = df.filter([Column.NAME, Column.TOTAL_PRICE, Column.TOTAL_SCORE, Column.EURO_PER_SCORE]).sort_values(Column.EURO_PER_SCORE)\n",
    "top.head(10)"
   ]
  },
  {
   "cell_type": "markdown",
   "metadata": {},
   "source": [
    "## Compare top cars"
   ]
  },
  {
   "cell_type": "code",
   "execution_count": 10,
   "metadata": {
    "tags": []
   },
   "outputs": [
    {
     "output_type": "execute_result",
     "data": {
      "text/plain": [
       "<pandas.io.formats.style.Styler at 0x7f08e42fdc70>"
      ],
      "text/html": "<style  type=\"text/css\" >\n    #T_7b283f52_17c1_11eb_86f7_38b1db6a60a7row0_col3 {\n            background-color:  #7fba99;\n            color:  #000000;\n        }    #T_7b283f52_17c1_11eb_86f7_38b1db6a60a7row0_col4 {\n            background-color:  #ecf9f1;\n            color:  #000000;\n        }    #T_7b283f52_17c1_11eb_86f7_38b1db6a60a7row0_col5 {\n            background-color:  #ecf9f1;\n            color:  #000000;\n        }    #T_7b283f52_17c1_11eb_86f7_38b1db6a60a7row0_col6 {\n            background-color:  #2e8b57;\n            color:  #000000;\n        }    #T_7b283f52_17c1_11eb_86f7_38b1db6a60a7row0_col7 {\n            background-color:  #ecf9f1;\n            color:  #000000;\n        }    #T_7b283f52_17c1_11eb_86f7_38b1db6a60a7row0_col8 {\n            background-color:  #ecf9f1;\n            color:  #000000;\n        }    #T_7b283f52_17c1_11eb_86f7_38b1db6a60a7row0_col9 {\n            background-color:  #ecf9f1;\n            color:  #000000;\n        }    #T_7b283f52_17c1_11eb_86f7_38b1db6a60a7row0_col10 {\n            background-color:  #ecf9f1;\n            color:  #000000;\n        }    #T_7b283f52_17c1_11eb_86f7_38b1db6a60a7row0_col11 {\n            background-color:  #ecf9f1;\n            color:  #000000;\n        }    #T_7b283f52_17c1_11eb_86f7_38b1db6a60a7row0_col12 {\n            background-color:  #ecf9f1;\n            color:  #000000;\n        }    #T_7b283f52_17c1_11eb_86f7_38b1db6a60a7row0_col13 {\n            background-color:  #ecf9f1;\n            color:  #000000;\n        }    #T_7b283f52_17c1_11eb_86f7_38b1db6a60a7row0_col14 {\n            background-color:  #ecf9f1;\n            color:  #000000;\n        }    #T_7b283f52_17c1_11eb_86f7_38b1db6a60a7row0_col15 {\n            background-color:  #000000;\n            color:  #f1f1f1;\n        }    #T_7b283f52_17c1_11eb_86f7_38b1db6a60a7row0_col16 {\n            background-color:  #ecf9f1;\n            color:  #000000;\n        }    #T_7b283f52_17c1_11eb_86f7_38b1db6a60a7row0_col17 {\n            background-color:  #ecf9f1;\n            color:  #000000;\n        }    #T_7b283f52_17c1_11eb_86f7_38b1db6a60a7row0_col18 {\n            background-color:  #ecf9f1;\n            color:  #000000;\n        }    #T_7b283f52_17c1_11eb_86f7_38b1db6a60a7row0_col19 {\n            background-color:  #ecf9f1;\n            color:  #000000;\n        }    #T_7b283f52_17c1_11eb_86f7_38b1db6a60a7row0_col20 {\n            background-color:  #ecf9f1;\n            color:  #000000;\n        }    #T_7b283f52_17c1_11eb_86f7_38b1db6a60a7row0_col21 {\n            background-color:  #ecf9f1;\n            color:  #000000;\n        }    #T_7b283f52_17c1_11eb_86f7_38b1db6a60a7row0_col22 {\n            background-color:  #ecf9f1;\n            color:  #000000;\n        }    #T_7b283f52_17c1_11eb_86f7_38b1db6a60a7row0_col23 {\n            background-color:  #ecf9f1;\n            color:  #000000;\n        }    #T_7b283f52_17c1_11eb_86f7_38b1db6a60a7row0_col24 {\n            background-color:  #ecf9f1;\n            color:  #000000;\n        }    #T_7b283f52_17c1_11eb_86f7_38b1db6a60a7row0_col25 {\n            background-color:  #ecf9f1;\n            color:  #000000;\n        }    #T_7b283f52_17c1_11eb_86f7_38b1db6a60a7row0_col26 {\n            background-color:  #2e8b57;\n            color:  #000000;\n        }    #T_7b283f52_17c1_11eb_86f7_38b1db6a60a7row0_col27 {\n            background-color:  #ecf9f1;\n            color:  #000000;\n        }    #T_7b283f52_17c1_11eb_86f7_38b1db6a60a7row0_col28 {\n            background-color:  #ecf9f1;\n            color:  #000000;\n        }    #T_7b283f52_17c1_11eb_86f7_38b1db6a60a7row0_col29 {\n            background-color:  #ecf9f1;\n            color:  #000000;\n        }    #T_7b283f52_17c1_11eb_86f7_38b1db6a60a7row0_col30 {\n            background-color:  #ecf9f1;\n            color:  #000000;\n        }    #T_7b283f52_17c1_11eb_86f7_38b1db6a60a7row0_col31 {\n            background-color:  #6db08a;\n            color:  #000000;\n        }    #T_7b283f52_17c1_11eb_86f7_38b1db6a60a7row0_col32 {\n            background-color:  #ecf9f1;\n            color:  #000000;\n        }    #T_7b283f52_17c1_11eb_86f7_38b1db6a60a7row0_col33 {\n            background-color:  #7bb896;\n            color:  #000000;\n        }    #T_7b283f52_17c1_11eb_86f7_38b1db6a60a7row0_col34 {\n            background-color:  #ecf9f1;\n            color:  #000000;\n        }    #T_7b283f52_17c1_11eb_86f7_38b1db6a60a7row0_col35 {\n            background-color:  #ecf9f1;\n            color:  #000000;\n        }    #T_7b283f52_17c1_11eb_86f7_38b1db6a60a7row0_col36 {\n            background-color:  #ecf9f1;\n            color:  #000000;\n        }    #T_7b283f52_17c1_11eb_86f7_38b1db6a60a7row0_col37 {\n            background-color:  #2e8b57;\n            color:  #000000;\n        }    #T_7b283f52_17c1_11eb_86f7_38b1db6a60a7row0_col38 {\n            background-color:  #000000;\n            color:  #f1f1f1;\n        }    #T_7b283f52_17c1_11eb_86f7_38b1db6a60a7row0_col39 {\n            background-color:  #000000;\n            color:  #f1f1f1;\n        }    #T_7b283f52_17c1_11eb_86f7_38b1db6a60a7row0_col40 {\n            background-color:  #000000;\n            color:  #f1f1f1;\n        }    #T_7b283f52_17c1_11eb_86f7_38b1db6a60a7row0_col41 {\n            background-color:  #58a47a;\n            color:  #000000;\n        }    #T_7b283f52_17c1_11eb_86f7_38b1db6a60a7row0_col42 {\n            background-color:  #ecf9f1;\n            color:  #000000;\n        }    #T_7b283f52_17c1_11eb_86f7_38b1db6a60a7row0_col43 {\n            background-color:  #ecf9f1;\n            color:  #000000;\n        }    #T_7b283f52_17c1_11eb_86f7_38b1db6a60a7row0_col44 {\n            background-color:  #ecf9f1;\n            color:  #000000;\n        }    #T_7b283f52_17c1_11eb_86f7_38b1db6a60a7row0_col45 {\n            background-color:  #ecf9f1;\n            color:  #000000;\n        }    #T_7b283f52_17c1_11eb_86f7_38b1db6a60a7row0_col46 {\n            background-color:  #ecf9f1;\n            color:  #000000;\n        }    #T_7b283f52_17c1_11eb_86f7_38b1db6a60a7row0_col47 {\n            background-color:  #000000;\n            color:  #f1f1f1;\n        }    #T_7b283f52_17c1_11eb_86f7_38b1db6a60a7row0_col48 {\n            background-color:  #ecf9f1;\n            color:  #000000;\n        }    #T_7b283f52_17c1_11eb_86f7_38b1db6a60a7row0_col49 {\n            background-color:  #ecf9f1;\n            color:  #000000;\n        }    #T_7b283f52_17c1_11eb_86f7_38b1db6a60a7row0_col50 {\n            background-color:  #ecf9f1;\n            color:  #000000;\n        }    #T_7b283f52_17c1_11eb_86f7_38b1db6a60a7row0_col51 {\n            background-color:  #ecf9f1;\n            color:  #000000;\n        }    #T_7b283f52_17c1_11eb_86f7_38b1db6a60a7row0_col52 {\n            background-color:  #2e8b57;\n            color:  #000000;\n        }    #T_7b283f52_17c1_11eb_86f7_38b1db6a60a7row0_col53 {\n            background-color:  #ecf9f1;\n            color:  #000000;\n        }    #T_7b283f52_17c1_11eb_86f7_38b1db6a60a7row0_col54 {\n            background-color:  #2e8b57;\n            color:  #000000;\n        }    #T_7b283f52_17c1_11eb_86f7_38b1db6a60a7row0_col55 {\n            background-color:  #2e8b57;\n            color:  #000000;\n        }    #T_7b283f52_17c1_11eb_86f7_38b1db6a60a7row0_col56 {\n            background-color:  #2e8b57;\n            color:  #000000;\n        }    #T_7b283f52_17c1_11eb_86f7_38b1db6a60a7row0_col57 {\n            background-color:  #ecf9f1;\n            color:  #000000;\n        }    #T_7b283f52_17c1_11eb_86f7_38b1db6a60a7row0_col58 {\n            background-color:  #2e8b57;\n            color:  #000000;\n        }    #T_7b283f52_17c1_11eb_86f7_38b1db6a60a7row0_col59 {\n            background-color:  #ecf9f1;\n            color:  #000000;\n        }    #T_7b283f52_17c1_11eb_86f7_38b1db6a60a7row1_col3 {\n            background-color:  #2e8b57;\n            color:  #000000;\n        }    #T_7b283f52_17c1_11eb_86f7_38b1db6a60a7row1_col4 {\n            background-color:  #58a379;\n            color:  #000000;\n        }    #T_7b283f52_17c1_11eb_86f7_38b1db6a60a7row1_col5 {\n            background-color:  #2e8b57;\n            color:  #000000;\n        }    #T_7b283f52_17c1_11eb_86f7_38b1db6a60a7row1_col6 {\n            background-color:  #2e8b57;\n            color:  #000000;\n        }    #T_7b283f52_17c1_11eb_86f7_38b1db6a60a7row1_col7 {\n            background-color:  #ecf9f1;\n            color:  #000000;\n        }    #T_7b283f52_17c1_11eb_86f7_38b1db6a60a7row1_col8 {\n            background-color:  #ecf9f1;\n            color:  #000000;\n        }    #T_7b283f52_17c1_11eb_86f7_38b1db6a60a7row1_col9 {\n            background-color:  #ecf9f1;\n            color:  #000000;\n        }    #T_7b283f52_17c1_11eb_86f7_38b1db6a60a7row1_col10 {\n            background-color:  #ecf9f1;\n            color:  #000000;\n        }    #T_7b283f52_17c1_11eb_86f7_38b1db6a60a7row1_col11 {\n            background-color:  #ecf9f1;\n            color:  #000000;\n        }    #T_7b283f52_17c1_11eb_86f7_38b1db6a60a7row1_col12 {\n            background-color:  #ecf9f1;\n            color:  #000000;\n        }    #T_7b283f52_17c1_11eb_86f7_38b1db6a60a7row1_col13 {\n            background-color:  #ecf9f1;\n            color:  #000000;\n        }    #T_7b283f52_17c1_11eb_86f7_38b1db6a60a7row1_col14 {\n            background-color:  #ecf9f1;\n            color:  #000000;\n        }    #T_7b283f52_17c1_11eb_86f7_38b1db6a60a7row1_col15 {\n            background-color:  #000000;\n            color:  #f1f1f1;\n        }    #T_7b283f52_17c1_11eb_86f7_38b1db6a60a7row1_col16 {\n            background-color:  #ecf9f1;\n            color:  #000000;\n        }    #T_7b283f52_17c1_11eb_86f7_38b1db6a60a7row1_col17 {\n            background-color:  #ecf9f1;\n            color:  #000000;\n        }    #T_7b283f52_17c1_11eb_86f7_38b1db6a60a7row1_col18 {\n            background-color:  #ecf9f1;\n            color:  #000000;\n        }    #T_7b283f52_17c1_11eb_86f7_38b1db6a60a7row1_col19 {\n            background-color:  #ecf9f1;\n            color:  #000000;\n        }    #T_7b283f52_17c1_11eb_86f7_38b1db6a60a7row1_col20 {\n            background-color:  #ecf9f1;\n            color:  #000000;\n        }    #T_7b283f52_17c1_11eb_86f7_38b1db6a60a7row1_col21 {\n            background-color:  #ecf9f1;\n            color:  #000000;\n        }    #T_7b283f52_17c1_11eb_86f7_38b1db6a60a7row1_col22 {\n            background-color:  #ecf9f1;\n            color:  #000000;\n        }    #T_7b283f52_17c1_11eb_86f7_38b1db6a60a7row1_col23 {\n            background-color:  #ecf9f1;\n            color:  #000000;\n        }    #T_7b283f52_17c1_11eb_86f7_38b1db6a60a7row1_col24 {\n            background-color:  #ecf9f1;\n            color:  #000000;\n        }    #T_7b283f52_17c1_11eb_86f7_38b1db6a60a7row1_col25 {\n            background-color:  #ecf9f1;\n            color:  #000000;\n        }    #T_7b283f52_17c1_11eb_86f7_38b1db6a60a7row1_col26 {\n            background-color:  #2e8b57;\n            color:  #000000;\n        }    #T_7b283f52_17c1_11eb_86f7_38b1db6a60a7row1_col27 {\n            background-color:  #ecf9f1;\n            color:  #000000;\n        }    #T_7b283f52_17c1_11eb_86f7_38b1db6a60a7row1_col28 {\n            background-color:  #ecf9f1;\n            color:  #000000;\n        }    #T_7b283f52_17c1_11eb_86f7_38b1db6a60a7row1_col29 {\n            background-color:  #2e8b57;\n            color:  #000000;\n        }    #T_7b283f52_17c1_11eb_86f7_38b1db6a60a7row1_col30 {\n            background-color:  #ecf9f1;\n            color:  #000000;\n        }    #T_7b283f52_17c1_11eb_86f7_38b1db6a60a7row1_col31 {\n            background-color:  #2e8b57;\n            color:  #000000;\n        }    #T_7b283f52_17c1_11eb_86f7_38b1db6a60a7row1_col32 {\n            background-color:  #ecf9f1;\n            color:  #000000;\n        }    #T_7b283f52_17c1_11eb_86f7_38b1db6a60a7row1_col33 {\n            background-color:  #ecf9f1;\n            color:  #000000;\n        }    #T_7b283f52_17c1_11eb_86f7_38b1db6a60a7row1_col34 {\n            background-color:  #ecf9f1;\n            color:  #000000;\n        }    #T_7b283f52_17c1_11eb_86f7_38b1db6a60a7row1_col35 {\n            background-color:  #ecf9f1;\n            color:  #000000;\n        }    #T_7b283f52_17c1_11eb_86f7_38b1db6a60a7row1_col36 {\n            background-color:  #ecf9f1;\n            color:  #000000;\n        }    #T_7b283f52_17c1_11eb_86f7_38b1db6a60a7row1_col37 {\n            background-color:  #ecf9f1;\n            color:  #000000;\n        }    #T_7b283f52_17c1_11eb_86f7_38b1db6a60a7row1_col38 {\n            background-color:  #000000;\n            color:  #f1f1f1;\n        }    #T_7b283f52_17c1_11eb_86f7_38b1db6a60a7row1_col39 {\n            background-color:  #000000;\n            color:  #f1f1f1;\n        }    #T_7b283f52_17c1_11eb_86f7_38b1db6a60a7row1_col40 {\n            background-color:  #000000;\n            color:  #f1f1f1;\n        }    #T_7b283f52_17c1_11eb_86f7_38b1db6a60a7row1_col41 {\n            background-color:  #ecf9f1;\n            color:  #000000;\n        }    #T_7b283f52_17c1_11eb_86f7_38b1db6a60a7row1_col42 {\n            background-color:  #ecf9f1;\n            color:  #000000;\n        }    #T_7b283f52_17c1_11eb_86f7_38b1db6a60a7row1_col43 {\n            background-color:  #ecf9f1;\n            color:  #000000;\n        }    #T_7b283f52_17c1_11eb_86f7_38b1db6a60a7row1_col44 {\n            background-color:  #ecf9f1;\n            color:  #000000;\n        }    #T_7b283f52_17c1_11eb_86f7_38b1db6a60a7row1_col45 {\n            background-color:  #ecf9f1;\n            color:  #000000;\n        }    #T_7b283f52_17c1_11eb_86f7_38b1db6a60a7row1_col46 {\n            background-color:  #ecf9f1;\n            color:  #000000;\n        }    #T_7b283f52_17c1_11eb_86f7_38b1db6a60a7row1_col47 {\n            background-color:  #000000;\n            color:  #f1f1f1;\n        }    #T_7b283f52_17c1_11eb_86f7_38b1db6a60a7row1_col48 {\n            background-color:  #ecf9f1;\n            color:  #000000;\n        }    #T_7b283f52_17c1_11eb_86f7_38b1db6a60a7row1_col49 {\n            background-color:  #ecf9f1;\n            color:  #000000;\n        }    #T_7b283f52_17c1_11eb_86f7_38b1db6a60a7row1_col50 {\n            background-color:  #ecf9f1;\n            color:  #000000;\n        }    #T_7b283f52_17c1_11eb_86f7_38b1db6a60a7row1_col51 {\n            background-color:  #ecf9f1;\n            color:  #000000;\n        }    #T_7b283f52_17c1_11eb_86f7_38b1db6a60a7row1_col52 {\n            background-color:  #2e8b57;\n            color:  #000000;\n        }    #T_7b283f52_17c1_11eb_86f7_38b1db6a60a7row1_col53 {\n            background-color:  #ecf9f1;\n            color:  #000000;\n        }    #T_7b283f52_17c1_11eb_86f7_38b1db6a60a7row1_col54 {\n            background-color:  #2e8b57;\n            color:  #000000;\n        }    #T_7b283f52_17c1_11eb_86f7_38b1db6a60a7row1_col55 {\n            background-color:  #ecf9f1;\n            color:  #000000;\n        }    #T_7b283f52_17c1_11eb_86f7_38b1db6a60a7row1_col56 {\n            background-color:  #c3e1d0;\n            color:  #000000;\n        }    #T_7b283f52_17c1_11eb_86f7_38b1db6a60a7row1_col57 {\n            background-color:  #ecf9f1;\n            color:  #000000;\n        }    #T_7b283f52_17c1_11eb_86f7_38b1db6a60a7row1_col58 {\n            background-color:  #e1f2e8;\n            color:  #000000;\n        }    #T_7b283f52_17c1_11eb_86f7_38b1db6a60a7row1_col59 {\n            background-color:  #4e9d71;\n            color:  #000000;\n        }    #T_7b283f52_17c1_11eb_86f7_38b1db6a60a7row2_col3 {\n            background-color:  #ecf9f1;\n            color:  #000000;\n        }    #T_7b283f52_17c1_11eb_86f7_38b1db6a60a7row2_col4 {\n            background-color:  #2e8b57;\n            color:  #000000;\n        }    #T_7b283f52_17c1_11eb_86f7_38b1db6a60a7row2_col5 {\n            background-color:  #eaf7f0;\n            color:  #000000;\n        }    #T_7b283f52_17c1_11eb_86f7_38b1db6a60a7row2_col6 {\n            background-color:  #ecf9f1;\n            color:  #000000;\n        }    #T_7b283f52_17c1_11eb_86f7_38b1db6a60a7row2_col7 {\n            background-color:  #ecf9f1;\n            color:  #000000;\n        }    #T_7b283f52_17c1_11eb_86f7_38b1db6a60a7row2_col8 {\n            background-color:  #ecf9f1;\n            color:  #000000;\n        }    #T_7b283f52_17c1_11eb_86f7_38b1db6a60a7row2_col9 {\n            background-color:  #ecf9f1;\n            color:  #000000;\n        }    #T_7b283f52_17c1_11eb_86f7_38b1db6a60a7row2_col10 {\n            background-color:  #ecf9f1;\n            color:  #000000;\n        }    #T_7b283f52_17c1_11eb_86f7_38b1db6a60a7row2_col11 {\n            background-color:  #ecf9f1;\n            color:  #000000;\n        }    #T_7b283f52_17c1_11eb_86f7_38b1db6a60a7row2_col12 {\n            background-color:  #ecf9f1;\n            color:  #000000;\n        }    #T_7b283f52_17c1_11eb_86f7_38b1db6a60a7row2_col13 {\n            background-color:  #ecf9f1;\n            color:  #000000;\n        }    #T_7b283f52_17c1_11eb_86f7_38b1db6a60a7row2_col14 {\n            background-color:  #ecf9f1;\n            color:  #000000;\n        }    #T_7b283f52_17c1_11eb_86f7_38b1db6a60a7row2_col15 {\n            background-color:  #000000;\n            color:  #f1f1f1;\n        }    #T_7b283f52_17c1_11eb_86f7_38b1db6a60a7row2_col16 {\n            background-color:  #ecf9f1;\n            color:  #000000;\n        }    #T_7b283f52_17c1_11eb_86f7_38b1db6a60a7row2_col17 {\n            background-color:  #ecf9f1;\n            color:  #000000;\n        }    #T_7b283f52_17c1_11eb_86f7_38b1db6a60a7row2_col18 {\n            background-color:  #ecf9f1;\n            color:  #000000;\n        }    #T_7b283f52_17c1_11eb_86f7_38b1db6a60a7row2_col19 {\n            background-color:  #ecf9f1;\n            color:  #000000;\n        }    #T_7b283f52_17c1_11eb_86f7_38b1db6a60a7row2_col20 {\n            background-color:  #ecf9f1;\n            color:  #000000;\n        }    #T_7b283f52_17c1_11eb_86f7_38b1db6a60a7row2_col21 {\n            background-color:  #ecf9f1;\n            color:  #000000;\n        }    #T_7b283f52_17c1_11eb_86f7_38b1db6a60a7row2_col22 {\n            background-color:  #ecf9f1;\n            color:  #000000;\n        }    #T_7b283f52_17c1_11eb_86f7_38b1db6a60a7row2_col23 {\n            background-color:  #ecf9f1;\n            color:  #000000;\n        }    #T_7b283f52_17c1_11eb_86f7_38b1db6a60a7row2_col24 {\n            background-color:  #ecf9f1;\n            color:  #000000;\n        }    #T_7b283f52_17c1_11eb_86f7_38b1db6a60a7row2_col25 {\n            background-color:  #ecf9f1;\n            color:  #000000;\n        }    #T_7b283f52_17c1_11eb_86f7_38b1db6a60a7row2_col26 {\n            background-color:  #ecf9f1;\n            color:  #000000;\n        }    #T_7b283f52_17c1_11eb_86f7_38b1db6a60a7row2_col27 {\n            background-color:  #ecf9f1;\n            color:  #000000;\n        }    #T_7b283f52_17c1_11eb_86f7_38b1db6a60a7row2_col28 {\n            background-color:  #ecf9f1;\n            color:  #000000;\n        }    #T_7b283f52_17c1_11eb_86f7_38b1db6a60a7row2_col29 {\n            background-color:  #7ab795;\n            color:  #000000;\n        }    #T_7b283f52_17c1_11eb_86f7_38b1db6a60a7row2_col30 {\n            background-color:  #ecf9f1;\n            color:  #000000;\n        }    #T_7b283f52_17c1_11eb_86f7_38b1db6a60a7row2_col31 {\n            background-color:  #ecf9f1;\n            color:  #000000;\n        }    #T_7b283f52_17c1_11eb_86f7_38b1db6a60a7row2_col32 {\n            background-color:  #ecf9f1;\n            color:  #000000;\n        }    #T_7b283f52_17c1_11eb_86f7_38b1db6a60a7row2_col33 {\n            background-color:  #2e8b57;\n            color:  #000000;\n        }    #T_7b283f52_17c1_11eb_86f7_38b1db6a60a7row2_col34 {\n            background-color:  #ecf9f1;\n            color:  #000000;\n        }    #T_7b283f52_17c1_11eb_86f7_38b1db6a60a7row2_col35 {\n            background-color:  #ecf9f1;\n            color:  #000000;\n        }    #T_7b283f52_17c1_11eb_86f7_38b1db6a60a7row2_col36 {\n            background-color:  #ecf9f1;\n            color:  #000000;\n        }    #T_7b283f52_17c1_11eb_86f7_38b1db6a60a7row2_col37 {\n            background-color:  #2e8b57;\n            color:  #000000;\n        }    #T_7b283f52_17c1_11eb_86f7_38b1db6a60a7row2_col38 {\n            background-color:  #000000;\n            color:  #f1f1f1;\n        }    #T_7b283f52_17c1_11eb_86f7_38b1db6a60a7row2_col39 {\n            background-color:  #000000;\n            color:  #f1f1f1;\n        }    #T_7b283f52_17c1_11eb_86f7_38b1db6a60a7row2_col40 {\n            background-color:  #000000;\n            color:  #f1f1f1;\n        }    #T_7b283f52_17c1_11eb_86f7_38b1db6a60a7row2_col41 {\n            background-color:  #2e8b57;\n            color:  #000000;\n        }    #T_7b283f52_17c1_11eb_86f7_38b1db6a60a7row2_col42 {\n            background-color:  #ecf9f1;\n            color:  #000000;\n        }    #T_7b283f52_17c1_11eb_86f7_38b1db6a60a7row2_col43 {\n            background-color:  #2e8b57;\n            color:  #000000;\n        }    #T_7b283f52_17c1_11eb_86f7_38b1db6a60a7row2_col44 {\n            background-color:  #ecf9f1;\n            color:  #000000;\n        }    #T_7b283f52_17c1_11eb_86f7_38b1db6a60a7row2_col45 {\n            background-color:  #ecf9f1;\n            color:  #000000;\n        }    #T_7b283f52_17c1_11eb_86f7_38b1db6a60a7row2_col46 {\n            background-color:  #ecf9f1;\n            color:  #000000;\n        }    #T_7b283f52_17c1_11eb_86f7_38b1db6a60a7row2_col47 {\n            background-color:  #000000;\n            color:  #f1f1f1;\n        }    #T_7b283f52_17c1_11eb_86f7_38b1db6a60a7row2_col48 {\n            background-color:  #ecf9f1;\n            color:  #000000;\n        }    #T_7b283f52_17c1_11eb_86f7_38b1db6a60a7row2_col49 {\n            background-color:  #ecf9f1;\n            color:  #000000;\n        }    #T_7b283f52_17c1_11eb_86f7_38b1db6a60a7row2_col50 {\n            background-color:  #ecf9f1;\n            color:  #000000;\n        }    #T_7b283f52_17c1_11eb_86f7_38b1db6a60a7row2_col51 {\n            background-color:  #ecf9f1;\n            color:  #000000;\n        }    #T_7b283f52_17c1_11eb_86f7_38b1db6a60a7row2_col52 {\n            background-color:  #ecf9f1;\n            color:  #000000;\n        }    #T_7b283f52_17c1_11eb_86f7_38b1db6a60a7row2_col53 {\n            background-color:  #ecf9f1;\n            color:  #000000;\n        }    #T_7b283f52_17c1_11eb_86f7_38b1db6a60a7row2_col54 {\n            background-color:  #ecf9f1;\n            color:  #000000;\n        }    #T_7b283f52_17c1_11eb_86f7_38b1db6a60a7row2_col55 {\n            background-color:  #308c59;\n            color:  #000000;\n        }    #T_7b283f52_17c1_11eb_86f7_38b1db6a60a7row2_col56 {\n            background-color:  #ecf9f1;\n            color:  #000000;\n        }    #T_7b283f52_17c1_11eb_86f7_38b1db6a60a7row2_col57 {\n            background-color:  #ecf9f1;\n            color:  #000000;\n        }    #T_7b283f52_17c1_11eb_86f7_38b1db6a60a7row2_col58 {\n            background-color:  #ecf9f1;\n            color:  #000000;\n        }    #T_7b283f52_17c1_11eb_86f7_38b1db6a60a7row2_col59 {\n            background-color:  #2e8b57;\n            color:  #000000;\n        }</style><table id=\"T_7b283f52_17c1_11eb_86f7_38b1db6a60a7\" ><thead>    <tr>        <th class=\"blank level0\" ></th>        <th class=\"col_heading level0 col0\" >name</th>        <th class=\"col_heading level0 col1\" >Marke</th>        <th class=\"col_heading level0 col2\" >Baureihe</th>        <th class=\"col_heading level0 col3\" >Leistung maximal in kW</th>        <th class=\"col_heading level0 col4\" >Total price</th>        <th class=\"col_heading level0 col5\" >my monthly costs</th>        <th class=\"col_heading level0 col6\" >navi </th>        <th class=\"col_heading level0 col7\" >active headrest</th>        <th class=\"col_heading level0 col8\" >car2x</th>        <th class=\"col_heading level0 col9\" >adaptive lights</th>        <th class=\"col_heading level0 col10\" >traffic sign recognition</th>        <th class=\"col_heading level0 col11\" >Bremsassistent</th>        <th class=\"col_heading level0 col12\" >AEB pedestrian</th>        <th class=\"col_heading level0 col13\" >lane keep assist active</th>        <th class=\"col_heading level0 col14\" >autoparking</th>        <th class=\"col_heading level0 col15\" >autoclose mirrors</th>        <th class=\"col_heading level0 col16\" >Traffic jam</th>        <th class=\"col_heading level0 col17\" >light autoswitch</th>        <th class=\"col_heading level0 col18\" >AEB</th>        <th class=\"col_heading level0 col19\" >rear traffic alert</th>        <th class=\"col_heading level0 col20\" >LED matrix</th>        <th class=\"col_heading level0 col21\" >keyless</th>        <th class=\"col_heading level0 col22\" >Camera, 360, front, back</th>        <th class=\"col_heading level0 col23\" >LED lights</th>        <th class=\"col_heading level0 col24\" >adaptive cruise from 0 km</th>        <th class=\"col_heading level0 col25\" >safe, euroncap, iihs</th>        <th class=\"col_heading level0 col26\" >plugin hybrid</th>        <th class=\"col_heading level0 col27\" >automat not CVT</th>        <th class=\"col_heading level0 col28\" >4x4</th>        <th class=\"col_heading level0 col29\" >Top speed</th>        <th class=\"col_heading level0 col30\" >km77 elktest</th>        <th class=\"col_heading level0 col31\" >Acceleration <10</th>        <th class=\"col_heading level0 col32\" >testberichte</th>        <th class=\"col_heading level0 col33\" >range up to 1000 km per tank</th>        <th class=\"col_heading level0 col34\" >side mirrors on door</th>        <th class=\"col_heading level0 col35\" >door till ground</th>        <th class=\"col_heading level0 col36\" >license on back bumper</th>        <th class=\"col_heading level0 col37\" >small length</th>        <th class=\"col_heading level0 col38\" >armrest in back seats</th>        <th class=\"col_heading level0 col39\" >adaptive cruise on steering wheel</th>        <th class=\"col_heading level0 col40\" >flat seats trunk</th>        <th class=\"col_heading level0 col41\" >noise</th>        <th class=\"col_heading level0 col42\" >no piano black</th>        <th class=\"col_heading level0 col43\" >boot size,Fit 156 snowboard </th>        <th class=\"col_heading level0 col44\" >easy entry(clearance or height of seats)</th>        <th class=\"col_heading level0 col45\" >digital speed</th>        <th class=\"col_heading level0 col46\" >acc with buttons</th>        <th class=\"col_heading level0 col47\" >good vision</th>        <th class=\"col_heading level0 col48\" >HIFI audio</th>        <th class=\"col_heading level0 col49\" >white seats</th>        <th class=\"col_heading level0 col50\" >interior</th>        <th class=\"col_heading level0 col51\" >mobile warranty</th>        <th class=\"col_heading level0 col52\" >Insurance 1</th>        <th class=\"col_heading level0 col53\" >Garantie y</th>        <th class=\"col_heading level0 col54\" >Insurance 2</th>        <th class=\"col_heading level0 col55\" >monthly costs</th>        <th class=\"col_heading level0 col56\" >price</th>        <th class=\"col_heading level0 col57\" >AGR</th>        <th class=\"col_heading level0 col58\" >Total Score</th>        <th class=\"col_heading level0 col59\" >Euro per score</th>    </tr></thead><tbody>\n                <tr>\n                        <th id=\"T_7b283f52_17c1_11eb_86f7_38b1db6a60a7level0_row0\" class=\"row_heading level0 row0\" >4406</th>\n                        <td id=\"T_7b283f52_17c1_11eb_86f7_38b1db6a60a7row0_col0\" class=\"data row0 col0\" >VW Golf 1.4 eHybrid Style DSG (ab 08/20)</td>\n                        <td id=\"T_7b283f52_17c1_11eb_86f7_38b1db6a60a7row0_col1\" class=\"data row0 col1\" >VW</td>\n                        <td id=\"T_7b283f52_17c1_11eb_86f7_38b1db6a60a7row0_col2\" class=\"data row0 col2\" >Golf (VIII) (ab 12/19)</td>\n                        <td id=\"T_7b283f52_17c1_11eb_86f7_38b1db6a60a7row0_col3\" class=\"data row0 col3\" >150</td>\n                        <td id=\"T_7b283f52_17c1_11eb_86f7_38b1db6a60a7row0_col4\" class=\"data row0 col4\" >34476.000000</td>\n                        <td id=\"T_7b283f52_17c1_11eb_86f7_38b1db6a60a7row0_col5\" class=\"data row0 col5\" >437.000000</td>\n                        <td id=\"T_7b283f52_17c1_11eb_86f7_38b1db6a60a7row0_col6\" class=\"data row0 col6\" >3.000000</td>\n                        <td id=\"T_7b283f52_17c1_11eb_86f7_38b1db6a60a7row0_col7\" class=\"data row0 col7\" >0.000000</td>\n                        <td id=\"T_7b283f52_17c1_11eb_86f7_38b1db6a60a7row0_col8\" class=\"data row0 col8\" >5.000000</td>\n                        <td id=\"T_7b283f52_17c1_11eb_86f7_38b1db6a60a7row0_col9\" class=\"data row0 col9\" >3.333333</td>\n                        <td id=\"T_7b283f52_17c1_11eb_86f7_38b1db6a60a7row0_col10\" class=\"data row0 col10\" >5.000000</td>\n                        <td id=\"T_7b283f52_17c1_11eb_86f7_38b1db6a60a7row0_col11\" class=\"data row0 col11\" >5.000000</td>\n                        <td id=\"T_7b283f52_17c1_11eb_86f7_38b1db6a60a7row0_col12\" class=\"data row0 col12\" >5.000000</td>\n                        <td id=\"T_7b283f52_17c1_11eb_86f7_38b1db6a60a7row0_col13\" class=\"data row0 col13\" >5.000000</td>\n                        <td id=\"T_7b283f52_17c1_11eb_86f7_38b1db6a60a7row0_col14\" class=\"data row0 col14\" >6.000000</td>\n                        <td id=\"T_7b283f52_17c1_11eb_86f7_38b1db6a60a7row0_col15\" class=\"data row0 col15\" >nan</td>\n                        <td id=\"T_7b283f52_17c1_11eb_86f7_38b1db6a60a7row0_col16\" class=\"data row0 col16\" >6.000000</td>\n                        <td id=\"T_7b283f52_17c1_11eb_86f7_38b1db6a60a7row0_col17\" class=\"data row0 col17\" >6.222222</td>\n                        <td id=\"T_7b283f52_17c1_11eb_86f7_38b1db6a60a7row0_col18\" class=\"data row0 col18\" >7.000000</td>\n                        <td id=\"T_7b283f52_17c1_11eb_86f7_38b1db6a60a7row0_col19\" class=\"data row0 col19\" >0.000000</td>\n                        <td id=\"T_7b283f52_17c1_11eb_86f7_38b1db6a60a7row0_col20\" class=\"data row0 col20\" >8.000000</td>\n                        <td id=\"T_7b283f52_17c1_11eb_86f7_38b1db6a60a7row0_col21\" class=\"data row0 col21\" >8.000000</td>\n                        <td id=\"T_7b283f52_17c1_11eb_86f7_38b1db6a60a7row0_col22\" class=\"data row0 col22\" >2.285714</td>\n                        <td id=\"T_7b283f52_17c1_11eb_86f7_38b1db6a60a7row0_col23\" class=\"data row0 col23\" >10.000000</td>\n                        <td id=\"T_7b283f52_17c1_11eb_86f7_38b1db6a60a7row0_col24\" class=\"data row0 col24\" >10.000000</td>\n                        <td id=\"T_7b283f52_17c1_11eb_86f7_38b1db6a60a7row0_col25\" class=\"data row0 col25\" >9.300000</td>\n                        <td id=\"T_7b283f52_17c1_11eb_86f7_38b1db6a60a7row0_col26\" class=\"data row0 col26\" >5.000000</td>\n                        <td id=\"T_7b283f52_17c1_11eb_86f7_38b1db6a60a7row0_col27\" class=\"data row0 col27\" >3.333333</td>\n                        <td id=\"T_7b283f52_17c1_11eb_86f7_38b1db6a60a7row0_col28\" class=\"data row0 col28\" >1.250000</td>\n                        <td id=\"T_7b283f52_17c1_11eb_86f7_38b1db6a60a7row0_col29\" class=\"data row0 col29\" >4.200000</td>\n                        <td id=\"T_7b283f52_17c1_11eb_86f7_38b1db6a60a7row0_col30\" class=\"data row0 col30\" >3.330000</td>\n                        <td id=\"T_7b283f52_17c1_11eb_86f7_38b1db6a60a7row0_col31\" class=\"data row0 col31\" >5.190000</td>\n                        <td id=\"T_7b283f52_17c1_11eb_86f7_38b1db6a60a7row0_col32\" class=\"data row0 col32\" >5.730000</td>\n                        <td id=\"T_7b283f52_17c1_11eb_86f7_38b1db6a60a7row0_col33\" class=\"data row0 col33\" >7.880000</td>\n                        <td id=\"T_7b283f52_17c1_11eb_86f7_38b1db6a60a7row0_col34\" class=\"data row0 col34\" >4.000000</td>\n                        <td id=\"T_7b283f52_17c1_11eb_86f7_38b1db6a60a7row0_col35\" class=\"data row0 col35\" >0.000000</td>\n                        <td id=\"T_7b283f52_17c1_11eb_86f7_38b1db6a60a7row0_col36\" class=\"data row0 col36\" >5.000000</td>\n                        <td id=\"T_7b283f52_17c1_11eb_86f7_38b1db6a60a7row0_col37\" class=\"data row0 col37\" >4.420000</td>\n                        <td id=\"T_7b283f52_17c1_11eb_86f7_38b1db6a60a7row0_col38\" class=\"data row0 col38\" >nan</td>\n                        <td id=\"T_7b283f52_17c1_11eb_86f7_38b1db6a60a7row0_col39\" class=\"data row0 col39\" >nan</td>\n                        <td id=\"T_7b283f52_17c1_11eb_86f7_38b1db6a60a7row0_col40\" class=\"data row0 col40\" >nan</td>\n                        <td id=\"T_7b283f52_17c1_11eb_86f7_38b1db6a60a7row0_col41\" class=\"data row0 col41\" >2.610000</td>\n                        <td id=\"T_7b283f52_17c1_11eb_86f7_38b1db6a60a7row0_col42\" class=\"data row0 col42\" >3.330000</td>\n                        <td id=\"T_7b283f52_17c1_11eb_86f7_38b1db6a60a7row0_col43\" class=\"data row0 col43\" >0.380000</td>\n                        <td id=\"T_7b283f52_17c1_11eb_86f7_38b1db6a60a7row0_col44\" class=\"data row0 col44\" >3.230000</td>\n                        <td id=\"T_7b283f52_17c1_11eb_86f7_38b1db6a60a7row0_col45\" class=\"data row0 col45\" >6.000000</td>\n                        <td id=\"T_7b283f52_17c1_11eb_86f7_38b1db6a60a7row0_col46\" class=\"data row0 col46\" >7.000000</td>\n                        <td id=\"T_7b283f52_17c1_11eb_86f7_38b1db6a60a7row0_col47\" class=\"data row0 col47\" >nan</td>\n                        <td id=\"T_7b283f52_17c1_11eb_86f7_38b1db6a60a7row0_col48\" class=\"data row0 col48\" >5.330000</td>\n                        <td id=\"T_7b283f52_17c1_11eb_86f7_38b1db6a60a7row0_col49\" class=\"data row0 col49\" >10.000000</td>\n                        <td id=\"T_7b283f52_17c1_11eb_86f7_38b1db6a60a7row0_col50\" class=\"data row0 col50\" >6.670000</td>\n                        <td id=\"T_7b283f52_17c1_11eb_86f7_38b1db6a60a7row0_col51\" class=\"data row0 col51\" >5.793103</td>\n                        <td id=\"T_7b283f52_17c1_11eb_86f7_38b1db6a60a7row0_col52\" class=\"data row0 col52\" >5.350000</td>\n                        <td id=\"T_7b283f52_17c1_11eb_86f7_38b1db6a60a7row0_col53\" class=\"data row0 col53\" >4.444444</td>\n                        <td id=\"T_7b283f52_17c1_11eb_86f7_38b1db6a60a7row0_col54\" class=\"data row0 col54\" >9.570000</td>\n                        <td id=\"T_7b283f52_17c1_11eb_86f7_38b1db6a60a7row0_col55\" class=\"data row0 col55\" >15.160000</td>\n                        <td id=\"T_7b283f52_17c1_11eb_86f7_38b1db6a60a7row0_col56\" class=\"data row0 col56\" >16.960000</td>\n                        <td id=\"T_7b283f52_17c1_11eb_86f7_38b1db6a60a7row0_col57\" class=\"data row0 col57\" >5.000000</td>\n                        <td id=\"T_7b283f52_17c1_11eb_86f7_38b1db6a60a7row0_col58\" class=\"data row0 col58\" >265.302151</td>\n                        <td id=\"T_7b283f52_17c1_11eb_86f7_38b1db6a60a7row0_col59\" class=\"data row0 col59\" >129.949945</td>\n            </tr>\n            <tr>\n                        <th id=\"T_7b283f52_17c1_11eb_86f7_38b1db6a60a7level0_row1\" class=\"row_heading level0 row1\" >5663</th>\n                        <td id=\"T_7b283f52_17c1_11eb_86f7_38b1db6a60a7row1_col0\" class=\"data row1 col0\" >VW Golf GTE DSG (ab 08/20)</td>\n                        <td id=\"T_7b283f52_17c1_11eb_86f7_38b1db6a60a7row1_col1\" class=\"data row1 col1\" >VW</td>\n                        <td id=\"T_7b283f52_17c1_11eb_86f7_38b1db6a60a7row1_col2\" class=\"data row1 col2\" >Golf (VIII) GTE (ab 08/20)</td>\n                        <td id=\"T_7b283f52_17c1_11eb_86f7_38b1db6a60a7row1_col3\" class=\"data row1 col3\" >180</td>\n                        <td id=\"T_7b283f52_17c1_11eb_86f7_38b1db6a60a7row1_col4\" class=\"data row1 col4\" >36362.000000</td>\n                        <td id=\"T_7b283f52_17c1_11eb_86f7_38b1db6a60a7row1_col5\" class=\"data row1 col5\" >505.000000</td>\n                        <td id=\"T_7b283f52_17c1_11eb_86f7_38b1db6a60a7row1_col6\" class=\"data row1 col6\" >3.000000</td>\n                        <td id=\"T_7b283f52_17c1_11eb_86f7_38b1db6a60a7row1_col7\" class=\"data row1 col7\" >0.000000</td>\n                        <td id=\"T_7b283f52_17c1_11eb_86f7_38b1db6a60a7row1_col8\" class=\"data row1 col8\" >5.000000</td>\n                        <td id=\"T_7b283f52_17c1_11eb_86f7_38b1db6a60a7row1_col9\" class=\"data row1 col9\" >3.333333</td>\n                        <td id=\"T_7b283f52_17c1_11eb_86f7_38b1db6a60a7row1_col10\" class=\"data row1 col10\" >5.000000</td>\n                        <td id=\"T_7b283f52_17c1_11eb_86f7_38b1db6a60a7row1_col11\" class=\"data row1 col11\" >5.000000</td>\n                        <td id=\"T_7b283f52_17c1_11eb_86f7_38b1db6a60a7row1_col12\" class=\"data row1 col12\" >5.000000</td>\n                        <td id=\"T_7b283f52_17c1_11eb_86f7_38b1db6a60a7row1_col13\" class=\"data row1 col13\" >5.000000</td>\n                        <td id=\"T_7b283f52_17c1_11eb_86f7_38b1db6a60a7row1_col14\" class=\"data row1 col14\" >6.000000</td>\n                        <td id=\"T_7b283f52_17c1_11eb_86f7_38b1db6a60a7row1_col15\" class=\"data row1 col15\" >nan</td>\n                        <td id=\"T_7b283f52_17c1_11eb_86f7_38b1db6a60a7row1_col16\" class=\"data row1 col16\" >6.000000</td>\n                        <td id=\"T_7b283f52_17c1_11eb_86f7_38b1db6a60a7row1_col17\" class=\"data row1 col17\" >6.222222</td>\n                        <td id=\"T_7b283f52_17c1_11eb_86f7_38b1db6a60a7row1_col18\" class=\"data row1 col18\" >7.000000</td>\n                        <td id=\"T_7b283f52_17c1_11eb_86f7_38b1db6a60a7row1_col19\" class=\"data row1 col19\" >0.000000</td>\n                        <td id=\"T_7b283f52_17c1_11eb_86f7_38b1db6a60a7row1_col20\" class=\"data row1 col20\" >8.000000</td>\n                        <td id=\"T_7b283f52_17c1_11eb_86f7_38b1db6a60a7row1_col21\" class=\"data row1 col21\" >8.000000</td>\n                        <td id=\"T_7b283f52_17c1_11eb_86f7_38b1db6a60a7row1_col22\" class=\"data row1 col22\" >2.285714</td>\n                        <td id=\"T_7b283f52_17c1_11eb_86f7_38b1db6a60a7row1_col23\" class=\"data row1 col23\" >10.000000</td>\n                        <td id=\"T_7b283f52_17c1_11eb_86f7_38b1db6a60a7row1_col24\" class=\"data row1 col24\" >10.000000</td>\n                        <td id=\"T_7b283f52_17c1_11eb_86f7_38b1db6a60a7row1_col25\" class=\"data row1 col25\" >9.300000</td>\n                        <td id=\"T_7b283f52_17c1_11eb_86f7_38b1db6a60a7row1_col26\" class=\"data row1 col26\" >5.000000</td>\n                        <td id=\"T_7b283f52_17c1_11eb_86f7_38b1db6a60a7row1_col27\" class=\"data row1 col27\" >3.333333</td>\n                        <td id=\"T_7b283f52_17c1_11eb_86f7_38b1db6a60a7row1_col28\" class=\"data row1 col28\" >1.250000</td>\n                        <td id=\"T_7b283f52_17c1_11eb_86f7_38b1db6a60a7row1_col29\" class=\"data row1 col29\" >4.500000</td>\n                        <td id=\"T_7b283f52_17c1_11eb_86f7_38b1db6a60a7row1_col30\" class=\"data row1 col30\" >3.330000</td>\n                        <td id=\"T_7b283f52_17c1_11eb_86f7_38b1db6a60a7row1_col31\" class=\"data row1 col31\" >5.920000</td>\n                        <td id=\"T_7b283f52_17c1_11eb_86f7_38b1db6a60a7row1_col32\" class=\"data row1 col32\" >5.730000</td>\n                        <td id=\"T_7b283f52_17c1_11eb_86f7_38b1db6a60a7row1_col33\" class=\"data row1 col33\" >4.500000</td>\n                        <td id=\"T_7b283f52_17c1_11eb_86f7_38b1db6a60a7row1_col34\" class=\"data row1 col34\" >4.000000</td>\n                        <td id=\"T_7b283f52_17c1_11eb_86f7_38b1db6a60a7row1_col35\" class=\"data row1 col35\" >0.000000</td>\n                        <td id=\"T_7b283f52_17c1_11eb_86f7_38b1db6a60a7row1_col36\" class=\"data row1 col36\" >5.000000</td>\n                        <td id=\"T_7b283f52_17c1_11eb_86f7_38b1db6a60a7row1_col37\" class=\"data row1 col37\" >4.400000</td>\n                        <td id=\"T_7b283f52_17c1_11eb_86f7_38b1db6a60a7row1_col38\" class=\"data row1 col38\" >nan</td>\n                        <td id=\"T_7b283f52_17c1_11eb_86f7_38b1db6a60a7row1_col39\" class=\"data row1 col39\" >nan</td>\n                        <td id=\"T_7b283f52_17c1_11eb_86f7_38b1db6a60a7row1_col40\" class=\"data row1 col40\" >nan</td>\n                        <td id=\"T_7b283f52_17c1_11eb_86f7_38b1db6a60a7row1_col41\" class=\"data row1 col41\" >1.960000</td>\n                        <td id=\"T_7b283f52_17c1_11eb_86f7_38b1db6a60a7row1_col42\" class=\"data row1 col42\" >3.330000</td>\n                        <td id=\"T_7b283f52_17c1_11eb_86f7_38b1db6a60a7row1_col43\" class=\"data row1 col43\" >0.380000</td>\n                        <td id=\"T_7b283f52_17c1_11eb_86f7_38b1db6a60a7row1_col44\" class=\"data row1 col44\" >3.230000</td>\n                        <td id=\"T_7b283f52_17c1_11eb_86f7_38b1db6a60a7row1_col45\" class=\"data row1 col45\" >6.000000</td>\n                        <td id=\"T_7b283f52_17c1_11eb_86f7_38b1db6a60a7row1_col46\" class=\"data row1 col46\" >7.000000</td>\n                        <td id=\"T_7b283f52_17c1_11eb_86f7_38b1db6a60a7row1_col47\" class=\"data row1 col47\" >nan</td>\n                        <td id=\"T_7b283f52_17c1_11eb_86f7_38b1db6a60a7row1_col48\" class=\"data row1 col48\" >5.330000</td>\n                        <td id=\"T_7b283f52_17c1_11eb_86f7_38b1db6a60a7row1_col49\" class=\"data row1 col49\" >10.000000</td>\n                        <td id=\"T_7b283f52_17c1_11eb_86f7_38b1db6a60a7row1_col50\" class=\"data row1 col50\" >6.670000</td>\n                        <td id=\"T_7b283f52_17c1_11eb_86f7_38b1db6a60a7row1_col51\" class=\"data row1 col51\" >5.793103</td>\n                        <td id=\"T_7b283f52_17c1_11eb_86f7_38b1db6a60a7row1_col52\" class=\"data row1 col52\" >5.350000</td>\n                        <td id=\"T_7b283f52_17c1_11eb_86f7_38b1db6a60a7row1_col53\" class=\"data row1 col53\" >4.444444</td>\n                        <td id=\"T_7b283f52_17c1_11eb_86f7_38b1db6a60a7row1_col54\" class=\"data row1 col54\" >9.570000</td>\n                        <td id=\"T_7b283f52_17c1_11eb_86f7_38b1db6a60a7row1_col55\" class=\"data row1 col55\" >11.200000</td>\n                        <td id=\"T_7b283f52_17c1_11eb_86f7_38b1db6a60a7row1_col56\" class=\"data row1 col56\" >15.170000</td>\n                        <td id=\"T_7b283f52_17c1_11eb_86f7_38b1db6a60a7row1_col57\" class=\"data row1 col57\" >5.000000</td>\n                        <td id=\"T_7b283f52_17c1_11eb_86f7_38b1db6a60a7row1_col58\" class=\"data row1 col58\" >256.532151</td>\n                        <td id=\"T_7b283f52_17c1_11eb_86f7_38b1db6a60a7row1_col59\" class=\"data row1 col59\" >141.744416</td>\n            </tr>\n            <tr>\n                        <th id=\"T_7b283f52_17c1_11eb_86f7_38b1db6a60a7level0_row2\" class=\"row_heading level0 row2\" >3110</th>\n                        <td id=\"T_7b283f52_17c1_11eb_86f7_38b1db6a60a7row2_col0\" class=\"data row2 col0\" >VW Golf 2.0 TDI SCR Style DSG (ab 09/20)</td>\n                        <td id=\"T_7b283f52_17c1_11eb_86f7_38b1db6a60a7row2_col1\" class=\"data row2 col1\" >VW</td>\n                        <td id=\"T_7b283f52_17c1_11eb_86f7_38b1db6a60a7row2_col2\" class=\"data row2 col2\" >Golf (VIII) (ab 12/19)</td>\n                        <td id=\"T_7b283f52_17c1_11eb_86f7_38b1db6a60a7row2_col3\" class=\"data row2 col3\" >110</td>\n                        <td id=\"T_7b283f52_17c1_11eb_86f7_38b1db6a60a7row2_col4\" class=\"data row2 col4\" >36894.000000</td>\n                        <td id=\"T_7b283f52_17c1_11eb_86f7_38b1db6a60a7row2_col5\" class=\"data row2 col5\" >438.000000</td>\n                        <td id=\"T_7b283f52_17c1_11eb_86f7_38b1db6a60a7row2_col6\" class=\"data row2 col6\" >1.038462</td>\n                        <td id=\"T_7b283f52_17c1_11eb_86f7_38b1db6a60a7row2_col7\" class=\"data row2 col7\" >0.000000</td>\n                        <td id=\"T_7b283f52_17c1_11eb_86f7_38b1db6a60a7row2_col8\" class=\"data row2 col8\" >5.000000</td>\n                        <td id=\"T_7b283f52_17c1_11eb_86f7_38b1db6a60a7row2_col9\" class=\"data row2 col9\" >3.333333</td>\n                        <td id=\"T_7b283f52_17c1_11eb_86f7_38b1db6a60a7row2_col10\" class=\"data row2 col10\" >5.000000</td>\n                        <td id=\"T_7b283f52_17c1_11eb_86f7_38b1db6a60a7row2_col11\" class=\"data row2 col11\" >5.000000</td>\n                        <td id=\"T_7b283f52_17c1_11eb_86f7_38b1db6a60a7row2_col12\" class=\"data row2 col12\" >5.000000</td>\n                        <td id=\"T_7b283f52_17c1_11eb_86f7_38b1db6a60a7row2_col13\" class=\"data row2 col13\" >5.000000</td>\n                        <td id=\"T_7b283f52_17c1_11eb_86f7_38b1db6a60a7row2_col14\" class=\"data row2 col14\" >6.000000</td>\n                        <td id=\"T_7b283f52_17c1_11eb_86f7_38b1db6a60a7row2_col15\" class=\"data row2 col15\" >nan</td>\n                        <td id=\"T_7b283f52_17c1_11eb_86f7_38b1db6a60a7row2_col16\" class=\"data row2 col16\" >6.000000</td>\n                        <td id=\"T_7b283f52_17c1_11eb_86f7_38b1db6a60a7row2_col17\" class=\"data row2 col17\" >6.222222</td>\n                        <td id=\"T_7b283f52_17c1_11eb_86f7_38b1db6a60a7row2_col18\" class=\"data row2 col18\" >7.000000</td>\n                        <td id=\"T_7b283f52_17c1_11eb_86f7_38b1db6a60a7row2_col19\" class=\"data row2 col19\" >0.000000</td>\n                        <td id=\"T_7b283f52_17c1_11eb_86f7_38b1db6a60a7row2_col20\" class=\"data row2 col20\" >8.000000</td>\n                        <td id=\"T_7b283f52_17c1_11eb_86f7_38b1db6a60a7row2_col21\" class=\"data row2 col21\" >8.000000</td>\n                        <td id=\"T_7b283f52_17c1_11eb_86f7_38b1db6a60a7row2_col22\" class=\"data row2 col22\" >2.285714</td>\n                        <td id=\"T_7b283f52_17c1_11eb_86f7_38b1db6a60a7row2_col23\" class=\"data row2 col23\" >10.000000</td>\n                        <td id=\"T_7b283f52_17c1_11eb_86f7_38b1db6a60a7row2_col24\" class=\"data row2 col24\" >10.000000</td>\n                        <td id=\"T_7b283f52_17c1_11eb_86f7_38b1db6a60a7row2_col25\" class=\"data row2 col25\" >9.300000</td>\n                        <td id=\"T_7b283f52_17c1_11eb_86f7_38b1db6a60a7row2_col26\" class=\"data row2 col26\" >3.000000</td>\n                        <td id=\"T_7b283f52_17c1_11eb_86f7_38b1db6a60a7row2_col27\" class=\"data row2 col27\" >3.333333</td>\n                        <td id=\"T_7b283f52_17c1_11eb_86f7_38b1db6a60a7row2_col28\" class=\"data row2 col28\" >1.250000</td>\n                        <td id=\"T_7b283f52_17c1_11eb_86f7_38b1db6a60a7row2_col29\" class=\"data row2 col29\" >4.380000</td>\n                        <td id=\"T_7b283f52_17c1_11eb_86f7_38b1db6a60a7row2_col30\" class=\"data row2 col30\" >3.330000</td>\n                        <td id=\"T_7b283f52_17c1_11eb_86f7_38b1db6a60a7row2_col31\" class=\"data row2 col31\" >3.740000</td>\n                        <td id=\"T_7b283f52_17c1_11eb_86f7_38b1db6a60a7row2_col32\" class=\"data row2 col32\" >5.730000</td>\n                        <td id=\"T_7b283f52_17c1_11eb_86f7_38b1db6a60a7row2_col33\" class=\"data row2 col33\" >10.200000</td>\n                        <td id=\"T_7b283f52_17c1_11eb_86f7_38b1db6a60a7row2_col34\" class=\"data row2 col34\" >4.000000</td>\n                        <td id=\"T_7b283f52_17c1_11eb_86f7_38b1db6a60a7row2_col35\" class=\"data row2 col35\" >0.000000</td>\n                        <td id=\"T_7b283f52_17c1_11eb_86f7_38b1db6a60a7row2_col36\" class=\"data row2 col36\" >5.000000</td>\n                        <td id=\"T_7b283f52_17c1_11eb_86f7_38b1db6a60a7row2_col37\" class=\"data row2 col37\" >4.420000</td>\n                        <td id=\"T_7b283f52_17c1_11eb_86f7_38b1db6a60a7row2_col38\" class=\"data row2 col38\" >nan</td>\n                        <td id=\"T_7b283f52_17c1_11eb_86f7_38b1db6a60a7row2_col39\" class=\"data row2 col39\" >nan</td>\n                        <td id=\"T_7b283f52_17c1_11eb_86f7_38b1db6a60a7row2_col40\" class=\"data row2 col40\" >nan</td>\n                        <td id=\"T_7b283f52_17c1_11eb_86f7_38b1db6a60a7row2_col41\" class=\"data row2 col41\" >2.800000</td>\n                        <td id=\"T_7b283f52_17c1_11eb_86f7_38b1db6a60a7row2_col42\" class=\"data row2 col42\" >3.330000</td>\n                        <td id=\"T_7b283f52_17c1_11eb_86f7_38b1db6a60a7row2_col43\" class=\"data row2 col43\" >0.620000</td>\n                        <td id=\"T_7b283f52_17c1_11eb_86f7_38b1db6a60a7row2_col44\" class=\"data row2 col44\" >3.230000</td>\n                        <td id=\"T_7b283f52_17c1_11eb_86f7_38b1db6a60a7row2_col45\" class=\"data row2 col45\" >6.000000</td>\n                        <td id=\"T_7b283f52_17c1_11eb_86f7_38b1db6a60a7row2_col46\" class=\"data row2 col46\" >7.000000</td>\n                        <td id=\"T_7b283f52_17c1_11eb_86f7_38b1db6a60a7row2_col47\" class=\"data row2 col47\" >nan</td>\n                        <td id=\"T_7b283f52_17c1_11eb_86f7_38b1db6a60a7row2_col48\" class=\"data row2 col48\" >5.330000</td>\n                        <td id=\"T_7b283f52_17c1_11eb_86f7_38b1db6a60a7row2_col49\" class=\"data row2 col49\" >10.000000</td>\n                        <td id=\"T_7b283f52_17c1_11eb_86f7_38b1db6a60a7row2_col50\" class=\"data row2 col50\" >6.670000</td>\n                        <td id=\"T_7b283f52_17c1_11eb_86f7_38b1db6a60a7row2_col51\" class=\"data row2 col51\" >5.793103</td>\n                        <td id=\"T_7b283f52_17c1_11eb_86f7_38b1db6a60a7row2_col52\" class=\"data row2 col52\" >3.680000</td>\n                        <td id=\"T_7b283f52_17c1_11eb_86f7_38b1db6a60a7row2_col53\" class=\"data row2 col53\" >4.444444</td>\n                        <td id=\"T_7b283f52_17c1_11eb_86f7_38b1db6a60a7row2_col54\" class=\"data row2 col54\" >8.720000</td>\n                        <td id=\"T_7b283f52_17c1_11eb_86f7_38b1db6a60a7row2_col55\" class=\"data row2 col55\" >15.100000</td>\n                        <td id=\"T_7b283f52_17c1_11eb_86f7_38b1db6a60a7row2_col56\" class=\"data row2 col56\" >14.670000</td>\n                        <td id=\"T_7b283f52_17c1_11eb_86f7_38b1db6a60a7row2_col57\" class=\"data row2 col57\" >5.000000</td>\n                        <td id=\"T_7b283f52_17c1_11eb_86f7_38b1db6a60a7row2_col58\" class=\"data row2 col58\" >255.950613</td>\n                        <td id=\"T_7b283f52_17c1_11eb_86f7_38b1db6a60a7row2_col59\" class=\"data row2 col59\" >144.144996</td>\n            </tr>\n    </tbody></table>"
     },
     "metadata": {},
     "execution_count": 10
    }
   ],
   "source": [
    "coloraze(df[df['name'].isin(top['name'])].head(3), axis=0)"
   ]
  },
  {
   "cell_type": "markdown",
   "metadata": {},
   "source": [
    "## Cars with total score(group by mark and serie)"
   ]
  },
  {
   "cell_type": "code",
   "execution_count": 11,
   "metadata": {},
   "outputs": [
    {
     "output_type": "execute_result",
     "data": {
      "text/plain": [
       "    Marke                        Baureihe  Leistung maximal in kW  \\\n",
       "166    VW          Golf (VIII) (ab 12/19)                     150   \n",
       "168    VW      Golf (VIII) GTE (ab 08/20)                     180   \n",
       "171    VW  Golf (VIII) Variant (ab 11/20)                     110   \n",
       "165    VW          Golf (VIII) (ab 12/19)                     110   \n",
       "163    VW          Golf (VIII) (ab 12/19)                      81   \n",
       "170    VW  Golf (VIII) Variant (ab 11/20)                      81   \n",
       "167    VW      Golf (VIII) GTD (ab 10/20)                     147   \n",
       "164    VW          Golf (VIII) (ab 12/19)                      96   \n",
       "169    VW      Golf (VIII) GTI (ab 08/20)                     180   \n",
       "9    Audi    A3 (8Y) Sportback (ab 05/20)                     150   \n",
       "\n",
       "     Total price  Total Score  \n",
       "166     34476.00       265.30  \n",
       "168     36362.00       256.53  \n",
       "171     37560.33       254.12  \n",
       "165     35139.62       253.94  \n",
       "163     30519.50       253.81  \n",
       "170     30805.00       251.86  \n",
       "167     39909.00       250.31  \n",
       "164     33554.00       244.81  \n",
       "169     39402.00       241.38  \n",
       "9       35854.67       236.72  "
      ],
      "text/html": "<div>\n<style scoped>\n    .dataframe tbody tr th:only-of-type {\n        vertical-align: middle;\n    }\n\n    .dataframe tbody tr th {\n        vertical-align: top;\n    }\n\n    .dataframe thead th {\n        text-align: right;\n    }\n</style>\n<table border=\"1\" class=\"dataframe\">\n  <thead>\n    <tr style=\"text-align: right;\">\n      <th></th>\n      <th>Marke</th>\n      <th>Baureihe</th>\n      <th>Leistung maximal in kW</th>\n      <th>Total price</th>\n      <th>Total Score</th>\n    </tr>\n  </thead>\n  <tbody>\n    <tr>\n      <th>166</th>\n      <td>VW</td>\n      <td>Golf (VIII) (ab 12/19)</td>\n      <td>150</td>\n      <td>34476.00</td>\n      <td>265.30</td>\n    </tr>\n    <tr>\n      <th>168</th>\n      <td>VW</td>\n      <td>Golf (VIII) GTE (ab 08/20)</td>\n      <td>180</td>\n      <td>36362.00</td>\n      <td>256.53</td>\n    </tr>\n    <tr>\n      <th>171</th>\n      <td>VW</td>\n      <td>Golf (VIII) Variant (ab 11/20)</td>\n      <td>110</td>\n      <td>37560.33</td>\n      <td>254.12</td>\n    </tr>\n    <tr>\n      <th>165</th>\n      <td>VW</td>\n      <td>Golf (VIII) (ab 12/19)</td>\n      <td>110</td>\n      <td>35139.62</td>\n      <td>253.94</td>\n    </tr>\n    <tr>\n      <th>163</th>\n      <td>VW</td>\n      <td>Golf (VIII) (ab 12/19)</td>\n      <td>81</td>\n      <td>30519.50</td>\n      <td>253.81</td>\n    </tr>\n    <tr>\n      <th>170</th>\n      <td>VW</td>\n      <td>Golf (VIII) Variant (ab 11/20)</td>\n      <td>81</td>\n      <td>30805.00</td>\n      <td>251.86</td>\n    </tr>\n    <tr>\n      <th>167</th>\n      <td>VW</td>\n      <td>Golf (VIII) GTD (ab 10/20)</td>\n      <td>147</td>\n      <td>39909.00</td>\n      <td>250.31</td>\n    </tr>\n    <tr>\n      <th>164</th>\n      <td>VW</td>\n      <td>Golf (VIII) (ab 12/19)</td>\n      <td>96</td>\n      <td>33554.00</td>\n      <td>244.81</td>\n    </tr>\n    <tr>\n      <th>169</th>\n      <td>VW</td>\n      <td>Golf (VIII) GTI (ab 08/20)</td>\n      <td>180</td>\n      <td>39402.00</td>\n      <td>241.38</td>\n    </tr>\n    <tr>\n      <th>9</th>\n      <td>Audi</td>\n      <td>A3 (8Y) Sportback (ab 05/20)</td>\n      <td>150</td>\n      <td>35854.67</td>\n      <td>236.72</td>\n    </tr>\n  </tbody>\n</table>\n</div>"
     },
     "metadata": {},
     "execution_count": 11
    }
   ],
   "source": [
    "# df.to_excel('/tmp/1.xlsx')\n",
    "g = df.groupby(GROUP_COLS_MARK_SERIE_KW, as_index=False)\n",
    "costs_mean = g[[Column.TOTAL_PRICE, Column.TOTAL_SCORE]].agg({Column.TOTAL_PRICE: 'mean', Column.TOTAL_SCORE: 'mean'})\n",
    "costs_mean.sort_values(Column.TOTAL_SCORE, ascending=False).head(10).round(2)"
   ]
  },
  {
   "cell_type": "markdown",
   "metadata": {},
   "source": [
    "## Cars better than best Subaru Impreza"
   ]
  },
  {
   "cell_type": "code",
   "execution_count": 12,
   "metadata": {},
   "outputs": [
    {
     "output_type": "execute_result",
     "data": {
      "text/plain": [
       "{'name': 'Subaru Impreza 2.0i Exclusive Lineartronic (01/18 - 08/18)',\n",
       " 'Marke': 'Subaru',\n",
       " 'Baureihe': 'Impreza (V) (01/18 - 04/20)',\n",
       " 'Leistung maximal in kW': 115,\n",
       " 'Total price': 29036.0,\n",
       " 'my monthly costs': 581.0,\n",
       " 'navi ': 3.0,\n",
       " 'active headrest': 4.0,\n",
       " 'car2x': 0.0,\n",
       " 'adaptive lights': 5.0,\n",
       " 'traffic sign recognition': 0.0,\n",
       " 'Bremsassistent': 5.0,\n",
       " 'AEB pedestrian': 5.0,\n",
       " 'lane keep assist active': 5.0,\n",
       " 'autoparking': 0.0,\n",
       " 'autoclose mirrors': nan,\n",
       " 'Traffic jam': 0.0,\n",
       " 'light autoswitch': 7.0,\n",
       " 'AEB': 7.0,\n",
       " 'rear traffic alert': 7.0,\n",
       " 'LED matrix': 0.0,\n",
       " 'keyless': 8.0,\n",
       " 'Camera, 360, front, back': 3.4285714285714284,\n",
       " 'LED lights': 10.0,\n",
       " 'adaptive cruise from 0 km': 10.0,\n",
       " 'safe, euroncap, iihs': 8.91,\n",
       " 'plugin hybrid': 1.0,\n",
       " 'automat not CVT': 1.6666666666666665,\n",
       " '4x4': 5.0,\n",
       " 'Top speed': 3.3,\n",
       " 'km77 elktest': 3.33,\n",
       " 'Acceleration <10': 2.7,\n",
       " 'testberichte': 1.34,\n",
       " 'range up to 1000 km per tank': 3.23,\n",
       " 'side mirrors on door': 4.0,\n",
       " 'door till ground': 0.0,\n",
       " 'license on back bumper': 0.0,\n",
       " 'small length': 3.33,\n",
       " 'armrest in back seats': nan,\n",
       " 'adaptive cruise on steering wheel': nan,\n",
       " 'flat seats trunk': nan,\n",
       " 'noise': 1.6,\n",
       " 'no piano black': 1.67,\n",
       " 'boot size,Fit 156 snowboard ': 0.79,\n",
       " 'easy entry(clearance or height of seats)': 2.13,\n",
       " 'digital speed': 0.0,\n",
       " 'acc with buttons': 7.0,\n",
       " 'good vision': nan,\n",
       " 'HIFI audio': 0.0,\n",
       " 'white seats': 0.0,\n",
       " 'interior': 6.67,\n",
       " 'mobile warranty': 0.0,\n",
       " 'Insurance 1': 1.92,\n",
       " 'Garantie y': 7.777777777777778,\n",
       " 'Insurance 2': 6.62,\n",
       " 'monthly costs': 6.76,\n",
       " 'price': 22.14,\n",
       " 'AGR': 0.0,\n",
       " 'Total Score': 183.31301587301584,\n",
       " 'Euro per score': 158.39573563130807}"
      ]
     },
     "metadata": {},
     "execution_count": 12
    }
   ],
   "source": [
    "# NOTE should be sorted\n",
    "imprezas = df[df[Column.NAME].str.contains('Subaru Impreza 2.0i Exclusive')]\n",
    "\n",
    "top_impreza = imprezas.iloc[0]\n",
    "impreza_euro_per_score = top_impreza[Column.EURO_PER_SCORE]\n",
    "impreza_total_score = top_impreza[Column.TOTAL_SCORE]\n",
    "impreza_costs = top_impreza[Column.MY_M_COSTS]\n",
    "\n",
    "# imprezas\n",
    "top_impreza.to_dict()\n",
    "\n",
    "# NOTE: Total Score should be set!!!"
   ]
  },
  {
   "cell_type": "markdown",
   "metadata": {},
   "source": [
    "### Better in score"
   ]
  },
  {
   "cell_type": "code",
   "execution_count": 13,
   "metadata": {},
   "outputs": [
    {
     "output_type": "execute_result",
     "data": {
      "text/plain": [
       "                                                  name Marke  \\\n",
       "4406          VW Golf 1.4 eHybrid Style DSG (ab 08/20)    VW   \n",
       "5663                        VW Golf GTE DSG (ab 08/20)    VW   \n",
       "3110          VW Golf 2.0 TDI SCR Style DSG (ab 09/20)    VW   \n",
       "4411  VW Golf Variant 2.0 TDI SCR Style DSG (ab 11/20)    VW   \n",
       "4407         VW Golf 2.0 TDI SCR UNITED DSG (ab 09/20)    VW   \n",
       "3109           VW Golf 2.0 TDI SCR Life DSG (ab 09/20)    VW   \n",
       "3112   VW Golf Variant 2.0 TDI SCR Life DSG (ab 11/20)    VW   \n",
       "2091                VW Golf 1.0 eTSI UNITED (ab 08/20)    VW   \n",
       "4408         VW Golf 2.0 TDI SCR R-Line DSG (ab 09/20)    VW   \n",
       "2090                  VW Golf 1.0 eTSI Life (ab 08/20)    VW   \n",
       "\n",
       "                            Baureihe  Leistung maximal in kW  Total price  \\\n",
       "4406          Golf (VIII) (ab 12/19)                     150      34476.0   \n",
       "5663      Golf (VIII) GTE (ab 08/20)                     180      36362.0   \n",
       "3110          Golf (VIII) (ab 12/19)                     110      36894.0   \n",
       "4411  Golf (VIII) Variant (ab 11/20)                     110      38229.0   \n",
       "4407          Golf (VIII) (ab 12/19)                     110      36683.0   \n",
       "3109          Golf (VIII) (ab 12/19)                     110      34826.0   \n",
       "3112  Golf (VIII) Variant (ab 11/20)                     110      36039.0   \n",
       "2091          Golf (VIII) (ab 12/19)                      81      31448.0   \n",
       "4408          Golf (VIII) (ab 12/19)                     110      37195.0   \n",
       "2090          Golf (VIII) (ab 12/19)                      81      29591.0   \n",
       "\n",
       "      my monthly costs     navi   active headrest  car2x  adaptive lights  \\\n",
       "4406             437.0  3.000000              0.0    5.0         3.333333   \n",
       "5663             505.0  3.000000              0.0    5.0         3.333333   \n",
       "3110             438.0  1.038462              0.0    5.0         3.333333   \n",
       "4411             439.0  3.000000              0.0    5.0         3.333333   \n",
       "4407             424.0  3.000000              0.0    5.0         3.333333   \n",
       "3109             424.0  1.038462              0.0    5.0         3.333333   \n",
       "3112             422.0  3.000000              0.0    5.0         3.333333   \n",
       "2091             417.0  3.000000              0.0    5.0         3.333333   \n",
       "4408             438.0  3.000000              0.0    5.0         3.333333   \n",
       "2090             417.0  1.038462              0.0    5.0         3.333333   \n",
       "\n",
       "      ...  interior  mobile warranty  Insurance 1  Garantie y  Insurance 2  \\\n",
       "4406  ...      6.67         5.793103         5.35    4.444444         9.57   \n",
       "5663  ...      6.67         5.793103         5.35    4.444444         9.57   \n",
       "3110  ...      6.67         5.793103         3.68    4.444444         8.72   \n",
       "4411  ...      6.67         5.793103         4.99    4.444444         8.72   \n",
       "4407  ...      6.67         5.793103         3.68    4.444444         8.72   \n",
       "3109  ...      6.67         5.793103         3.68    4.444444         8.72   \n",
       "3112  ...      6.67         5.793103         4.99    4.444444         8.72   \n",
       "2091  ...      6.67         5.793103         4.32    4.444444        11.02   \n",
       "4408  ...      6.67         5.793103         3.68    4.444444         8.72   \n",
       "2090  ...      6.67         5.793103         4.32    4.444444        11.02   \n",
       "\n",
       "      monthly costs  price  AGR  Total Score  Euro per score  \n",
       "4406          15.16  16.96  5.0   265.302151      129.949945  \n",
       "5663          11.20  15.17  5.0   256.532151      141.744416  \n",
       "3110          15.10  14.67  5.0   255.950613      144.144996  \n",
       "4411          15.04  13.40  5.0   255.542151      149.599586  \n",
       "4407          15.92  14.87  5.0   255.522151      143.560939  \n",
       "3109          15.92  16.63  5.0   255.320613      136.401051  \n",
       "3112          16.03  15.48  5.0   255.192151      141.222995  \n",
       "2091          16.33  19.84  5.0   253.902151      123.858738  \n",
       "4408          15.10  14.38  5.0   253.872151      146.510753  \n",
       "2090          16.33  21.61  5.0   253.710613      116.632882  \n",
       "\n",
       "[10 rows x 60 columns]"
      ],
      "text/html": "<div>\n<style scoped>\n    .dataframe tbody tr th:only-of-type {\n        vertical-align: middle;\n    }\n\n    .dataframe tbody tr th {\n        vertical-align: top;\n    }\n\n    .dataframe thead th {\n        text-align: right;\n    }\n</style>\n<table border=\"1\" class=\"dataframe\">\n  <thead>\n    <tr style=\"text-align: right;\">\n      <th></th>\n      <th>name</th>\n      <th>Marke</th>\n      <th>Baureihe</th>\n      <th>Leistung maximal in kW</th>\n      <th>Total price</th>\n      <th>my monthly costs</th>\n      <th>navi</th>\n      <th>active headrest</th>\n      <th>car2x</th>\n      <th>adaptive lights</th>\n      <th>...</th>\n      <th>interior</th>\n      <th>mobile warranty</th>\n      <th>Insurance 1</th>\n      <th>Garantie y</th>\n      <th>Insurance 2</th>\n      <th>monthly costs</th>\n      <th>price</th>\n      <th>AGR</th>\n      <th>Total Score</th>\n      <th>Euro per score</th>\n    </tr>\n  </thead>\n  <tbody>\n    <tr>\n      <th>4406</th>\n      <td>VW Golf 1.4 eHybrid Style DSG (ab 08/20)</td>\n      <td>VW</td>\n      <td>Golf (VIII) (ab 12/19)</td>\n      <td>150</td>\n      <td>34476.0</td>\n      <td>437.0</td>\n      <td>3.000000</td>\n      <td>0.0</td>\n      <td>5.0</td>\n      <td>3.333333</td>\n      <td>...</td>\n      <td>6.67</td>\n      <td>5.793103</td>\n      <td>5.35</td>\n      <td>4.444444</td>\n      <td>9.57</td>\n      <td>15.16</td>\n      <td>16.96</td>\n      <td>5.0</td>\n      <td>265.302151</td>\n      <td>129.949945</td>\n    </tr>\n    <tr>\n      <th>5663</th>\n      <td>VW Golf GTE DSG (ab 08/20)</td>\n      <td>VW</td>\n      <td>Golf (VIII) GTE (ab 08/20)</td>\n      <td>180</td>\n      <td>36362.0</td>\n      <td>505.0</td>\n      <td>3.000000</td>\n      <td>0.0</td>\n      <td>5.0</td>\n      <td>3.333333</td>\n      <td>...</td>\n      <td>6.67</td>\n      <td>5.793103</td>\n      <td>5.35</td>\n      <td>4.444444</td>\n      <td>9.57</td>\n      <td>11.20</td>\n      <td>15.17</td>\n      <td>5.0</td>\n      <td>256.532151</td>\n      <td>141.744416</td>\n    </tr>\n    <tr>\n      <th>3110</th>\n      <td>VW Golf 2.0 TDI SCR Style DSG (ab 09/20)</td>\n      <td>VW</td>\n      <td>Golf (VIII) (ab 12/19)</td>\n      <td>110</td>\n      <td>36894.0</td>\n      <td>438.0</td>\n      <td>1.038462</td>\n      <td>0.0</td>\n      <td>5.0</td>\n      <td>3.333333</td>\n      <td>...</td>\n      <td>6.67</td>\n      <td>5.793103</td>\n      <td>3.68</td>\n      <td>4.444444</td>\n      <td>8.72</td>\n      <td>15.10</td>\n      <td>14.67</td>\n      <td>5.0</td>\n      <td>255.950613</td>\n      <td>144.144996</td>\n    </tr>\n    <tr>\n      <th>4411</th>\n      <td>VW Golf Variant 2.0 TDI SCR Style DSG (ab 11/20)</td>\n      <td>VW</td>\n      <td>Golf (VIII) Variant (ab 11/20)</td>\n      <td>110</td>\n      <td>38229.0</td>\n      <td>439.0</td>\n      <td>3.000000</td>\n      <td>0.0</td>\n      <td>5.0</td>\n      <td>3.333333</td>\n      <td>...</td>\n      <td>6.67</td>\n      <td>5.793103</td>\n      <td>4.99</td>\n      <td>4.444444</td>\n      <td>8.72</td>\n      <td>15.04</td>\n      <td>13.40</td>\n      <td>5.0</td>\n      <td>255.542151</td>\n      <td>149.599586</td>\n    </tr>\n    <tr>\n      <th>4407</th>\n      <td>VW Golf 2.0 TDI SCR UNITED DSG (ab 09/20)</td>\n      <td>VW</td>\n      <td>Golf (VIII) (ab 12/19)</td>\n      <td>110</td>\n      <td>36683.0</td>\n      <td>424.0</td>\n      <td>3.000000</td>\n      <td>0.0</td>\n      <td>5.0</td>\n      <td>3.333333</td>\n      <td>...</td>\n      <td>6.67</td>\n      <td>5.793103</td>\n      <td>3.68</td>\n      <td>4.444444</td>\n      <td>8.72</td>\n      <td>15.92</td>\n      <td>14.87</td>\n      <td>5.0</td>\n      <td>255.522151</td>\n      <td>143.560939</td>\n    </tr>\n    <tr>\n      <th>3109</th>\n      <td>VW Golf 2.0 TDI SCR Life DSG (ab 09/20)</td>\n      <td>VW</td>\n      <td>Golf (VIII) (ab 12/19)</td>\n      <td>110</td>\n      <td>34826.0</td>\n      <td>424.0</td>\n      <td>1.038462</td>\n      <td>0.0</td>\n      <td>5.0</td>\n      <td>3.333333</td>\n      <td>...</td>\n      <td>6.67</td>\n      <td>5.793103</td>\n      <td>3.68</td>\n      <td>4.444444</td>\n      <td>8.72</td>\n      <td>15.92</td>\n      <td>16.63</td>\n      <td>5.0</td>\n      <td>255.320613</td>\n      <td>136.401051</td>\n    </tr>\n    <tr>\n      <th>3112</th>\n      <td>VW Golf Variant 2.0 TDI SCR Life DSG (ab 11/20)</td>\n      <td>VW</td>\n      <td>Golf (VIII) Variant (ab 11/20)</td>\n      <td>110</td>\n      <td>36039.0</td>\n      <td>422.0</td>\n      <td>3.000000</td>\n      <td>0.0</td>\n      <td>5.0</td>\n      <td>3.333333</td>\n      <td>...</td>\n      <td>6.67</td>\n      <td>5.793103</td>\n      <td>4.99</td>\n      <td>4.444444</td>\n      <td>8.72</td>\n      <td>16.03</td>\n      <td>15.48</td>\n      <td>5.0</td>\n      <td>255.192151</td>\n      <td>141.222995</td>\n    </tr>\n    <tr>\n      <th>2091</th>\n      <td>VW Golf 1.0 eTSI UNITED (ab 08/20)</td>\n      <td>VW</td>\n      <td>Golf (VIII) (ab 12/19)</td>\n      <td>81</td>\n      <td>31448.0</td>\n      <td>417.0</td>\n      <td>3.000000</td>\n      <td>0.0</td>\n      <td>5.0</td>\n      <td>3.333333</td>\n      <td>...</td>\n      <td>6.67</td>\n      <td>5.793103</td>\n      <td>4.32</td>\n      <td>4.444444</td>\n      <td>11.02</td>\n      <td>16.33</td>\n      <td>19.84</td>\n      <td>5.0</td>\n      <td>253.902151</td>\n      <td>123.858738</td>\n    </tr>\n    <tr>\n      <th>4408</th>\n      <td>VW Golf 2.0 TDI SCR R-Line DSG (ab 09/20)</td>\n      <td>VW</td>\n      <td>Golf (VIII) (ab 12/19)</td>\n      <td>110</td>\n      <td>37195.0</td>\n      <td>438.0</td>\n      <td>3.000000</td>\n      <td>0.0</td>\n      <td>5.0</td>\n      <td>3.333333</td>\n      <td>...</td>\n      <td>6.67</td>\n      <td>5.793103</td>\n      <td>3.68</td>\n      <td>4.444444</td>\n      <td>8.72</td>\n      <td>15.10</td>\n      <td>14.38</td>\n      <td>5.0</td>\n      <td>253.872151</td>\n      <td>146.510753</td>\n    </tr>\n    <tr>\n      <th>2090</th>\n      <td>VW Golf 1.0 eTSI Life (ab 08/20)</td>\n      <td>VW</td>\n      <td>Golf (VIII) (ab 12/19)</td>\n      <td>81</td>\n      <td>29591.0</td>\n      <td>417.0</td>\n      <td>1.038462</td>\n      <td>0.0</td>\n      <td>5.0</td>\n      <td>3.333333</td>\n      <td>...</td>\n      <td>6.67</td>\n      <td>5.793103</td>\n      <td>4.32</td>\n      <td>4.444444</td>\n      <td>11.02</td>\n      <td>16.33</td>\n      <td>21.61</td>\n      <td>5.0</td>\n      <td>253.710613</td>\n      <td>116.632882</td>\n    </tr>\n  </tbody>\n</table>\n<p>10 rows × 60 columns</p>\n</div>"
     },
     "metadata": {},
     "execution_count": 13
    }
   ],
   "source": [
    "df[df[Column.TOTAL_SCORE] > impreza_total_score].head(10)"
   ]
  },
  {
   "cell_type": "markdown",
   "metadata": {},
   "source": [
    "### Better in euro per score"
   ]
  },
  {
   "cell_type": "code",
   "execution_count": 14,
   "metadata": {},
   "outputs": [
    {
     "output_type": "execute_result",
     "data": {
      "text/plain": [
       "                                                  name Marke  \\\n",
       "4406          VW Golf 1.4 eHybrid Style DSG (ab 08/20)    VW   \n",
       "5663                        VW Golf GTE DSG (ab 08/20)    VW   \n",
       "3110          VW Golf 2.0 TDI SCR Style DSG (ab 09/20)    VW   \n",
       "4411  VW Golf Variant 2.0 TDI SCR Style DSG (ab 11/20)    VW   \n",
       "4407         VW Golf 2.0 TDI SCR UNITED DSG (ab 09/20)    VW   \n",
       "3109           VW Golf 2.0 TDI SCR Life DSG (ab 09/20)    VW   \n",
       "3112   VW Golf Variant 2.0 TDI SCR Life DSG (ab 11/20)    VW   \n",
       "2091                VW Golf 1.0 eTSI UNITED (ab 08/20)    VW   \n",
       "4408         VW Golf 2.0 TDI SCR R-Line DSG (ab 09/20)    VW   \n",
       "2090                  VW Golf 1.0 eTSI Life (ab 08/20)    VW   \n",
       "\n",
       "                            Baureihe  Leistung maximal in kW  Total price  \\\n",
       "4406          Golf (VIII) (ab 12/19)                     150      34476.0   \n",
       "5663      Golf (VIII) GTE (ab 08/20)                     180      36362.0   \n",
       "3110          Golf (VIII) (ab 12/19)                     110      36894.0   \n",
       "4411  Golf (VIII) Variant (ab 11/20)                     110      38229.0   \n",
       "4407          Golf (VIII) (ab 12/19)                     110      36683.0   \n",
       "3109          Golf (VIII) (ab 12/19)                     110      34826.0   \n",
       "3112  Golf (VIII) Variant (ab 11/20)                     110      36039.0   \n",
       "2091          Golf (VIII) (ab 12/19)                      81      31448.0   \n",
       "4408          Golf (VIII) (ab 12/19)                     110      37195.0   \n",
       "2090          Golf (VIII) (ab 12/19)                      81      29591.0   \n",
       "\n",
       "      my monthly costs     navi   active headrest  car2x  adaptive lights  \\\n",
       "4406             437.0  3.000000              0.0    5.0         3.333333   \n",
       "5663             505.0  3.000000              0.0    5.0         3.333333   \n",
       "3110             438.0  1.038462              0.0    5.0         3.333333   \n",
       "4411             439.0  3.000000              0.0    5.0         3.333333   \n",
       "4407             424.0  3.000000              0.0    5.0         3.333333   \n",
       "3109             424.0  1.038462              0.0    5.0         3.333333   \n",
       "3112             422.0  3.000000              0.0    5.0         3.333333   \n",
       "2091             417.0  3.000000              0.0    5.0         3.333333   \n",
       "4408             438.0  3.000000              0.0    5.0         3.333333   \n",
       "2090             417.0  1.038462              0.0    5.0         3.333333   \n",
       "\n",
       "      ...  interior  mobile warranty  Insurance 1  Garantie y  Insurance 2  \\\n",
       "4406  ...      6.67         5.793103         5.35    4.444444         9.57   \n",
       "5663  ...      6.67         5.793103         5.35    4.444444         9.57   \n",
       "3110  ...      6.67         5.793103         3.68    4.444444         8.72   \n",
       "4411  ...      6.67         5.793103         4.99    4.444444         8.72   \n",
       "4407  ...      6.67         5.793103         3.68    4.444444         8.72   \n",
       "3109  ...      6.67         5.793103         3.68    4.444444         8.72   \n",
       "3112  ...      6.67         5.793103         4.99    4.444444         8.72   \n",
       "2091  ...      6.67         5.793103         4.32    4.444444        11.02   \n",
       "4408  ...      6.67         5.793103         3.68    4.444444         8.72   \n",
       "2090  ...      6.67         5.793103         4.32    4.444444        11.02   \n",
       "\n",
       "      monthly costs  price  AGR  Total Score  Euro per score  \n",
       "4406          15.16  16.96  5.0   265.302151      129.949945  \n",
       "5663          11.20  15.17  5.0   256.532151      141.744416  \n",
       "3110          15.10  14.67  5.0   255.950613      144.144996  \n",
       "4411          15.04  13.40  5.0   255.542151      149.599586  \n",
       "4407          15.92  14.87  5.0   255.522151      143.560939  \n",
       "3109          15.92  16.63  5.0   255.320613      136.401051  \n",
       "3112          16.03  15.48  5.0   255.192151      141.222995  \n",
       "2091          16.33  19.84  5.0   253.902151      123.858738  \n",
       "4408          15.10  14.38  5.0   253.872151      146.510753  \n",
       "2090          16.33  21.61  5.0   253.710613      116.632882  \n",
       "\n",
       "[10 rows x 60 columns]"
      ],
      "text/html": "<div>\n<style scoped>\n    .dataframe tbody tr th:only-of-type {\n        vertical-align: middle;\n    }\n\n    .dataframe tbody tr th {\n        vertical-align: top;\n    }\n\n    .dataframe thead th {\n        text-align: right;\n    }\n</style>\n<table border=\"1\" class=\"dataframe\">\n  <thead>\n    <tr style=\"text-align: right;\">\n      <th></th>\n      <th>name</th>\n      <th>Marke</th>\n      <th>Baureihe</th>\n      <th>Leistung maximal in kW</th>\n      <th>Total price</th>\n      <th>my monthly costs</th>\n      <th>navi</th>\n      <th>active headrest</th>\n      <th>car2x</th>\n      <th>adaptive lights</th>\n      <th>...</th>\n      <th>interior</th>\n      <th>mobile warranty</th>\n      <th>Insurance 1</th>\n      <th>Garantie y</th>\n      <th>Insurance 2</th>\n      <th>monthly costs</th>\n      <th>price</th>\n      <th>AGR</th>\n      <th>Total Score</th>\n      <th>Euro per score</th>\n    </tr>\n  </thead>\n  <tbody>\n    <tr>\n      <th>4406</th>\n      <td>VW Golf 1.4 eHybrid Style DSG (ab 08/20)</td>\n      <td>VW</td>\n      <td>Golf (VIII) (ab 12/19)</td>\n      <td>150</td>\n      <td>34476.0</td>\n      <td>437.0</td>\n      <td>3.000000</td>\n      <td>0.0</td>\n      <td>5.0</td>\n      <td>3.333333</td>\n      <td>...</td>\n      <td>6.67</td>\n      <td>5.793103</td>\n      <td>5.35</td>\n      <td>4.444444</td>\n      <td>9.57</td>\n      <td>15.16</td>\n      <td>16.96</td>\n      <td>5.0</td>\n      <td>265.302151</td>\n      <td>129.949945</td>\n    </tr>\n    <tr>\n      <th>5663</th>\n      <td>VW Golf GTE DSG (ab 08/20)</td>\n      <td>VW</td>\n      <td>Golf (VIII) GTE (ab 08/20)</td>\n      <td>180</td>\n      <td>36362.0</td>\n      <td>505.0</td>\n      <td>3.000000</td>\n      <td>0.0</td>\n      <td>5.0</td>\n      <td>3.333333</td>\n      <td>...</td>\n      <td>6.67</td>\n      <td>5.793103</td>\n      <td>5.35</td>\n      <td>4.444444</td>\n      <td>9.57</td>\n      <td>11.20</td>\n      <td>15.17</td>\n      <td>5.0</td>\n      <td>256.532151</td>\n      <td>141.744416</td>\n    </tr>\n    <tr>\n      <th>3110</th>\n      <td>VW Golf 2.0 TDI SCR Style DSG (ab 09/20)</td>\n      <td>VW</td>\n      <td>Golf (VIII) (ab 12/19)</td>\n      <td>110</td>\n      <td>36894.0</td>\n      <td>438.0</td>\n      <td>1.038462</td>\n      <td>0.0</td>\n      <td>5.0</td>\n      <td>3.333333</td>\n      <td>...</td>\n      <td>6.67</td>\n      <td>5.793103</td>\n      <td>3.68</td>\n      <td>4.444444</td>\n      <td>8.72</td>\n      <td>15.10</td>\n      <td>14.67</td>\n      <td>5.0</td>\n      <td>255.950613</td>\n      <td>144.144996</td>\n    </tr>\n    <tr>\n      <th>4411</th>\n      <td>VW Golf Variant 2.0 TDI SCR Style DSG (ab 11/20)</td>\n      <td>VW</td>\n      <td>Golf (VIII) Variant (ab 11/20)</td>\n      <td>110</td>\n      <td>38229.0</td>\n      <td>439.0</td>\n      <td>3.000000</td>\n      <td>0.0</td>\n      <td>5.0</td>\n      <td>3.333333</td>\n      <td>...</td>\n      <td>6.67</td>\n      <td>5.793103</td>\n      <td>4.99</td>\n      <td>4.444444</td>\n      <td>8.72</td>\n      <td>15.04</td>\n      <td>13.40</td>\n      <td>5.0</td>\n      <td>255.542151</td>\n      <td>149.599586</td>\n    </tr>\n    <tr>\n      <th>4407</th>\n      <td>VW Golf 2.0 TDI SCR UNITED DSG (ab 09/20)</td>\n      <td>VW</td>\n      <td>Golf (VIII) (ab 12/19)</td>\n      <td>110</td>\n      <td>36683.0</td>\n      <td>424.0</td>\n      <td>3.000000</td>\n      <td>0.0</td>\n      <td>5.0</td>\n      <td>3.333333</td>\n      <td>...</td>\n      <td>6.67</td>\n      <td>5.793103</td>\n      <td>3.68</td>\n      <td>4.444444</td>\n      <td>8.72</td>\n      <td>15.92</td>\n      <td>14.87</td>\n      <td>5.0</td>\n      <td>255.522151</td>\n      <td>143.560939</td>\n    </tr>\n    <tr>\n      <th>3109</th>\n      <td>VW Golf 2.0 TDI SCR Life DSG (ab 09/20)</td>\n      <td>VW</td>\n      <td>Golf (VIII) (ab 12/19)</td>\n      <td>110</td>\n      <td>34826.0</td>\n      <td>424.0</td>\n      <td>1.038462</td>\n      <td>0.0</td>\n      <td>5.0</td>\n      <td>3.333333</td>\n      <td>...</td>\n      <td>6.67</td>\n      <td>5.793103</td>\n      <td>3.68</td>\n      <td>4.444444</td>\n      <td>8.72</td>\n      <td>15.92</td>\n      <td>16.63</td>\n      <td>5.0</td>\n      <td>255.320613</td>\n      <td>136.401051</td>\n    </tr>\n    <tr>\n      <th>3112</th>\n      <td>VW Golf Variant 2.0 TDI SCR Life DSG (ab 11/20)</td>\n      <td>VW</td>\n      <td>Golf (VIII) Variant (ab 11/20)</td>\n      <td>110</td>\n      <td>36039.0</td>\n      <td>422.0</td>\n      <td>3.000000</td>\n      <td>0.0</td>\n      <td>5.0</td>\n      <td>3.333333</td>\n      <td>...</td>\n      <td>6.67</td>\n      <td>5.793103</td>\n      <td>4.99</td>\n      <td>4.444444</td>\n      <td>8.72</td>\n      <td>16.03</td>\n      <td>15.48</td>\n      <td>5.0</td>\n      <td>255.192151</td>\n      <td>141.222995</td>\n    </tr>\n    <tr>\n      <th>2091</th>\n      <td>VW Golf 1.0 eTSI UNITED (ab 08/20)</td>\n      <td>VW</td>\n      <td>Golf (VIII) (ab 12/19)</td>\n      <td>81</td>\n      <td>31448.0</td>\n      <td>417.0</td>\n      <td>3.000000</td>\n      <td>0.0</td>\n      <td>5.0</td>\n      <td>3.333333</td>\n      <td>...</td>\n      <td>6.67</td>\n      <td>5.793103</td>\n      <td>4.32</td>\n      <td>4.444444</td>\n      <td>11.02</td>\n      <td>16.33</td>\n      <td>19.84</td>\n      <td>5.0</td>\n      <td>253.902151</td>\n      <td>123.858738</td>\n    </tr>\n    <tr>\n      <th>4408</th>\n      <td>VW Golf 2.0 TDI SCR R-Line DSG (ab 09/20)</td>\n      <td>VW</td>\n      <td>Golf (VIII) (ab 12/19)</td>\n      <td>110</td>\n      <td>37195.0</td>\n      <td>438.0</td>\n      <td>3.000000</td>\n      <td>0.0</td>\n      <td>5.0</td>\n      <td>3.333333</td>\n      <td>...</td>\n      <td>6.67</td>\n      <td>5.793103</td>\n      <td>3.68</td>\n      <td>4.444444</td>\n      <td>8.72</td>\n      <td>15.10</td>\n      <td>14.38</td>\n      <td>5.0</td>\n      <td>253.872151</td>\n      <td>146.510753</td>\n    </tr>\n    <tr>\n      <th>2090</th>\n      <td>VW Golf 1.0 eTSI Life (ab 08/20)</td>\n      <td>VW</td>\n      <td>Golf (VIII) (ab 12/19)</td>\n      <td>81</td>\n      <td>29591.0</td>\n      <td>417.0</td>\n      <td>1.038462</td>\n      <td>0.0</td>\n      <td>5.0</td>\n      <td>3.333333</td>\n      <td>...</td>\n      <td>6.67</td>\n      <td>5.793103</td>\n      <td>4.32</td>\n      <td>4.444444</td>\n      <td>11.02</td>\n      <td>16.33</td>\n      <td>21.61</td>\n      <td>5.0</td>\n      <td>253.710613</td>\n      <td>116.632882</td>\n    </tr>\n  </tbody>\n</table>\n<p>10 rows × 60 columns</p>\n</div>"
     },
     "metadata": {},
     "execution_count": 14
    }
   ],
   "source": [
    "df[df[Column.EURO_PER_SCORE] < impreza_euro_per_score].head(10)"
   ]
  },
  {
   "cell_type": "markdown",
   "metadata": {},
   "source": [
    "### Better in costs"
   ]
  },
  {
   "cell_type": "code",
   "execution_count": 15,
   "metadata": {},
   "outputs": [
    {
     "output_type": "execute_result",
     "data": {
      "text/plain": [
       "                                                  name Marke  \\\n",
       "4406          VW Golf 1.4 eHybrid Style DSG (ab 08/20)    VW   \n",
       "5663                        VW Golf GTE DSG (ab 08/20)    VW   \n",
       "3110          VW Golf 2.0 TDI SCR Style DSG (ab 09/20)    VW   \n",
       "4411  VW Golf Variant 2.0 TDI SCR Style DSG (ab 11/20)    VW   \n",
       "4407         VW Golf 2.0 TDI SCR UNITED DSG (ab 09/20)    VW   \n",
       "3109           VW Golf 2.0 TDI SCR Life DSG (ab 09/20)    VW   \n",
       "3112   VW Golf Variant 2.0 TDI SCR Life DSG (ab 11/20)    VW   \n",
       "2091                VW Golf 1.0 eTSI UNITED (ab 08/20)    VW   \n",
       "4408         VW Golf 2.0 TDI SCR R-Line DSG (ab 09/20)    VW   \n",
       "2090                  VW Golf 1.0 eTSI Life (ab 08/20)    VW   \n",
       "\n",
       "                            Baureihe  Leistung maximal in kW  Total price  \\\n",
       "4406          Golf (VIII) (ab 12/19)                     150      34476.0   \n",
       "5663      Golf (VIII) GTE (ab 08/20)                     180      36362.0   \n",
       "3110          Golf (VIII) (ab 12/19)                     110      36894.0   \n",
       "4411  Golf (VIII) Variant (ab 11/20)                     110      38229.0   \n",
       "4407          Golf (VIII) (ab 12/19)                     110      36683.0   \n",
       "3109          Golf (VIII) (ab 12/19)                     110      34826.0   \n",
       "3112  Golf (VIII) Variant (ab 11/20)                     110      36039.0   \n",
       "2091          Golf (VIII) (ab 12/19)                      81      31448.0   \n",
       "4408          Golf (VIII) (ab 12/19)                     110      37195.0   \n",
       "2090          Golf (VIII) (ab 12/19)                      81      29591.0   \n",
       "\n",
       "      my monthly costs     navi   active headrest  car2x  adaptive lights  \\\n",
       "4406             437.0  3.000000              0.0    5.0         3.333333   \n",
       "5663             505.0  3.000000              0.0    5.0         3.333333   \n",
       "3110             438.0  1.038462              0.0    5.0         3.333333   \n",
       "4411             439.0  3.000000              0.0    5.0         3.333333   \n",
       "4407             424.0  3.000000              0.0    5.0         3.333333   \n",
       "3109             424.0  1.038462              0.0    5.0         3.333333   \n",
       "3112             422.0  3.000000              0.0    5.0         3.333333   \n",
       "2091             417.0  3.000000              0.0    5.0         3.333333   \n",
       "4408             438.0  3.000000              0.0    5.0         3.333333   \n",
       "2090             417.0  1.038462              0.0    5.0         3.333333   \n",
       "\n",
       "      ...  interior  mobile warranty  Insurance 1  Garantie y  Insurance 2  \\\n",
       "4406  ...      6.67         5.793103         5.35    4.444444         9.57   \n",
       "5663  ...      6.67         5.793103         5.35    4.444444         9.57   \n",
       "3110  ...      6.67         5.793103         3.68    4.444444         8.72   \n",
       "4411  ...      6.67         5.793103         4.99    4.444444         8.72   \n",
       "4407  ...      6.67         5.793103         3.68    4.444444         8.72   \n",
       "3109  ...      6.67         5.793103         3.68    4.444444         8.72   \n",
       "3112  ...      6.67         5.793103         4.99    4.444444         8.72   \n",
       "2091  ...      6.67         5.793103         4.32    4.444444        11.02   \n",
       "4408  ...      6.67         5.793103         3.68    4.444444         8.72   \n",
       "2090  ...      6.67         5.793103         4.32    4.444444        11.02   \n",
       "\n",
       "      monthly costs  price  AGR  Total Score  Euro per score  \n",
       "4406          15.16  16.96  5.0   265.302151      129.949945  \n",
       "5663          11.20  15.17  5.0   256.532151      141.744416  \n",
       "3110          15.10  14.67  5.0   255.950613      144.144996  \n",
       "4411          15.04  13.40  5.0   255.542151      149.599586  \n",
       "4407          15.92  14.87  5.0   255.522151      143.560939  \n",
       "3109          15.92  16.63  5.0   255.320613      136.401051  \n",
       "3112          16.03  15.48  5.0   255.192151      141.222995  \n",
       "2091          16.33  19.84  5.0   253.902151      123.858738  \n",
       "4408          15.10  14.38  5.0   253.872151      146.510753  \n",
       "2090          16.33  21.61  5.0   253.710613      116.632882  \n",
       "\n",
       "[10 rows x 60 columns]"
      ],
      "text/html": "<div>\n<style scoped>\n    .dataframe tbody tr th:only-of-type {\n        vertical-align: middle;\n    }\n\n    .dataframe tbody tr th {\n        vertical-align: top;\n    }\n\n    .dataframe thead th {\n        text-align: right;\n    }\n</style>\n<table border=\"1\" class=\"dataframe\">\n  <thead>\n    <tr style=\"text-align: right;\">\n      <th></th>\n      <th>name</th>\n      <th>Marke</th>\n      <th>Baureihe</th>\n      <th>Leistung maximal in kW</th>\n      <th>Total price</th>\n      <th>my monthly costs</th>\n      <th>navi</th>\n      <th>active headrest</th>\n      <th>car2x</th>\n      <th>adaptive lights</th>\n      <th>...</th>\n      <th>interior</th>\n      <th>mobile warranty</th>\n      <th>Insurance 1</th>\n      <th>Garantie y</th>\n      <th>Insurance 2</th>\n      <th>monthly costs</th>\n      <th>price</th>\n      <th>AGR</th>\n      <th>Total Score</th>\n      <th>Euro per score</th>\n    </tr>\n  </thead>\n  <tbody>\n    <tr>\n      <th>4406</th>\n      <td>VW Golf 1.4 eHybrid Style DSG (ab 08/20)</td>\n      <td>VW</td>\n      <td>Golf (VIII) (ab 12/19)</td>\n      <td>150</td>\n      <td>34476.0</td>\n      <td>437.0</td>\n      <td>3.000000</td>\n      <td>0.0</td>\n      <td>5.0</td>\n      <td>3.333333</td>\n      <td>...</td>\n      <td>6.67</td>\n      <td>5.793103</td>\n      <td>5.35</td>\n      <td>4.444444</td>\n      <td>9.57</td>\n      <td>15.16</td>\n      <td>16.96</td>\n      <td>5.0</td>\n      <td>265.302151</td>\n      <td>129.949945</td>\n    </tr>\n    <tr>\n      <th>5663</th>\n      <td>VW Golf GTE DSG (ab 08/20)</td>\n      <td>VW</td>\n      <td>Golf (VIII) GTE (ab 08/20)</td>\n      <td>180</td>\n      <td>36362.0</td>\n      <td>505.0</td>\n      <td>3.000000</td>\n      <td>0.0</td>\n      <td>5.0</td>\n      <td>3.333333</td>\n      <td>...</td>\n      <td>6.67</td>\n      <td>5.793103</td>\n      <td>5.35</td>\n      <td>4.444444</td>\n      <td>9.57</td>\n      <td>11.20</td>\n      <td>15.17</td>\n      <td>5.0</td>\n      <td>256.532151</td>\n      <td>141.744416</td>\n    </tr>\n    <tr>\n      <th>3110</th>\n      <td>VW Golf 2.0 TDI SCR Style DSG (ab 09/20)</td>\n      <td>VW</td>\n      <td>Golf (VIII) (ab 12/19)</td>\n      <td>110</td>\n      <td>36894.0</td>\n      <td>438.0</td>\n      <td>1.038462</td>\n      <td>0.0</td>\n      <td>5.0</td>\n      <td>3.333333</td>\n      <td>...</td>\n      <td>6.67</td>\n      <td>5.793103</td>\n      <td>3.68</td>\n      <td>4.444444</td>\n      <td>8.72</td>\n      <td>15.10</td>\n      <td>14.67</td>\n      <td>5.0</td>\n      <td>255.950613</td>\n      <td>144.144996</td>\n    </tr>\n    <tr>\n      <th>4411</th>\n      <td>VW Golf Variant 2.0 TDI SCR Style DSG (ab 11/20)</td>\n      <td>VW</td>\n      <td>Golf (VIII) Variant (ab 11/20)</td>\n      <td>110</td>\n      <td>38229.0</td>\n      <td>439.0</td>\n      <td>3.000000</td>\n      <td>0.0</td>\n      <td>5.0</td>\n      <td>3.333333</td>\n      <td>...</td>\n      <td>6.67</td>\n      <td>5.793103</td>\n      <td>4.99</td>\n      <td>4.444444</td>\n      <td>8.72</td>\n      <td>15.04</td>\n      <td>13.40</td>\n      <td>5.0</td>\n      <td>255.542151</td>\n      <td>149.599586</td>\n    </tr>\n    <tr>\n      <th>4407</th>\n      <td>VW Golf 2.0 TDI SCR UNITED DSG (ab 09/20)</td>\n      <td>VW</td>\n      <td>Golf (VIII) (ab 12/19)</td>\n      <td>110</td>\n      <td>36683.0</td>\n      <td>424.0</td>\n      <td>3.000000</td>\n      <td>0.0</td>\n      <td>5.0</td>\n      <td>3.333333</td>\n      <td>...</td>\n      <td>6.67</td>\n      <td>5.793103</td>\n      <td>3.68</td>\n      <td>4.444444</td>\n      <td>8.72</td>\n      <td>15.92</td>\n      <td>14.87</td>\n      <td>5.0</td>\n      <td>255.522151</td>\n      <td>143.560939</td>\n    </tr>\n    <tr>\n      <th>3109</th>\n      <td>VW Golf 2.0 TDI SCR Life DSG (ab 09/20)</td>\n      <td>VW</td>\n      <td>Golf (VIII) (ab 12/19)</td>\n      <td>110</td>\n      <td>34826.0</td>\n      <td>424.0</td>\n      <td>1.038462</td>\n      <td>0.0</td>\n      <td>5.0</td>\n      <td>3.333333</td>\n      <td>...</td>\n      <td>6.67</td>\n      <td>5.793103</td>\n      <td>3.68</td>\n      <td>4.444444</td>\n      <td>8.72</td>\n      <td>15.92</td>\n      <td>16.63</td>\n      <td>5.0</td>\n      <td>255.320613</td>\n      <td>136.401051</td>\n    </tr>\n    <tr>\n      <th>3112</th>\n      <td>VW Golf Variant 2.0 TDI SCR Life DSG (ab 11/20)</td>\n      <td>VW</td>\n      <td>Golf (VIII) Variant (ab 11/20)</td>\n      <td>110</td>\n      <td>36039.0</td>\n      <td>422.0</td>\n      <td>3.000000</td>\n      <td>0.0</td>\n      <td>5.0</td>\n      <td>3.333333</td>\n      <td>...</td>\n      <td>6.67</td>\n      <td>5.793103</td>\n      <td>4.99</td>\n      <td>4.444444</td>\n      <td>8.72</td>\n      <td>16.03</td>\n      <td>15.48</td>\n      <td>5.0</td>\n      <td>255.192151</td>\n      <td>141.222995</td>\n    </tr>\n    <tr>\n      <th>2091</th>\n      <td>VW Golf 1.0 eTSI UNITED (ab 08/20)</td>\n      <td>VW</td>\n      <td>Golf (VIII) (ab 12/19)</td>\n      <td>81</td>\n      <td>31448.0</td>\n      <td>417.0</td>\n      <td>3.000000</td>\n      <td>0.0</td>\n      <td>5.0</td>\n      <td>3.333333</td>\n      <td>...</td>\n      <td>6.67</td>\n      <td>5.793103</td>\n      <td>4.32</td>\n      <td>4.444444</td>\n      <td>11.02</td>\n      <td>16.33</td>\n      <td>19.84</td>\n      <td>5.0</td>\n      <td>253.902151</td>\n      <td>123.858738</td>\n    </tr>\n    <tr>\n      <th>4408</th>\n      <td>VW Golf 2.0 TDI SCR R-Line DSG (ab 09/20)</td>\n      <td>VW</td>\n      <td>Golf (VIII) (ab 12/19)</td>\n      <td>110</td>\n      <td>37195.0</td>\n      <td>438.0</td>\n      <td>3.000000</td>\n      <td>0.0</td>\n      <td>5.0</td>\n      <td>3.333333</td>\n      <td>...</td>\n      <td>6.67</td>\n      <td>5.793103</td>\n      <td>3.68</td>\n      <td>4.444444</td>\n      <td>8.72</td>\n      <td>15.10</td>\n      <td>14.38</td>\n      <td>5.0</td>\n      <td>253.872151</td>\n      <td>146.510753</td>\n    </tr>\n    <tr>\n      <th>2090</th>\n      <td>VW Golf 1.0 eTSI Life (ab 08/20)</td>\n      <td>VW</td>\n      <td>Golf (VIII) (ab 12/19)</td>\n      <td>81</td>\n      <td>29591.0</td>\n      <td>417.0</td>\n      <td>1.038462</td>\n      <td>0.0</td>\n      <td>5.0</td>\n      <td>3.333333</td>\n      <td>...</td>\n      <td>6.67</td>\n      <td>5.793103</td>\n      <td>4.32</td>\n      <td>4.444444</td>\n      <td>11.02</td>\n      <td>16.33</td>\n      <td>21.61</td>\n      <td>5.0</td>\n      <td>253.710613</td>\n      <td>116.632882</td>\n    </tr>\n  </tbody>\n</table>\n<p>10 rows × 60 columns</p>\n</div>"
     },
     "metadata": {},
     "execution_count": 15
    }
   ],
   "source": [
    "df[df[Column.MY_M_COSTS] < impreza_costs].head(10)"
   ]
  },
  {
   "cell_type": "markdown",
   "metadata": {},
   "source": [
    "### Better in everything"
   ]
  },
  {
   "cell_type": "code",
   "execution_count": 16,
   "metadata": {},
   "outputs": [
    {
     "output_type": "execute_result",
     "data": {
      "text/plain": [
       "                                                   name   Marke  \\\n",
       "4406           VW Golf 1.4 eHybrid Style DSG (ab 08/20)      VW   \n",
       "5663                         VW Golf GTE DSG (ab 08/20)      VW   \n",
       "3110           VW Golf 2.0 TDI SCR Style DSG (ab 09/20)      VW   \n",
       "4411   VW Golf Variant 2.0 TDI SCR Style DSG (ab 11/20)      VW   \n",
       "4407          VW Golf 2.0 TDI SCR UNITED DSG (ab 09/20)      VW   \n",
       "...                                                 ...     ...   \n",
       "731           KIA Ceed 1.4 T-GDI Vision DCT7 (ab 09/19)     KIA   \n",
       "1532  KIA Ceed Sportswagon 1.6 CRDi 115 Eco-Dynamics...     KIA   \n",
       "1549         KIA XCeed 1.4 T-GDI Vision DCT7 (ab 09/19)     KIA   \n",
       "2036  Subaru Impreza 1.6i Exclusive Lineartronic (ab...  Subaru   \n",
       "740   KIA Ceed Sportswagon 1.4 T-GDI Vision DCT7 (ab...     KIA   \n",
       "\n",
       "                              Baureihe  Leistung maximal in kW  Total price  \\\n",
       "4406            Golf (VIII) (ab 12/19)                     150      34476.0   \n",
       "5663        Golf (VIII) GTE (ab 08/20)                     180      36362.0   \n",
       "3110            Golf (VIII) (ab 12/19)                     110      36894.0   \n",
       "4411    Golf (VIII) Variant (ab 11/20)                     110      38229.0   \n",
       "4407            Golf (VIII) (ab 12/19)                     110      36683.0   \n",
       "...                                ...                     ...          ...   \n",
       "731               Ceed (CD) (ab 06/18)                     103      25210.0   \n",
       "1532  Ceed (CD) Sportswagon (ab 09/18)                      85      28573.0   \n",
       "1549             XCeed (CD) (ab 09/19)                     103      27647.0   \n",
       "2036            Impreza (V) (ab 06/20)                      84      27840.0   \n",
       "740   Ceed (CD) Sportswagon (ab 09/18)                     103      26185.0   \n",
       "\n",
       "      my monthly costs     navi   active headrest  car2x  adaptive lights  \\\n",
       "4406             437.0  3.000000              0.0    5.0         3.333333   \n",
       "5663             505.0  3.000000              0.0    5.0         3.333333   \n",
       "3110             438.0  1.038462              0.0    5.0         3.333333   \n",
       "4411             439.0  3.000000              0.0    5.0         3.333333   \n",
       "4407             424.0  3.000000              0.0    5.0         3.333333   \n",
       "...                ...       ...              ...    ...              ...   \n",
       "731              440.0  2.884615              0.0    0.0         3.333333   \n",
       "1532             395.0  2.884615              0.0    0.0         0.000000   \n",
       "1549             474.0  2.884615              0.0    0.0         0.000000   \n",
       "2036             556.0  3.000000              4.0    0.0         5.000000   \n",
       "740              449.0  2.884615              0.0    0.0         3.333333   \n",
       "\n",
       "      ...  interior  mobile warranty  Insurance 1  Garantie y  Insurance 2  \\\n",
       "4406  ...      6.67         5.793103         5.35    4.444444         9.57   \n",
       "5663  ...      6.67         5.793103         5.35    4.444444         9.57   \n",
       "3110  ...      6.67         5.793103         3.68    4.444444         8.72   \n",
       "4411  ...      6.67         5.793103         4.99    4.444444         8.72   \n",
       "4407  ...      6.67         5.793103         3.68    4.444444         8.72   \n",
       "...   ...       ...              ...          ...         ...          ...   \n",
       "731   ...      3.33         3.724138         4.99   10.000000        10.40   \n",
       "1532  ...      3.33         3.724138         4.32   10.000000         7.21   \n",
       "1549  ...      3.33         3.724138         4.99   10.000000        10.40   \n",
       "2036  ...      6.67         0.000000         3.68    7.777778         8.72   \n",
       "740   ...      3.33         3.724138         4.99   10.000000         8.72   \n",
       "\n",
       "      monthly costs  price  AGR  Total Score  Euro per score  \n",
       "4406          15.16  16.96  5.0   265.302151      129.949945  \n",
       "5663          11.20  15.17  5.0   256.532151      141.744416  \n",
       "3110          15.10  14.67  5.0   255.950613      144.144996  \n",
       "4411          15.04  13.40  5.0   255.542151      149.599586  \n",
       "4407          15.92  14.87  5.0   255.522151      143.560939  \n",
       "...             ...    ...  ...          ...             ...  \n",
       "731           14.99  25.77  0.0   192.595896      130.895832  \n",
       "1532          17.61  22.58  0.0   192.422563      148.490902  \n",
       "1549          13.00  23.46  0.0   192.352563      143.730864  \n",
       "2036           8.22  23.27  0.0   188.901587      147.378328  \n",
       "740           14.46  24.85  0.0   188.365896      139.011363  \n",
       "\n",
       "[201 rows x 60 columns]"
      ],
      "text/html": "<div>\n<style scoped>\n    .dataframe tbody tr th:only-of-type {\n        vertical-align: middle;\n    }\n\n    .dataframe tbody tr th {\n        vertical-align: top;\n    }\n\n    .dataframe thead th {\n        text-align: right;\n    }\n</style>\n<table border=\"1\" class=\"dataframe\">\n  <thead>\n    <tr style=\"text-align: right;\">\n      <th></th>\n      <th>name</th>\n      <th>Marke</th>\n      <th>Baureihe</th>\n      <th>Leistung maximal in kW</th>\n      <th>Total price</th>\n      <th>my monthly costs</th>\n      <th>navi</th>\n      <th>active headrest</th>\n      <th>car2x</th>\n      <th>adaptive lights</th>\n      <th>...</th>\n      <th>interior</th>\n      <th>mobile warranty</th>\n      <th>Insurance 1</th>\n      <th>Garantie y</th>\n      <th>Insurance 2</th>\n      <th>monthly costs</th>\n      <th>price</th>\n      <th>AGR</th>\n      <th>Total Score</th>\n      <th>Euro per score</th>\n    </tr>\n  </thead>\n  <tbody>\n    <tr>\n      <th>4406</th>\n      <td>VW Golf 1.4 eHybrid Style DSG (ab 08/20)</td>\n      <td>VW</td>\n      <td>Golf (VIII) (ab 12/19)</td>\n      <td>150</td>\n      <td>34476.0</td>\n      <td>437.0</td>\n      <td>3.000000</td>\n      <td>0.0</td>\n      <td>5.0</td>\n      <td>3.333333</td>\n      <td>...</td>\n      <td>6.67</td>\n      <td>5.793103</td>\n      <td>5.35</td>\n      <td>4.444444</td>\n      <td>9.57</td>\n      <td>15.16</td>\n      <td>16.96</td>\n      <td>5.0</td>\n      <td>265.302151</td>\n      <td>129.949945</td>\n    </tr>\n    <tr>\n      <th>5663</th>\n      <td>VW Golf GTE DSG (ab 08/20)</td>\n      <td>VW</td>\n      <td>Golf (VIII) GTE (ab 08/20)</td>\n      <td>180</td>\n      <td>36362.0</td>\n      <td>505.0</td>\n      <td>3.000000</td>\n      <td>0.0</td>\n      <td>5.0</td>\n      <td>3.333333</td>\n      <td>...</td>\n      <td>6.67</td>\n      <td>5.793103</td>\n      <td>5.35</td>\n      <td>4.444444</td>\n      <td>9.57</td>\n      <td>11.20</td>\n      <td>15.17</td>\n      <td>5.0</td>\n      <td>256.532151</td>\n      <td>141.744416</td>\n    </tr>\n    <tr>\n      <th>3110</th>\n      <td>VW Golf 2.0 TDI SCR Style DSG (ab 09/20)</td>\n      <td>VW</td>\n      <td>Golf (VIII) (ab 12/19)</td>\n      <td>110</td>\n      <td>36894.0</td>\n      <td>438.0</td>\n      <td>1.038462</td>\n      <td>0.0</td>\n      <td>5.0</td>\n      <td>3.333333</td>\n      <td>...</td>\n      <td>6.67</td>\n      <td>5.793103</td>\n      <td>3.68</td>\n      <td>4.444444</td>\n      <td>8.72</td>\n      <td>15.10</td>\n      <td>14.67</td>\n      <td>5.0</td>\n      <td>255.950613</td>\n      <td>144.144996</td>\n    </tr>\n    <tr>\n      <th>4411</th>\n      <td>VW Golf Variant 2.0 TDI SCR Style DSG (ab 11/20)</td>\n      <td>VW</td>\n      <td>Golf (VIII) Variant (ab 11/20)</td>\n      <td>110</td>\n      <td>38229.0</td>\n      <td>439.0</td>\n      <td>3.000000</td>\n      <td>0.0</td>\n      <td>5.0</td>\n      <td>3.333333</td>\n      <td>...</td>\n      <td>6.67</td>\n      <td>5.793103</td>\n      <td>4.99</td>\n      <td>4.444444</td>\n      <td>8.72</td>\n      <td>15.04</td>\n      <td>13.40</td>\n      <td>5.0</td>\n      <td>255.542151</td>\n      <td>149.599586</td>\n    </tr>\n    <tr>\n      <th>4407</th>\n      <td>VW Golf 2.0 TDI SCR UNITED DSG (ab 09/20)</td>\n      <td>VW</td>\n      <td>Golf (VIII) (ab 12/19)</td>\n      <td>110</td>\n      <td>36683.0</td>\n      <td>424.0</td>\n      <td>3.000000</td>\n      <td>0.0</td>\n      <td>5.0</td>\n      <td>3.333333</td>\n      <td>...</td>\n      <td>6.67</td>\n      <td>5.793103</td>\n      <td>3.68</td>\n      <td>4.444444</td>\n      <td>8.72</td>\n      <td>15.92</td>\n      <td>14.87</td>\n      <td>5.0</td>\n      <td>255.522151</td>\n      <td>143.560939</td>\n    </tr>\n    <tr>\n      <th>...</th>\n      <td>...</td>\n      <td>...</td>\n      <td>...</td>\n      <td>...</td>\n      <td>...</td>\n      <td>...</td>\n      <td>...</td>\n      <td>...</td>\n      <td>...</td>\n      <td>...</td>\n      <td>...</td>\n      <td>...</td>\n      <td>...</td>\n      <td>...</td>\n      <td>...</td>\n      <td>...</td>\n      <td>...</td>\n      <td>...</td>\n      <td>...</td>\n      <td>...</td>\n      <td>...</td>\n    </tr>\n    <tr>\n      <th>731</th>\n      <td>KIA Ceed 1.4 T-GDI Vision DCT7 (ab 09/19)</td>\n      <td>KIA</td>\n      <td>Ceed (CD) (ab 06/18)</td>\n      <td>103</td>\n      <td>25210.0</td>\n      <td>440.0</td>\n      <td>2.884615</td>\n      <td>0.0</td>\n      <td>0.0</td>\n      <td>3.333333</td>\n      <td>...</td>\n      <td>3.33</td>\n      <td>3.724138</td>\n      <td>4.99</td>\n      <td>10.000000</td>\n      <td>10.40</td>\n      <td>14.99</td>\n      <td>25.77</td>\n      <td>0.0</td>\n      <td>192.595896</td>\n      <td>130.895832</td>\n    </tr>\n    <tr>\n      <th>1532</th>\n      <td>KIA Ceed Sportswagon 1.6 CRDi 115 Eco-Dynamics...</td>\n      <td>KIA</td>\n      <td>Ceed (CD) Sportswagon (ab 09/18)</td>\n      <td>85</td>\n      <td>28573.0</td>\n      <td>395.0</td>\n      <td>2.884615</td>\n      <td>0.0</td>\n      <td>0.0</td>\n      <td>0.000000</td>\n      <td>...</td>\n      <td>3.33</td>\n      <td>3.724138</td>\n      <td>4.32</td>\n      <td>10.000000</td>\n      <td>7.21</td>\n      <td>17.61</td>\n      <td>22.58</td>\n      <td>0.0</td>\n      <td>192.422563</td>\n      <td>148.490902</td>\n    </tr>\n    <tr>\n      <th>1549</th>\n      <td>KIA XCeed 1.4 T-GDI Vision DCT7 (ab 09/19)</td>\n      <td>KIA</td>\n      <td>XCeed (CD) (ab 09/19)</td>\n      <td>103</td>\n      <td>27647.0</td>\n      <td>474.0</td>\n      <td>2.884615</td>\n      <td>0.0</td>\n      <td>0.0</td>\n      <td>0.000000</td>\n      <td>...</td>\n      <td>3.33</td>\n      <td>3.724138</td>\n      <td>4.99</td>\n      <td>10.000000</td>\n      <td>10.40</td>\n      <td>13.00</td>\n      <td>23.46</td>\n      <td>0.0</td>\n      <td>192.352563</td>\n      <td>143.730864</td>\n    </tr>\n    <tr>\n      <th>2036</th>\n      <td>Subaru Impreza 1.6i Exclusive Lineartronic (ab...</td>\n      <td>Subaru</td>\n      <td>Impreza (V) (ab 06/20)</td>\n      <td>84</td>\n      <td>27840.0</td>\n      <td>556.0</td>\n      <td>3.000000</td>\n      <td>4.0</td>\n      <td>0.0</td>\n      <td>5.000000</td>\n      <td>...</td>\n      <td>6.67</td>\n      <td>0.000000</td>\n      <td>3.68</td>\n      <td>7.777778</td>\n      <td>8.72</td>\n      <td>8.22</td>\n      <td>23.27</td>\n      <td>0.0</td>\n      <td>188.901587</td>\n      <td>147.378328</td>\n    </tr>\n    <tr>\n      <th>740</th>\n      <td>KIA Ceed Sportswagon 1.4 T-GDI Vision DCT7 (ab...</td>\n      <td>KIA</td>\n      <td>Ceed (CD) Sportswagon (ab 09/18)</td>\n      <td>103</td>\n      <td>26185.0</td>\n      <td>449.0</td>\n      <td>2.884615</td>\n      <td>0.0</td>\n      <td>0.0</td>\n      <td>3.333333</td>\n      <td>...</td>\n      <td>3.33</td>\n      <td>3.724138</td>\n      <td>4.99</td>\n      <td>10.000000</td>\n      <td>8.72</td>\n      <td>14.46</td>\n      <td>24.85</td>\n      <td>0.0</td>\n      <td>188.365896</td>\n      <td>139.011363</td>\n    </tr>\n  </tbody>\n</table>\n<p>201 rows × 60 columns</p>\n</div>"
     },
     "metadata": {},
     "execution_count": 16
    }
   ],
   "source": [
    "d = df[(df[Column.TOTAL_SCORE] > impreza_total_score) & (df[Column.EURO_PER_SCORE] < impreza_euro_per_score) & (df[Column.MY_M_COSTS] < impreza_costs)]\n",
    "d.to_csv('/tmp/best_car.csv')\n",
    "d"
   ]
  },
  {
   "cell_type": "code",
   "execution_count": null,
   "metadata": {},
   "outputs": [],
   "source": []
  }
 ],
 "metadata": {
  "language_info": {
   "codemirror_mode": {
    "name": "ipython",
    "version": 3
   },
   "file_extension": ".py",
   "mimetype": "text/x-python",
   "name": "python",
   "nbconvert_exporter": "python",
   "pygments_lexer": "ipython3",
   "version": "3.8.0-final"
  },
  "orig_nbformat": 2,
  "kernelspec": {
   "name": "python38064bitvenvvenv19fc6a42b4f14267a5673bbe29c8a3fc",
   "display_name": "Python 3.8.0 64-bit ('.venv': venv)"
  }
 },
 "nbformat": 4,
 "nbformat_minor": 2
}