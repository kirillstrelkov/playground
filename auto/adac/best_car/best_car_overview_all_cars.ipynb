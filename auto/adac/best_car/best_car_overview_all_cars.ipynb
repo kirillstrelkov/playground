{
 "cells": [
  {
   "cell_type": "markdown",
   "source": [
    "# Most suitable car between all cars"
   ],
   "metadata": {}
  },
  {
   "cell_type": "code",
   "execution_count": 1,
   "source": [
    "from find_best_car import (\n",
    "    _get_df_with_cost_to_own, \n",
    "    Column, \n",
    "    get_scored_df\n",
    ")\n",
    "import pandas as pd\n",
    "from numpy import nan\n",
    "\n",
    "import seaborn as sns\n",
    "\n",
    "def coloraze(df, axis=1):\n",
    "    cm = sns.light_palette(\"seagreen\", as_cmap=True)\n",
    "    return df.style.background_gradient(cmap=cm, axis=axis)\n",
    "\n",
    "df = get_scored_df(only_mentioned_cars=False, de_discount=True)\n",
    "\n",
    "df.head()"
   ],
   "outputs": [],
   "metadata": {
    "tags": []
   }
  },
  {
   "cell_type": "code",
   "execution_count": null,
   "source": [
    "imprezas = df[df[Column.NAME].str.contains('Subaru Impreza 2.0i Exclusive')]\n",
    "\n",
    "top_impreza = imprezas.iloc[0]\n",
    "impreza_euro_per_score = top_impreza[Column.EURO_PER_SCORE]\n",
    "impreza_total_score = top_impreza[Column.TOTAL_SCORE]\n",
    "\n",
    "# imprezas\n",
    "top_impreza.to_dict()"
   ],
   "outputs": [],
   "metadata": {}
  },
  {
   "cell_type": "markdown",
   "source": [
    "### Better in score"
   ],
   "metadata": {}
  },
  {
   "cell_type": "code",
   "execution_count": null,
   "source": [
    "VIEW_COLUMNS = [Column.NAME, Column.TOTAL_PRICE, Column.TOTAL_SCORE, Column.EURO_PER_SCORE]\n",
    "VIEW_LIMIT = 10\n",
    "\n",
    "df[df[Column.TOTAL_SCORE] > impreza_total_score][VIEW_COLUMNS].head(VIEW_LIMIT)"
   ],
   "outputs": [],
   "metadata": {}
  },
  {
   "cell_type": "markdown",
   "source": [
    "### Better in euro per score"
   ],
   "metadata": {}
  },
  {
   "cell_type": "code",
   "execution_count": null,
   "source": [
    "df[df[Column.EURO_PER_SCORE] < impreza_euro_per_score][VIEW_COLUMNS].head(VIEW_LIMIT)"
   ],
   "outputs": [],
   "metadata": {}
  },
  {
   "cell_type": "markdown",
   "source": [
    "### Better in everything"
   ],
   "metadata": {}
  },
  {
   "cell_type": "code",
   "execution_count": null,
   "source": [
    "d = df[(df[Column.TOTAL_SCORE] >= impreza_total_score) & (df[Column.EURO_PER_SCORE] <= impreza_euro_per_score)]\n",
    "d[VIEW_COLUMNS].head(VIEW_LIMIT)"
   ],
   "outputs": [],
   "metadata": {}
  },
  {
   "cell_type": "code",
   "execution_count": null,
   "source": [
    "coloraze(d, axis=0).to_excel('/tmp/best_car_all.xlsx')"
   ],
   "outputs": [],
   "metadata": {}
  },
  {
   "cell_type": "code",
   "execution_count": null,
   "source": [],
   "outputs": [],
   "metadata": {}
  }
 ],
 "metadata": {
  "language_info": {
   "codemirror_mode": {
    "name": "ipython",
    "version": 3
   },
   "file_extension": ".py",
   "mimetype": "text/x-python",
   "name": "python",
   "nbconvert_exporter": "python",
   "pygments_lexer": "ipython3",
   "version": "3.9.5"
  },
  "orig_nbformat": 2,
  "kernelspec": {
   "name": "python3",
   "display_name": "Python 3.9.5 64-bit ('.venv': venv)"
  },
  "metadata": {
   "interpreter": {
    "hash": "cee5e51e07f067525111a4a8daee22eb902da2fc83df62795d61abd47aae3cb1"
   }
  },
  "interpreter": {
   "hash": "42fe98ce6224bdfb626ea99f9a279ec18c137114699d6e5ad8390f813e6e9359"
  }
 },
 "nbformat": 4,
 "nbformat_minor": 2
}